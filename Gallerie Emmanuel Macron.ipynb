{
 "cells": [
  {
   "cell_type": "markdown",
   "metadata": {
    "deletable": true,
    "editable": true
   },
   "source": [
    "C'est marrant à quel point l'iconographie du site d'Emmanuel est soignée. Peut-on en faire une gallerie d'images?"
   ]
  },
  {
   "cell_type": "markdown",
   "metadata": {
    "collapsed": true,
    "deletable": true,
    "editable": true
   },
   "source": [
    "On part de cette url : https://en-marche.fr/emmanuel-macron/le-programme "
   ]
  },
  {
   "cell_type": "code",
   "execution_count": 4,
   "metadata": {
    "collapsed": true,
    "deletable": true,
    "editable": true
   },
   "outputs": [],
   "source": [
    "from bs4 import BeautifulSoup"
   ]
  },
  {
   "cell_type": "code",
   "execution_count": 7,
   "metadata": {
    "collapsed": true,
    "deletable": true,
    "editable": true
   },
   "outputs": [],
   "source": [
    "import requests"
   ]
  },
  {
   "cell_type": "code",
   "execution_count": 9,
   "metadata": {
    "collapsed": true,
    "deletable": true,
    "editable": true
   },
   "outputs": [],
   "source": [
    "r = requests.get('https://en-marche.fr/emmanuel-macron/le-programme')"
   ]
  },
  {
   "cell_type": "code",
   "execution_count": 10,
   "metadata": {
    "collapsed": true,
    "deletable": true,
    "editable": true
   },
   "outputs": [],
   "source": [
    "soup = BeautifulSoup(r.text, 'html.parser')"
   ]
  },
  {
   "cell_type": "code",
   "execution_count": 18,
   "metadata": {
    "collapsed": false,
    "deletable": true,
    "editable": true
   },
   "outputs": [],
   "source": [
    "proposals = soup.find_all(class_='programme__proposal')"
   ]
  },
  {
   "cell_type": "code",
   "execution_count": 19,
   "metadata": {
    "collapsed": false,
    "deletable": true,
    "editable": true
   },
   "outputs": [],
   "source": [
    "proposals = [p for p in proposals if 'programme__proposal--category' not in p.attrs['class']]"
   ]
  },
  {
   "cell_type": "code",
   "execution_count": 20,
   "metadata": {
    "collapsed": false,
    "deletable": true,
    "editable": true
   },
   "outputs": [
    {
     "data": {
      "text/plain": [
       "36"
      ]
     },
     "execution_count": 20,
     "metadata": {},
     "output_type": "execute_result"
    }
   ],
   "source": [
    "len(proposals)"
   ]
  },
  {
   "cell_type": "code",
   "execution_count": 22,
   "metadata": {
    "collapsed": true,
    "deletable": true,
    "editable": true
   },
   "outputs": [],
   "source": [
    "p = proposals[0]"
   ]
  },
  {
   "cell_type": "code",
   "execution_count": 26,
   "metadata": {
    "collapsed": false,
    "deletable": true,
    "editable": true
   },
   "outputs": [
    {
     "data": {
      "text/plain": [
       "'https://en-marche.fr/emmanuel-macron/le-programme/action-publique-fonction-publique'"
      ]
     },
     "execution_count": 26,
     "metadata": {},
     "output_type": "execute_result"
    }
   ],
   "source": [
    "full_url = 'https://en-marche.fr' + p.find('a').attrs['href']\n",
    "full_url"
   ]
  },
  {
   "cell_type": "code",
   "execution_count": 52,
   "metadata": {
    "collapsed": true,
    "deletable": true,
    "editable": true
   },
   "outputs": [],
   "source": [
    "full_urls = ['https://en-marche.fr' + p.find('a').attrs['href'] for p in proposals]"
   ]
  },
  {
   "cell_type": "code",
   "execution_count": 88,
   "metadata": {
    "collapsed": false,
    "deletable": true,
    "editable": true
   },
   "outputs": [
    {
     "data": {
      "text/plain": [
       "['https://en-marche.fr/emmanuel-macron/le-programme/action-publique-fonction-publique',\n",
       " 'https://en-marche.fr/emmanuel-macron/le-programme/agriculture',\n",
       " 'https://en-marche.fr/emmanuel-macron/le-programme/culture',\n",
       " 'https://en-marche.fr/emmanuel-macron/le-programme/defense',\n",
       " 'https://en-marche.fr/emmanuel-macron/le-programme/dependance',\n",
       " 'https://en-marche.fr/emmanuel-macron/le-programme/dialogue-social',\n",
       " 'https://en-marche.fr/emmanuel-macron/le-programme/education',\n",
       " 'https://en-marche.fr/emmanuel-macron/le-programme/%C3%A9galit%C3%A9-hommes-et-femmes',\n",
       " 'https://en-marche.fr/emmanuel-macron/le-programme/emploi-ch%C3%B4mage-securites-professionnelles',\n",
       " 'https://en-marche.fr/emmanuel-macron/le-programme/enseignement-superieur-recherche']"
      ]
     },
     "execution_count": 88,
     "metadata": {},
     "output_type": "execute_result"
    }
   ],
   "source": [
    "full_urls[:10]"
   ]
  },
  {
   "cell_type": "code",
   "execution_count": 99,
   "metadata": {
    "collapsed": true,
    "deletable": true,
    "editable": true
   },
   "outputs": [],
   "source": [
    "r = requests.get(full_url)\n",
    "soup = BeautifulSoup(r.text, 'html.parser')"
   ]
  },
  {
   "cell_type": "code",
   "execution_count": 101,
   "metadata": {
    "collapsed": false,
    "deletable": true,
    "editable": true
   },
   "outputs": [
    {
     "data": {
      "text/plain": [
       "<figure class=\"fullscreen\">\n",
       "<img alt=\"01-fonction-publique-hospital-sante-emmanuel-macron-en-marche\" src=\"/assets/images/01-fonction-publique-hospital-sante-emmanuel-macron-en-marche?q=70&amp;cache=e7d04db7e6ec8a188aee&amp;fm=pjpg&amp;s=97b9c84c57c417dcef72c4919e6f2625\" title=\"Action publique / Fonction publique\"/>\n",
       "</figure>"
      ]
     },
     "execution_count": 101,
     "metadata": {},
     "output_type": "execute_result"
    }
   ],
   "source": [
    "figure_tag = soup.find('figure', class_='fullscreen')\n",
    "figure_tag"
   ]
  },
  {
   "cell_type": "markdown",
   "metadata": {
    "deletable": true,
    "editable": true
   },
   "source": [
    "On peut maintenant extraire le lien vers l'image."
   ]
  },
  {
   "cell_type": "code",
   "execution_count": 102,
   "metadata": {
    "collapsed": false,
    "deletable": true,
    "editable": true
   },
   "outputs": [
    {
     "data": {
      "text/plain": [
       "'https://en-marche.fr/assets/images/01-fonction-publique-hospital-sante-emmanuel-macron-en-marche?q=70&cache=e7d04db7e6ec8a188aee&fm=pjpg&s=97b9c84c57c417dcef72c4919e6f2625'"
      ]
     },
     "execution_count": 102,
     "metadata": {},
     "output_type": "execute_result"
    }
   ],
   "source": [
    "src_url = 'https://en-marche.fr' + figure_tag('img')[0].attrs['src']\n",
    "src_url"
   ]
  },
  {
   "cell_type": "markdown",
   "metadata": {
    "deletable": true,
    "editable": true
   },
   "source": [
    "On peut afficher ceci dans le notebook."
   ]
  },
  {
   "cell_type": "code",
   "execution_count": 49,
   "metadata": {
    "collapsed": true,
    "deletable": true,
    "editable": true
   },
   "outputs": [],
   "source": [
    "from IPython.display import Image"
   ]
  },
  {
   "cell_type": "code",
   "execution_count": 50,
   "metadata": {
    "collapsed": false,
    "deletable": true,
    "editable": true
   },
   "outputs": [
    {
     "data": {
      "text/html": [
       "<img src=\"https://en-marche.fr/assets/images/01-fonction-publique-hospital-sante-emmanuel-macron-en-marche?q=70&cache=e7d04db7e6ec8a188aee&fm=pjpg&s=97b9c84c57c417dcef72c4919e6f2625\"/>"
      ],
      "text/plain": [
       "<IPython.core.display.Image object>"
      ]
     },
     "execution_count": 50,
     "metadata": {},
     "output_type": "execute_result"
    }
   ],
   "source": [
    "Image(url=src_url)"
   ]
  },
  {
   "cell_type": "code",
   "execution_count": 103,
   "metadata": {
    "collapsed": true,
    "deletable": true,
    "editable": true
   },
   "outputs": [],
   "source": [
    "def extract_img_src(url):\n",
    "    \"Extracts image src url from linked page.\"\n",
    "    r = requests.get(url)\n",
    "    soup = BeautifulSoup(r.text, 'html.parser')\n",
    "    figure_tag = soup.find('figure', class_='fullscreen')\n",
    "    if figure_tag is not None and figure_tag('img') is not None:\n",
    "        src_url = 'https://en-marche.fr' + figure_tag('img')[0].attrs['src']\n",
    "        return src_url\n",
    "    else:\n",
    "        print(\"no image for url: {}\".format(url))\n",
    "        return None"
   ]
  },
  {
   "cell_type": "markdown",
   "metadata": {
    "deletable": true,
    "editable": true
   },
   "source": [
    "On peut répeter ce processus et faire une gallerie avec toutes ces images."
   ]
  },
  {
   "cell_type": "code",
   "execution_count": 110,
   "metadata": {
    "collapsed": false,
    "deletable": true,
    "editable": true
   },
   "outputs": [
    {
     "name": "stdout",
     "output_type": "stream",
     "text": [
      "no image for url: https://en-marche.fr/emmanuel-macron/le-programme/familles-et-societe\n",
      "no image for url: https://en-marche.fr/emmanuel-macron/le-programme/handicap\n",
      "no image for url: https://en-marche.fr/emmanuel-macron/le-programme/immigration-et-asile\n",
      "no image for url: https://en-marche.fr/emmanuel-macron/le-programme/justice\n",
      "no image for url: https://en-marche.fr/emmanuel-macron/le-programme/pauvrete\n"
     ]
    }
   ],
   "source": [
    "image_srcs = [extract_img_src(url) for url in full_urls]"
   ]
  },
  {
   "cell_type": "code",
   "execution_count": 111,
   "metadata": {
    "collapsed": true,
    "deletable": true,
    "editable": true
   },
   "outputs": [],
   "source": [
    "image_srcs = [_ for _ in image_srcs if _ is not None]"
   ]
  },
  {
   "cell_type": "code",
   "execution_count": 112,
   "metadata": {
    "collapsed": true,
    "deletable": true,
    "editable": true
   },
   "outputs": [],
   "source": [
    "header = \"\"\"<!doctype html>\n",
    "<html lang=\"fr\">\n",
    "<head>\n",
    "  <meta charset=\"utf-8\">\n",
    "  <title>Gallerie des photos du site d'Emmanuel Macron</title>\n",
    "  <style>\n",
    "  img {width: 100%;}\n",
    "  </style>\n",
    "</head>\"\"\""
   ]
  },
  {
   "cell_type": "code",
   "execution_count": 113,
   "metadata": {
    "collapsed": false,
    "deletable": true,
    "editable": true
   },
   "outputs": [
    {
     "data": {
      "text/plain": [
       "'https://en-marche.fr/assets/images/01-fonction-publique-hospital-sante-emmanuel-macron-en-marche?q=70&cache=e7d04db7e6ec8a188aee&fm=pjpg&s=97b9c84c57c417dcef72c4919e6f2625'"
      ]
     },
     "execution_count": 113,
     "metadata": {},
     "output_type": "execute_result"
    }
   ],
   "source": [
    "image_srcs[0]"
   ]
  },
  {
   "cell_type": "code",
   "execution_count": 114,
   "metadata": {
    "collapsed": true,
    "deletable": true,
    "editable": true
   },
   "outputs": [],
   "source": [
    "def format_as_img_tag(src):\n",
    "    return \"<img src={} />\".format(src)"
   ]
  },
  {
   "cell_type": "code",
   "execution_count": 115,
   "metadata": {
    "collapsed": false,
    "deletable": true,
    "editable": true
   },
   "outputs": [
    {
     "data": {
      "text/plain": [
       "'<img src=https://en-marche.fr/assets/images/04-culture-musee-exposition-guadeloupe-emmanuel-macron?q=70&cache=0f9e2f1675c10ef5c67b&fm=pjpg&s=92575e4c67cd6a07095acfd08652efb6 />'"
      ]
     },
     "execution_count": 115,
     "metadata": {},
     "output_type": "execute_result"
    }
   ],
   "source": [
    "format_as_img_tag(image_srcs[2])"
   ]
  },
  {
   "cell_type": "code",
   "execution_count": 116,
   "metadata": {
    "collapsed": false,
    "deletable": true,
    "editable": true
   },
   "outputs": [],
   "source": [
    "with open('gallerie_macron.html', 'w') as f:\n",
    "    body = \"\"\"<body>\n",
    "{0}\n",
    "</body>\"\"\".format(\"\\n\".join(format_as_img_tag(url) for url in image_srcs))\n",
    "    html = header + body + \"</html>\"\n",
    "    f.write(html)"
   ]
  },
  {
   "cell_type": "markdown",
   "metadata": {
    "deletable": true,
    "editable": true
   },
   "source": [
    "Ce sont des belles photos..."
   ]
  }
 ],
 "metadata": {
  "kernelspec": {
   "display_name": "Python 3",
   "language": "python",
   "name": "python3"
  },
  "language_info": {
   "codemirror_mode": {
    "name": "ipython",
    "version": 3
   },
   "file_extension": ".py",
   "mimetype": "text/x-python",
   "name": "python",
   "nbconvert_exporter": "python",
   "pygments_lexer": "ipython3",
   "version": "3.5.2"
  }
 },
 "nbformat": 4,
 "nbformat_minor": 2
}
