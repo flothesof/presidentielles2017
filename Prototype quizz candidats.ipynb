{
 "cells": [
  {
   "cell_type": "code",
   "execution_count": 10,
   "metadata": {
    "collapsed": true
   },
   "outputs": [],
   "source": [
    "import numpy as np\n",
    "import pandas as pd\n",
    "from ipywidgets import interact_manual, interact\n",
    "from ipywidgets import Button, HBox, IntText, HTML, VBox\n",
    "from IPython.display import display"
   ]
  },
  {
   "cell_type": "markdown",
   "metadata": {},
   "source": [
    "# Chargement des données "
   ]
  },
  {
   "cell_type": "markdown",
   "metadata": {},
   "source": [
    "On charge les propositions présidentielles."
   ]
  },
  {
   "cell_type": "code",
   "execution_count": 12,
   "metadata": {
    "collapsed": true
   },
   "outputs": [],
   "source": [
    "def load_data():\n",
    "    \"Loads presidential candidates data.\"\n",
    "    mlp = pd.read_csv('projets/marine_le_pen.csv')['texte de la proposition'].str.replace('^.\\s', '')\n",
    "    mlp.name = 'proposition'\n",
    "    yj = pd.read_csv('projets/yannick_jadot.csv')['proposition'].str.replace(' →', '')\n",
    "    bh = pd.read_csv('projets/benoit_hamon.csv')['contenu']\n",
    "    bh.name = 'proposition'\n",
    "    jlm = pd.read_csv('projets/jean_luc_melenchon.csv')['mesures'].dropna().str.replace(\"Nous proposons de réaliser les mesures suivantes\\xa0:\", '').replace('\\xa0', '  ')\n",
    "    jlm.name = 'proposition'\n",
    "    em = pd.read_csv('projets/emmanuel_macron.csv')['proposition']\n",
    "    candidates = [jlm, yj, bh, em, mlp]\n",
    "    candidate_labels = ['JLM', 'YJ', 'BH', 'EM', 'MLP']\n",
    "    return candidates, candidate_labels"
   ]
  },
  {
   "cell_type": "code",
   "execution_count": 13,
   "metadata": {
    "collapsed": false
   },
   "outputs": [],
   "source": [
    "candidates, candidate_labels = load_data()"
   ]
  },
  {
   "cell_type": "markdown",
   "metadata": {},
   "source": [
    "# Quizz candidats "
   ]
  },
  {
   "cell_type": "code",
   "execution_count": 8,
   "metadata": {
    "collapsed": false
   },
   "outputs": [],
   "source": [
    "class GUI:\n",
    "    def __init__(self):\n",
    "        self.labels = candidate_labels\n",
    "\n",
    "        buttons = [Button(description=label) for label in self.labels]\n",
    "        for b in buttons:\n",
    "            b.on_click(self.on_button_clicked)\n",
    "        hbox1 = HBox()\n",
    "        hbox1.children = buttons\n",
    "        self.buttons = buttons\n",
    "        \n",
    "        self.scorebox = IntText(description='score', value=0)\n",
    "        new_question = Button(description='nouvelle question !')\n",
    "        new_question.on_click(self.create_new_question)\n",
    "        hbox2 = HBox()\n",
    "        hbox2.children = [self.scorebox, new_question]\n",
    "\n",
    "        self.html = HTML()\n",
    "        \n",
    "        vbox = VBox()\n",
    "        vbox.children = [hbox1, hbox2, self.html]\n",
    "        self.box = vbox\n",
    "\n",
    "        self.create_new_question()\n",
    "        \n",
    "    def create_new_question(self, b=None):\n",
    "        choice = np.random.randint(0, len(candidates))\n",
    "        self.choice = choice\n",
    "        candidate_series = candidates[choice]\n",
    "        n = candidate_series.size\n",
    "        self.html.value = '<p style=\"font-size: 150%;font-weight: 300;line-height: 1.39;margin: 0 0 12.5px;\">{}</p>'.format(candidate_series[np.random.randint(n)])\n",
    "        for b in self.buttons:\n",
    "            b.style.button_color = None\n",
    "        \n",
    "    def on_button_clicked(self, b):\n",
    "        if b.description == self.labels[self.choice]:\n",
    "            self.scorebox.value += 1\n",
    "            b.style.button_color = 'lightgreen'\n",
    "        else:\n",
    "            self.scorebox.value -= 1\n",
    "            b.style.button_color = 'red'\n"
   ]
  },
  {
   "cell_type": "code",
   "execution_count": 11,
   "metadata": {
    "collapsed": false
   },
   "outputs": [
    {
     "data": {
      "application/vnd.jupyter.widget-view+json": {
       "model_id": "ed84a7ec1cf646a58961f0d99cbb9849"
      }
     },
     "metadata": {},
     "output_type": "display_data"
    }
   ],
   "source": [
    "gui = GUI()\n",
    "display(gui.box)"
   ]
  },
  {
   "cell_type": "code",
   "execution_count": null,
   "metadata": {
    "collapsed": true
   },
   "outputs": [],
   "source": []
  },
  {
   "cell_type": "code",
   "execution_count": null,
   "metadata": {
    "collapsed": true
   },
   "outputs": [],
   "source": []
  },
  {
   "cell_type": "code",
   "execution_count": null,
   "metadata": {
    "collapsed": true
   },
   "outputs": [],
   "source": []
  },
  {
   "cell_type": "code",
   "execution_count": null,
   "metadata": {
    "collapsed": true
   },
   "outputs": [],
   "source": []
  },
  {
   "cell_type": "code",
   "execution_count": null,
   "metadata": {
    "collapsed": true
   },
   "outputs": [],
   "source": []
  },
  {
   "cell_type": "code",
   "execution_count": null,
   "metadata": {
    "collapsed": true
   },
   "outputs": [],
   "source": [
    "def make_df(candidate, candidate_label):\n",
    "    \"Returns a dataframe with candidate name.\"\n",
    "    ind_s = pd.Series(index=candidate.index, data=[candidate_label], name='candidat')\n",
    "    return pd.DataFrame(data=[ind_s, candidate]).transpose()"
   ]
  },
  {
   "cell_type": "code",
   "execution_count": null,
   "metadata": {
    "collapsed": false
   },
   "outputs": [],
   "source": [
    "all_propositions = pd.concat([make_df(c, label) for c, label in zip(candidates, candidate_labels)])"
   ]
  },
  {
   "cell_type": "code",
   "execution_count": null,
   "metadata": {
    "collapsed": false
   },
   "outputs": [],
   "source": [
    "ind = all_propositions['proposition'].str.lower().str.contains('vert')"
   ]
  },
  {
   "cell_type": "code",
   "execution_count": null,
   "metadata": {
    "collapsed": false
   },
   "outputs": [],
   "source": [
    "all_propositions[ind]"
   ]
  },
  {
   "cell_type": "code",
   "execution_count": null,
   "metadata": {
    "collapsed": true
   },
   "outputs": [],
   "source": [
    "mask = all_propositions[ind]"
   ]
  },
  {
   "cell_type": "code",
   "execution_count": null,
   "metadata": {
    "collapsed": false
   },
   "outputs": [],
   "source": [
    "mask.groupby(by='candidat').sum().iloc[0].values"
   ]
  },
  {
   "cell_type": "code",
   "execution_count": null,
   "metadata": {
    "collapsed": true
   },
   "outputs": [],
   "source": [
    "from ipywidgets import interact, IntSlider, SelectMultiple"
   ]
  },
  {
   "cell_type": "code",
   "execution_count": null,
   "metadata": {
    "collapsed": false
   },
   "outputs": [],
   "source": [
    "mask.size"
   ]
  },
  {
   "cell_type": "code",
   "execution_count": null,
   "metadata": {
    "collapsed": false
   },
   "outputs": [],
   "source": [
    "slider = IntSlider(min=0, max=mask.size - 1)\n",
    "slider"
   ]
  },
  {
   "cell_type": "code",
   "execution_count": null,
   "metadata": {
    "collapsed": true
   },
   "outputs": [],
   "source": [
    "selector = SelectMultiple(\n",
    "        options=mask['proposition'].values.tolist(),\n",
    "        value=[],\n",
    "        description='',\n",
    "        disabled=False,\n",
    "        )\n",
    "selector.layout.width='500px'\n",
    "selector.layout.height = \"300px\""
   ]
  },
  {
   "cell_type": "code",
   "execution_count": null,
   "metadata": {
    "collapsed": false
   },
   "outputs": [],
   "source": [
    "@interact\n",
    "def search_for_props(search='croissance'):\n",
    "    ind = all_propositions['proposition'].str.lower().str.contains(search)\n",
    "    mask = all_propositions[ind]\n",
    "    selector.options = mask['proposition'].values.tolist()\n",
    "\n",
    "display(selector)"
   ]
  },
  {
   "cell_type": "code",
   "execution_count": null,
   "metadata": {
    "collapsed": true
   },
   "outputs": [],
   "source": []
  }
 ],
 "metadata": {
  "kernelspec": {
   "display_name": "Python 3",
   "language": "python",
   "name": "python3"
  },
  "language_info": {
   "codemirror_mode": {
    "name": "ipython",
    "version": 3
   },
   "file_extension": ".py",
   "mimetype": "text/x-python",
   "name": "python",
   "nbconvert_exporter": "python",
   "pygments_lexer": "ipython3",
   "version": "3.5.2"
  }
 },
 "nbformat": 4,
 "nbformat_minor": 2
}
