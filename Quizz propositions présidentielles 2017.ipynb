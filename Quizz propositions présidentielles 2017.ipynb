{
 "cells": [
  {
   "cell_type": "markdown",
   "metadata": {
    "deletable": true,
    "editable": true
   },
   "source": [
    "Cette exploration interactive vous permet de vous confronter à la connaissance des propositions des candidats à l'élection présidentielles connues en date du 12 mars 2017 (le programme de François Fillon n'étant pas encore dévoilé à cette date).\n",
    "\n",
    "Pour utiliser cette application il vous faut :\n",
    "\n",
    "- sélectionner la cellule ci-dessous\n",
    "- appuyer simultanément sur les touches CONTRÔLE+ENTREE\n",
    "\n",
    "Au fur et à mesure des questions, votre score est incrémenté (réponse correcte) ou décrémenté (réponse incorrecte)."
   ]
  },
  {
   "cell_type": "code",
   "execution_count": null,
   "metadata": {
    "collapsed": false
   },
   "outputs": [],
   "source": [
    "from funcs import load_data, GUI\n",
    "propositions, candidate_labels = load_data()\n",
    "gui = GUI(candidate_labels, propositions)\n",
    "gui.box"
   ]
  }
 ],
 "metadata": {
  "kernelspec": {
   "display_name": "Python 3",
   "language": "python",
   "name": "python3"
  },
  "language_info": {
   "codemirror_mode": {
    "name": "ipython",
    "version": 3
   },
   "file_extension": ".py",
   "mimetype": "text/x-python",
   "name": "python",
   "nbconvert_exporter": "python",
   "pygments_lexer": "ipython3",
   "version": "3.5.2"
  }
 },
 "nbformat": 4,
 "nbformat_minor": 2
}
