{
 "cells": [
  {
   "cell_type": "markdown",
   "metadata": {},
   "source": [
    "Dans ce notebook, nous allons essayer de faire du text mining pour récuper des versions locales des programmes des présidentielles 2017 des candidats suivants :\n",
    "\n",
    "- François Fillon (apparemment, le projet sort le 13 mars seulement)\n",
    "- Marine Le Pen\n",
    "- Benoît Hamon\n",
    "- Jean-Luc Mélenchon\n",
    "- Emmanuel Macron\n",
    "\n",
    "Différentes manières de récupérer les programmes sont possibles : soit à partir des fichiers .pdf, soit à partir des sites des campagnes. Nous allons faire au plus simple, à l'aide des sites de campagnes."
   ]
  },
  {
   "cell_type": "markdown",
   "metadata": {},
   "source": [
    "# François Fillon "
   ]
  },
  {
   "cell_type": "markdown",
   "metadata": {},
   "source": [
    "Le projet de François Fillon ne sera annoncé que le 13 mars : https://www.fillon2017.fr/projet/"
   ]
  },
  {
   "cell_type": "markdown",
   "metadata": {},
   "source": [
    "# Marine Le Pen "
   ]
  },
  {
   "cell_type": "markdown",
   "metadata": {},
   "source": [
    "Les 144 engagements de Marine Le Pen peuvent être consultés ici : https://www.marine2017.fr/programme/"
   ]
  },
  {
   "cell_type": "markdown",
   "metadata": {},
   "source": [
    "## Analyse de la structure du site\n",
    "\n",
    "Apparemment, les différentes propositions sont imbriquées dans des balises `<p>`. \n",
    "\n",
    "```\n",
    "<p>3. <strong>Permettre la représentation de tous les Français</strong> par le scrutin proportionnel à toutes les élections. À l’Assemblée nationale, la proportionnelle sera intégrale avec une prime majoritaire de 30&nbsp;% des sièges pour la liste arrivée en tête et un seuil de 5&nbsp;% des suffrages pour obtenir des élus.</p>\n",
    "```\n",
    "On peut donc extraire ces éléments et les trier ensuite."
   ]
  },
  {
   "cell_type": "markdown",
   "metadata": {},
   "source": [
    "## Extraction des paragraphes"
   ]
  },
  {
   "cell_type": "markdown",
   "metadata": {},
   "source": [
    "Téléchargeons le code source de la page."
   ]
  },
  {
   "cell_type": "code",
   "execution_count": 53,
   "metadata": {
    "collapsed": true
   },
   "outputs": [],
   "source": [
    "from bs4 import BeautifulSoup\n",
    "import requests\n",
    "import re"
   ]
  },
  {
   "cell_type": "code",
   "execution_count": 54,
   "metadata": {
    "collapsed": false
   },
   "outputs": [],
   "source": [
    "r = requests.get('https://www.marine2017.fr/programme/')"
   ]
  },
  {
   "cell_type": "code",
   "execution_count": 55,
   "metadata": {
    "collapsed": false
   },
   "outputs": [],
   "source": [
    "soup = BeautifulSoup(r.text, \"html.parser\")"
   ]
  },
  {
   "cell_type": "markdown",
   "metadata": {},
   "source": [
    "Maintenant, chercons à extraire tous les paragraphes, à l'aide d'une fonction qui vérifie que le paragraphe commence par un nombre suivi d'un point (et peut-être d'un espace)."
   ]
  },
  {
   "cell_type": "code",
   "execution_count": 56,
   "metadata": {
    "collapsed": true
   },
   "outputs": [],
   "source": [
    "def func(tag):\n",
    "    \"Filters tag that start with a number.\"\n",
    "    pattern = re.compile('\\d+.\\s*')\n",
    "    return pattern.match(tag.text) is not None"
   ]
  },
  {
   "cell_type": "code",
   "execution_count": 57,
   "metadata": {
    "collapsed": false
   },
   "outputs": [],
   "source": [
    "all_paragraphs = soup.find_all(func)"
   ]
  },
  {
   "cell_type": "markdown",
   "metadata": {},
   "source": [
    "Explorons le résultat."
   ]
  },
  {
   "cell_type": "code",
   "execution_count": 59,
   "metadata": {
    "collapsed": true
   },
   "outputs": [],
   "source": [
    "from ipywidgets import interact"
   ]
  },
  {
   "cell_type": "code",
   "execution_count": 60,
   "metadata": {
    "collapsed": false
   },
   "outputs": [
    {
     "data": {
      "application/vnd.jupyter.widget-view+json": {
       "model_id": "b40697411f8a4c98b3fd9ba75b59a7bf"
      }
     },
     "metadata": {},
     "output_type": "display_data"
    }
   ],
   "source": [
    "@interact\n",
    "def browser_paragraphs(n=(0, len(all_paragraphs) - 1)):\n",
    "    print(all_paragraphs[n].text)"
   ]
  },
  {
   "cell_type": "markdown",
   "metadata": {},
   "source": [
    "Il semblerait que seul le premier paragraphe soit repris deux fois. Ce n'est pas grave, on peut facilement faire le tri et obtenir une table des 144 propositions."
   ]
  },
  {
   "cell_type": "code",
   "execution_count": 61,
   "metadata": {
    "collapsed": true
   },
   "outputs": [],
   "source": [
    "import pandas as pd"
   ]
  },
  {
   "cell_type": "code",
   "execution_count": 74,
   "metadata": {
    "collapsed": false
   },
   "outputs": [
    {
     "data": {
      "text/html": [
       "<div>\n",
       "<table border=\"1\" class=\"dataframe\">\n",
       "  <thead>\n",
       "    <tr style=\"text-align: right;\">\n",
       "      <th></th>\n",
       "      <th>texte de la proposition</th>\n",
       "    </tr>\n",
       "  </thead>\n",
       "  <tbody>\n",
       "    <tr>\n",
       "      <th>0</th>\n",
       "      <td>Retrouver notre liberté et la maîtrise de notr...</td>\n",
       "    </tr>\n",
       "    <tr>\n",
       "      <th>1</th>\n",
       "      <td>Organiser un référendum en vue de réviser la C...</td>\n",
       "    </tr>\n",
       "    <tr>\n",
       "      <th>2</th>\n",
       "      <td>Permettre la représentation de tous les França...</td>\n",
       "    </tr>\n",
       "    <tr>\n",
       "      <th>3</th>\n",
       "      <td>Abaisser le nombre de députés à 300 (contre 57...</td>\n",
       "    </tr>\n",
       "    <tr>\n",
       "      <th>4</th>\n",
       "      <td>Créer un véritable référendum d’initiative pop...</td>\n",
       "    </tr>\n",
       "    <tr>\n",
       "      <th>5</th>\n",
       "      <td>Conserver trois niveaux d’administration (au l...</td>\n",
       "    </tr>\n",
       "    <tr>\n",
       "      <th>6</th>\n",
       "      <td>Garantir la liberté d’expression et les libert...</td>\n",
       "    </tr>\n",
       "    <tr>\n",
       "      <th>7</th>\n",
       "      <td>Créer une charte à valeur constitutionnelle qu...</td>\n",
       "    </tr>\n",
       "    <tr>\n",
       "      <th>8</th>\n",
       "      <td>Défendre les droits des femmes : lutter contre...</td>\n",
       "    </tr>\n",
       "    <tr>\n",
       "      <th>9</th>\n",
       "      <td>Assurer le respect de la liberté d’association...</td>\n",
       "    </tr>\n",
       "  </tbody>\n",
       "</table>\n",
       "</div>"
      ],
      "text/plain": [
       "                             texte de la proposition\n",
       "0  Retrouver notre liberté et la maîtrise de notr...\n",
       "1  Organiser un référendum en vue de réviser la C...\n",
       "2  Permettre la représentation de tous les França...\n",
       "3  Abaisser le nombre de députés à 300 (contre 57...\n",
       "4  Créer un véritable référendum d’initiative pop...\n",
       "5  Conserver trois niveaux d’administration (au l...\n",
       "6  Garantir la liberté d’expression et les libert...\n",
       "7  Créer une charte à valeur constitutionnelle qu...\n",
       "8  Défendre les droits des femmes : lutter contre...\n",
       "9  Assurer le respect de la liberté d’association..."
      ]
     },
     "execution_count": 74,
     "metadata": {},
     "output_type": "execute_result"
    }
   ],
   "source": [
    "s = pd.Series([p.text[3:].strip() for p in all_paragraphs]).drop_duplicates().reset_index(drop=True)\n",
    "df = pd.DataFrame(data=s, columns=['texte de la proposition'])\n",
    "df.head(10)"
   ]
  },
  {
   "cell_type": "markdown",
   "metadata": {},
   "source": [
    "Bien, on peut maintenant écrire ces données dans un fichier texte."
   ]
  },
  {
   "cell_type": "code",
   "execution_count": 75,
   "metadata": {
    "collapsed": true
   },
   "outputs": [],
   "source": [
    "df.to_csv('projets/marine_le_pen.csv')"
   ]
  },
  {
   "cell_type": "markdown",
   "metadata": {},
   "source": [
    "# Benoît Hamon "
   ]
  },
  {
   "cell_type": "markdown",
   "metadata": {},
   "source": [
    "Le site de Benoît Hamon ne permet pas d'accéder à une page avec toutes les propositions facilement. Du coup, il faut explorer trois sous-catégories."
   ]
  },
  {
   "cell_type": "markdown",
   "metadata": {},
   "source": [
    "https://www.benoithamon2017.fr/thematique/pour-un-progres-social-et-ecologique/"
   ]
  },
  {
   "cell_type": "code",
   "execution_count": 77,
   "metadata": {
    "collapsed": false
   },
   "outputs": [
    {
     "data": {
      "text/plain": [
       "<Response [200]>"
      ]
     },
     "execution_count": 77,
     "metadata": {},
     "output_type": "execute_result"
    }
   ],
   "source": [
    "r = requests.get('https://www.benoithamon2017.fr/thematique/pour-un-progres-social-et-ecologique/')\n",
    "r"
   ]
  },
  {
   "cell_type": "code",
   "execution_count": 80,
   "metadata": {
    "collapsed": false
   },
   "outputs": [],
   "source": [
    "soup = BeautifulSoup(r.text, 'html.parser')"
   ]
  },
  {
   "cell_type": "code",
   "execution_count": 86,
   "metadata": {
    "collapsed": false
   },
   "outputs": [],
   "source": [
    "all_propositions = soup.find_all(class_='Propositions-Proposition')"
   ]
  },
  {
   "cell_type": "code",
   "execution_count": 87,
   "metadata": {
    "collapsed": false
   },
   "outputs": [
    {
     "data": {
      "text/plain": [
       "66"
      ]
     },
     "execution_count": 87,
     "metadata": {},
     "output_type": "execute_result"
    }
   ],
   "source": [
    "len(all_propositions)"
   ]
  },
  {
   "cell_type": "code",
   "execution_count": 88,
   "metadata": {
    "collapsed": true
   },
   "outputs": [],
   "source": [
    "p = all_propositions[0]"
   ]
  },
  {
   "cell_type": "code",
   "execution_count": 90,
   "metadata": {
    "collapsed": false
   },
   "outputs": [
    {
     "data": {
      "text/plain": [
       "'\\nLutte contre les déserts médicaux\\nJe lutterai contre les déserts médicaux en retirant le conventionnement aux médecins qui s’installent en zone surdotée. Cette mesure n’entrave en rien la liberté d’installation du médecin, qui peut toujours choisir de s’y installer\\xa0: il ne bénéficiera simplement plus du conventionnement. J’encouragerai le développement de maisons de santé pluridisciplinaires rassemblant des médecins libéraux, appuyés pour les tâches administratives par un gestionnaire des fonctions support. \\n\\n\\nJe soutiens, je partage sur les réseaux #DésertsMédicaux\\n\\n\\n\\nEn savoir plus\\n'"
      ]
     },
     "execution_count": 90,
     "metadata": {},
     "output_type": "execute_result"
    }
   ],
   "source": [
    "p.text"
   ]
  },
  {
   "cell_type": "code",
   "execution_count": 92,
   "metadata": {
    "collapsed": false
   },
   "outputs": [
    {
     "data": {
      "text/plain": [
       "'Lutte contre les déserts médicaux'"
      ]
     },
     "execution_count": 92,
     "metadata": {},
     "output_type": "execute_result"
    }
   ],
   "source": [
    "p.find('h1').text"
   ]
  },
  {
   "cell_type": "code",
   "execution_count": 93,
   "metadata": {
    "collapsed": false
   },
   "outputs": [
    {
     "data": {
      "text/plain": [
       "'Je lutterai contre les déserts médicaux en retirant le conventionnement aux médecins qui s’installent en zone surdotée. Cette mesure n’entrave en rien la liberté d’installation du médecin, qui peut toujours choisir de s’y installer\\xa0: il ne bénéficiera simplement plus du conventionnement. J’encouragerai le développement de maisons de santé pluridisciplinaires rassemblant des médecins libéraux, appuyés pour les tâches administratives par un gestionnaire des fonctions support.'"
      ]
     },
     "execution_count": 93,
     "metadata": {},
     "output_type": "execute_result"
    }
   ],
   "source": [
    "p.find('p').text"
   ]
  },
  {
   "cell_type": "markdown",
   "metadata": {},
   "source": [
    "On peut extraire de ces propositions la moëlle essentielle :"
   ]
  },
  {
   "cell_type": "code",
   "execution_count": 97,
   "metadata": {
    "collapsed": true
   },
   "outputs": [],
   "source": [
    "def extract_data(tag):\n",
    "    \"Extracts title for tag and content.\"\n",
    "    subject = tag.find('h1').text\n",
    "    content = tag.find('p').text\n",
    "    return subject, content"
   ]
  },
  {
   "cell_type": "markdown",
   "metadata": {},
   "source": [
    "Construisons une table de données avec ces propositions."
   ]
  },
  {
   "cell_type": "code",
   "execution_count": 102,
   "metadata": {
    "collapsed": true
   },
   "outputs": [],
   "source": [
    "df = pd.DataFrame([extract_data(p) for p in all_propositions], columns=['titre', 'contenu'])"
   ]
  },
  {
   "cell_type": "code",
   "execution_count": 103,
   "metadata": {
    "collapsed": false
   },
   "outputs": [
    {
     "data": {
      "text/html": [
       "<div>\n",
       "<table border=\"1\" class=\"dataframe\">\n",
       "  <thead>\n",
       "    <tr style=\"text-align: right;\">\n",
       "      <th></th>\n",
       "      <th>titre</th>\n",
       "      <th>contenu</th>\n",
       "    </tr>\n",
       "  </thead>\n",
       "  <tbody>\n",
       "    <tr>\n",
       "      <th>0</th>\n",
       "      <td>Lutte contre les déserts médicaux</td>\n",
       "      <td>Je lutterai contre les déserts médicaux en ret...</td>\n",
       "    </tr>\n",
       "    <tr>\n",
       "      <th>1</th>\n",
       "      <td>Abrogation de la loi Travail</td>\n",
       "      <td>J’abrogerai immédiatement la loi Travail. Je r...</td>\n",
       "    </tr>\n",
       "    <tr>\n",
       "      <th>2</th>\n",
       "      <td>Un budget de 1% du PIB dédié à la culture</td>\n",
       "      <td>Je porterai le budget consacré au développemen...</td>\n",
       "    </tr>\n",
       "    <tr>\n",
       "      <th>3</th>\n",
       "      <td>Création d’un Revenu universel d’existence</td>\n",
       "      <td>Je mettrai en place un revenu universel d’exis...</td>\n",
       "    </tr>\n",
       "    <tr>\n",
       "      <th>4</th>\n",
       "      <td>Mise en place d’un statut social unique de l’a...</td>\n",
       "      <td>Je créerai un statut unique pour tous les acti...</td>\n",
       "    </tr>\n",
       "    <tr>\n",
       "      <th>5</th>\n",
       "      <td>Oui au travail indépendant, non à l’ubérisatio...</td>\n",
       "      <td>Je lutterai contre le salariat déguisé des ent...</td>\n",
       "    </tr>\n",
       "    <tr>\n",
       "      <th>6</th>\n",
       "      <td>Plan d’investissements dans la rénovation éner...</td>\n",
       "      <td>Je lancerai un plan massif d’investissements d...</td>\n",
       "    </tr>\n",
       "    <tr>\n",
       "      <th>7</th>\n",
       "      <td>Annulation de la dette contractée par les pays...</td>\n",
       "      <td>J’organiserai avec nos partenaires européens l...</td>\n",
       "    </tr>\n",
       "    <tr>\n",
       "      <th>8</th>\n",
       "      <td>Création d’une taxe sur les robots</td>\n",
       "      <td>Je créerai une taxe sur la richesse créée par ...</td>\n",
       "    </tr>\n",
       "    <tr>\n",
       "      <th>9</th>\n",
       "      <td>Reconnaissance d’un statut de l’artiste</td>\n",
       "      <td>Je donnerai corps à un statut de l’artiste afi...</td>\n",
       "    </tr>\n",
       "    <tr>\n",
       "      <th>10</th>\n",
       "      <td>Plus de pluralisme dans la recherche et l’ense...</td>\n",
       "      <td>Je soutiendrai la création d’une nouvelle sect...</td>\n",
       "    </tr>\n",
       "    <tr>\n",
       "      <th>11</th>\n",
       "      <td>Sanctuarisation des biens communs (air, eau, s...</td>\n",
       "      <td>Je sanctuariserai les biens communs en inscriv...</td>\n",
       "    </tr>\n",
       "    <tr>\n",
       "      <th>12</th>\n",
       "      <td>Stop aux pesticides et aux perturbateurs endoc...</td>\n",
       "      <td>J’interdirai immédiatement les pesticides dang...</td>\n",
       "    </tr>\n",
       "    <tr>\n",
       "      <th>13</th>\n",
       "      <td>Grande conférence Ecologie-Prévention-Santé</td>\n",
       "      <td>Je lancerai une grande conférence nationale Ec...</td>\n",
       "    </tr>\n",
       "    <tr>\n",
       "      <th>14</th>\n",
       "      <td>Défense de nos intérêts face au libéralisme éc...</td>\n",
       "      <td>Je suspendrai immédiatement l’application de l...</td>\n",
       "    </tr>\n",
       "    <tr>\n",
       "      <th>15</th>\n",
       "      <td>Une véritable convergence sociale européenne</td>\n",
       "      <td>Je proposerai un processus de convergence soci...</td>\n",
       "    </tr>\n",
       "    <tr>\n",
       "      <th>16</th>\n",
       "      <td>Mesures immédiates de soutien au pouvoir d’achat</td>\n",
       "      <td>Je revaloriserai immédiatement les minima soci...</td>\n",
       "    </tr>\n",
       "    <tr>\n",
       "      <th>17</th>\n",
       "      <td>Une nouvelle étape dans le partage du temps de...</td>\n",
       "      <td>Je propose d’organiser la baisse du temps de t...</td>\n",
       "    </tr>\n",
       "    <tr>\n",
       "      <th>18</th>\n",
       "      <td>Un visa humanitaire pour une protection tempor...</td>\n",
       "      <td>Je créerai un visa humanitaire. Il ouvrira aux...</td>\n",
       "    </tr>\n",
       "    <tr>\n",
       "      <th>19</th>\n",
       "      <td>Droit de mourir dans la dignité</td>\n",
       "      <td>Je créerai le droit à une aide médicale pour m...</td>\n",
       "    </tr>\n",
       "    <tr>\n",
       "      <th>20</th>\n",
       "      <td>Objectif de 50% d’énergies renouvelables dès 2025</td>\n",
       "      <td>Je créerai une aide pour permettre aux citoyen...</td>\n",
       "    </tr>\n",
       "    <tr>\n",
       "      <th>21</th>\n",
       "      <td>13 agences régionales pour un développement te...</td>\n",
       "      <td>Je créerai dans chacune des grandes régions un...</td>\n",
       "    </tr>\n",
       "    <tr>\n",
       "      <th>22</th>\n",
       "      <td>Une plus grande attention à la situation socia...</td>\n",
       "      <td>J’accorderai toute l’attention qu’elle mérite ...</td>\n",
       "    </tr>\n",
       "    <tr>\n",
       "      <th>23</th>\n",
       "      <td>Reconnaissance du burnout comme maladie profes...</td>\n",
       "      <td>Je ferai reconnaître le syndrome d’épuisement ...</td>\n",
       "    </tr>\n",
       "    <tr>\n",
       "      <th>24</th>\n",
       "      <td>Plus de centres d’accueil du planning familial</td>\n",
       "      <td>Je rouvrirai des centres d’accueil du Planning...</td>\n",
       "    </tr>\n",
       "    <tr>\n",
       "      <th>25</th>\n",
       "      <td>Renforcement de la lutte contre l’évasion fiscale</td>\n",
       "      <td>Je mettrai en place un reporting public pays p...</td>\n",
       "    </tr>\n",
       "    <tr>\n",
       "      <th>26</th>\n",
       "      <td>Facilitation de la reprise en SCOP par les sal...</td>\n",
       "      <td>Je faciliterai la reprise d’entreprises par le...</td>\n",
       "    </tr>\n",
       "    <tr>\n",
       "      <th>27</th>\n",
       "      <td>Sortie du diesel à l’horizon 2025</td>\n",
       "      <td>Je ferai sortir la France du diesel à l’horizo...</td>\n",
       "    </tr>\n",
       "    <tr>\n",
       "      <th>28</th>\n",
       "      <td>Réduction du coût du capital et des dividendes</td>\n",
       "      <td>En France, le partage des bénéfices se fait tr...</td>\n",
       "    </tr>\n",
       "    <tr>\n",
       "      <th>29</th>\n",
       "      <td>Un programme d’investissements pour développer...</td>\n",
       "      <td>Je lancerai un programme d’investissements agr...</td>\n",
       "    </tr>\n",
       "    <tr>\n",
       "      <th>...</th>\n",
       "      <td>...</td>\n",
       "      <td>...</td>\n",
       "    </tr>\n",
       "    <tr>\n",
       "      <th>36</th>\n",
       "      <td>Du temps et des moyens pour chacun de s’engager</td>\n",
       "      <td>Je développerai les modalités de partage du te...</td>\n",
       "    </tr>\n",
       "    <tr>\n",
       "      <th>37</th>\n",
       "      <td>Renforcement de la loi SRU sur le logement social</td>\n",
       "      <td>Je renforcerai les sanctions à l’encontre des ...</td>\n",
       "    </tr>\n",
       "    <tr>\n",
       "      <th>38</th>\n",
       "      <td>Une réforme fiscale pour rétablir justice et é...</td>\n",
       "      <td>Je mènerai une véritable révolution fiscale. J...</td>\n",
       "    </tr>\n",
       "    <tr>\n",
       "      <th>39</th>\n",
       "      <td>Une aide au développement à la hauteur de nos ...</td>\n",
       "      <td>Je rétablirai l’aide au développement à la hau...</td>\n",
       "    </tr>\n",
       "    <tr>\n",
       "      <th>40</th>\n",
       "      <td>Elimination des obstacles à l’intégration des ...</td>\n",
       "      <td>Je lèverai les obstacles actuels à l’intégrati...</td>\n",
       "    </tr>\n",
       "    <tr>\n",
       "      <th>41</th>\n",
       "      <td>Equité des aides à l’accès aux complémentaires...</td>\n",
       "      <td>Je porterai un droit à la santé universel, ind...</td>\n",
       "    </tr>\n",
       "    <tr>\n",
       "      <th>42</th>\n",
       "      <td>Grande conférence contre l’exclusion</td>\n",
       "      <td>Dès 2017, j’ouvrirai une grande conférence des...</td>\n",
       "    </tr>\n",
       "    <tr>\n",
       "      <th>43</th>\n",
       "      <td>Modification des règles de Dublin sur le droit...</td>\n",
       "      <td>Je mettrai fin aux règles absurdes de Dublin q...</td>\n",
       "    </tr>\n",
       "    <tr>\n",
       "      <th>44</th>\n",
       "      <td>Moratoire sur le Pacte de stabilité</td>\n",
       "      <td>Je forgerai une alliance interétatique, politi...</td>\n",
       "    </tr>\n",
       "    <tr>\n",
       "      <th>45</th>\n",
       "      <td>Un Acte II de l’Economie Sociale et Solidaire</td>\n",
       "      <td>Je lancerai un acte II de l’économie sociale e...</td>\n",
       "    </tr>\n",
       "    <tr>\n",
       "      <th>46</th>\n",
       "      <td>Un Etat stratège pour la révolution énergétique</td>\n",
       "      <td>Je redonnerai une vision stratégique à l’Etat ...</td>\n",
       "    </tr>\n",
       "    <tr>\n",
       "      <th>47</th>\n",
       "      <td>Légalisation du cannabis et prévention</td>\n",
       "      <td>Je légaliserai le cannabis et j’encadrerai sa ...</td>\n",
       "    </tr>\n",
       "    <tr>\n",
       "      <th>48</th>\n",
       "      <td>Prévention contre l’alcool et le tabac</td>\n",
       "      <td>Je mettrai l’accent sur la prévention pour réd...</td>\n",
       "    </tr>\n",
       "    <tr>\n",
       "      <th>49</th>\n",
       "      <td>Reconnaissance de l’engagement des jeunes</td>\n",
       "      <td>J’assurerai à tous les jeunes une véritable re...</td>\n",
       "    </tr>\n",
       "    <tr>\n",
       "      <th>50</th>\n",
       "      <td>Création d’un service public de la petite enfance</td>\n",
       "      <td>Je souhaite que les jeunes parents, et notamme...</td>\n",
       "    </tr>\n",
       "    <tr>\n",
       "      <th>51</th>\n",
       "      <td>Grand plan national Sport et Santé</td>\n",
       "      <td>Je propose le remboursement par la Sécurité So...</td>\n",
       "    </tr>\n",
       "    <tr>\n",
       "      <th>52</th>\n",
       "      <td>Responsabilité des dirigeants d’entreprises</td>\n",
       "      <td>Je créerai un statut des dirigeant.e.s de gran...</td>\n",
       "    </tr>\n",
       "    <tr>\n",
       "      <th>53</th>\n",
       "      <td>Reconnaissance du droit à la déconnexion pour ...</td>\n",
       "      <td>Je reconnaîtrai le droit à la déconnexion effe...</td>\n",
       "    </tr>\n",
       "    <tr>\n",
       "      <th>54</th>\n",
       "      <td>Un impôt unique sur le patrimoine net des dettes</td>\n",
       "      <td>Je créerai un impôt unique sur le patrimoine, ...</td>\n",
       "    </tr>\n",
       "    <tr>\n",
       "      <th>55</th>\n",
       "      <td>Garantie d’un meilleur accès aux données publi...</td>\n",
       "      <td>Je mènerai une politique d’open data et de tra...</td>\n",
       "    </tr>\n",
       "    <tr>\n",
       "      <th>56</th>\n",
       "      <td>Contrôle parlementaire des nominations préside...</td>\n",
       "      <td>Je développerai le contrôle parlementaire sur ...</td>\n",
       "    </tr>\n",
       "    <tr>\n",
       "      <th>57</th>\n",
       "      <td>Respect de l’égalité salariale femmes-hommes</td>\n",
       "      <td>Je renforcerai les sanctions inscrites dans la...</td>\n",
       "    </tr>\n",
       "    <tr>\n",
       "      <th>58</th>\n",
       "      <td>Une PAC verte pour accompagner la transition a...</td>\n",
       "      <td>Je négocierai au niveau européen pour qu’une p...</td>\n",
       "    </tr>\n",
       "    <tr>\n",
       "      <th>59</th>\n",
       "      <td>Priorité de l’attribution du foncier agricole ...</td>\n",
       "      <td>Je modifierai les critères de l’examen des dos...</td>\n",
       "    </tr>\n",
       "    <tr>\n",
       "      <th>60</th>\n",
       "      <td>L’autonomie alimentaire grâce aux circuits courts</td>\n",
       "      <td>Je favoriserai le développement de cultures ma...</td>\n",
       "    </tr>\n",
       "    <tr>\n",
       "      <th>61</th>\n",
       "      <td>Lancement d’un plan contre la maltraitance ani...</td>\n",
       "      <td>Je garantirai le respect des plus hautes exige...</td>\n",
       "    </tr>\n",
       "    <tr>\n",
       "      <th>62</th>\n",
       "      <td>Vers une harmonisation fiscale en Europe</td>\n",
       "      <td>Je ferai de l’harmonisation fiscale dans l’Uni...</td>\n",
       "    </tr>\n",
       "    <tr>\n",
       "      <th>63</th>\n",
       "      <td>Pour un syndicalisme renforcé</td>\n",
       "      <td>Je renforcerai l’implication des syndicats dan...</td>\n",
       "    </tr>\n",
       "    <tr>\n",
       "      <th>64</th>\n",
       "      <td>Sortie du budget de la défense des règles euro...</td>\n",
       "      <td>J’exclurai le budget de la défense du calcul d...</td>\n",
       "    </tr>\n",
       "    <tr>\n",
       "      <th>65</th>\n",
       "      <td>L’Université au coeur de la méritocratie répub...</td>\n",
       "      <td>Je remettrai l’enseignement supérieur au coeur...</td>\n",
       "    </tr>\n",
       "  </tbody>\n",
       "</table>\n",
       "<p>66 rows × 2 columns</p>\n",
       "</div>"
      ],
      "text/plain": [
       "                                                titre  \\\n",
       "0                   Lutte contre les déserts médicaux   \n",
       "1                        Abrogation de la loi Travail   \n",
       "2           Un budget de 1% du PIB dédié à la culture   \n",
       "3          Création d’un Revenu universel d’existence   \n",
       "4   Mise en place d’un statut social unique de l’a...   \n",
       "5   Oui au travail indépendant, non à l’ubérisatio...   \n",
       "6   Plan d’investissements dans la rénovation éner...   \n",
       "7   Annulation de la dette contractée par les pays...   \n",
       "8                  Création d’une taxe sur les robots   \n",
       "9             Reconnaissance d’un statut de l’artiste   \n",
       "10  Plus de pluralisme dans la recherche et l’ense...   \n",
       "11  Sanctuarisation des biens communs (air, eau, s...   \n",
       "12  Stop aux pesticides et aux perturbateurs endoc...   \n",
       "13        Grande conférence Ecologie-Prévention-Santé   \n",
       "14  Défense de nos intérêts face au libéralisme éc...   \n",
       "15       Une véritable convergence sociale européenne   \n",
       "16   Mesures immédiates de soutien au pouvoir d’achat   \n",
       "17  Une nouvelle étape dans le partage du temps de...   \n",
       "18  Un visa humanitaire pour une protection tempor...   \n",
       "19                    Droit de mourir dans la dignité   \n",
       "20  Objectif de 50% d’énergies renouvelables dès 2025   \n",
       "21  13 agences régionales pour un développement te...   \n",
       "22  Une plus grande attention à la situation socia...   \n",
       "23  Reconnaissance du burnout comme maladie profes...   \n",
       "24     Plus de centres d’accueil du planning familial   \n",
       "25  Renforcement de la lutte contre l’évasion fiscale   \n",
       "26  Facilitation de la reprise en SCOP par les sal...   \n",
       "27                  Sortie du diesel à l’horizon 2025   \n",
       "28     Réduction du coût du capital et des dividendes   \n",
       "29  Un programme d’investissements pour développer...   \n",
       "..                                                ...   \n",
       "36    Du temps et des moyens pour chacun de s’engager   \n",
       "37  Renforcement de la loi SRU sur le logement social   \n",
       "38  Une réforme fiscale pour rétablir justice et é...   \n",
       "39  Une aide au développement à la hauteur de nos ...   \n",
       "40  Elimination des obstacles à l’intégration des ...   \n",
       "41  Equité des aides à l’accès aux complémentaires...   \n",
       "42               Grande conférence contre l’exclusion   \n",
       "43  Modification des règles de Dublin sur le droit...   \n",
       "44                Moratoire sur le Pacte de stabilité   \n",
       "45      Un Acte II de l’Economie Sociale et Solidaire   \n",
       "46    Un Etat stratège pour la révolution énergétique   \n",
       "47             Légalisation du cannabis et prévention   \n",
       "48             Prévention contre l’alcool et le tabac   \n",
       "49          Reconnaissance de l’engagement des jeunes   \n",
       "50  Création d’un service public de la petite enfance   \n",
       "51                 Grand plan national Sport et Santé   \n",
       "52        Responsabilité des dirigeants d’entreprises   \n",
       "53  Reconnaissance du droit à la déconnexion pour ...   \n",
       "54   Un impôt unique sur le patrimoine net des dettes   \n",
       "55  Garantie d’un meilleur accès aux données publi...   \n",
       "56  Contrôle parlementaire des nominations préside...   \n",
       "57       Respect de l’égalité salariale femmes-hommes   \n",
       "58  Une PAC verte pour accompagner la transition a...   \n",
       "59  Priorité de l’attribution du foncier agricole ...   \n",
       "60  L’autonomie alimentaire grâce aux circuits courts   \n",
       "61  Lancement d’un plan contre la maltraitance ani...   \n",
       "62           Vers une harmonisation fiscale en Europe   \n",
       "63                      Pour un syndicalisme renforcé   \n",
       "64  Sortie du budget de la défense des règles euro...   \n",
       "65  L’Université au coeur de la méritocratie répub...   \n",
       "\n",
       "                                              contenu  \n",
       "0   Je lutterai contre les déserts médicaux en ret...  \n",
       "1   J’abrogerai immédiatement la loi Travail. Je r...  \n",
       "2   Je porterai le budget consacré au développemen...  \n",
       "3   Je mettrai en place un revenu universel d’exis...  \n",
       "4   Je créerai un statut unique pour tous les acti...  \n",
       "5   Je lutterai contre le salariat déguisé des ent...  \n",
       "6   Je lancerai un plan massif d’investissements d...  \n",
       "7   J’organiserai avec nos partenaires européens l...  \n",
       "8   Je créerai une taxe sur la richesse créée par ...  \n",
       "9   Je donnerai corps à un statut de l’artiste afi...  \n",
       "10  Je soutiendrai la création d’une nouvelle sect...  \n",
       "11  Je sanctuariserai les biens communs en inscriv...  \n",
       "12  J’interdirai immédiatement les pesticides dang...  \n",
       "13  Je lancerai une grande conférence nationale Ec...  \n",
       "14  Je suspendrai immédiatement l’application de l...  \n",
       "15  Je proposerai un processus de convergence soci...  \n",
       "16  Je revaloriserai immédiatement les minima soci...  \n",
       "17  Je propose d’organiser la baisse du temps de t...  \n",
       "18  Je créerai un visa humanitaire. Il ouvrira aux...  \n",
       "19  Je créerai le droit à une aide médicale pour m...  \n",
       "20  Je créerai une aide pour permettre aux citoyen...  \n",
       "21  Je créerai dans chacune des grandes régions un...  \n",
       "22  J’accorderai toute l’attention qu’elle mérite ...  \n",
       "23  Je ferai reconnaître le syndrome d’épuisement ...  \n",
       "24  Je rouvrirai des centres d’accueil du Planning...  \n",
       "25  Je mettrai en place un reporting public pays p...  \n",
       "26  Je faciliterai la reprise d’entreprises par le...  \n",
       "27  Je ferai sortir la France du diesel à l’horizo...  \n",
       "28  En France, le partage des bénéfices se fait tr...  \n",
       "29  Je lancerai un programme d’investissements agr...  \n",
       "..                                                ...  \n",
       "36  Je développerai les modalités de partage du te...  \n",
       "37  Je renforcerai les sanctions à l’encontre des ...  \n",
       "38  Je mènerai une véritable révolution fiscale. J...  \n",
       "39  Je rétablirai l’aide au développement à la hau...  \n",
       "40  Je lèverai les obstacles actuels à l’intégrati...  \n",
       "41  Je porterai un droit à la santé universel, ind...  \n",
       "42  Dès 2017, j’ouvrirai une grande conférence des...  \n",
       "43  Je mettrai fin aux règles absurdes de Dublin q...  \n",
       "44  Je forgerai une alliance interétatique, politi...  \n",
       "45  Je lancerai un acte II de l’économie sociale e...  \n",
       "46  Je redonnerai une vision stratégique à l’Etat ...  \n",
       "47  Je légaliserai le cannabis et j’encadrerai sa ...  \n",
       "48  Je mettrai l’accent sur la prévention pour réd...  \n",
       "49  J’assurerai à tous les jeunes une véritable re...  \n",
       "50  Je souhaite que les jeunes parents, et notamme...  \n",
       "51  Je propose le remboursement par la Sécurité So...  \n",
       "52  Je créerai un statut des dirigeant.e.s de gran...  \n",
       "53  Je reconnaîtrai le droit à la déconnexion effe...  \n",
       "54  Je créerai un impôt unique sur le patrimoine, ...  \n",
       "55  Je mènerai une politique d’open data et de tra...  \n",
       "56  Je développerai le contrôle parlementaire sur ...  \n",
       "57  Je renforcerai les sanctions inscrites dans la...  \n",
       "58  Je négocierai au niveau européen pour qu’une p...  \n",
       "59  Je modifierai les critères de l’examen des dos...  \n",
       "60  Je favoriserai le développement de cultures ma...  \n",
       "61  Je garantirai le respect des plus hautes exige...  \n",
       "62  Je ferai de l’harmonisation fiscale dans l’Uni...  \n",
       "63  Je renforcerai l’implication des syndicats dan...  \n",
       "64  J’exclurai le budget de la défense du calcul d...  \n",
       "65  Je remettrai l’enseignement supérieur au coeur...  \n",
       "\n",
       "[66 rows x 2 columns]"
      ]
     },
     "execution_count": 103,
     "metadata": {},
     "output_type": "execute_result"
    }
   ],
   "source": [
    "df"
   ]
  },
  {
   "cell_type": "markdown",
   "metadata": {},
   "source": [
    "Faisons la même chose avec les autres sous-pages."
   ]
  },
  {
   "cell_type": "code",
   "execution_count": 104,
   "metadata": {
    "collapsed": false
   },
   "outputs": [
    {
     "name": "stdout",
     "output_type": "stream",
     "text": [
      "url: https://www.benoithamon2017.fr/thematique/pour-un-progres-social-et-ecologique/, nombre de propositions: 66\n",
      "url: https://www.benoithamon2017.fr/thematique/pour-une-republique-bienveillante-et-humaniste/, nombre de propositions: 66\n",
      "url: https://www.benoithamon2017.fr/thematique/pour-une-france-independante-et-protectrice/, nombre de propositions: 66\n"
     ]
    }
   ],
   "source": [
    "dfs = []\n",
    "for url in ['https://www.benoithamon2017.fr/thematique/pour-un-progres-social-et-ecologique/',\n",
    "            'https://www.benoithamon2017.fr/thematique/pour-une-republique-bienveillante-et-humaniste/',\n",
    "            'https://www.benoithamon2017.fr/thematique/pour-une-france-independante-et-protectrice/']:\n",
    "    r = requests.get('https://www.benoithamon2017.fr/thematique/pour-un-progres-social-et-ecologique/')\n",
    "    soup = BeautifulSoup(r.text, 'html.parser')\n",
    "    all_propositions = soup.find_all(class_='Propositions-Proposition')\n",
    "    print('url: {}, nombre de propositions: {}'.format(url, len(all_propositions)))\n",
    "    df = pd.DataFrame([extract_data(p) for p in all_propositions], columns=['titre', 'contenu'])\n",
    "    dfs.append(df)"
   ]
  },
  {
   "cell_type": "code",
   "execution_count": 109,
   "metadata": {
    "collapsed": false
   },
   "outputs": [
    {
     "data": {
      "text/html": [
       "<div>\n",
       "<table border=\"1\" class=\"dataframe\">\n",
       "  <thead>\n",
       "    <tr style=\"text-align: right;\">\n",
       "      <th></th>\n",
       "      <th>titre</th>\n",
       "      <th>contenu</th>\n",
       "    </tr>\n",
       "  </thead>\n",
       "  <tbody>\n",
       "    <tr>\n",
       "      <th>0</th>\n",
       "      <td>Lutte contre les déserts médicaux</td>\n",
       "      <td>Je lutterai contre les déserts médicaux en ret...</td>\n",
       "    </tr>\n",
       "    <tr>\n",
       "      <th>1</th>\n",
       "      <td>Abrogation de la loi Travail</td>\n",
       "      <td>J’abrogerai immédiatement la loi Travail. Je r...</td>\n",
       "    </tr>\n",
       "    <tr>\n",
       "      <th>2</th>\n",
       "      <td>Un budget de 1% du PIB dédié à la culture</td>\n",
       "      <td>Je porterai le budget consacré au développemen...</td>\n",
       "    </tr>\n",
       "    <tr>\n",
       "      <th>3</th>\n",
       "      <td>Création d’un Revenu universel d’existence</td>\n",
       "      <td>Je mettrai en place un revenu universel d’exis...</td>\n",
       "    </tr>\n",
       "    <tr>\n",
       "      <th>4</th>\n",
       "      <td>Mise en place d’un statut social unique de l’a...</td>\n",
       "      <td>Je créerai un statut unique pour tous les acti...</td>\n",
       "    </tr>\n",
       "    <tr>\n",
       "      <th>5</th>\n",
       "      <td>Oui au travail indépendant, non à l’ubérisatio...</td>\n",
       "      <td>Je lutterai contre le salariat déguisé des ent...</td>\n",
       "    </tr>\n",
       "    <tr>\n",
       "      <th>6</th>\n",
       "      <td>Plan d’investissements dans la rénovation éner...</td>\n",
       "      <td>Je lancerai un plan massif d’investissements d...</td>\n",
       "    </tr>\n",
       "    <tr>\n",
       "      <th>7</th>\n",
       "      <td>Annulation de la dette contractée par les pays...</td>\n",
       "      <td>J’organiserai avec nos partenaires européens l...</td>\n",
       "    </tr>\n",
       "    <tr>\n",
       "      <th>8</th>\n",
       "      <td>Création d’une taxe sur les robots</td>\n",
       "      <td>Je créerai une taxe sur la richesse créée par ...</td>\n",
       "    </tr>\n",
       "    <tr>\n",
       "      <th>9</th>\n",
       "      <td>Reconnaissance d’un statut de l’artiste</td>\n",
       "      <td>Je donnerai corps à un statut de l’artiste afi...</td>\n",
       "    </tr>\n",
       "    <tr>\n",
       "      <th>10</th>\n",
       "      <td>Plus de pluralisme dans la recherche et l’ense...</td>\n",
       "      <td>Je soutiendrai la création d’une nouvelle sect...</td>\n",
       "    </tr>\n",
       "    <tr>\n",
       "      <th>11</th>\n",
       "      <td>Sanctuarisation des biens communs (air, eau, s...</td>\n",
       "      <td>Je sanctuariserai les biens communs en inscriv...</td>\n",
       "    </tr>\n",
       "    <tr>\n",
       "      <th>12</th>\n",
       "      <td>Stop aux pesticides et aux perturbateurs endoc...</td>\n",
       "      <td>J’interdirai immédiatement les pesticides dang...</td>\n",
       "    </tr>\n",
       "    <tr>\n",
       "      <th>13</th>\n",
       "      <td>Grande conférence Ecologie-Prévention-Santé</td>\n",
       "      <td>Je lancerai une grande conférence nationale Ec...</td>\n",
       "    </tr>\n",
       "    <tr>\n",
       "      <th>14</th>\n",
       "      <td>Défense de nos intérêts face au libéralisme éc...</td>\n",
       "      <td>Je suspendrai immédiatement l’application de l...</td>\n",
       "    </tr>\n",
       "    <tr>\n",
       "      <th>15</th>\n",
       "      <td>Une véritable convergence sociale européenne</td>\n",
       "      <td>Je proposerai un processus de convergence soci...</td>\n",
       "    </tr>\n",
       "    <tr>\n",
       "      <th>16</th>\n",
       "      <td>Mesures immédiates de soutien au pouvoir d’achat</td>\n",
       "      <td>Je revaloriserai immédiatement les minima soci...</td>\n",
       "    </tr>\n",
       "    <tr>\n",
       "      <th>17</th>\n",
       "      <td>Une nouvelle étape dans le partage du temps de...</td>\n",
       "      <td>Je propose d’organiser la baisse du temps de t...</td>\n",
       "    </tr>\n",
       "    <tr>\n",
       "      <th>18</th>\n",
       "      <td>Un visa humanitaire pour une protection tempor...</td>\n",
       "      <td>Je créerai un visa humanitaire. Il ouvrira aux...</td>\n",
       "    </tr>\n",
       "    <tr>\n",
       "      <th>19</th>\n",
       "      <td>Droit de mourir dans la dignité</td>\n",
       "      <td>Je créerai le droit à une aide médicale pour m...</td>\n",
       "    </tr>\n",
       "    <tr>\n",
       "      <th>20</th>\n",
       "      <td>Objectif de 50% d’énergies renouvelables dès 2025</td>\n",
       "      <td>Je créerai une aide pour permettre aux citoyen...</td>\n",
       "    </tr>\n",
       "    <tr>\n",
       "      <th>21</th>\n",
       "      <td>13 agences régionales pour un développement te...</td>\n",
       "      <td>Je créerai dans chacune des grandes régions un...</td>\n",
       "    </tr>\n",
       "    <tr>\n",
       "      <th>22</th>\n",
       "      <td>Une plus grande attention à la situation socia...</td>\n",
       "      <td>J’accorderai toute l’attention qu’elle mérite ...</td>\n",
       "    </tr>\n",
       "    <tr>\n",
       "      <th>23</th>\n",
       "      <td>Reconnaissance du burnout comme maladie profes...</td>\n",
       "      <td>Je ferai reconnaître le syndrome d’épuisement ...</td>\n",
       "    </tr>\n",
       "    <tr>\n",
       "      <th>24</th>\n",
       "      <td>Plus de centres d’accueil du planning familial</td>\n",
       "      <td>Je rouvrirai des centres d’accueil du Planning...</td>\n",
       "    </tr>\n",
       "    <tr>\n",
       "      <th>25</th>\n",
       "      <td>Renforcement de la lutte contre l’évasion fiscale</td>\n",
       "      <td>Je mettrai en place un reporting public pays p...</td>\n",
       "    </tr>\n",
       "    <tr>\n",
       "      <th>26</th>\n",
       "      <td>Facilitation de la reprise en SCOP par les sal...</td>\n",
       "      <td>Je faciliterai la reprise d’entreprises par le...</td>\n",
       "    </tr>\n",
       "    <tr>\n",
       "      <th>27</th>\n",
       "      <td>Sortie du diesel à l’horizon 2025</td>\n",
       "      <td>Je ferai sortir la France du diesel à l’horizo...</td>\n",
       "    </tr>\n",
       "    <tr>\n",
       "      <th>28</th>\n",
       "      <td>Réduction du coût du capital et des dividendes</td>\n",
       "      <td>En France, le partage des bénéfices se fait tr...</td>\n",
       "    </tr>\n",
       "    <tr>\n",
       "      <th>29</th>\n",
       "      <td>Un programme d’investissements pour développer...</td>\n",
       "      <td>Je lancerai un programme d’investissements agr...</td>\n",
       "    </tr>\n",
       "    <tr>\n",
       "      <th>...</th>\n",
       "      <td>...</td>\n",
       "      <td>...</td>\n",
       "    </tr>\n",
       "    <tr>\n",
       "      <th>36</th>\n",
       "      <td>Du temps et des moyens pour chacun de s’engager</td>\n",
       "      <td>Je développerai les modalités de partage du te...</td>\n",
       "    </tr>\n",
       "    <tr>\n",
       "      <th>37</th>\n",
       "      <td>Renforcement de la loi SRU sur le logement social</td>\n",
       "      <td>Je renforcerai les sanctions à l’encontre des ...</td>\n",
       "    </tr>\n",
       "    <tr>\n",
       "      <th>38</th>\n",
       "      <td>Une réforme fiscale pour rétablir justice et é...</td>\n",
       "      <td>Je mènerai une véritable révolution fiscale. J...</td>\n",
       "    </tr>\n",
       "    <tr>\n",
       "      <th>39</th>\n",
       "      <td>Une aide au développement à la hauteur de nos ...</td>\n",
       "      <td>Je rétablirai l’aide au développement à la hau...</td>\n",
       "    </tr>\n",
       "    <tr>\n",
       "      <th>40</th>\n",
       "      <td>Elimination des obstacles à l’intégration des ...</td>\n",
       "      <td>Je lèverai les obstacles actuels à l’intégrati...</td>\n",
       "    </tr>\n",
       "    <tr>\n",
       "      <th>41</th>\n",
       "      <td>Equité des aides à l’accès aux complémentaires...</td>\n",
       "      <td>Je porterai un droit à la santé universel, ind...</td>\n",
       "    </tr>\n",
       "    <tr>\n",
       "      <th>42</th>\n",
       "      <td>Grande conférence contre l’exclusion</td>\n",
       "      <td>Dès 2017, j’ouvrirai une grande conférence des...</td>\n",
       "    </tr>\n",
       "    <tr>\n",
       "      <th>43</th>\n",
       "      <td>Modification des règles de Dublin sur le droit...</td>\n",
       "      <td>Je mettrai fin aux règles absurdes de Dublin q...</td>\n",
       "    </tr>\n",
       "    <tr>\n",
       "      <th>44</th>\n",
       "      <td>Moratoire sur le Pacte de stabilité</td>\n",
       "      <td>Je forgerai une alliance interétatique, politi...</td>\n",
       "    </tr>\n",
       "    <tr>\n",
       "      <th>45</th>\n",
       "      <td>Un Acte II de l’Economie Sociale et Solidaire</td>\n",
       "      <td>Je lancerai un acte II de l’économie sociale e...</td>\n",
       "    </tr>\n",
       "    <tr>\n",
       "      <th>46</th>\n",
       "      <td>Un Etat stratège pour la révolution énergétique</td>\n",
       "      <td>Je redonnerai une vision stratégique à l’Etat ...</td>\n",
       "    </tr>\n",
       "    <tr>\n",
       "      <th>47</th>\n",
       "      <td>Légalisation du cannabis et prévention</td>\n",
       "      <td>Je légaliserai le cannabis et j’encadrerai sa ...</td>\n",
       "    </tr>\n",
       "    <tr>\n",
       "      <th>48</th>\n",
       "      <td>Prévention contre l’alcool et le tabac</td>\n",
       "      <td>Je mettrai l’accent sur la prévention pour réd...</td>\n",
       "    </tr>\n",
       "    <tr>\n",
       "      <th>49</th>\n",
       "      <td>Reconnaissance de l’engagement des jeunes</td>\n",
       "      <td>J’assurerai à tous les jeunes une véritable re...</td>\n",
       "    </tr>\n",
       "    <tr>\n",
       "      <th>50</th>\n",
       "      <td>Création d’un service public de la petite enfance</td>\n",
       "      <td>Je souhaite que les jeunes parents, et notamme...</td>\n",
       "    </tr>\n",
       "    <tr>\n",
       "      <th>51</th>\n",
       "      <td>Grand plan national Sport et Santé</td>\n",
       "      <td>Je propose le remboursement par la Sécurité So...</td>\n",
       "    </tr>\n",
       "    <tr>\n",
       "      <th>52</th>\n",
       "      <td>Responsabilité des dirigeants d’entreprises</td>\n",
       "      <td>Je créerai un statut des dirigeant.e.s de gran...</td>\n",
       "    </tr>\n",
       "    <tr>\n",
       "      <th>53</th>\n",
       "      <td>Reconnaissance du droit à la déconnexion pour ...</td>\n",
       "      <td>Je reconnaîtrai le droit à la déconnexion effe...</td>\n",
       "    </tr>\n",
       "    <tr>\n",
       "      <th>54</th>\n",
       "      <td>Un impôt unique sur le patrimoine net des dettes</td>\n",
       "      <td>Je créerai un impôt unique sur le patrimoine, ...</td>\n",
       "    </tr>\n",
       "    <tr>\n",
       "      <th>55</th>\n",
       "      <td>Garantie d’un meilleur accès aux données publi...</td>\n",
       "      <td>Je mènerai une politique d’open data et de tra...</td>\n",
       "    </tr>\n",
       "    <tr>\n",
       "      <th>56</th>\n",
       "      <td>Contrôle parlementaire des nominations préside...</td>\n",
       "      <td>Je développerai le contrôle parlementaire sur ...</td>\n",
       "    </tr>\n",
       "    <tr>\n",
       "      <th>57</th>\n",
       "      <td>Respect de l’égalité salariale femmes-hommes</td>\n",
       "      <td>Je renforcerai les sanctions inscrites dans la...</td>\n",
       "    </tr>\n",
       "    <tr>\n",
       "      <th>58</th>\n",
       "      <td>Une PAC verte pour accompagner la transition a...</td>\n",
       "      <td>Je négocierai au niveau européen pour qu’une p...</td>\n",
       "    </tr>\n",
       "    <tr>\n",
       "      <th>59</th>\n",
       "      <td>Priorité de l’attribution du foncier agricole ...</td>\n",
       "      <td>Je modifierai les critères de l’examen des dos...</td>\n",
       "    </tr>\n",
       "    <tr>\n",
       "      <th>60</th>\n",
       "      <td>L’autonomie alimentaire grâce aux circuits courts</td>\n",
       "      <td>Je favoriserai le développement de cultures ma...</td>\n",
       "    </tr>\n",
       "    <tr>\n",
       "      <th>61</th>\n",
       "      <td>Lancement d’un plan contre la maltraitance ani...</td>\n",
       "      <td>Je garantirai le respect des plus hautes exige...</td>\n",
       "    </tr>\n",
       "    <tr>\n",
       "      <th>62</th>\n",
       "      <td>Vers une harmonisation fiscale en Europe</td>\n",
       "      <td>Je ferai de l’harmonisation fiscale dans l’Uni...</td>\n",
       "    </tr>\n",
       "    <tr>\n",
       "      <th>63</th>\n",
       "      <td>Pour un syndicalisme renforcé</td>\n",
       "      <td>Je renforcerai l’implication des syndicats dan...</td>\n",
       "    </tr>\n",
       "    <tr>\n",
       "      <th>64</th>\n",
       "      <td>Sortie du budget de la défense des règles euro...</td>\n",
       "      <td>J’exclurai le budget de la défense du calcul d...</td>\n",
       "    </tr>\n",
       "    <tr>\n",
       "      <th>65</th>\n",
       "      <td>L’Université au coeur de la méritocratie répub...</td>\n",
       "      <td>Je remettrai l’enseignement supérieur au coeur...</td>\n",
       "    </tr>\n",
       "  </tbody>\n",
       "</table>\n",
       "<p>66 rows × 2 columns</p>\n",
       "</div>"
      ],
      "text/plain": [
       "                                                titre  \\\n",
       "0                   Lutte contre les déserts médicaux   \n",
       "1                        Abrogation de la loi Travail   \n",
       "2           Un budget de 1% du PIB dédié à la culture   \n",
       "3          Création d’un Revenu universel d’existence   \n",
       "4   Mise en place d’un statut social unique de l’a...   \n",
       "5   Oui au travail indépendant, non à l’ubérisatio...   \n",
       "6   Plan d’investissements dans la rénovation éner...   \n",
       "7   Annulation de la dette contractée par les pays...   \n",
       "8                  Création d’une taxe sur les robots   \n",
       "9             Reconnaissance d’un statut de l’artiste   \n",
       "10  Plus de pluralisme dans la recherche et l’ense...   \n",
       "11  Sanctuarisation des biens communs (air, eau, s...   \n",
       "12  Stop aux pesticides et aux perturbateurs endoc...   \n",
       "13        Grande conférence Ecologie-Prévention-Santé   \n",
       "14  Défense de nos intérêts face au libéralisme éc...   \n",
       "15       Une véritable convergence sociale européenne   \n",
       "16   Mesures immédiates de soutien au pouvoir d’achat   \n",
       "17  Une nouvelle étape dans le partage du temps de...   \n",
       "18  Un visa humanitaire pour une protection tempor...   \n",
       "19                    Droit de mourir dans la dignité   \n",
       "20  Objectif de 50% d’énergies renouvelables dès 2025   \n",
       "21  13 agences régionales pour un développement te...   \n",
       "22  Une plus grande attention à la situation socia...   \n",
       "23  Reconnaissance du burnout comme maladie profes...   \n",
       "24     Plus de centres d’accueil du planning familial   \n",
       "25  Renforcement de la lutte contre l’évasion fiscale   \n",
       "26  Facilitation de la reprise en SCOP par les sal...   \n",
       "27                  Sortie du diesel à l’horizon 2025   \n",
       "28     Réduction du coût du capital et des dividendes   \n",
       "29  Un programme d’investissements pour développer...   \n",
       "..                                                ...   \n",
       "36    Du temps et des moyens pour chacun de s’engager   \n",
       "37  Renforcement de la loi SRU sur le logement social   \n",
       "38  Une réforme fiscale pour rétablir justice et é...   \n",
       "39  Une aide au développement à la hauteur de nos ...   \n",
       "40  Elimination des obstacles à l’intégration des ...   \n",
       "41  Equité des aides à l’accès aux complémentaires...   \n",
       "42               Grande conférence contre l’exclusion   \n",
       "43  Modification des règles de Dublin sur le droit...   \n",
       "44                Moratoire sur le Pacte de stabilité   \n",
       "45      Un Acte II de l’Economie Sociale et Solidaire   \n",
       "46    Un Etat stratège pour la révolution énergétique   \n",
       "47             Légalisation du cannabis et prévention   \n",
       "48             Prévention contre l’alcool et le tabac   \n",
       "49          Reconnaissance de l’engagement des jeunes   \n",
       "50  Création d’un service public de la petite enfance   \n",
       "51                 Grand plan national Sport et Santé   \n",
       "52        Responsabilité des dirigeants d’entreprises   \n",
       "53  Reconnaissance du droit à la déconnexion pour ...   \n",
       "54   Un impôt unique sur le patrimoine net des dettes   \n",
       "55  Garantie d’un meilleur accès aux données publi...   \n",
       "56  Contrôle parlementaire des nominations préside...   \n",
       "57       Respect de l’égalité salariale femmes-hommes   \n",
       "58  Une PAC verte pour accompagner la transition a...   \n",
       "59  Priorité de l’attribution du foncier agricole ...   \n",
       "60  L’autonomie alimentaire grâce aux circuits courts   \n",
       "61  Lancement d’un plan contre la maltraitance ani...   \n",
       "62           Vers une harmonisation fiscale en Europe   \n",
       "63                      Pour un syndicalisme renforcé   \n",
       "64  Sortie du budget de la défense des règles euro...   \n",
       "65  L’Université au coeur de la méritocratie répub...   \n",
       "\n",
       "                                              contenu  \n",
       "0   Je lutterai contre les déserts médicaux en ret...  \n",
       "1   J’abrogerai immédiatement la loi Travail. Je r...  \n",
       "2   Je porterai le budget consacré au développemen...  \n",
       "3   Je mettrai en place un revenu universel d’exis...  \n",
       "4   Je créerai un statut unique pour tous les acti...  \n",
       "5   Je lutterai contre le salariat déguisé des ent...  \n",
       "6   Je lancerai un plan massif d’investissements d...  \n",
       "7   J’organiserai avec nos partenaires européens l...  \n",
       "8   Je créerai une taxe sur la richesse créée par ...  \n",
       "9   Je donnerai corps à un statut de l’artiste afi...  \n",
       "10  Je soutiendrai la création d’une nouvelle sect...  \n",
       "11  Je sanctuariserai les biens communs en inscriv...  \n",
       "12  J’interdirai immédiatement les pesticides dang...  \n",
       "13  Je lancerai une grande conférence nationale Ec...  \n",
       "14  Je suspendrai immédiatement l’application de l...  \n",
       "15  Je proposerai un processus de convergence soci...  \n",
       "16  Je revaloriserai immédiatement les minima soci...  \n",
       "17  Je propose d’organiser la baisse du temps de t...  \n",
       "18  Je créerai un visa humanitaire. Il ouvrira aux...  \n",
       "19  Je créerai le droit à une aide médicale pour m...  \n",
       "20  Je créerai une aide pour permettre aux citoyen...  \n",
       "21  Je créerai dans chacune des grandes régions un...  \n",
       "22  J’accorderai toute l’attention qu’elle mérite ...  \n",
       "23  Je ferai reconnaître le syndrome d’épuisement ...  \n",
       "24  Je rouvrirai des centres d’accueil du Planning...  \n",
       "25  Je mettrai en place un reporting public pays p...  \n",
       "26  Je faciliterai la reprise d’entreprises par le...  \n",
       "27  Je ferai sortir la France du diesel à l’horizo...  \n",
       "28  En France, le partage des bénéfices se fait tr...  \n",
       "29  Je lancerai un programme d’investissements agr...  \n",
       "..                                                ...  \n",
       "36  Je développerai les modalités de partage du te...  \n",
       "37  Je renforcerai les sanctions à l’encontre des ...  \n",
       "38  Je mènerai une véritable révolution fiscale. J...  \n",
       "39  Je rétablirai l’aide au développement à la hau...  \n",
       "40  Je lèverai les obstacles actuels à l’intégrati...  \n",
       "41  Je porterai un droit à la santé universel, ind...  \n",
       "42  Dès 2017, j’ouvrirai une grande conférence des...  \n",
       "43  Je mettrai fin aux règles absurdes de Dublin q...  \n",
       "44  Je forgerai une alliance interétatique, politi...  \n",
       "45  Je lancerai un acte II de l’économie sociale e...  \n",
       "46  Je redonnerai une vision stratégique à l’Etat ...  \n",
       "47  Je légaliserai le cannabis et j’encadrerai sa ...  \n",
       "48  Je mettrai l’accent sur la prévention pour réd...  \n",
       "49  J’assurerai à tous les jeunes une véritable re...  \n",
       "50  Je souhaite que les jeunes parents, et notamme...  \n",
       "51  Je propose le remboursement par la Sécurité So...  \n",
       "52  Je créerai un statut des dirigeant.e.s de gran...  \n",
       "53  Je reconnaîtrai le droit à la déconnexion effe...  \n",
       "54  Je créerai un impôt unique sur le patrimoine, ...  \n",
       "55  Je mènerai une politique d’open data et de tra...  \n",
       "56  Je développerai le contrôle parlementaire sur ...  \n",
       "57  Je renforcerai les sanctions inscrites dans la...  \n",
       "58  Je négocierai au niveau européen pour qu’une p...  \n",
       "59  Je modifierai les critères de l’examen des dos...  \n",
       "60  Je favoriserai le développement de cultures ma...  \n",
       "61  Je garantirai le respect des plus hautes exige...  \n",
       "62  Je ferai de l’harmonisation fiscale dans l’Uni...  \n",
       "63  Je renforcerai l’implication des syndicats dan...  \n",
       "64  J’exclurai le budget de la défense du calcul d...  \n",
       "65  Je remettrai l’enseignement supérieur au coeur...  \n",
       "\n",
       "[66 rows x 2 columns]"
      ]
     },
     "execution_count": 109,
     "metadata": {},
     "output_type": "execute_result"
    }
   ],
   "source": [
    "df = pd.concat(dfs).drop_duplicates().reset_index(drop=True)\n",
    "df"
   ]
  },
  {
   "cell_type": "code",
   "execution_count": 110,
   "metadata": {
    "collapsed": true
   },
   "outputs": [],
   "source": [
    "df.to_csv('projets/benoit_hamon.csv')"
   ]
  },
  {
   "cell_type": "markdown",
   "metadata": {},
   "source": [
    "# Jean-Luc Mélenchon "
   ]
  },
  {
   "cell_type": "markdown",
   "metadata": {},
   "source": [
    "On peut trouver une version inofficielle du programme ici : https://laec.fr/sommaire"
   ]
  },
  {
   "cell_type": "markdown",
   "metadata": {},
   "source": [
    "Un peu comme pour le site d'Hamon, il y a des rubriques. Commençons par la première."
   ]
  },
  {
   "cell_type": "code",
   "execution_count": 361,
   "metadata": {
    "collapsed": true
   },
   "outputs": [],
   "source": [
    "r = requests.get('https://laec.fr/chapitre/1/la-6e-republique')"
   ]
  },
  {
   "cell_type": "code",
   "execution_count": 362,
   "metadata": {
    "collapsed": true
   },
   "outputs": [],
   "source": [
    "soup = BeautifulSoup(r.text, 'html.parser')"
   ]
  },
  {
   "cell_type": "code",
   "execution_count": 363,
   "metadata": {
    "collapsed": false
   },
   "outputs": [],
   "source": [
    "sublinks = soup.find_all('a', class_='list-group-item')"
   ]
  },
  {
   "cell_type": "code",
   "execution_count": 364,
   "metadata": {
    "collapsed": false
   },
   "outputs": [
    {
     "data": {
      "text/plain": [
       "[<a class=\"list-group-item toc-section toc-chapter-la-6e-republique\" href=\"/section/1/reunir-une-assemblee-constituante\"><span class=\"label label-default\">1</span> Réunir une Assemblée constituante </a>,\n",
       " <a class=\"list-group-item toc-section toc-chapter-la-6e-republique\" href=\"/section/2/balayer-l-oligarchie-abolir-les-privileges-de-la-caste\"><span class=\"label label-default\">2</span> Balayer l'oligarchie, abolir les privilèges de la caste </a>,\n",
       " <a class=\"list-group-item toc-section toc-chapter-la-6e-republique\" href=\"/section/3/une-republique-permettant-l-intervention-populaire\"><span class=\"label label-default\">3</span> Une République permettant l'intervention populaire </a>,\n",
       " <a class=\"list-group-item toc-section toc-chapter-la-6e-republique\" href=\"/section/4/abolir-la-monarchie-presidentielle\"><span class=\"label label-default\">4</span> Abolir la monarchie présidentielle </a>,\n",
       " <a class=\"list-group-item toc-section toc-chapter-la-6e-republique\" href=\"/section/5/une-nouvelle-etape-des-libertes-et-de-l-emancipation-personnelles\"><span class=\"label label-default\">5</span> Une nouvelle étape des libertés et de l'émancipation personnelles </a>,\n",
       " <a class=\"list-group-item toc-section toc-chapter-la-6e-republique\" href=\"/section/6/une-republique-universelle\"><span class=\"label label-default\">6</span> Une République universelle </a>,\n",
       " <a class=\"list-group-item toc-section toc-chapter-la-6e-republique\" href=\"/section/7/une-republique-laique\"><span class=\"label label-default\">7</span> Une République laïque </a>,\n",
       " <a class=\"list-group-item toc-section toc-chapter-la-6e-republique\" href=\"/section/8/la-revolution-citoyenne-dans-les-medias\"><span class=\"label label-default\">8</span> La révolution citoyenne dans les médias </a>,\n",
       " <a class=\"list-group-item toc-section toc-chapter-la-6e-republique\" href=\"/section/9/la-republique-garante-des-biens-communs\"><span class=\"label label-default\">9</span> La République garante des biens communs </a>,\n",
       " <a class=\"list-group-item toc-section toc-chapter-la-6e-republique\" href=\"/section/10/reconnaitre-la-citoyennete-dans-l-entreprise-et-des-droits-nouveaux-aux-salaries\"><span class=\"label label-default\">10</span> Reconnaître la citoyenneté dans l'entreprise et des droits nouveaux aux salariés </a>,\n",
       " <a class=\"list-group-item toc-section toc-chapter-la-6e-republique\" href=\"/section/11/une-justice-au-nom-du-peuple\"><span class=\"label label-default\">11</span> Une justice au nom du peuple </a>,\n",
       " <a class=\"list-group-item toc-section toc-chapter-la-6e-republique\" href=\"/section/12/une-politique-antiterroriste-rationnelle\"><span class=\"label label-default\">12</span> Une politique antiterroriste rationnelle </a>,\n",
       " <a class=\"list-group-item toc-section toc-chapter-la-6e-republique\" href=\"/section/13/garantir-la-securite-et-la-surete\"><span class=\"label label-default\">13</span> Garantir la sécurité et la sûreté </a>,\n",
       " <a class=\"list-group-item toc-section toc-chapter-la-6e-republique\" href=\"/section/14/la-jeunesse-au-service-de-l-interet-general-et-de-la-surete-de-la-nation\"><span class=\"label label-default\">14</span> La jeunesse au service de l'intérêt général et de la sûreté de la Nation </a>,\n",
       " <a class=\"list-group-item toc-section toc-chapter-la-6e-republique\" href=\"/section/15/l-egalite-reelle-pour-les-outre-mer\"><span class=\"label label-default\">15</span> L'égalité réelle pour les Outre-mer </a>]"
      ]
     },
     "execution_count": 364,
     "metadata": {},
     "output_type": "execute_result"
    }
   ],
   "source": [
    "sublinks"
   ]
  },
  {
   "cell_type": "markdown",
   "metadata": {},
   "source": [
    "On peut étendre cette manière de récupérer les données à toutes les sous-sections :"
   ]
  },
  {
   "cell_type": "code",
   "execution_count": 365,
   "metadata": {
    "collapsed": true
   },
   "outputs": [],
   "source": [
    "suburls = ['https://laec.fr/chapitre/1/la-6e-republique', \n",
    "           'https://laec.fr/chapitre/2/proteger-et-partager',\n",
    "           'https://laec.fr/chapitre/3/la-planification-ecologique',\n",
    "           'https://laec.fr/chapitre/4/sortir-des-traites-europeens',\n",
    "           'https://laec.fr/chapitre/5/pour-l-independance-de-la-france',\n",
    "           'https://laec.fr/chapitre/6/le-progres-humain-d-abord',\n",
    "           'https://laec.fr/chapitre/7/la-france-aux-frontieres-de-l-humanite']"
   ]
  },
  {
   "cell_type": "code",
   "execution_count": 366,
   "metadata": {
    "collapsed": true
   },
   "outputs": [],
   "source": [
    "sublinks = []\n",
    "for suburl in suburls:\n",
    "    r = requests.get(suburl)\n",
    "    soup = BeautifulSoup(r.text, 'html.parser')\n",
    "    sublinks.extend(soup.find_all('a', class_='list-group-item'))"
   ]
  },
  {
   "cell_type": "code",
   "execution_count": 367,
   "metadata": {
    "collapsed": false
   },
   "outputs": [
    {
     "data": {
      "text/plain": [
       "[<a class=\"list-group-item toc-section toc-chapter-la-6e-republique\" href=\"/section/1/reunir-une-assemblee-constituante\"><span class=\"label label-default\">1</span> Réunir une Assemblée constituante </a>,\n",
       " <a class=\"list-group-item toc-section toc-chapter-la-6e-republique\" href=\"/section/2/balayer-l-oligarchie-abolir-les-privileges-de-la-caste\"><span class=\"label label-default\">2</span> Balayer l'oligarchie, abolir les privilèges de la caste </a>,\n",
       " <a class=\"list-group-item toc-section toc-chapter-la-6e-republique\" href=\"/section/3/une-republique-permettant-l-intervention-populaire\"><span class=\"label label-default\">3</span> Une République permettant l'intervention populaire </a>,\n",
       " <a class=\"list-group-item toc-section toc-chapter-la-6e-republique\" href=\"/section/4/abolir-la-monarchie-presidentielle\"><span class=\"label label-default\">4</span> Abolir la monarchie présidentielle </a>,\n",
       " <a class=\"list-group-item toc-section toc-chapter-la-6e-republique\" href=\"/section/5/une-nouvelle-etape-des-libertes-et-de-l-emancipation-personnelles\"><span class=\"label label-default\">5</span> Une nouvelle étape des libertés et de l'émancipation personnelles </a>,\n",
       " <a class=\"list-group-item toc-section toc-chapter-la-6e-republique\" href=\"/section/6/une-republique-universelle\"><span class=\"label label-default\">6</span> Une République universelle </a>,\n",
       " <a class=\"list-group-item toc-section toc-chapter-la-6e-republique\" href=\"/section/7/une-republique-laique\"><span class=\"label label-default\">7</span> Une République laïque </a>,\n",
       " <a class=\"list-group-item toc-section toc-chapter-la-6e-republique\" href=\"/section/8/la-revolution-citoyenne-dans-les-medias\"><span class=\"label label-default\">8</span> La révolution citoyenne dans les médias </a>,\n",
       " <a class=\"list-group-item toc-section toc-chapter-la-6e-republique\" href=\"/section/9/la-republique-garante-des-biens-communs\"><span class=\"label label-default\">9</span> La République garante des biens communs </a>,\n",
       " <a class=\"list-group-item toc-section toc-chapter-la-6e-republique\" href=\"/section/10/reconnaitre-la-citoyennete-dans-l-entreprise-et-des-droits-nouveaux-aux-salaries\"><span class=\"label label-default\">10</span> Reconnaître la citoyenneté dans l'entreprise et des droits nouveaux aux salariés </a>]"
      ]
     },
     "execution_count": 367,
     "metadata": {},
     "output_type": "execute_result"
    }
   ],
   "source": [
    "sublinks[:10]"
   ]
  },
  {
   "cell_type": "markdown",
   "metadata": {},
   "source": [
    "Combien de propositions trouvons-nous ?"
   ]
  },
  {
   "cell_type": "code",
   "execution_count": 368,
   "metadata": {
    "collapsed": false
   },
   "outputs": [
    {
     "data": {
      "text/plain": [
       "83"
      ]
     },
     "execution_count": 368,
     "metadata": {},
     "output_type": "execute_result"
    }
   ],
   "source": [
    "len(sublinks)"
   ]
  },
  {
   "cell_type": "markdown",
   "metadata": {},
   "source": [
    "Maintenant regardons comment extraire les informations."
   ]
  },
  {
   "cell_type": "code",
   "execution_count": 369,
   "metadata": {
    "collapsed": true
   },
   "outputs": [],
   "source": [
    "link = sublinks[0]"
   ]
  },
  {
   "cell_type": "code",
   "execution_count": 370,
   "metadata": {
    "collapsed": false
   },
   "outputs": [
    {
     "data": {
      "text/plain": [
       "<a class=\"list-group-item toc-section toc-chapter-la-6e-republique\" href=\"/section/1/reunir-une-assemblee-constituante\"><span class=\"label label-default\">1</span> Réunir une Assemblée constituante </a>"
      ]
     },
     "execution_count": 370,
     "metadata": {},
     "output_type": "execute_result"
    }
   ],
   "source": [
    "link"
   ]
  },
  {
   "cell_type": "code",
   "execution_count": 371,
   "metadata": {
    "collapsed": false
   },
   "outputs": [
    {
     "data": {
      "text/plain": [
       "'https://laec.fr/section/1/reunir-une-assemblee-constituante'"
      ]
     },
     "execution_count": 371,
     "metadata": {},
     "output_type": "execute_result"
    }
   ],
   "source": [
    "full_url = 'https://laec.fr' + link.attrs['href']\n",
    "full_url"
   ]
  },
  {
   "cell_type": "code",
   "execution_count": 372,
   "metadata": {
    "collapsed": false
   },
   "outputs": [],
   "source": [
    "r = requests.get(full_url)"
   ]
  },
  {
   "cell_type": "code",
   "execution_count": 373,
   "metadata": {
    "collapsed": false
   },
   "outputs": [
    {
     "data": {
      "text/plain": [
       "'<!DOCTYPE html>\\n<html lang=\"fr\" class=\"page no-js not-logged-in theme-frontend theme-chapter-la-6e-republique page-section page-section-1\">\\n<!--\\n\\n\\n░░░░░░░░░░░░░░░░░░░░░░░░░░░░░░░░░\\n░░░█░░░█▀█░█▀▀░█▀▀░░░░█▀▀░█▀▄░░░░\\n░░░█░░░█▀█░█▀▀░█░░░░░░█▀▀░█▀▄░░░░\\n░░░▀▀▀░▀░▀░▀▀▀░▀▀▀░▀░░▀░░░▀░▀░░░░\\n░░░░░░░░░░░░░░░░░░░░░░░░░░░░░░░░░\\n+===== L\\'Avenir En Commun ======+\\n\\n-->\\n  <head>\\n    <!-- Classe .js/.no-js https://www.paulirish.com/2009/avoiding-the-fouc-v3/ -->\\n    <script>(function(H){H.className=H.className.replace(/\\\\bno-js\\\\b/,\\'js\\')})(document.documentElement)</script>\\n    \\n    <meta charset=\"UTF-8\">\\n    <meta name=\"viewport\" content=\"width=device-width, initial-scale=1, shrink-to-fit=no\">\\n\\n    <title>Réunir une Assemblée constituante</title>\\n    <meta name=\"description\" content=\"La nouvelle Constitution dont la France a besoin doit être radicalement nouvelle, y compris dans sa méthode d&#039;écriture\\xa0: elle ne peut être un simple rafistolage de la 5e République,…\"/>\\n\\n    <!-- Icônes et autres -->\\n    <link rel=\"icon\" type=\"image/x-icon\"     href=\"/favicon.ico\" />\\n    <link rel=\"apple-touch-icon-precomposed\" href=\"/img/application/favicon-152.png\">\\n    <meta name=\"msapplication-TileColor\"     content=\"#FFFFFF\">\\n    <meta name=\"msapplication-TileImage\"     content=\"/img/application/favicon-144.png\">\\n    <meta name=\"msapplication-tooltip\"       content=\"L&#039;Avenir En Commun, le programme de Jean-Luc Mélenchon en ligne\">\\n    <meta name=\"msapplication-config\"        content=\"/misc/ieconfig.xml\">\\n    <meta name=\"application-name\"            content=\"LAEC.fr\"/>\\n\\n    <!-- Opensearch -->\\n    <link rel=\"search\" type=\"application/opensearchdescription+xml\" title=\"LAEC.fr\" href=\"/opensearch.xml\">\\n\\n    <!-- Microdonnées JSON-LD -->\\n    <script type=\"application/ld+json\">\\n      {\\n        \"@context\"        : \"http://schema.org\",\\n        \"@type\"           : \"WebSite\",\\n        \"url\"             : \"https://laec.fr/\",\\n        \"potentialAction\" : {\\n          \"@type\": \"SearchAction\",\\n          \"target\": \"https://laec.fr/recherche?termes={searchTerms}\",\\n          \"query-input\": \"required name=searchTerms\"\\n        }\\n      }\\n    </script>\\n\\n    \\n    <!-- Meta social -->\\n    <meta property=\"og:site_name\"    content=\"LAEC.fr\">\\n    <meta property=\"og:locale\"       content=\"fr_FR\">\\n    <meta property=\"og:type\"         content=\"article\">\\n    <meta property=\"og:title\"        content=\"Réunir une Assemblée constituante\">\\n    <meta property=\"og:description\"  content=\"La nouvelle Constitution dont la France a besoin doit être radicalement nouvelle, y compris dans sa méthode d&#039;écriture\\xa0: elle ne peut être un simple rafistolage de la 5e République,…\">\\n    <meta property=\"og:image\"        content=\"https://laec.fr/img/social/section-1-reunir-une-assemblee-constituante.jpg\">\\n    <meta property=\"og:image:width\"  content=\"1920\">\\n    <meta property=\"og:image:height\" content=\"1008\">\\n    <meta property=\"og:url\"          content=\"https://laec.fr/section/1/reunir-une-assemblee-constituante\">\\n    <meta property=\"fb:app_id\"       content=\"1355110887844718\">\\n    <meta name=\"twitter:card\"        content=\"summary_large_image\">\\n    <meta name=\"twitter:site\"        content=\"@LAEC_fr\">\\n\\n    \\n    \\n    <!-- Navigation -->\\n    <link rel=\"next\" href=\"https://laec.fr/section/2/balayer-l-oligarchie-abolir-les-privileges-de-la-caste\">\\n    <link rel=\"contents\" href=\"https://laec.fr/chapitre/1/la-6e-republique\">\\n    <link rel=\"start\" href=\"https://laec.fr/\">\\n      \\n    <link rel=\"canonical\" href=\"https://laec.fr/section/1/reunir-une-assemblee-constituante\">\\n\\n    <!-- Feuilles de styles -->\\n    <link rel=\"stylesheet\" href=\"/css/app.css?damperate\" />\\n    \\n    <!--[if lt IE 9]>\\n      <script src=\"/js/static/ie-html5shiv-respond.min.js\"></script>\\n    <![endif]-->\\n  </head>\\n\\n<body id=\"body\"><div class=\"visible-print-block text-center print-logotype\" aria-hidden=\"true\"><img src=\"/img/logotype/livre-phi-laec-fr-mention-impression.svg\" style=\"max-height: 70px; width: auto;\" alt=\"Logotype l\\'avenir en commun\" data-no-svg-src=\"/img/logotype/livre-phi-laec-fr-mention-impression.png\"/><hr><small>Le programme de la France insoumise et de son candidat <strong>Jean-Luc Mélenchon</strong></small></div><nav class=\"navbar navbar-default navbar-fixed-top\" role=\"navigation\"><div class=\"container\"><div class=\"navbar-header\"><button type=\"button\" class=\"navbar-toggle collapsed\" data-toggle=\"collapse\" data-target=\"#navbar\" aria-expanded=\"false\" aria-controls=\"navbar\"><span class=\"sr-only\">Afficher la navigation</span><i class=\"fa fa-fw fa-navicon\" aria-hidden=\"true\"></i></button><a class=\"navbar-brand\" accesskey=\"1\" title=\"L&#039;Avenir En Commun, le programme de la France insoumise et de son candidat Jean-Luc Mélenchon\" rel=\"home\" data-load-display href=\"https://laec.fr/\"><img src=\"/img/logotype/laec-fr-couleur-marge-interne.svg\" style=\"max-height: 70px;\" data-no-svg-src=\"/img/logotype/laec-fr-couleur-marge-interne.png\" alt=\"Logotype «\\xa0l\\'avenir en commun\\xa0»\"><span class=\"sr-only\">L\\'avenir en commun</span></a></div><div id=\"navbar\" class=\"navbar-collapse collapse\"><ul class=\"nav navbar-nav\"><li><a title=\"Qu\\'est-ce que LAEC.fr\\xa0? Qui s\\'en occupe\\xa0?\" href=\"/#a-propos\"><i class=\"fa fa-fw fa-info-circle\" aria-hidden=\"true\"></i><span class=\"hidden-sm\"> À propos</span></a></li><li><a title=\"Sommaire complet du programme\" data-load-display href=\"/sommaire\"><i class=\"fa fa-fw fa-list-ul\" aria-hidden=\"true\"></i><span class=\"hidden-sm\"> Table des matières</span><span class=\"visible-sm-inline\"> Sommaire</span></a></li></ul><ul class=\"nav navbar-nav navbar-right\"><li><a href=\"/compte/connexion\" data-login-toggle=\"Menu principal\" title=\"Se connecter ou s\\'inscrire sur le site\"><span class=\"visible-lg-inline\">Connexion</span><i class=\"fa fa-fw fa-sign-in\" aria-hidden=\"true\"></i><span class=\"visible-xs-inline\" aria-hidden=\"true\">Connexion</span></a></li></ul><form action=\"/recherche\" class=\"navbar-form navbar-right navbar-searchbox-form form-total-loading\"><div class=\"input-group\"><input type=\"text\" id=\"searchbox\" name=\"termes\" autocomplete=\"off\" class=\"form-control\" placeholder=\"Ex: Partage, écologie…\"><span class=\"input-group-btn\"><button type=\"submit\" class=\"btn btn-default\"><span class=\"sr-only\">Rechercher</span><i class=\"fa fa-fw fa-search\" aria-hidden=\"true\"></i></button></span></div></form></div></div><div class=\"flash-group\"></div></nav><div class=\"jumbotron\" aria-hidden=\"true\"><div class=\"container\"><h1><span class=\"number\">1</span><span class=\"alternate\">L&#039;urgence démocratique</span><b class=\"text-balance\">Réunir une Assemblée constituante</b></h1><p class=\"sidelines\"><i class=\"fa fa-institution\"></i></p><a rel=\"contents\" data-load-display href=\"/chapitre/1/la-6e-republique\"><i class=\"fa fa-fw fa-arrow-left\"></i><span class=\"hidden-xs\"> Index du chapitre</span></a></div></div><div class=\"wrap-container-main\"><div class=\"container container-main\"><noscript class=\"visible-no-js small text-muted\"><i class=\"fa fa-fw fa-info-circle\" aria-hidden=\"true\"></i> Je n\\'ai pas activé le javascript, <a href=\"/page/le-javascript-c-est-non\" title=\"Informations sur les fonctionnalités de LAEC.fr nécessitant l\\'utilisation de javascript\">qu\\'est-ce que je manque</a>\\xa0?</noscript><div class=\"row\"><aside class=\"col-md-4 col-md-push-8 aside-content-container\"><a href=\"#contenu\" id=\"scroll-to-contents\" class=\"visible-xs-block visible-sm-block\" data-do-scroll-to=\"300\">Aller au texte</a><ul role=\"navigation\" id=\"side-navigation\"><li><a title=\"Consulter une section du programme au hasard\" data-load-display href=\"/hasard\"><i class=\"fa fa-fw fa-random\" aria-hidden=\"true\"></i> Au hasard !</a></li><li class=\"heading\"><span><i class=\"fa fa-fw fa-laec\" aria-hidden=\"true\"></i> Plan du livre</span></li><li><label>Section suivante</label><a href=\"/section/2/balayer-l-oligarchie-abolir-les-privileges-de-la-caste\" rel=\"next\" title=\"Section suivante\" data-load-display><i class=\"fa fa-fw fa-arrow-right\" aria-hidden=\"true\"></i>2. Balayer l&#039;oligarchie, abolir les privilèges de la caste</a></li><li><label>Préface du chapitre</label><a href=\"/chapitre/1/la-6e-republique\" rel=\"contents\" title=\"Préface du chapitre\" data-load-display><i class=\"fa fa-fw fa-arrow-left\" aria-hidden=\"true\"></i><span class=\"alternate\">L&#039;urgence démocratique</span><br>La 6e République</a></li><li class=\"heading\"><a href=\"#addenda-main\" data-do-scroll-to=\"400\"><i class=\"fa fa-fw fa-thumb-tack\" aria-hidden=\"true\"></i>\\n    Pour aller plus loin…\\n  </a></li><li><a href=\"#addendum-main-1\" data-do-scroll-to=\"500\"><i class=\"fa fa-fw fa-graduation-cap\" aria-hidden=\"true\"></i> La constituante\\xa0: mode d&#039;emploi</a></li><li class=\"heading js-only\"><a href=\"#discussion\" data-do-scroll-to=\"700\"><i class=\"fa fa-fw  fa-comments-o\" aria-hidden=\"true\"></i> Discussion</a></li></ul></aside><article class=\"col-md-8 col-md-pull-4 main-content-container\" id=\"contenu\" role=\"main\"><section class=\"actions actions-s\"><div class=\"btn-toolbar\" role=\"toolbar\" aria-label=\"Actions disponibles pour cette section\"><div class=\"btn-group\"><a class=\"btn btn-default btn-bookmark\" title=\"Ajoutez cette section à vos favoris\\xa0!\" data-login-toggle=\"Favori\" href=\"#\"><i class=\"fa fa-fw fa-heart-o\" aria-hidden=\"true\"></i><span class=\"sr-only\">Favori</span></a></div><div class=\"btn-group\"><button title=\"Lien direct vers la section et boutons de partage sur les réseaux sociaux\" class=\"btn btn-default share-collapser\" data-target=\"#panel-s-share-1\" aria-controls=\"panel-s-share-1\" aria-expanded=\"false\" data-toggle=\"collapse\"><i class=\"fa fa-fw fa-share-alt\"></i>&nbsp;<span class=\"visible-lg-inline\">Partager</span></button><button title=\"À propos du livre papier…\" class=\"btn btn-default pageref-collapser\" data-target=\"#panel-s-pageref-1\" aria-controls=\"panel-s-pageref-1\" aria-expanded=\"false\" data-toggle=\"collapse\"><i class=\"fa fa-fw fa-bookmark\"></i>&nbsp;<span class=\"visible-lg-inline\">Page <strong>23</strong></span></button><a class=\"btn btn-default btn-bookmark\" title=\"Voir ou modifier vos notes sur cette section\" data-login-toggle=\"Annoter\" href=\"#\"><i class=\"fa fa-fw fa-pencil\" aria-hidden=\"true\"></i><span class=\"visible-lg-inline\">Annoter</span></a></div><div class=\"btn-group\"><button title=\"Version audio de la page courante\" class=\"btn btn-default audiobook-collapser\" data-target=\"#panel-s-audiobook-1\" aria-controls=\"panel-s-audiobook-1\" aria-expanded=\"false\" data-toggle=\"collapse\"><i class=\"fa fa-fw fa-volume-up\"></i>&nbsp;<span class=\"visible-lg-inline\">Écouter</span></button></div><div class=\"btn-group pull-right js-only\"><a class=\"btn btn-default btn-bookmark hidden-xs\" title=\"Rejoindre la discussion sur cette section\" data-do-scroll-to=\"700\" href=\"#discussion\"><i class=\"fa fa-fw fa-comments-o\" aria-hidden=\"true\"></i>&nbsp;<span class=\"visible-lg-inline\">Discuter</span></a></div></div><div class=\"collapse collapsable share-collapsable\" id=\"panel-s-share-1\"><div class=\"panel-wrap\"><div class=\"panel panel-default\"><div class=\"panel-heading\">Faites tourner cette section\\xa0!</div><div class=\"panel-body\"><div class=\"row\"><div class=\"col-md-5\"><label for=\"share-control-s-1\"><i class=\"fa fa-fw fa-link\" aria-hidden=\"true\"></i>Lien court direct</label><div class=\"form\"><div class=\"form-group\"><div class=\"input-group\"><div class=\"input-group-addon\"><i class=\"fa fa-fw fa-anchor\" aria-hidden=\"true\"></i></div><input type=\"text\" id=\"share-control-s-1\" class=\"form-control share-control\" readonly=\"readonly\" value=\"https://laec.fr/s1\" autofocus></div></div></div></div><div class=\"col-md-7\"><label><i class=\"fa fa-fw fa-share\" aria-hidden=\"true\"></i>Réseaux sociaux</label><nav class=\"btn-group networks\" role=\"group\"><a data-popup-dimensions=\"560,430\" href=\"https://www.facebook.com/sharer/sharer.php?u=https%3A%2F%2Flaec.fr%2Fs1\" class=\"btn btn-default share-link\" data-network=\"Facebook\" title=\"Partager cette section sur Facebook\"><span class=\"visible-lg-inline visible-sm-inline\">Facebook </span><i class=\"fa fa-fw fa-facebook\"></i></a><a data-popup-dimensions=\"430,284\" href=\"https://twitter.com/home?status=%C3%80%20lire%20absolument%C2%A0%3A%20https%3A%2F%2Flaec.fr%2Fs1%20%F0%9F%98%8E%20%23AvenirEnCommun%20%23M%C3%A9lenchon%20%23JLM2017\" class=\"btn btn-default share-link\" data-network=\"Twitter\" title=\"Partager cette section sur twitter\"><span class=\"visible-lg-inline visible-sm-inline\">Twitter </span><i class=\"fa fa-fw fa-twitter\"></i></a><a data-popup-dimensions=\"400,415\" href=\"https://plus.google.com/share?url=https%3A%2F%2Flaec.fr%2Fs1\" class=\"btn btn-default share-link\" data-network=\"Google+\" title=\"Partager cette section sur Google+\"><span class=\"visible-lg-inline visible-sm-inline\">Google+ </span><i class=\"fa fa-fw fa-google-plus\"></i></a></nav></div></div></div></div></div></div><div class=\"collapse collapsable pageref-collapsable\" id=\"panel-s-pageref-1\"><div class=\"panel-wrap\"><div class=\"panel panel-default\"><div class=\"panel-heading\">L&#039;Avenir en commun</div><div class=\"panel-body\"><div class=\"row\"><div class=\"col-sm-2 col-sm-push-10 hidden-xs\"><img src=\"/img/livre/miniature-couverture-avenir-en-commun-france-insoumise-melenchon.png\" alt=\"Couverture du livre-programme aux publié aux éditions du Seuil\" class=\"img-responsive img-thumbnail\"/></div><div class=\"col-sm-10 col-sm-pull-2\"><p>Retrouvez ce passage à la <strong>page 23</strong>* du livre-programme de la France insoumise et de son candidat Jean-Luc Mélenchon, publié aux <a href=\"http://www.seuil.com/ouvrage/l-avenir-en-commun-jean-luc-melenchon/9782021317510\" class=\"external\" title=\"Le programme sur le site officiel des éditions du Seuil\">éditions du Seuil</a> et trouvable dans toutes les librairies au prix de <strong>3\\xa0€</strong>.</p><p>Vous pouvez également le commander en plusieurs exemplaires sur la <a href=\"https://materiel.jlm2017.fr/categorie-produit/kit-volontaire/\" class=\"external\" title=\"Commande de livres, matériels, etc.\">boutique officielle du site de campagne</a>.</p><p>Vous pouvez aussi l\\'obtenir dans des magasins en lignes tels qu\\'<a href=\"https://www.amazon.fr/programme-insoumise-candidat-Jean-Luc-M%C3%A9lenchon/dp/202131751X/\" class=\"external\">Amazon</a> ou la <a href=\"http://livre.fnac.com/a9371063/Jean-Luc-Melenchon-L-avenir-en-commun\" class=\"external\">Fnac</a>.</p><p class=\"text-muted small\">* dans l\\'édition de <strong>décembre 2016</strong>, ISBN\\xa0: <strong>978-2-02-131751-0</strong></p></div></div></div></div></div></div><div class=\"collapse collapsable audiobook-collapsable\" id=\"panel-s-audiobook-1\"><div class=\"panel-wrap\"><div class=\"panel panel-default\"><div class=\"panel-heading\">Lecture audio</div><div class=\"panel-body\"><p class=\"text-muted small\">Texte lu par <strong>Jean-David</strong><span class=\"hidden-xs\">, merci à lui\\xa0!</span></p><audio class=\"audiobook\" controls tabindex=\"0\" preload=\"auto\"><source type=\"audio/mpeg\" src=\"/audio/programme/1-01-reunir-une-assemblee-constituante.mp3\"><source type=\"audio/ogg\" src=\"/audio/programme/1-01-reunir-une-assemblee-constituante.ogg\">      Votre navigateur ne supporte pas l\\'inclusion de fichiers audio. <a href=\"/audio/programme/1-01-reunir-une-assemblee-constituante.mp3\" title=\"Téléchargement du fichier sonore\">Cliquez ici pour récupérer le fichier sonore</a></audio></div></div></div></div></section><hr><div class=\"semi-lead subject-foreword\"><p>La nouvelle Constitution dont la France a besoin doit être radicalement nouvelle, y compris dans sa méthode d\\'écriture\\xa0: elle ne peut être un simple rafistolage de la 5e République, ni se résumer à quelques réformes octroyées par le futur président de la République. C\\'est le peuple lui-même qui doit s\\'emparer de la question et s\\'impliquer tout au long d\\'un processus constituant. Nous proposons la convocation d\\'une assemblée spécifiquement chargée de rédiger une nouvelle Constitution sous le contrôle des citoyens\\xa0: une Assemblée constituante. Nous soumettrons à ses travaux des propositions pour une 6e République démocratique, égalitaire, instituant de nouveaux droits et imposant l\\'impératif écologique.</p></div><section class=\"section-measures\"><header><p>Nous proposons de réaliser les mesures suivantes\\xa0:</p></header><nav class=\"list-measures list-group\"><li id=\"mesure-1\" class=\"list-group-item\" data-measure-seq=\"1\" data-target=\"#modal-measure-1\"><i class=\"fa fa-pull-right fa-heart icon-bookmarked hidden\" aria-hidden=\"true\" title=\"Dans vos favoris\\xa0!\"></i><p>Convoquer un référendum (article 11 de la Constitution) pour engager le processus constituant (modalités de la composition de l\\'Assemblée constituante\\xa0— mode de scrutin, parité, tirage au sort et incompatibilités\\xa0; modalités de la délibération\\xa0; association des citoyens aux travaux…)</p></li><li id=\"mesure-2\" class=\"list-group-item\" data-measure-seq=\"2\" data-target=\"#modal-measure-2\"><i class=\"fa fa-pull-right fa-heart icon-bookmarked hidden\" aria-hidden=\"true\" title=\"Dans vos favoris\\xa0!\"></i><p>Aucun parlementaire des anciennes assemblées de la 5e République ne pourra siéger dans cette Assemblée constituante. Les délégués à l\\'Assemblée constituante ne pourront être candidats aux élections suivant l\\'entrée en vigueur de la nouvelle Constitution</p></li><li id=\"mesure-3\" class=\"list-group-item\" data-measure-seq=\"3\" data-target=\"#modal-measure-3\"><i class=\"fa fa-pull-right fa-heart icon-bookmarked hidden\" aria-hidden=\"true\" title=\"Dans vos favoris\\xa0!\"></i><p>Le projet de Constitution proposé par l\\'Assemblée constituante sera soumis à un référendum d\\'approbation</p></li></nav></section><div class=\"footer-list-group\"><span class=\"pull-left\"><i class=\"fa fa-fw fa-calendar\" aria-hidden=\"true\"></i><span class=\"hidden-xs\"> Mise à jour\\xa0du</span><time pubdate datetime=\"2017-03-12T15:45:50+01:00\"> 12 mars 2017</time></span><span class=\"visible-xs-inline\"><i class=\"fa fa-fw fa-heart\" aria-hidden=\"true\"></i> 29</span><span class=\"hidden-xs\"><strong> 29</strong> personnes ont <i class=\"fa fa-fw fa-heart\" title=\"mis en favori\"></i> cette section</span></div><article class=\"addenda-main\" id=\"addenda-main\"><header class=\"page-header addenda-header\"><h2 class=\"h4\" id=\"addenda\"><i class=\"fa fa-fw fa-thumb-tack\"></i> Pour aller plus loin…\\n    </h4></header><div class=\"addenda-list\"><section class=\"addendum-main addendum\" id=\"addendum-main-1\"><header><h3 class=\"h5\"><i class=\"fa fa-fw fa-graduation-cap\"></i>            La constituante\\xa0: mode d&#039;emploi\\n          </h3></header><div class=\"addendum-body\"><p>Dans cet extrait issu des <a rel=\"nofollow, noreferrer\" class=\"external\" href=\"https://avenirencommun.fr/univpop_programme/\" title=\"Le programme des universités populaires de la France insoumise\">universités populaires de la France insoumise</a>, <strong>Charlotte Girard</strong>, juriste et coordinatrice du programme, détaille les propositions de la France insoumise quant aux modalités de la Constituante pour faire de celle-ci un moment historique de refondation citoyenne du peuple français.</p><p><div class=\"embed-container\"><div class=\"embed-responsive embed-responsive-16by9\"><iframe class=\"embed-responsive-item\" allowfullscreen=\"true\" src=\"https://www.youtube.com/embed/Zutw6YC1Gtg?controls=2&amp;hl=fr&amp;modestbranding=1&amp;rel=0\"></iframe></div><p class=\"embed-caption\">Charlotte Girard\\xa0sur les modalités de la Constituante</p></div></p></div></section></div></article></article></div><section class=\"section-comments\" id=\"discussion\"><header class=\"page-header\"><h2 class=\"h4\"><i class=\"fa fa-fw fa-comments-o\"></i> Discussion</h2></header><p><i class=\"fa fa-info-circle fa-fw\" aria-hidden=\"true\"></i>\\n    Les commentaires sont hébergés et gérés par <a href=\"https://disqus.com/\" class=\"external\" title=\"Forum de discussion DISQUS\">Disqus</a> indépendamment de <strong>LAEC.fr</strong>. Vous pouvez commenter cette section sans inscription d\\'aucune sorte en utilisant une simple adresse email\\xa0: pour cela, cochez la case <em>Je préfère publier en tant qu\\'invité</em>.\\n  </p><noscript class=\"text-muted disqus\"><p>Si vous souhaitez participer à la discussion, vous devez activer le javascript, car nous utilisons Disqus <i class=\"fa fa-fw fa-disqus\"></i> et celui-ci en a besoin pour son fonctionnement</p></noscript><div id=\"commentaires-disqus\"></div><div id=\"disqus-offline\"><ul class=\"media-list\"></ul></div><script type=\"text/javascript\">var __app = __app || {}; __app.disqusConfiguration = { shortname: \\'lavenirencommun\\', url: \\'https://laec.fr/section/1/reunir-une-assemblee-constituante\\', identifier: \\'/section/1/reunir-une-assemblee-constituante\\', user: null};</script></section><a href=\"#body\" id=\"back-to-top\" data-do-scroll-to=\"800\" title=\"Retour en haut de la page\"><i class=\"fa fa-arrow-up\" aria-hidden=\"true\"></i><span> Retour en haut de page</span></a></div></div><footer class=\"footer\"><div class=\"container\"><nav class=\"nav-inline pull-right\"><a href=\"/page/mentions-legales\" title=\"Mentions legales et conditions générales d\\'utilisation\"><i class=\"fa fa-fw fa-file-text-o\" aria-hidden=\"true\"></i> Mentions<span class=\"hidden-xs\"> légales</span></a><span class=\"hidden-xs\">·</span><a href=\"/contact\" title=\"Contacter LAEC.fr\"><i class=\"fa fa-fw fa-envelope-o\" aria-hidden=\"true\"></i> Contact</a><span class=\"hidden-xs\">·</span><a href=\"/recherche\" title=\"Rechercher dans L&#039;Avenir En Commun\"><i class=\"fa fa-fw fa-search\" aria-hidden=\"true\"></i><span class=\"hidden-xs\"> Recherche</span></a></nav><p class=\"text-muted\"><small><i class=\"fa fa-fw fa-coffee\" data-special></i><span class=\"hidden-xs\"> Site à l\\'initiative de citoyens insoumis.</span></small></p></div></footer><div class=\"modal fade\" id=\"connexion-inscription\" tabindex=\"-1\" role=\"dialog\"><div class=\"modal-dialog modal-lg\" role=\"document\"><div class=\"modal-content\"><div class=\"modal-header\"><button type=\"button\" class=\"close\" data-track-event=\"Fenêtre de connexion\" data-event-action=\"Décliner\" data-event-name=\"Bouton de fermerture\" data-dismiss=\"modal\" aria-label=\"Fermer\"><i class=\"fa fa-fw fa-times\" aria-hidden=\"true\"></i></button><h4 class=\"modal-title\"><i class=\"fa fa-fw fa-lightbulb-o fa-pull-left \" aria-hidden=\"true\"></i> Connexion nécessaire pour utiliser cette fonctionnalité\\xa0!</h4></div><div class=\"modal-body\"><div class=\"row\"><div class=\"col-md-4 hidden-xs hidden-sm\"><img src=\"/img/logotype/livre-phi-couleur-marge-interne.svg\" class=\"img-responsive img-responsive-center img-responsive-svg-fix\" alt=\"Illustration\\xa0: Phi sur livre, logotype de LAEC.fr\" data-no-svg-src=\"/img/logotype/livre-phi-couleur-marge-interne.png\" /><p class=\"small text-muted\">Nouveau\\xa0? <a href=\"/compte/inscription\" data-load-display title=\"Création d\\'un compte utilisateur pour le site\"> Inscrivez-vous\\xa0!</a> C\\'est rapide et gratuit.</p><p class=\"small text-muted\">Ou connectez-vous à l\\'aide de votre <strong>réseau social favori</strong>.</p><p class=\"text-left small text-muted\">Utilisables : <i class=\"fa fa-fw fa-disqus\" data-toggle=\"tooltip\" title=\"Disqus\" aria-hidden=\"true\"></i><span class=\"sr-only\">Disqus</span>, <i class=\"fa fa-fw fa-facebook\" data-toggle=\"tooltip\" title=\"Facebook\" aria-hidden=\"true\"></i><span class=\"sr-only\">Facebook</span>, <i class=\"fa fa-fw fa-google-plus\" data-toggle=\"tooltip\" title=\"Google/Google+\" aria-hidden=\"true\"></i><span class=\"sr-only\">Google/Google+</span>, <i class=\"fa fa-fw fa-twitter\" data-toggle=\"tooltip\" title=\"Twitter\" aria-hidden=\"true\"></i><span class=\"sr-only\">Twitter</span></p></div><div class=\"col-md-8\"><ul class=\"nav nav-tabs\" role=\"tablist\"><li role=\"presentation\" class=\"active\"><a href=\"#connexion-classique\" aria-controls=\"connexion-classique\" role=\"tab\" data-toggle=\"tab\"><i class=\"fa fa-fw fa-user-o\" aria-hidden=\"true\"></i><span class=\"hidden-xs\"> Classique</span></a></li><li role=\"presentation\"><a href=\"#connexion-reseaux\" aria-controls=\"connexion-reseaux\" role=\"tab\" data-toggle=\"tab\"><i class=\"fa fa-fw fa-share-alt\" aria-hidden=\"true\"></i><span class=\"hidden-xs\"> Réseaux sociaux</span></a></li></ul><div class=\"tab-content\"><div role=\"tabpanel\" class=\"tab-pane fade in active\" id=\"connexion-classique\"><div class=\"form-login-load text-muted\" data-close=\"https://laec.fr/fermeture\" data-target=\"https://laec.fr/partiels/compte/connexion\">Merci de patienter <i class=\"fa fa-fw fa-spin fa-refresh\" aria-hidden=\"true\"></i></div><p class=\"small text-muted visible-xs-block visible-sm-block\">Nouveau\\xa0? <a href=\"/compte/inscription\" data-load-display title=\"Création d\\'un compte utilisateur pour le site\"> Inscrivez-vous\\xa0!</a> C\\'est rapide et gratuit.</p></div><div role=\"tabpanel\" class=\"tab-pane fade\" id=\"connexion-reseaux\"><p class=\"semi-lead\">Connectez-vous avec le réseau que vous utilisez</p><nav class=\"container-fluid network-connect-list\"><div class=\"row\"><a href=\"/compte/connexion/disqus\" data-load-display data-toggle=\"tooltip\" data-delay=\\'{\"show\":\"800\", \"hide\":\"50\"}\\' data-placement=\"top\" class=\"col-xs-6 disqus\" title=\"Se connecter avec son compte Disqus\" data-track-event=\"Réseau social\" data-event-action=\"Connexion\" data-event-name=\"DISQUS\" href=\"/sommaire\"><i class=\"fa fa-fw fa-disqus\" aria-hidden=\"true\"></i><span class=\"hidden-xs\"> DISQUS</span></a><a href=\"/compte/connexion/facebook\" data-load-display data-toggle=\"tooltip\" data-delay=\\'{\"show\":\"800\", \"hide\":\"50\"}\\' data-placement=\"top\" class=\"col-xs-6 facebook\" title=\"Se connecter avec son compte Facebook\" data-track-event=\"Réseau social\" data-event-action=\"Connexion\" data-event-name=\"Facebook\" href=\"/sommaire\"><i class=\"fa fa-fw fa-facebook\" aria-hidden=\"true\"></i><span class=\"hidden-xs\"> Facebook</span></a></div><div class=\"row\"><a href=\"/compte/connexion/google\" data-load-display data-toggle=\"tooltip\" data-delay=\\'{\"show\":\"800\", \"hide\":\"50\"}\\' data-placement=\"bottom\" class=\"col-xs-6 google\" title=\"Se connecter avec son compte Google/Google+\" data-track-event=\"Réseau social\" data-event-action=\"Connexion\" data-event-name=\"Google\" href=\"/sommaire\"><i class=\"fa fa-fw fa-google-plus\" aria-hidden=\"true\"></i><span class=\"hidden-xs\"> Google</span></a><a href=\"/compte/connexion/twitter\" data-load-display data-toggle=\"tooltip\" data-delay=\\'{\"show\":\"800\", \"hide\":\"50\"}\\' data-placement=\"bottom\" class=\"col-xs-6 twitter\" title=\"Se connecter avec son compte Twitter\" data-track-event=\"Réseau social\" data-event-action=\"Connexion\" data-event-name=\"twitter\" href=\"/sommaire\"><i class=\"fa fa-fw fa-twitter\" aria-hidden=\"true\"></i><span class=\"hidden-xs\"> twitter</span></a></div></nav><p class=\"small text-muted\">Votre réseau social de prédilection n\\'en fait pas partie\\xa0? <a href=\"/contact\" data-load-display title=\"Formulaire de contact de l\\'équipe de LAEC.fr\">Signalez-le nous</a>, et nous tenterons de l\\'intégrer si cela est possible.</p></div></div></div></div></div><div class=\"modal-footer\"><button type=\"button\" class=\"btn btn-default\" data-track-event=\"Fenêtre de connexion\" data-event-action=\"Décliner\" data-event-name=\"Rejet explicite\" data-dismiss=\"modal\">Non merci, sans façon <i class=\"fa fa-fw fa-times\" aria-hidden=\"true\"></i></button></div></div></div></div><div class=\"modal fade modal-measure\" measure-index=\"1\" id=\"modal-measure-1\" tabindex=\"-1\" role=\"dialog\" aria-labelledby=\"#modal-measure-label-1\"><div class=\"modal-dialog modal-lg\" role=\"document\"><div class=\"modal-content\"><div class=\"modal-header\"><button type=\"button\" class=\"close\" data-dismiss=\"modal\" aria-label=\"Fermer\"><i class=\"fa fa-fw fa-times\" aria-hidden=\"true\"></i></button><h4 class=\"modal-title\" id=\"modal-measure-label-1\"><i class=\"hidden-xs hidden-sm fa fa-fw fa-2x fa-pull-left fa-institution\" aria-hidden=\"true\"></i><span class=\"alternate\">L&#039;urgence démocratique</span>Réunir une Assemblée constituante</h4></div><div class=\"modal-body lead\"><p>Convoquer un référendum (article 11 de la Constitution) pour engager le processus constituant (modalités de la composition de l\\'Assemblée constituante\\xa0— mode de scrutin, parité, tirage au sort et incompatibilités\\xa0; modalités de la délibération\\xa0; association des citoyens aux travaux…)</p></div><div class=\"modal-footer actions\"><button type=\"button\" class=\"btn btn-default pull-right\" data-dismiss=\"modal\">Fermer <i class=\"fa fa-fw fa-times\" aria-hidden=\"true\"></i></button><button data-toggle=\"popover\" data-trigger=\"click\" data-placement=\"right\" class=\"btn btn-default btn-bookmark\" title=\"Ajouter à vos favoris…\" data-content=\"Vous devez être connecté pour accéder à cette fonctionnalité\\xa0!\"><i class=\"fa fa-fw fa-heart-o\" aria-hidden=\"true\"></i><span class=\"sr-only\">Favori</span></button><button title=\"Lien direct vers la mesure et boutons de partage sur les réseaux sociaux\" class=\"btn btn-default share-collapser\" data-target=\"#panel-m-share-1\" aria-controls=\"panel-m-share-1\" aria-expanded=\"false\" data-toggle=\"collapse\"><i class=\"fa fa-fw fa-share-alt\"></i>&nbsp;<span class=\"visible-lg-inline\">Partager</span></button><button title=\"À propos du livre papier…\" class=\"btn btn-default pageref-collapser\" data-target=\"#panel-m-pageref-1\" aria-controls=\"panel-m-pageref-1\" aria-expanded=\"false\" data-toggle=\"collapse\"><i class=\"fa fa-fw fa-bookmark\"></i>&nbsp;<span class=\"visible-lg-inline\">Page <strong>23</strong></span></button><div class=\"collapse collapsable share-collapsable\" id=\"panel-m-share-1\"><div class=\"panel-wrap\"><div class=\"panel panel-default\"><div class=\"panel-heading\">Faites tourner cette mesure\\xa0!</div><div class=\"panel-body\"><div class=\"row\"><div class=\"col-md-5\"><label for=\"share-control-m-1\"><i class=\"fa fa-fw fa-link\" aria-hidden=\"true\"></i>Lien court direct</label><div class=\"form\"><div class=\"form-group\"><div class=\"input-group\"><div class=\"input-group-addon\"><i class=\"fa fa-fw fa-anchor\" aria-hidden=\"true\"></i></div><input type=\"text\" id=\"share-control-m-1\" class=\"form-control share-control\" readonly=\"readonly\" value=\"https://laec.fr/s1m1\" autofocus></div></div></div></div><div class=\"col-md-7\"><label><i class=\"fa fa-fw fa-share\" aria-hidden=\"true\"></i>Réseaux sociaux</label><nav class=\"btn-group networks\" role=\"group\"><a data-popup-dimensions=\"560,430\" href=\"https://www.facebook.com/sharer/sharer.php?u=https%3A%2F%2Flaec.fr%2Fs1m1\" class=\"btn btn-default share-link\" data-network=\"Facebook\" title=\"Partager cette mesure sur Facebook\"><span class=\"visible-lg-inline visible-sm-inline\">Facebook </span><i class=\"fa fa-fw fa-facebook\"></i></a><a data-popup-dimensions=\"430,284\" href=\"https://twitter.com/home?status=%C3%80%20lire%20absolument%C2%A0%3A%20https%3A%2F%2Flaec.fr%2Fs1m1%20%F0%9F%98%8E%20%23AvenirEnCommun%20%23M%C3%A9lenchon%20%23JLM2017\" class=\"btn btn-default share-link\" data-network=\"Twitter\" title=\"Partager cette mesure sur twitter\"><span class=\"visible-lg-inline visible-sm-inline\">Twitter </span><i class=\"fa fa-fw fa-twitter\"></i></a><a data-popup-dimensions=\"400,415\" href=\"https://plus.google.com/share?url=https%3A%2F%2Flaec.fr%2Fs1m1\" class=\"btn btn-default share-link\" data-network=\"Google+\" title=\"Partager cette mesure sur Google+\"><span class=\"visible-lg-inline visible-sm-inline\">Google+ </span><i class=\"fa fa-fw fa-google-plus\"></i></a></nav></div></div></div></div></div></div><div class=\"collapse collapsable pageref-collapsable\" id=\"panel-m-pageref-1\"><div class=\"panel-wrap\"><div class=\"panel panel-default\"><div class=\"panel-heading\">L&#039;Avenir en commun</div><div class=\"panel-body\"><div class=\"row\"><div class=\"col-sm-2 col-sm-push-10 hidden-xs\"><img src=\"/img/livre/miniature-couverture-avenir-en-commun-france-insoumise-melenchon.png\" alt=\"Couverture du livre-programme aux publié aux éditions du Seuil\" class=\"img-responsive img-thumbnail\"/></div><div class=\"col-sm-10 col-sm-pull-2\"><p>Retrouvez ce passage à la <strong>page 23</strong> du livre-programme de la France insoumise et de son candidat Jean-Luc Mélenchon, publié aux <a href=\"http://www.seuil.com/ouvrage/l-avenir-en-commun-jean-luc-melenchon/9782021317510\" class=\"external\" title=\"Le programme sur le site officiel des éditions du Seuil\">éditions du Seuil</a> et trouvable dans toutes les librairies au prix de <strong>3\\xa0€</strong>.</p><p>Vous pouvez également le commander en plusieurs exemplaires sur la <a href=\"https://materiel.jlm2017.fr/categorie-produit/kit-volontaire/\" class=\"external\" title=\"Commande de livres, matériels, etc.\">boutique officielle du site de campagne</a>.</p><p>Vous pouvez aussi l\\'obtenir dans des magasins en lignes tels qu\\'<a href=\"https://www.amazon.fr/programme-insoumise-candidat-Jean-Luc-M%C3%A9lenchon/dp/202131751X/\" class=\"external\">Amazon</a> ou la <a href=\"http://livre.fnac.com/a9371063/Jean-Luc-Melenchon-L-avenir-en-commun\" class=\"external\">Fnac</a>.</p></div></div></div></div></div></div></div></div></div></div><div class=\"modal fade modal-measure\" measure-index=\"2\" id=\"modal-measure-2\" tabindex=\"-1\" role=\"dialog\" aria-labelledby=\"#modal-measure-label-2\"><div class=\"modal-dialog modal-lg\" role=\"document\"><div class=\"modal-content\"><div class=\"modal-header\"><button type=\"button\" class=\"close\" data-dismiss=\"modal\" aria-label=\"Fermer\"><i class=\"fa fa-fw fa-times\" aria-hidden=\"true\"></i></button><h4 class=\"modal-title\" id=\"modal-measure-label-2\"><i class=\"hidden-xs hidden-sm fa fa-fw fa-2x fa-pull-left fa-institution\" aria-hidden=\"true\"></i><span class=\"alternate\">L&#039;urgence démocratique</span>Réunir une Assemblée constituante</h4></div><div class=\"modal-body lead\"><p>Aucun parlementaire des anciennes assemblées de la 5e République ne pourra siéger dans cette Assemblée constituante. Les délégués à l\\'Assemblée constituante ne pourront être candidats aux élections suivant l\\'entrée en vigueur de la nouvelle Constitution</p></div><div class=\"modal-footer actions\"><button type=\"button\" class=\"btn btn-default pull-right\" data-dismiss=\"modal\">Fermer <i class=\"fa fa-fw fa-times\" aria-hidden=\"true\"></i></button><button data-toggle=\"popover\" data-trigger=\"click\" data-placement=\"right\" class=\"btn btn-default btn-bookmark\" title=\"Ajouter à vos favoris…\" data-content=\"Vous devez être connecté pour accéder à cette fonctionnalité\\xa0!\"><i class=\"fa fa-fw fa-heart-o\" aria-hidden=\"true\"></i><span class=\"sr-only\">Favori</span></button><button title=\"Lien direct vers la mesure et boutons de partage sur les réseaux sociaux\" class=\"btn btn-default share-collapser\" data-target=\"#panel-m-share-2\" aria-controls=\"panel-m-share-2\" aria-expanded=\"false\" data-toggle=\"collapse\"><i class=\"fa fa-fw fa-share-alt\"></i>&nbsp;<span class=\"visible-lg-inline\">Partager</span></button><button title=\"À propos du livre papier…\" class=\"btn btn-default pageref-collapser\" data-target=\"#panel-m-pageref-2\" aria-controls=\"panel-m-pageref-2\" aria-expanded=\"false\" data-toggle=\"collapse\"><i class=\"fa fa-fw fa-bookmark\"></i>&nbsp;<span class=\"visible-lg-inline\">Page <strong>23</strong></span></button><div class=\"collapse collapsable share-collapsable\" id=\"panel-m-share-2\"><div class=\"panel-wrap\"><div class=\"panel panel-default\"><div class=\"panel-heading\">Faites tourner cette mesure\\xa0!</div><div class=\"panel-body\"><div class=\"row\"><div class=\"col-md-5\"><label for=\"share-control-m-2\"><i class=\"fa fa-fw fa-link\" aria-hidden=\"true\"></i>Lien court direct</label><div class=\"form\"><div class=\"form-group\"><div class=\"input-group\"><div class=\"input-group-addon\"><i class=\"fa fa-fw fa-anchor\" aria-hidden=\"true\"></i></div><input type=\"text\" id=\"share-control-m-2\" class=\"form-control share-control\" readonly=\"readonly\" value=\"https://laec.fr/s1m2\" autofocus></div></div></div></div><div class=\"col-md-7\"><label><i class=\"fa fa-fw fa-share\" aria-hidden=\"true\"></i>Réseaux sociaux</label><nav class=\"btn-group networks\" role=\"group\"><a data-popup-dimensions=\"560,430\" href=\"https://www.facebook.com/sharer/sharer.php?u=https%3A%2F%2Flaec.fr%2Fs1m2\" class=\"btn btn-default share-link\" data-network=\"Facebook\" title=\"Partager cette mesure sur Facebook\"><span class=\"visible-lg-inline visible-sm-inline\">Facebook </span><i class=\"fa fa-fw fa-facebook\"></i></a><a data-popup-dimensions=\"430,284\" href=\"https://twitter.com/home?status=%C3%80%20lire%20absolument%C2%A0%3A%20https%3A%2F%2Flaec.fr%2Fs1m2%20%F0%9F%98%8E%20%23AvenirEnCommun%20%23M%C3%A9lenchon%20%23JLM2017\" class=\"btn btn-default share-link\" data-network=\"Twitter\" title=\"Partager cette mesure sur twitter\"><span class=\"visible-lg-inline visible-sm-inline\">Twitter </span><i class=\"fa fa-fw fa-twitter\"></i></a><a data-popup-dimensions=\"400,415\" href=\"https://plus.google.com/share?url=https%3A%2F%2Flaec.fr%2Fs1m2\" class=\"btn btn-default share-link\" data-network=\"Google+\" title=\"Partager cette mesure sur Google+\"><span class=\"visible-lg-inline visible-sm-inline\">Google+ </span><i class=\"fa fa-fw fa-google-plus\"></i></a></nav></div></div></div></div></div></div><div class=\"collapse collapsable pageref-collapsable\" id=\"panel-m-pageref-2\"><div class=\"panel-wrap\"><div class=\"panel panel-default\"><div class=\"panel-heading\">L&#039;Avenir en commun</div><div class=\"panel-body\"><div class=\"row\"><div class=\"col-sm-2 col-sm-push-10 hidden-xs\"><img src=\"/img/livre/miniature-couverture-avenir-en-commun-france-insoumise-melenchon.png\" alt=\"Couverture du livre-programme aux publié aux éditions du Seuil\" class=\"img-responsive img-thumbnail\"/></div><div class=\"col-sm-10 col-sm-pull-2\"><p>Retrouvez ce passage à la <strong>page 23</strong> du livre-programme de la France insoumise et de son candidat Jean-Luc Mélenchon, publié aux <a href=\"http://www.seuil.com/ouvrage/l-avenir-en-commun-jean-luc-melenchon/9782021317510\" class=\"external\" title=\"Le programme sur le site officiel des éditions du Seuil\">éditions du Seuil</a> et trouvable dans toutes les librairies au prix de <strong>3\\xa0€</strong>.</p><p>Vous pouvez également le commander en plusieurs exemplaires sur la <a href=\"https://materiel.jlm2017.fr/categorie-produit/kit-volontaire/\" class=\"external\" title=\"Commande de livres, matériels, etc.\">boutique officielle du site de campagne</a>.</p><p>Vous pouvez aussi l\\'obtenir dans des magasins en lignes tels qu\\'<a href=\"https://www.amazon.fr/programme-insoumise-candidat-Jean-Luc-M%C3%A9lenchon/dp/202131751X/\" class=\"external\">Amazon</a> ou la <a href=\"http://livre.fnac.com/a9371063/Jean-Luc-Melenchon-L-avenir-en-commun\" class=\"external\">Fnac</a>.</p></div></div></div></div></div></div></div></div></div></div><div class=\"modal fade modal-measure\" measure-index=\"3\" id=\"modal-measure-3\" tabindex=\"-1\" role=\"dialog\" aria-labelledby=\"#modal-measure-label-3\"><div class=\"modal-dialog modal-lg\" role=\"document\"><div class=\"modal-content\"><div class=\"modal-header\"><button type=\"button\" class=\"close\" data-dismiss=\"modal\" aria-label=\"Fermer\"><i class=\"fa fa-fw fa-times\" aria-hidden=\"true\"></i></button><h4 class=\"modal-title\" id=\"modal-measure-label-3\"><i class=\"hidden-xs hidden-sm fa fa-fw fa-2x fa-pull-left fa-institution\" aria-hidden=\"true\"></i><span class=\"alternate\">L&#039;urgence démocratique</span>Réunir une Assemblée constituante</h4></div><div class=\"modal-body lead\"><p>Le projet de Constitution proposé par l\\'Assemblée constituante sera soumis à un référendum d\\'approbation</p></div><div class=\"modal-footer actions\"><button type=\"button\" class=\"btn btn-default pull-right\" data-dismiss=\"modal\">Fermer <i class=\"fa fa-fw fa-times\" aria-hidden=\"true\"></i></button><button data-toggle=\"popover\" data-trigger=\"click\" data-placement=\"right\" class=\"btn btn-default btn-bookmark\" title=\"Ajouter à vos favoris…\" data-content=\"Vous devez être connecté pour accéder à cette fonctionnalité\\xa0!\"><i class=\"fa fa-fw fa-heart-o\" aria-hidden=\"true\"></i><span class=\"sr-only\">Favori</span></button><button title=\"Lien direct vers la mesure et boutons de partage sur les réseaux sociaux\" class=\"btn btn-default share-collapser\" data-target=\"#panel-m-share-3\" aria-controls=\"panel-m-share-3\" aria-expanded=\"false\" data-toggle=\"collapse\"><i class=\"fa fa-fw fa-share-alt\"></i>&nbsp;<span class=\"visible-lg-inline\">Partager</span></button><button title=\"À propos du livre papier…\" class=\"btn btn-default pageref-collapser\" data-target=\"#panel-m-pageref-3\" aria-controls=\"panel-m-pageref-3\" aria-expanded=\"false\" data-toggle=\"collapse\"><i class=\"fa fa-fw fa-bookmark\"></i>&nbsp;<span class=\"visible-lg-inline\">Page <strong>24</strong></span></button><div class=\"collapse collapsable share-collapsable\" id=\"panel-m-share-3\"><div class=\"panel-wrap\"><div class=\"panel panel-default\"><div class=\"panel-heading\">Faites tourner cette mesure\\xa0!</div><div class=\"panel-body\"><div class=\"row\"><div class=\"col-md-5\"><label for=\"share-control-m-3\"><i class=\"fa fa-fw fa-link\" aria-hidden=\"true\"></i>Lien court direct</label><div class=\"form\"><div class=\"form-group\"><div class=\"input-group\"><div class=\"input-group-addon\"><i class=\"fa fa-fw fa-anchor\" aria-hidden=\"true\"></i></div><input type=\"text\" id=\"share-control-m-3\" class=\"form-control share-control\" readonly=\"readonly\" value=\"https://laec.fr/s1m3\" autofocus></div></div></div></div><div class=\"col-md-7\"><label><i class=\"fa fa-fw fa-share\" aria-hidden=\"true\"></i>Réseaux sociaux</label><nav class=\"btn-group networks\" role=\"group\"><a data-popup-dimensions=\"560,430\" href=\"https://www.facebook.com/sharer/sharer.php?u=https%3A%2F%2Flaec.fr%2Fs1m3\" class=\"btn btn-default share-link\" data-network=\"Facebook\" title=\"Partager cette mesure sur Facebook\"><span class=\"visible-lg-inline visible-sm-inline\">Facebook </span><i class=\"fa fa-fw fa-facebook\"></i></a><a data-popup-dimensions=\"430,284\" href=\"https://twitter.com/home?status=%C3%80%20lire%20absolument%C2%A0%3A%20https%3A%2F%2Flaec.fr%2Fs1m3%20%F0%9F%98%8E%20%23AvenirEnCommun%20%23M%C3%A9lenchon%20%23JLM2017\" class=\"btn btn-default share-link\" data-network=\"Twitter\" title=\"Partager cette mesure sur twitter\"><span class=\"visible-lg-inline visible-sm-inline\">Twitter </span><i class=\"fa fa-fw fa-twitter\"></i></a><a data-popup-dimensions=\"400,415\" href=\"https://plus.google.com/share?url=https%3A%2F%2Flaec.fr%2Fs1m3\" class=\"btn btn-default share-link\" data-network=\"Google+\" title=\"Partager cette mesure sur Google+\"><span class=\"visible-lg-inline visible-sm-inline\">Google+ </span><i class=\"fa fa-fw fa-google-plus\"></i></a></nav></div></div></div></div></div></div><div class=\"collapse collapsable pageref-collapsable\" id=\"panel-m-pageref-3\"><div class=\"panel-wrap\"><div class=\"panel panel-default\"><div class=\"panel-heading\">L&#039;Avenir en commun</div><div class=\"panel-body\"><div class=\"row\"><div class=\"col-sm-2 col-sm-push-10 hidden-xs\"><img src=\"/img/livre/miniature-couverture-avenir-en-commun-france-insoumise-melenchon.png\" alt=\"Couverture du livre-programme aux publié aux éditions du Seuil\" class=\"img-responsive img-thumbnail\"/></div><div class=\"col-sm-10 col-sm-pull-2\"><p>Retrouvez ce passage à la <strong>page 24</strong> du livre-programme de la France insoumise et de son candidat Jean-Luc Mélenchon, publié aux <a href=\"http://www.seuil.com/ouvrage/l-avenir-en-commun-jean-luc-melenchon/9782021317510\" class=\"external\" title=\"Le programme sur le site officiel des éditions du Seuil\">éditions du Seuil</a> et trouvable dans toutes les librairies au prix de <strong>3\\xa0€</strong>.</p><p>Vous pouvez également le commander en plusieurs exemplaires sur la <a href=\"https://materiel.jlm2017.fr/categorie-produit/kit-volontaire/\" class=\"external\" title=\"Commande de livres, matériels, etc.\">boutique officielle du site de campagne</a>.</p><p>Vous pouvez aussi l\\'obtenir dans des magasins en lignes tels qu\\'<a href=\"https://www.amazon.fr/programme-insoumise-candidat-Jean-Luc-M%C3%A9lenchon/dp/202131751X/\" class=\"external\">Amazon</a> ou la <a href=\"http://livre.fnac.com/a9371063/Jean-Luc-Melenchon-L-avenir-en-commun\" class=\"external\">Fnac</a>.</p></div></div></div></div></div></div></div></div></div></div><script src=\"/js/app.js?damperate\"></script>  </body>\\n</html>\\n'"
      ]
     },
     "execution_count": 373,
     "metadata": {},
     "output_type": "execute_result"
    }
   ],
   "source": [
    "r.text"
   ]
  },
  {
   "cell_type": "code",
   "execution_count": 374,
   "metadata": {
    "collapsed": true
   },
   "outputs": [],
   "source": [
    "soup = BeautifulSoup(r.text, 'html.parser')"
   ]
  },
  {
   "cell_type": "code",
   "execution_count": 375,
   "metadata": {
    "collapsed": false
   },
   "outputs": [
    {
     "data": {
      "text/plain": [
       "'1'"
      ]
     },
     "execution_count": 375,
     "metadata": {},
     "output_type": "execute_result"
    }
   ],
   "source": [
    "soup.find(class_='number').text"
   ]
  },
  {
   "cell_type": "code",
   "execution_count": 376,
   "metadata": {
    "collapsed": false
   },
   "outputs": [
    {
     "data": {
      "text/plain": [
       "'Réunir une Assemblée constituante'"
      ]
     },
     "execution_count": 376,
     "metadata": {},
     "output_type": "execute_result"
    }
   ],
   "source": [
    "soup.find(class_='text-balance').text"
   ]
  },
  {
   "cell_type": "code",
   "execution_count": 377,
   "metadata": {
    "collapsed": false
   },
   "outputs": [
    {
     "data": {
      "text/plain": [
       "\"La nouvelle Constitution dont la France a besoin doit être radicalement nouvelle, y compris dans sa méthode d'écriture\\xa0: elle ne peut être un simple rafistolage de la 5e République, ni se résumer à quelques réformes octroyées par le futur président de la République. C'est le peuple lui-même qui doit s'emparer de la question et s'impliquer tout au long d'un processus constituant. Nous proposons la convocation d'une assemblée spécifiquement chargée de rédiger une nouvelle Constitution sous le contrôle des citoyens\\xa0: une Assemblée constituante. Nous soumettrons à ses travaux des propositions pour une 6e République démocratique, égalitaire, instituant de nouveaux droits et imposant l'impératif écologique.\""
      ]
     },
     "execution_count": 377,
     "metadata": {},
     "output_type": "execute_result"
    }
   ],
   "source": [
    "soup.find(class_='semi-lead subject-foreword').text"
   ]
  },
  {
   "cell_type": "code",
   "execution_count": 380,
   "metadata": {
    "collapsed": false
   },
   "outputs": [
    {
     "data": {
      "text/plain": [
       "[<li class=\"list-group-item\" data-measure-seq=\"1\" data-target=\"#modal-measure-1\" id=\"mesure-1\"><i aria-hidden=\"true\" class=\"fa fa-pull-right fa-heart icon-bookmarked hidden\" title=\"Dans vos favoris !\"></i><p>Convoquer un référendum (article 11 de la Constitution) pour engager le processus constituant (modalités de la composition de l'Assemblée constituante — mode de scrutin, parité, tirage au sort et incompatibilités ; modalités de la délibération ; association des citoyens aux travaux…)</p></li>,\n",
       " <li class=\"list-group-item\" data-measure-seq=\"2\" data-target=\"#modal-measure-2\" id=\"mesure-2\"><i aria-hidden=\"true\" class=\"fa fa-pull-right fa-heart icon-bookmarked hidden\" title=\"Dans vos favoris !\"></i><p>Aucun parlementaire des anciennes assemblées de la 5e République ne pourra siéger dans cette Assemblée constituante. Les délégués à l'Assemblée constituante ne pourront être candidats aux élections suivant l'entrée en vigueur de la nouvelle Constitution</p></li>,\n",
       " <li class=\"list-group-item\" data-measure-seq=\"3\" data-target=\"#modal-measure-3\" id=\"mesure-3\"><i aria-hidden=\"true\" class=\"fa fa-pull-right fa-heart icon-bookmarked hidden\" title=\"Dans vos favoris !\"></i><p>Le projet de Constitution proposé par l'Assemblée constituante sera soumis à un référendum d'approbation</p></li>]"
      ]
     },
     "execution_count": 380,
     "metadata": {},
     "output_type": "execute_result"
    }
   ],
   "source": [
    "soup.find(class_='list-measures').find_all('li')"
   ]
  },
  {
   "cell_type": "code",
   "execution_count": 382,
   "metadata": {
    "collapsed": false
   },
   "outputs": [
    {
     "data": {
      "text/plain": [
       "[\"Convoquer un référendum (article 11 de la Constitution) pour engager le processus constituant (modalités de la composition de l'Assemblée constituante\\xa0— mode de scrutin, parité, tirage au sort et incompatibilités\\xa0; modalités de la délibération\\xa0; association des citoyens aux travaux…)\",\n",
       " \"Aucun parlementaire des anciennes assemblées de la 5e République ne pourra siéger dans cette Assemblée constituante. Les délégués à l'Assemblée constituante ne pourront être candidats aux élections suivant l'entrée en vigueur de la nouvelle Constitution\",\n",
       " \"Le projet de Constitution proposé par l'Assemblée constituante sera soumis à un référendum d'approbation\"]"
      ]
     },
     "execution_count": 382,
     "metadata": {},
     "output_type": "execute_result"
    }
   ],
   "source": [
    "[_.text for _ in soup.find(class_='list-measures').find_all('li')]\n"
   ]
  },
  {
   "cell_type": "code",
   "execution_count": 390,
   "metadata": {
    "collapsed": true
   },
   "outputs": [],
   "source": [
    "def extract_data(link):\n",
    "    full_url = 'https://laec.fr' + link.attrs['href']\n",
    "    r = requests.get(full_url)\n",
    "    soup = BeautifulSoup(r.text, 'html.parser')\n",
    "    number = soup.find(class_='number').text\n",
    "    title = soup.find(class_='text-balance').text\n",
    "    if soup.find(class_='semi-lead subject-foreword') is not None:\n",
    "        foreword = soup.find(class_='semi-lead subject-foreword').text\n",
    "    else:\n",
    "        foreword = ''\n",
    "    if soup.find(class_='list-measures') is not None:\n",
    "        content = \". \".join([_.text for _ in soup.find(class_='list-measures').find_all('li')]) + \".\"\n",
    "    else:\n",
    "        content = ''\n",
    "    return number, title, foreword, content"
   ]
  },
  {
   "cell_type": "code",
   "execution_count": 391,
   "metadata": {
    "collapsed": false
   },
   "outputs": [
    {
     "data": {
      "text/plain": [
       "('1',\n",
       " 'Réunir une Assemblée constituante',\n",
       " \"La nouvelle Constitution dont la France a besoin doit être radicalement nouvelle, y compris dans sa méthode d'écriture\\xa0: elle ne peut être un simple rafistolage de la 5e République, ni se résumer à quelques réformes octroyées par le futur président de la République. C'est le peuple lui-même qui doit s'emparer de la question et s'impliquer tout au long d'un processus constituant. Nous proposons la convocation d'une assemblée spécifiquement chargée de rédiger une nouvelle Constitution sous le contrôle des citoyens\\xa0: une Assemblée constituante. Nous soumettrons à ses travaux des propositions pour une 6e République démocratique, égalitaire, instituant de nouveaux droits et imposant l'impératif écologique.\",\n",
       " \"Convoquer un référendum (article 11 de la Constitution) pour engager le processus constituant (modalités de la composition de l'Assemblée constituante\\xa0— mode de scrutin, parité, tirage au sort et incompatibilités\\xa0; modalités de la délibération\\xa0; association des citoyens aux travaux…). Aucun parlementaire des anciennes assemblées de la 5e République ne pourra siéger dans cette Assemblée constituante. Les délégués à l'Assemblée constituante ne pourront être candidats aux élections suivant l'entrée en vigueur de la nouvelle Constitution. Le projet de Constitution proposé par l'Assemblée constituante sera soumis à un référendum d'approbation.\")"
      ]
     },
     "execution_count": 391,
     "metadata": {},
     "output_type": "execute_result"
    }
   ],
   "source": [
    "extract_data(link)"
   ]
  },
  {
   "cell_type": "code",
   "execution_count": 392,
   "metadata": {
    "collapsed": false
   },
   "outputs": [],
   "source": [
    "raw_data = [extract_data(link) for link in sublinks]"
   ]
  },
  {
   "cell_type": "code",
   "execution_count": 393,
   "metadata": {
    "collapsed": false
   },
   "outputs": [
    {
     "data": {
      "text/html": [
       "<div>\n",
       "<table border=\"1\" class=\"dataframe\">\n",
       "  <thead>\n",
       "    <tr style=\"text-align: right;\">\n",
       "      <th></th>\n",
       "      <th>numéro</th>\n",
       "      <th>titre</th>\n",
       "      <th>introduction</th>\n",
       "      <th>mesures</th>\n",
       "    </tr>\n",
       "  </thead>\n",
       "  <tbody>\n",
       "    <tr>\n",
       "      <th>0</th>\n",
       "      <td>1</td>\n",
       "      <td>Réunir une Assemblée constituante</td>\n",
       "      <td>La nouvelle Constitution dont la France a beso...</td>\n",
       "      <td>Convoquer un référendum (article 11 de la Cons...</td>\n",
       "    </tr>\n",
       "    <tr>\n",
       "      <th>1</th>\n",
       "      <td>2</td>\n",
       "      <td>Balayer l'oligarchie, abolir les privilèges de...</td>\n",
       "      <td>La démocratie française est malade des privilè...</td>\n",
       "      <td>Rendre inéligible à vie toute personne condamn...</td>\n",
       "    </tr>\n",
       "    <tr>\n",
       "      <th>2</th>\n",
       "      <td>3</td>\n",
       "      <td>Une République permettant l'intervention popul...</td>\n",
       "      <td>Le peuple est systématiquement tenu à l'écart ...</td>\n",
       "      <td>Fixer le droit de vote à 16 ans, instaurer le ...</td>\n",
       "    </tr>\n",
       "    <tr>\n",
       "      <th>3</th>\n",
       "      <td>4</td>\n",
       "      <td>Abolir la monarchie présidentielle</td>\n",
       "      <td>La monarchie présidentielle actuelle marginali...</td>\n",
       "      <td>Abolir la monarchie présidentielle en instaura...</td>\n",
       "    </tr>\n",
       "    <tr>\n",
       "      <th>4</th>\n",
       "      <td>5</td>\n",
       "      <td>Une nouvelle étape des libertés et de l'émanci...</td>\n",
       "      <td>Une Constitution, c'est la garantie pour le pe...</td>\n",
       "      <td>Constitutionnaliser la non-marchandisation du ...</td>\n",
       "    </tr>\n",
       "    <tr>\n",
       "      <th>5</th>\n",
       "      <td>6</td>\n",
       "      <td>Une République universelle</td>\n",
       "      <td>Aucune liberté n'est possible sans l'égalité e...</td>\n",
       "      <td>Faire France de tout boisDéfendre le droit du ...</td>\n",
       "    </tr>\n",
       "    <tr>\n",
       "      <th>6</th>\n",
       "      <td>7</td>\n",
       "      <td>Une République laïque</td>\n",
       "      <td>La laïcité est attaquée de toutes parts et ins...</td>\n",
       "      <td>Étendre le bénéfice de l'application de la loi...</td>\n",
       "    </tr>\n",
       "    <tr>\n",
       "      <th>7</th>\n",
       "      <td>8</td>\n",
       "      <td>La révolution citoyenne dans les médias</td>\n",
       "      <td>Il n'y a pas de démocratie possible sans infor...</td>\n",
       "      <td>Faire élire les présidents de France Télévisio...</td>\n",
       "    </tr>\n",
       "    <tr>\n",
       "      <th>8</th>\n",
       "      <td>9</td>\n",
       "      <td>La République garante des biens communs</td>\n",
       "      <td>La République est un mot creux si elle ignore ...</td>\n",
       "      <td>Constitutionnaliser la règle verte : ne pas pr...</td>\n",
       "    </tr>\n",
       "    <tr>\n",
       "      <th>9</th>\n",
       "      <td>10</td>\n",
       "      <td>Reconnaître la citoyenneté dans l'entreprise e...</td>\n",
       "      <td>Comme le disait Jean Jaurès, « la grande Révol...</td>\n",
       "      <td>Accorder de nouveaux droits de contrôle aux co...</td>\n",
       "    </tr>\n",
       "    <tr>\n",
       "      <th>10</th>\n",
       "      <td>11</td>\n",
       "      <td>Une justice au nom du peuple</td>\n",
       "      <td>La justice est rendue au nom du peuple françai...</td>\n",
       "      <td>Garantir la protection judiciaire de la jeunes...</td>\n",
       "    </tr>\n",
       "    <tr>\n",
       "      <th>11</th>\n",
       "      <td>12</td>\n",
       "      <td>Une politique antiterroriste rationnelle</td>\n",
       "      <td>La sûreté est un des droits « naturels et impr...</td>\n",
       "      <td>Refuser la logique du choc des civilisations e...</td>\n",
       "    </tr>\n",
       "    <tr>\n",
       "      <th>12</th>\n",
       "      <td>13</td>\n",
       "      <td>Garantir la sécurité et la sûreté</td>\n",
       "      <td>La République a besoin d'une justice. Elle a a...</td>\n",
       "      <td>Refonder la politique de sûreté publique sur l...</td>\n",
       "    </tr>\n",
       "    <tr>\n",
       "      <th>13</th>\n",
       "      <td>14</td>\n",
       "      <td>La jeunesse au service de l'intérêt général et...</td>\n",
       "      <td>Aujourd'hui, de nombreuses tâches indispensabl...</td>\n",
       "      <td>Créer un service citoyen obligatoirePour les f...</td>\n",
       "    </tr>\n",
       "    <tr>\n",
       "      <th>14</th>\n",
       "      <td>15</td>\n",
       "      <td>L'égalité réelle pour les Outre-mer</td>\n",
       "      <td>Les Outre-mer sont la chance de la France. Ils...</td>\n",
       "      <td>Faire vivre la République, l'égalité, le métis...</td>\n",
       "    </tr>\n",
       "    <tr>\n",
       "      <th>15</th>\n",
       "      <td>16</td>\n",
       "      <td>Mettre fin au pillage économique de la Nation</td>\n",
       "      <td>Le règne de l'oligarchie est aussi celui du pi...</td>\n",
       "      <td>Créer une mission parlementaire spéciale pour ...</td>\n",
       "    </tr>\n",
       "    <tr>\n",
       "      <th>16</th>\n",
       "      <td>17</td>\n",
       "      <td>Instaurer un protectionnisme solidaire pour pr...</td>\n",
       "      <td>L'économie productive et l'emploi sont attaqué...</td>\n",
       "      <td>Faire l'inventaire et l'évaluation des accords...</td>\n",
       "    </tr>\n",
       "    <tr>\n",
       "      <th>17</th>\n",
       "      <td>18</td>\n",
       "      <td>Engager un plan de relance de l'activité et de...</td>\n",
       "      <td>La bifurcation écologique et la révolution num...</td>\n",
       "      <td>Injecter 100 milliards d'euros supplémentaires...</td>\n",
       "    </tr>\n",
       "    <tr>\n",
       "      <th>18</th>\n",
       "      <td>19</td>\n",
       "      <td>Mettre au pas la finance</td>\n",
       "      <td>La finance a mis par terre l'économie réelle e...</td>\n",
       "      <td>Séparer les banques d'affaires et de détail. C...</td>\n",
       "    </tr>\n",
       "    <tr>\n",
       "      <th>19</th>\n",
       "      <td>20</td>\n",
       "      <td>Définanciariser l'économie réelle</td>\n",
       "      <td>Les financiers étranglent chaque jour les PME ...</td>\n",
       "      <td>Mettre fin à la cotation continue des entrepri...</td>\n",
       "    </tr>\n",
       "    <tr>\n",
       "      <th>20</th>\n",
       "      <td>21</td>\n",
       "      <td>Mobiliser l'argent pour financer les petites e...</td>\n",
       "      <td>Chaque jour les petites entreprises meurent fa...</td>\n",
       "      <td>Créer un pôle public bancaire notamment par la...</td>\n",
       "    </tr>\n",
       "    <tr>\n",
       "      <th>21</th>\n",
       "      <td>22</td>\n",
       "      <td>Protéger et généraliser l'économie sociale et ...</td>\n",
       "      <td>Face à la prédation de la finance et à la dict...</td>\n",
       "      <td>Reconnaître un droit de préemption aux salarié...</td>\n",
       "    </tr>\n",
       "    <tr>\n",
       "      <th>22</th>\n",
       "      <td>23</td>\n",
       "      <td>Empêcher les licenciements boursiers dans l'en...</td>\n",
       "      <td>Relancer l'économie ne suffira pas à créer des...</td>\n",
       "      <td>Interdire les licenciements boursiers. Interdi...</td>\n",
       "    </tr>\n",
       "    <tr>\n",
       "      <th>23</th>\n",
       "      <td>24</td>\n",
       "      <td>Abroger la loi El Khomri</td>\n",
       "      <td>Le mouvement social contre la loi El Khomri a ...</td>\n",
       "      <td></td>\n",
       "    </tr>\n",
       "    <tr>\n",
       "      <th>24</th>\n",
       "      <td>25</td>\n",
       "      <td>Éradiquer la précarité, respecter les métiers ...</td>\n",
       "      <td>85 % des contrats signés sont aujourd'hui des ...</td>\n",
       "      <td>Réaffirmer dans les faits le CDI comme norme d...</td>\n",
       "    </tr>\n",
       "    <tr>\n",
       "      <th>25</th>\n",
       "      <td>26</td>\n",
       "      <td>Construire un nouveau statut protecteur pour l...</td>\n",
       "      <td>La précarité ne doit pas seulement être stoppé...</td>\n",
       "      <td>Assurer la continuité des droits personnels ho...</td>\n",
       "    </tr>\n",
       "    <tr>\n",
       "      <th>26</th>\n",
       "      <td>27</td>\n",
       "      <td>Donner aux jeunes les moyens de leur autonomie</td>\n",
       "      <td>Les jeunes commencent leur vie par un parcours...</td>\n",
       "      <td>Instaurer une allocation d'autonomie pour les ...</td>\n",
       "    </tr>\n",
       "    <tr>\n",
       "      <th>27</th>\n",
       "      <td>28</td>\n",
       "      <td>Réduire le temps de travail, travailler moins ...</td>\n",
       "      <td>Pourquoi tant de gens s'épuisent au travail al...</td>\n",
       "      <td>Généraliser une 6e semaine de congés payés pou...</td>\n",
       "    </tr>\n",
       "    <tr>\n",
       "      <th>28</th>\n",
       "      <td>29</td>\n",
       "      <td>Instaurer un salaire maximum autorisé pour les...</td>\n",
       "      <td>Les inégalités ont explosé ces dernières année...</td>\n",
       "      <td>Fixer un salaire maximum autorisé pour limiter...</td>\n",
       "    </tr>\n",
       "    <tr>\n",
       "      <th>29</th>\n",
       "      <td>30</td>\n",
       "      <td>Augmenter les salaires</td>\n",
       "      <td>Aujourd'hui, un salarié au smic gagne à peine ...</td>\n",
       "      <td>Augmenter immédiatement le smic net mensuel de...</td>\n",
       "    </tr>\n",
       "    <tr>\n",
       "      <th>...</th>\n",
       "      <td>...</td>\n",
       "      <td>...</td>\n",
       "      <td>...</td>\n",
       "      <td>...</td>\n",
       "    </tr>\n",
       "    <tr>\n",
       "      <th>53</th>\n",
       "      <td>54</td>\n",
       "      <td>Instaurer l'indépendance de la France dans le ...</td>\n",
       "      <td>Les quinquennats Sarkozy et Hollande ont enfer...</td>\n",
       "      <td>Refuser la logique du choc des civilisations. ...</td>\n",
       "    </tr>\n",
       "    <tr>\n",
       "      <th>54</th>\n",
       "      <td>55</td>\n",
       "      <td>Reconstruire une défense indépendante, nationa...</td>\n",
       "      <td>L'Otan, construite par et pour les États-Unis ...</td>\n",
       "      <td>Rédiger un nouveau Livre blanc et adopter une ...</td>\n",
       "    </tr>\n",
       "    <tr>\n",
       "      <th>55</th>\n",
       "      <td>56</td>\n",
       "      <td>Renforcer et réinvestir l'Onu pour faire vivre...</td>\n",
       "      <td>La France n'a pas à être le gendarme du monde....</td>\n",
       "      <td>Réaffirmer que l'Onu est le seul organe légiti...</td>\n",
       "    </tr>\n",
       "    <tr>\n",
       "      <th>56</th>\n",
       "      <td>57</td>\n",
       "      <td>Refuser le libre-échange, instaurer un protect...</td>\n",
       "      <td>La mondialisation est d'abord la globalisation...</td>\n",
       "      <td>Intégrer le respect des règles fondamentales d...</td>\n",
       "    </tr>\n",
       "    <tr>\n",
       "      <th>57</th>\n",
       "      <td>58</td>\n",
       "      <td>Étendre les protections du droit international...</td>\n",
       "      <td>Face au désordre libéral et au changement clim...</td>\n",
       "      <td>Protéger la haute mer de toute appropriation e...</td>\n",
       "    </tr>\n",
       "    <tr>\n",
       "      <th>58</th>\n",
       "      <td>59</td>\n",
       "      <td>Lutter contre les causes des migrations</td>\n",
       "      <td>Émigrer est toujours une souffrance pour celui...</td>\n",
       "      <td>Gérer enfin les migrations à l'échelle interna...</td>\n",
       "    </tr>\n",
       "    <tr>\n",
       "      <th>59</th>\n",
       "      <td>60</td>\n",
       "      <td>Construire la paix en Syrie</td>\n",
       "      <td>La Syrie est ravagée par cinq ans de guerre. L...</td>\n",
       "      <td>Réviser les alliances hypocrites avec les pétr...</td>\n",
       "    </tr>\n",
       "    <tr>\n",
       "      <th>60</th>\n",
       "      <td>61</td>\n",
       "      <td>Agir pour une paix juste et durable entre Isra...</td>\n",
       "      <td>Les conditions d'une paix juste et durable au ...</td>\n",
       "      <td>Reconnaître l'État palestinien. Appuyer la sol...</td>\n",
       "    </tr>\n",
       "    <tr>\n",
       "      <th>61</th>\n",
       "      <td>62</td>\n",
       "      <td>Construire des coopérations altermondialistes ...</td>\n",
       "      <td>Un autre monde est possible. Plus juste, plus ...</td>\n",
       "      <td>En finir avec la Françafrique : respecter l'in...</td>\n",
       "    </tr>\n",
       "    <tr>\n",
       "      <th>62</th>\n",
       "      <td>63</td>\n",
       "      <td>Unir le petit bassin méditerranéen autour d'ob...</td>\n",
       "      <td>Ne nous résignons pas à voir la mer Méditerran...</td>\n",
       "      <td>Créer une chaîne de télévision méditerranéenne...</td>\n",
       "    </tr>\n",
       "    <tr>\n",
       "      <th>63</th>\n",
       "      <td>64</td>\n",
       "      <td>Passer à la francophonie politique</td>\n",
       "      <td>La langue française est la troisième langue la...</td>\n",
       "      <td>Réorganiser les institutions de la francophoni...</td>\n",
       "    </tr>\n",
       "    <tr>\n",
       "      <th>64</th>\n",
       "      <td>65</td>\n",
       "      <td>Définir de nouveaux indicateurs de progrès humain</td>\n",
       "      <td>L'activité humaine ne doit plus être réduite a...</td>\n",
       "      <td></td>\n",
       "    </tr>\n",
       "    <tr>\n",
       "      <th>65</th>\n",
       "      <td>66</td>\n",
       "      <td>Viser l'allongement de l'espérance de vie et l...</td>\n",
       "      <td>L'espérance de vie a reculé en 2015 en France ...</td>\n",
       "      <td></td>\n",
       "    </tr>\n",
       "    <tr>\n",
       "      <th>66</th>\n",
       "      <td>67</td>\n",
       "      <td>Faire passer la santé d'abord et pour tous</td>\n",
       "      <td>Le système de santé français a longtemps été l...</td>\n",
       "      <td>Rembourser à 100 % les soins de santé prescrit...</td>\n",
       "    </tr>\n",
       "    <tr>\n",
       "      <th>67</th>\n",
       "      <td>68</td>\n",
       "      <td>Pas d'obstacle aux personnes en situation de h...</td>\n",
       "      <td>Non, le handicap n'est pas une affaire privée....</td>\n",
       "      <td>Atteindre enfin l'objectif zéro obstacle : tol...</td>\n",
       "    </tr>\n",
       "    <tr>\n",
       "      <th>68</th>\n",
       "      <td>69</td>\n",
       "      <td>Changer de logique en matière d'addiction et d...</td>\n",
       "      <td>La politique française en matière de drogues s...</td>\n",
       "      <td>Établir un diagnostic global des consommations...</td>\n",
       "    </tr>\n",
       "    <tr>\n",
       "      <th>69</th>\n",
       "      <td>70</td>\n",
       "      <td>En finir avec la souffrance sociale et la souf...</td>\n",
       "      <td>Le chômage tue de 10 000 à 14 000 personnes pa...</td>\n",
       "      <td>Déclarer la souffrance au travail grande cause...</td>\n",
       "    </tr>\n",
       "    <tr>\n",
       "      <th>70</th>\n",
       "      <td>71</td>\n",
       "      <td>Faire face collectivement au vieillissement de...</td>\n",
       "      <td></td>\n",
       "      <td>Réduire le reste à charge de 500 euros par moi...</td>\n",
       "    </tr>\n",
       "    <tr>\n",
       "      <th>71</th>\n",
       "      <td>72</td>\n",
       "      <td>Donner la priorité aux enfants</td>\n",
       "      <td>Une société se juge à la place qu'elle accorde...</td>\n",
       "      <td>Verser une allocation familiale dès le premier...</td>\n",
       "    </tr>\n",
       "    <tr>\n",
       "      <th>72</th>\n",
       "      <td>73</td>\n",
       "      <td>Instruire mieux et davantage</td>\n",
       "      <td>Une école fermée par jour depuis dix ans. 22 0...</td>\n",
       "      <td>Adopter une loi d'orientation pour l'écoleAbro...</td>\n",
       "    </tr>\n",
       "    <tr>\n",
       "      <th>73</th>\n",
       "      <td>74</td>\n",
       "      <td>Qualifier tout le monde</td>\n",
       "      <td>L'apprentissage. Les libéraux n'ont que ce mot...</td>\n",
       "      <td>Appuyer l'enseignement professionnel public, a...</td>\n",
       "    </tr>\n",
       "    <tr>\n",
       "      <th>74</th>\n",
       "      <td>75</td>\n",
       "      <td>Refonder l'enseignement supérieur</td>\n",
       "      <td>Précarité des étudiants, doctorants et jeunes ...</td>\n",
       "      <td>Réorganiser les grands instituts publics de re...</td>\n",
       "    </tr>\n",
       "    <tr>\n",
       "      <th>75</th>\n",
       "      <td>76</td>\n",
       "      <td>Éradiquer l'illettrisme et développer l'alphab...</td>\n",
       "      <td>Plus de deux millions de personnes sont illett...</td>\n",
       "      <td>Éradiquer l'illettrisme pour les jeunes sortis...</td>\n",
       "    </tr>\n",
       "    <tr>\n",
       "      <th>76</th>\n",
       "      <td>77</td>\n",
       "      <td>Démocratiser la culture et ses pratiques, sout...</td>\n",
       "      <td>Festivals annulés, baisse du budget de la cult...</td>\n",
       "      <td>Défendre l'exception et la diversité culturell...</td>\n",
       "    </tr>\n",
       "    <tr>\n",
       "      <th>77</th>\n",
       "      <td>78</td>\n",
       "      <td>Libérer le sport et les corps de l'argent</td>\n",
       "      <td>La politique sportive est aujourd'hui réduite ...</td>\n",
       "      <td>Réaffirmer le rôle des professeurs d'EPS dans ...</td>\n",
       "    </tr>\n",
       "    <tr>\n",
       "      <th>78</th>\n",
       "      <td>79</td>\n",
       "      <td>Lutter contre l'agression publicitaire et la m...</td>\n",
       "      <td>La pub est partout. Chaque personne est exposé...</td>\n",
       "      <td>Interdire la publicité commerciale dans les in...</td>\n",
       "    </tr>\n",
       "    <tr>\n",
       "      <th>79</th>\n",
       "      <td>80</td>\n",
       "      <td>Ouvrir une nouvelle ère de coopérations intern...</td>\n",
       "      <td>La mer et l'espace sont des biens communs de l...</td>\n",
       "      <td>Proposer de nouvelles coopérations spatiales o...</td>\n",
       "    </tr>\n",
       "    <tr>\n",
       "      <th>80</th>\n",
       "      <td>81</td>\n",
       "      <td>Engager la France dans un « plan Mer » et crée...</td>\n",
       "      <td>La France est une puissance maritime qui s'ign...</td>\n",
       "      <td>Développer les énergies marines renouvelables ...</td>\n",
       "    </tr>\n",
       "    <tr>\n",
       "      <th>81</th>\n",
       "      <td>82</td>\n",
       "      <td>Relancer la découverte de l'espace</td>\n",
       "      <td>C'est depuis Toulouse qu'était piloté le petit...</td>\n",
       "      <td>Défendre l'indépendance de la France, ce qui i...</td>\n",
       "    </tr>\n",
       "    <tr>\n",
       "      <th>82</th>\n",
       "      <td>83</td>\n",
       "      <td>Mobiliser le savoir-faire français dans le num...</td>\n",
       "      <td>Il y a un autre domaine où la France excelle t...</td>\n",
       "      <td>Affirmer le caractère d'intérêt général de la ...</td>\n",
       "    </tr>\n",
       "  </tbody>\n",
       "</table>\n",
       "<p>83 rows × 4 columns</p>\n",
       "</div>"
      ],
      "text/plain": [
       "   numéro                                              titre  \\\n",
       "0       1                  Réunir une Assemblée constituante   \n",
       "1       2  Balayer l'oligarchie, abolir les privilèges de...   \n",
       "2       3  Une République permettant l'intervention popul...   \n",
       "3       4                 Abolir la monarchie présidentielle   \n",
       "4       5  Une nouvelle étape des libertés et de l'émanci...   \n",
       "5       6                         Une République universelle   \n",
       "6       7                              Une République laïque   \n",
       "7       8            La révolution citoyenne dans les médias   \n",
       "8       9            La République garante des biens communs   \n",
       "9      10  Reconnaître la citoyenneté dans l'entreprise e...   \n",
       "10     11                       Une justice au nom du peuple   \n",
       "11     12           Une politique antiterroriste rationnelle   \n",
       "12     13                  Garantir la sécurité et la sûreté   \n",
       "13     14  La jeunesse au service de l'intérêt général et...   \n",
       "14     15                L'égalité réelle pour les Outre-mer   \n",
       "15     16      Mettre fin au pillage économique de la Nation   \n",
       "16     17  Instaurer un protectionnisme solidaire pour pr...   \n",
       "17     18  Engager un plan de relance de l'activité et de...   \n",
       "18     19                           Mettre au pas la finance   \n",
       "19     20                  Définanciariser l'économie réelle   \n",
       "20     21  Mobiliser l'argent pour financer les petites e...   \n",
       "21     22  Protéger et généraliser l'économie sociale et ...   \n",
       "22     23  Empêcher les licenciements boursiers dans l'en...   \n",
       "23     24                           Abroger la loi El Khomri   \n",
       "24     25  Éradiquer la précarité, respecter les métiers ...   \n",
       "25     26  Construire un nouveau statut protecteur pour l...   \n",
       "26     27     Donner aux jeunes les moyens de leur autonomie   \n",
       "27     28  Réduire le temps de travail, travailler moins ...   \n",
       "28     29  Instaurer un salaire maximum autorisé pour les...   \n",
       "29     30                             Augmenter les salaires   \n",
       "..    ...                                                ...   \n",
       "53     54  Instaurer l'indépendance de la France dans le ...   \n",
       "54     55  Reconstruire une défense indépendante, nationa...   \n",
       "55     56  Renforcer et réinvestir l'Onu pour faire vivre...   \n",
       "56     57  Refuser le libre-échange, instaurer un protect...   \n",
       "57     58  Étendre les protections du droit international...   \n",
       "58     59            Lutter contre les causes des migrations   \n",
       "59     60                        Construire la paix en Syrie   \n",
       "60     61  Agir pour une paix juste et durable entre Isra...   \n",
       "61     62  Construire des coopérations altermondialistes ...   \n",
       "62     63  Unir le petit bassin méditerranéen autour d'ob...   \n",
       "63     64                 Passer à la francophonie politique   \n",
       "64     65  Définir de nouveaux indicateurs de progrès humain   \n",
       "65     66  Viser l'allongement de l'espérance de vie et l...   \n",
       "66     67         Faire passer la santé d'abord et pour tous   \n",
       "67     68  Pas d'obstacle aux personnes en situation de h...   \n",
       "68     69  Changer de logique en matière d'addiction et d...   \n",
       "69     70  En finir avec la souffrance sociale et la souf...   \n",
       "70     71  Faire face collectivement au vieillissement de...   \n",
       "71     72                     Donner la priorité aux enfants   \n",
       "72     73                       Instruire mieux et davantage   \n",
       "73     74                            Qualifier tout le monde   \n",
       "74     75                  Refonder l'enseignement supérieur   \n",
       "75     76  Éradiquer l'illettrisme et développer l'alphab...   \n",
       "76     77  Démocratiser la culture et ses pratiques, sout...   \n",
       "77     78          Libérer le sport et les corps de l'argent   \n",
       "78     79  Lutter contre l'agression publicitaire et la m...   \n",
       "79     80  Ouvrir une nouvelle ère de coopérations intern...   \n",
       "80     81  Engager la France dans un « plan Mer » et crée...   \n",
       "81     82                 Relancer la découverte de l'espace   \n",
       "82     83  Mobiliser le savoir-faire français dans le num...   \n",
       "\n",
       "                                         introduction  \\\n",
       "0   La nouvelle Constitution dont la France a beso...   \n",
       "1   La démocratie française est malade des privilè...   \n",
       "2   Le peuple est systématiquement tenu à l'écart ...   \n",
       "3   La monarchie présidentielle actuelle marginali...   \n",
       "4   Une Constitution, c'est la garantie pour le pe...   \n",
       "5   Aucune liberté n'est possible sans l'égalité e...   \n",
       "6   La laïcité est attaquée de toutes parts et ins...   \n",
       "7   Il n'y a pas de démocratie possible sans infor...   \n",
       "8   La République est un mot creux si elle ignore ...   \n",
       "9   Comme le disait Jean Jaurès, « la grande Révol...   \n",
       "10  La justice est rendue au nom du peuple françai...   \n",
       "11  La sûreté est un des droits « naturels et impr...   \n",
       "12  La République a besoin d'une justice. Elle a a...   \n",
       "13  Aujourd'hui, de nombreuses tâches indispensabl...   \n",
       "14  Les Outre-mer sont la chance de la France. Ils...   \n",
       "15  Le règne de l'oligarchie est aussi celui du pi...   \n",
       "16  L'économie productive et l'emploi sont attaqué...   \n",
       "17  La bifurcation écologique et la révolution num...   \n",
       "18  La finance a mis par terre l'économie réelle e...   \n",
       "19  Les financiers étranglent chaque jour les PME ...   \n",
       "20  Chaque jour les petites entreprises meurent fa...   \n",
       "21  Face à la prédation de la finance et à la dict...   \n",
       "22  Relancer l'économie ne suffira pas à créer des...   \n",
       "23  Le mouvement social contre la loi El Khomri a ...   \n",
       "24  85 % des contrats signés sont aujourd'hui des ...   \n",
       "25  La précarité ne doit pas seulement être stoppé...   \n",
       "26  Les jeunes commencent leur vie par un parcours...   \n",
       "27  Pourquoi tant de gens s'épuisent au travail al...   \n",
       "28  Les inégalités ont explosé ces dernières année...   \n",
       "29  Aujourd'hui, un salarié au smic gagne à peine ...   \n",
       "..                                                ...   \n",
       "53  Les quinquennats Sarkozy et Hollande ont enfer...   \n",
       "54  L'Otan, construite par et pour les États-Unis ...   \n",
       "55  La France n'a pas à être le gendarme du monde....   \n",
       "56  La mondialisation est d'abord la globalisation...   \n",
       "57  Face au désordre libéral et au changement clim...   \n",
       "58  Émigrer est toujours une souffrance pour celui...   \n",
       "59  La Syrie est ravagée par cinq ans de guerre. L...   \n",
       "60  Les conditions d'une paix juste et durable au ...   \n",
       "61  Un autre monde est possible. Plus juste, plus ...   \n",
       "62  Ne nous résignons pas à voir la mer Méditerran...   \n",
       "63  La langue française est la troisième langue la...   \n",
       "64  L'activité humaine ne doit plus être réduite a...   \n",
       "65  L'espérance de vie a reculé en 2015 en France ...   \n",
       "66  Le système de santé français a longtemps été l...   \n",
       "67  Non, le handicap n'est pas une affaire privée....   \n",
       "68  La politique française en matière de drogues s...   \n",
       "69  Le chômage tue de 10 000 à 14 000 personnes pa...   \n",
       "70                                                      \n",
       "71  Une société se juge à la place qu'elle accorde...   \n",
       "72  Une école fermée par jour depuis dix ans. 22 0...   \n",
       "73  L'apprentissage. Les libéraux n'ont que ce mot...   \n",
       "74  Précarité des étudiants, doctorants et jeunes ...   \n",
       "75  Plus de deux millions de personnes sont illett...   \n",
       "76  Festivals annulés, baisse du budget de la cult...   \n",
       "77  La politique sportive est aujourd'hui réduite ...   \n",
       "78  La pub est partout. Chaque personne est exposé...   \n",
       "79  La mer et l'espace sont des biens communs de l...   \n",
       "80  La France est une puissance maritime qui s'ign...   \n",
       "81  C'est depuis Toulouse qu'était piloté le petit...   \n",
       "82  Il y a un autre domaine où la France excelle t...   \n",
       "\n",
       "                                              mesures  \n",
       "0   Convoquer un référendum (article 11 de la Cons...  \n",
       "1   Rendre inéligible à vie toute personne condamn...  \n",
       "2   Fixer le droit de vote à 16 ans, instaurer le ...  \n",
       "3   Abolir la monarchie présidentielle en instaura...  \n",
       "4   Constitutionnaliser la non-marchandisation du ...  \n",
       "5   Faire France de tout boisDéfendre le droit du ...  \n",
       "6   Étendre le bénéfice de l'application de la loi...  \n",
       "7   Faire élire les présidents de France Télévisio...  \n",
       "8   Constitutionnaliser la règle verte : ne pas pr...  \n",
       "9   Accorder de nouveaux droits de contrôle aux co...  \n",
       "10  Garantir la protection judiciaire de la jeunes...  \n",
       "11  Refuser la logique du choc des civilisations e...  \n",
       "12  Refonder la politique de sûreté publique sur l...  \n",
       "13  Créer un service citoyen obligatoirePour les f...  \n",
       "14  Faire vivre la République, l'égalité, le métis...  \n",
       "15  Créer une mission parlementaire spéciale pour ...  \n",
       "16  Faire l'inventaire et l'évaluation des accords...  \n",
       "17  Injecter 100 milliards d'euros supplémentaires...  \n",
       "18  Séparer les banques d'affaires et de détail. C...  \n",
       "19  Mettre fin à la cotation continue des entrepri...  \n",
       "20  Créer un pôle public bancaire notamment par la...  \n",
       "21  Reconnaître un droit de préemption aux salarié...  \n",
       "22  Interdire les licenciements boursiers. Interdi...  \n",
       "23                                                     \n",
       "24  Réaffirmer dans les faits le CDI comme norme d...  \n",
       "25  Assurer la continuité des droits personnels ho...  \n",
       "26  Instaurer une allocation d'autonomie pour les ...  \n",
       "27  Généraliser une 6e semaine de congés payés pou...  \n",
       "28  Fixer un salaire maximum autorisé pour limiter...  \n",
       "29  Augmenter immédiatement le smic net mensuel de...  \n",
       "..                                                ...  \n",
       "53  Refuser la logique du choc des civilisations. ...  \n",
       "54  Rédiger un nouveau Livre blanc et adopter une ...  \n",
       "55  Réaffirmer que l'Onu est le seul organe légiti...  \n",
       "56  Intégrer le respect des règles fondamentales d...  \n",
       "57  Protéger la haute mer de toute appropriation e...  \n",
       "58  Gérer enfin les migrations à l'échelle interna...  \n",
       "59  Réviser les alliances hypocrites avec les pétr...  \n",
       "60  Reconnaître l'État palestinien. Appuyer la sol...  \n",
       "61  En finir avec la Françafrique : respecter l'in...  \n",
       "62  Créer une chaîne de télévision méditerranéenne...  \n",
       "63  Réorganiser les institutions de la francophoni...  \n",
       "64                                                     \n",
       "65                                                     \n",
       "66  Rembourser à 100 % les soins de santé prescrit...  \n",
       "67  Atteindre enfin l'objectif zéro obstacle : tol...  \n",
       "68  Établir un diagnostic global des consommations...  \n",
       "69  Déclarer la souffrance au travail grande cause...  \n",
       "70  Réduire le reste à charge de 500 euros par moi...  \n",
       "71  Verser une allocation familiale dès le premier...  \n",
       "72  Adopter une loi d'orientation pour l'écoleAbro...  \n",
       "73  Appuyer l'enseignement professionnel public, a...  \n",
       "74  Réorganiser les grands instituts publics de re...  \n",
       "75  Éradiquer l'illettrisme pour les jeunes sortis...  \n",
       "76  Défendre l'exception et la diversité culturell...  \n",
       "77  Réaffirmer le rôle des professeurs d'EPS dans ...  \n",
       "78  Interdire la publicité commerciale dans les in...  \n",
       "79  Proposer de nouvelles coopérations spatiales o...  \n",
       "80  Développer les énergies marines renouvelables ...  \n",
       "81  Défendre l'indépendance de la France, ce qui i...  \n",
       "82  Affirmer le caractère d'intérêt général de la ...  \n",
       "\n",
       "[83 rows x 4 columns]"
      ]
     },
     "execution_count": 393,
     "metadata": {},
     "output_type": "execute_result"
    }
   ],
   "source": [
    "df = pd.DataFrame(raw_data, columns=['numéro', 'titre', 'introduction', 'mesures'])\n",
    "df"
   ]
  },
  {
   "cell_type": "markdown",
   "metadata": {},
   "source": [
    "On écrit un fichier."
   ]
  },
  {
   "cell_type": "code",
   "execution_count": 394,
   "metadata": {
    "collapsed": true
   },
   "outputs": [],
   "source": [
    "df.to_csv('projets/jean_luc_melenchon.csv')"
   ]
  },
  {
   "cell_type": "markdown",
   "metadata": {},
   "source": [
    "# Emmanuel Macron "
   ]
  },
  {
   "cell_type": "markdown",
   "metadata": {},
   "source": [
    "Il faut dans un premier temps aller chercher les pages individuelles du site."
   ]
  },
  {
   "cell_type": "code",
   "execution_count": 268,
   "metadata": {
    "collapsed": true
   },
   "outputs": [],
   "source": [
    "r = requests.get('https://en-marche.fr/emmanuel-macron/le-programme')\n",
    "soup = BeautifulSoup(r.text, 'html.parser')"
   ]
  },
  {
   "cell_type": "code",
   "execution_count": 269,
   "metadata": {
    "collapsed": true
   },
   "outputs": [],
   "source": [
    "proposals = soup.find_all(class_='programme__proposal')\n",
    "proposals = [p for p in proposals if 'programme__proposal--category' not in p.attrs['class']]"
   ]
  },
  {
   "cell_type": "code",
   "execution_count": 270,
   "metadata": {
    "collapsed": false
   },
   "outputs": [
    {
     "data": {
      "text/plain": [
       "36"
      ]
     },
     "execution_count": 270,
     "metadata": {},
     "output_type": "execute_result"
    }
   ],
   "source": [
    "len(proposals)"
   ]
  },
  {
   "cell_type": "code",
   "execution_count": 271,
   "metadata": {
    "collapsed": true
   },
   "outputs": [],
   "source": [
    "full_urls = [\"https://en-marche.fr\" + p.find('a').attrs['href'] for p in proposals]"
   ]
  },
  {
   "cell_type": "code",
   "execution_count": 309,
   "metadata": {
    "collapsed": true
   },
   "outputs": [],
   "source": [
    "url = full_urls[1]"
   ]
  },
  {
   "cell_type": "code",
   "execution_count": 310,
   "metadata": {
    "collapsed": true
   },
   "outputs": [],
   "source": [
    "r = requests.get(url)"
   ]
  },
  {
   "cell_type": "code",
   "execution_count": 311,
   "metadata": {
    "collapsed": true
   },
   "outputs": [],
   "source": [
    "text = r.text"
   ]
  },
  {
   "cell_type": "code",
   "execution_count": 312,
   "metadata": {
    "collapsed": false
   },
   "outputs": [],
   "source": [
    "text = text.replace('</br>', '')"
   ]
  },
  {
   "cell_type": "code",
   "execution_count": 315,
   "metadata": {
    "collapsed": false
   },
   "outputs": [],
   "source": [
    "soup = BeautifulSoup(text, 'html.parser')"
   ]
  },
  {
   "cell_type": "code",
   "execution_count": 316,
   "metadata": {
    "collapsed": false
   },
   "outputs": [],
   "source": [
    "article_tag = soup.find_all('article', class_='l__wrapper--slim')[0]"
   ]
  },
  {
   "cell_type": "code",
   "execution_count": 317,
   "metadata": {
    "collapsed": false
   },
   "outputs": [
    {
     "name": "stdout",
     "output_type": "stream",
     "text": [
      "\n",
      "Nous agirons pour que les agriculteurs pèsent plus dans leurs négociations avec les industriels de l’agro-alimentaire.\n",
      "\n",
      "\n",
      "Nous encouragerons le développement de véritables organisations de producteurs, avec des capacités de négociations renforcées pour peser plus dans les négociations commerciales avec les centrales d’achat de la grande distribution.\n",
      "\n",
      "\n",
      "Nous organiserons un Grenelle de l’alimentation avec les représentants des agriculteurs, des industries de transformation, de la distribution et des consommateurs, afin de définir un partage équilibré de la valeur.\n",
      "\n",
      "\n",
      "Nous protégerons les agriculteurs contre la volatilité des prix par la mise en place d’outils de régulation adaptés à chaque filière.\n",
      "\n",
      "\n",
      "Nous proposerons des outils de gestion des risques efficaces et adaptés.\n",
      "\n",
      "\n",
      "Nous permettrons aux agriculteurs de conserver les mêmes règles du jeu pour être compétitifs : favoriser la convergence sociale et fiscale au niveau européen.\n",
      "\n",
      "\n",
      "Nous créerons un droit à l’erreur pour tous.\n",
      "\n",
      "\n",
      "Nous donnerons droit au chômage aux agriculteurs pour leur permettre de surmonter les périodes de baisse d’activité.\n",
      "\n",
      "\n",
      "Nous adapterons la formation agricole et faciliterons la formation professionnelle tout au long de la vie pour permettre aux agriculteurs de profiter des nouvelles connaissances.\n",
      "\n",
      "\n",
      "Nous encouragerons les projets de méthanisation en maintenant des aides, en engageant une simplification administrative et en accélérant le raccordement au réseau électrique des unités.\n",
      "\n",
      "\n",
      "Nous soutiendrons l’innovation et la recherche à travers plusieurs actions : fin des zones sans réseau téléphonique, développement du numérique et de l’agriculture de précision, mise en place d’un portail des données agricoles pour stimuler une innovation décentralisée, ouverte, collaborative au service des agriculteurs.\n",
      "\n",
      "\n",
      "Nous encouragerons la diversification des sources de revenus en soutenant par exemple l’agro-tourisme.\n",
      "\n",
      "\n",
      "Nous rémunérerons les agriculteurs pour les services environnementaux  (entretien des paysages, pâturage des alpages qui réduisent les avalanches, etc.) qu’ils rendent, à hauteur de 200 millions d’euros par an dans le cadre de la PAC.\n",
      "\n",
      "\n",
      "Dans le cadre du Grenelle de l’alimentation, nous définirons également un calendrier prévoyant l’élimination progressive des pesticides en commençant par ceux qui présentent un risque pour la biodiversité ou la santé, et le développement d’alternatives.\n",
      "\n",
      "\n",
      "Dès le début du quinquennat, nous séparerons les activités de conseil aux agriculteurs et de vente des pesticides qui peuvent susciter des conflits d’intérêt.\n",
      "\n",
      "\n",
      "Nous renforcerons la transparence des transactions agricoles en soumettant toutes les sociétés foncières au contrôle des SAFER.\n",
      "\n",
      "\n",
      "Nous assurerons le financement du foncier et du capital d’exploitation en facilitant le recours à des outils de portage : le crédit-bail immobilier, la location-vente progressive, prêt viager hypothécaire etc.\n",
      "\n",
      "\n",
      "Nous soutiendrons l’installation des jeunes agriculteurs : en plus de la dotation jeunes agriculteurs (DJA), nous permettrons un prêt d'honneur à la personne sans demande de garantie d’un montant de 50 000 euros maximum avec un différé de 2 ans.\n",
      "\n",
      "\n",
      "Nous allègerons les charges.\n",
      "\n",
      "\n",
      "Nous lancerons un plan de transformation agricole de 5 milliards d’euros sur 5 ans. Les financements seront réservés à :\n",
      "\n",
      "\n",
      "Nous ferons confiance aux territoires pour s’organiser et trouver des solutions adaptées.\n",
      "\n"
     ]
    }
   ],
   "source": [
    "for line in article_tag.find_all(class_='arrows'):\n",
    "    print(line.text) "
   ]
  },
  {
   "cell_type": "code",
   "execution_count": 325,
   "metadata": {
    "collapsed": false
   },
   "outputs": [],
   "source": [
    "tag = article_tag.find_all(class_='arrows')[-1]"
   ]
  },
  {
   "cell_type": "code",
   "execution_count": 326,
   "metadata": {
    "collapsed": false
   },
   "outputs": [
    {
     "data": {
      "text/plain": [
       "'\\nNous ferons confiance aux territoires pour s’organiser et trouver des solutions adaptées.\\n'"
      ]
     },
     "execution_count": 326,
     "metadata": {},
     "output_type": "execute_result"
    }
   ],
   "source": [
    "tag.text"
   ]
  },
  {
   "cell_type": "code",
   "execution_count": 328,
   "metadata": {
    "collapsed": false
   },
   "outputs": [
    {
     "data": {
      "text/plain": [
       "'\\nNous encouragerons les projets alimentaires territoriaux (PAT) pour rapprocher les producteurs, les transformateurs, les distributeurs, les collectivités territoriales et atteindre 50% de produits biologiques, écologiques ou locaux dans l’ensemble de la restauration collective en 2022. \\n'"
      ]
     },
     "execution_count": 328,
     "metadata": {},
     "output_type": "execute_result"
    }
   ],
   "source": [
    "tag.next_sibling"
   ]
  },
  {
   "cell_type": "code",
   "execution_count": 306,
   "metadata": {
    "collapsed": true
   },
   "outputs": [],
   "source": [
    "def extract_items(url):\n",
    "    r = requests.get(url)\n",
    "    text = r.text.replace('</br>', '')\n",
    "    soup = BeautifulSoup(text, 'html.parser')\n",
    "    article_tag = soup.find_all('article', class_='l__wrapper--slim')[0]\n",
    "    return [line.text.strip() for line in article_tag.find_all(class_='arrows')]"
   ]
  },
  {
   "cell_type": "code",
   "execution_count": 308,
   "metadata": {
    "collapsed": false
   },
   "outputs": [
    {
     "data": {
      "text/plain": [
       "['Nous agirons pour que les agriculteurs pèsent plus dans leurs négociations avec les industriels de l’agro-alimentaire.',\n",
       " 'Nous encouragerons le développement de véritables organisations de producteurs, avec des capacités de négociations renforcées pour peser plus dans les négociations commerciales avec les centrales d’achat de la grande distribution.',\n",
       " 'Nous organiserons un Grenelle de l’alimentation avec les représentants des agriculteurs, des industries de transformation, de la distribution et des consommateurs, afin de définir un partage équilibré de la valeur.',\n",
       " 'Nous protégerons les agriculteurs contre la volatilité des prix par la mise en place d’outils de régulation adaptés à chaque filière.',\n",
       " 'Nous proposerons des outils de gestion des risques efficaces et adaptés.',\n",
       " 'Nous permettrons aux agriculteurs de conserver les mêmes règles du jeu pour être compétitifs : favoriser la convergence sociale et fiscale au niveau européen.',\n",
       " 'Nous créerons un droit à l’erreur pour tous.',\n",
       " 'Nous donnerons droit au chômage aux agriculteurs pour leur permettre de surmonter les périodes de baisse d’activité.',\n",
       " 'Nous adapterons la formation agricole et faciliterons la formation professionnelle tout au long de la vie pour permettre aux agriculteurs de profiter des nouvelles connaissances.',\n",
       " 'Nous encouragerons les projets de méthanisation en maintenant des aides, en engageant une simplification administrative et en accélérant le raccordement au réseau électrique des unités.',\n",
       " 'Nous soutiendrons l’innovation et la recherche à travers plusieurs actions : fin des zones sans réseau téléphonique, développement du numérique et de l’agriculture de précision, mise en place d’un portail des données agricoles pour stimuler une innovation décentralisée, ouverte, collaborative au service des agriculteurs.',\n",
       " 'Nous encouragerons la diversification des sources de revenus en soutenant par exemple l’agro-tourisme.',\n",
       " 'Nous rémunérerons les agriculteurs pour les services environnementaux  (entretien des paysages, pâturage des alpages qui réduisent les avalanches, etc.) qu’ils rendent, à hauteur de 200 millions d’euros par an dans le cadre de la PAC.',\n",
       " 'Dans le cadre du Grenelle de l’alimentation, nous définirons également un calendrier prévoyant l’élimination progressive des pesticides en commençant par ceux qui présentent un risque pour la biodiversité ou la santé, et le développement d’alternatives.',\n",
       " 'Dès le début du quinquennat, nous séparerons les activités de conseil aux agriculteurs et de vente des pesticides qui peuvent susciter des conflits d’intérêt.',\n",
       " 'Nous renforcerons la transparence des transactions agricoles en soumettant toutes les sociétés foncières au contrôle des SAFER.',\n",
       " 'Nous assurerons le financement du foncier et du capital d’exploitation en facilitant le recours à des outils de portage : le crédit-bail immobilier, la location-vente progressive, prêt viager hypothécaire etc.',\n",
       " \"Nous soutiendrons l’installation des jeunes agriculteurs : en plus de la dotation jeunes agriculteurs (DJA), nous permettrons un prêt d'honneur à la personne sans demande de garantie d’un montant de 50 000 euros maximum avec un différé de 2 ans.\",\n",
       " 'Nous allègerons les charges.',\n",
       " 'Nous lancerons un plan de transformation agricole de 5 milliards d’euros sur 5 ans. Les financements seront réservés à :',\n",
       " 'Nous ferons confiance aux territoires pour s’organiser et trouver des solutions adaptées.']"
      ]
     },
     "execution_count": 308,
     "metadata": {},
     "output_type": "execute_result"
    }
   ],
   "source": [
    "extract_items(full_urls[1])"
   ]
  },
  {
   "cell_type": "markdown",
   "metadata": {},
   "source": [
    "On extrait toutes les propositions."
   ]
  },
  {
   "cell_type": "code",
   "execution_count": 336,
   "metadata": {
    "collapsed": false
   },
   "outputs": [],
   "source": [
    "propositions = [extract_items(url) for url in full_urls]"
   ]
  },
  {
   "cell_type": "code",
   "execution_count": 348,
   "metadata": {
    "collapsed": false
   },
   "outputs": [
    {
     "data": {
      "text/plain": [
       "36"
      ]
     },
     "execution_count": 348,
     "metadata": {},
     "output_type": "execute_result"
    }
   ],
   "source": [
    "len(propositions)"
   ]
  },
  {
   "cell_type": "code",
   "execution_count": 350,
   "metadata": {
    "collapsed": false
   },
   "outputs": [
    {
     "data": {
      "text/plain": [
       "'https://en-marche.fr/emmanuel-macron/le-programme/international'"
      ]
     },
     "execution_count": 350,
     "metadata": {},
     "output_type": "execute_result"
    }
   ],
   "source": [
    "full_urls[18]"
   ]
  },
  {
   "cell_type": "code",
   "execution_count": 349,
   "metadata": {
    "collapsed": false
   },
   "outputs": [
    {
     "data": {
      "application/vnd.jupyter.widget-view+json": {
       "model_id": "5d65f1fa044b4ecc8703cb4f092fc4c3"
      }
     },
     "metadata": {},
     "output_type": "display_data"
    }
   ],
   "source": [
    "@interact\n",
    "def print_prop(n=(0, len(propositions) - 1)):\n",
    "    print(propositions[n])"
   ]
  },
  {
   "cell_type": "code",
   "execution_count": 342,
   "metadata": {
    "collapsed": false
   },
   "outputs": [
    {
     "data": {
      "text/plain": [
       "['Nous élargirons les horaires d’ouverture des services publics pour les adapter aux contraintes des usagers : certains services publics ouvriront le samedi et en soirée, afin d’être plus facilement accessibles par tous les usagers, et notamment ceux qui travaillent toute la semaine et en journée.',\n",
       " 'D’ici 2022, 100% des démarches administratives pourront être effectuées depuis Internet – sauf première délivrance des documents d’identité officiels.',\n",
       " 'Nous créerons un compte citoyen en ligne (site et application), qui rassemblera sur une même interface tous les droits, notamment ceux liés à la santé, à la trajectoire professionnelle, à la formation, à la situation fiscale, aux droits civiques.',\n",
       " 'D’ici la fin 2017, les directeurs d’administration centrale et les principaux dirigeants des organismes publics seront nommés ou confirmés au terme d’une procédure transparente, après revue de compétences et entretien.',\n",
       " 'S’ils décident de quitter le service de l’État, les hauts fonctionnaires ne pourront plus, au-delà d’une certaine période, cumuler les rémunérations offertes par le secteur privé et la sécurité procurée par la faculté de retourner à leur guise dans le service public.',\n",
       " 'Dans la fonction publique, nous limiterons à cinq ans la durée de mise en disponibilité ou de détachement des fonctionnaires dans des entreprises à caractère commercial.',\n",
       " 'Nous garantirons la transparence sur la qualité et l’efficacité des services publics partout en France.',\n",
       " 'Nous créerons 10 000 postes de policiers et gendarmes supplémentaires. Nous ouvrirons 12 000 postes de professeurs des écoles dans les classes de CP et de CE1 dans les zones prioritaires.',\n",
       " 'Nous réduirons le nombre d’agents publics de 120 000 emplois sur la durée du quinquennat.',\n",
       " 'Les ministres seront comptables du respect des objectifs de dépense publique qui leur auront été assignés.',\n",
       " 'Nous mettrons fin à l’évolution uniforme des rémunérations de toutes les fonctions publiques afin de mieux prendre en compte les spécificités de chacune.',\n",
       " 'En concertation avec les élus, nous simplifierons l’administration territoriale en confiant aux services des métropoles les compétences des conseils départementaux où elles se situent.',\n",
       " 'Les agents publics bénéficieront d’un meilleur pouvoir d’achat grâce au basculement des cotisations salariales vers la CSG.',\n",
       " 'Nous développerons l’expérimentation de nouvelles façons de travailler et de servir les usagers, puis évaluerons rigoureusement les résultats afin de repérer et de généraliser les meilleurs dispositifs.',\n",
       " 'Les grandes lois seront systématiquement évaluées de manière indépendante.',\n",
       " 'Nous introduirons plus de souplesse dans la gestion des carrières avec des rémunérations plus individualisées et la promotion des mobilités.',\n",
       " 'Le statut des fonctionnaires ne sera pas remis en cause, mais il sera modernisé et décloisonné, par un assouplissement du système rigide des corps.',\n",
       " 'Nous recruterons un quart au moins des directeurs d’administration centrale en dehors de la fonction publique sur la base d’appels à candidatures ouverts visant à identifier les meilleures compétences techniques et managériales.',\n",
       " 'Nous éliminerons les contraintes statutaires qui restreignent l’accès aux postes d’encadrement supérieur dans la fonction publique.',\n",
       " 'Nous développerons le recrutement sur contrat dans les fonctions non-régaliennes, afin de permettre au service public d’attirer des professionnels d’expérience en fonction des besoins.',\n",
       " 'Nous agirons pour que les agriculteurs pèsent plus dans leurs négociations avec les industriels de l’agro-alimentaire.',\n",
       " 'Nous encouragerons le développement de véritables organisations de producteurs, avec des capacités de négociations renforcées pour peser plus dans les négociations commerciales avec les centrales d’achat de la grande distribution.',\n",
       " 'Nous organiserons un Grenelle de l’alimentation avec les représentants des agriculteurs, des industries de transformation, de la distribution et des consommateurs, afin de définir un partage équilibré de la valeur.',\n",
       " 'Nous protégerons les agriculteurs contre la volatilité des prix par la mise en place d’outils de régulation adaptés à chaque filière.',\n",
       " 'Nous proposerons des outils de gestion des risques efficaces et adaptés.',\n",
       " 'Nous permettrons aux agriculteurs de conserver les mêmes règles du jeu pour être compétitifs : favoriser la convergence sociale et fiscale au niveau européen.',\n",
       " 'Nous créerons un droit à l’erreur pour tous.',\n",
       " 'Nous donnerons droit au chômage aux agriculteurs pour leur permettre de surmonter les périodes de baisse d’activité.',\n",
       " 'Nous adapterons la formation agricole et faciliterons la formation professionnelle tout au long de la vie pour permettre aux agriculteurs de profiter des nouvelles connaissances.',\n",
       " 'Nous encouragerons les projets de méthanisation en maintenant des aides, en engageant une simplification administrative et en accélérant le raccordement au réseau électrique des unités.',\n",
       " 'Nous soutiendrons l’innovation et la recherche à travers plusieurs actions : fin des zones sans réseau téléphonique, développement du numérique et de l’agriculture de précision, mise en place d’un portail des données agricoles pour stimuler une innovation décentralisée, ouverte, collaborative au service des agriculteurs.',\n",
       " 'Nous encouragerons la diversification des sources de revenus en soutenant par exemple l’agro-tourisme.',\n",
       " 'Nous rémunérerons les agriculteurs pour les services environnementaux  (entretien des paysages, pâturage des alpages qui réduisent les avalanches, etc.) qu’ils rendent, à hauteur de 200 millions d’euros par an dans le cadre de la PAC.',\n",
       " 'Dans le cadre du Grenelle de l’alimentation, nous définirons également un calendrier prévoyant l’élimination progressive des pesticides en commençant par ceux qui présentent un risque pour la biodiversité ou la santé, et le développement d’alternatives.',\n",
       " 'Dès le début du quinquennat, nous séparerons les activités de conseil aux agriculteurs et de vente des pesticides qui peuvent susciter des conflits d’intérêt.',\n",
       " 'Nous renforcerons la transparence des transactions agricoles en soumettant toutes les sociétés foncières au contrôle des SAFER.',\n",
       " 'Nous assurerons le financement du foncier et du capital d’exploitation en facilitant le recours à des outils de portage : le crédit-bail immobilier, la location-vente progressive, prêt viager hypothécaire etc.',\n",
       " \"Nous soutiendrons l’installation des jeunes agriculteurs : en plus de la dotation jeunes agriculteurs (DJA), nous permettrons un prêt d'honneur à la personne sans demande de garantie d’un montant de 50 000 euros maximum avec un différé de 2 ans.\",\n",
       " 'Nous allègerons les charges.',\n",
       " 'Nous lancerons un plan de transformation agricole de 5 milliards d’euros sur 5 ans. Les financements seront réservés à :',\n",
       " 'Nous ferons confiance aux territoires pour s’organiser et trouver des solutions adaptées.']"
      ]
     },
     "execution_count": 342,
     "metadata": {},
     "output_type": "execute_result"
    }
   ],
   "source": [
    "propositions[0] + propositions[1]"
   ]
  },
  {
   "cell_type": "code",
   "execution_count": 351,
   "metadata": {
    "collapsed": false
   },
   "outputs": [
    {
     "ename": "TypeError",
     "evalue": "unsupported operand type(s) for +: 'int' and 'list'",
     "output_type": "error",
     "traceback": [
      "\u001b[0;31m---------------------------------------------------------------------------\u001b[0m",
      "\u001b[0;31mTypeError\u001b[0m                                 Traceback (most recent call last)",
      "\u001b[0;32m<ipython-input-351-67fee7990f9b>\u001b[0m in \u001b[0;36m<module>\u001b[0;34m()\u001b[0m\n\u001b[0;32m----> 1\u001b[0;31m \u001b[0msum\u001b[0m\u001b[0;34m(\u001b[0m\u001b[0;34m[\u001b[0m\u001b[0mprop\u001b[0m \u001b[0;32mfor\u001b[0m \u001b[0mprop\u001b[0m \u001b[0;32min\u001b[0m \u001b[0mpropositions\u001b[0m \u001b[0;32mif\u001b[0m \u001b[0mprop\u001b[0m \u001b[0;32mis\u001b[0m \u001b[0;32mnot\u001b[0m \u001b[0;32mNone\u001b[0m\u001b[0;34m]\u001b[0m\u001b[0;34m)\u001b[0m\u001b[0;34m\u001b[0m\u001b[0m\n\u001b[0m",
      "\u001b[0;31mTypeError\u001b[0m: unsupported operand type(s) for +: 'int' and 'list'"
     ]
    }
   ],
   "source": [
    "sum([prop for prop in propositions if prop is not None])"
   ]
  },
  {
   "cell_type": "code",
   "execution_count": null,
   "metadata": {
    "collapsed": true
   },
   "outputs": [],
   "source": [
    "sum()"
   ]
  },
  {
   "cell_type": "code",
   "execution_count": 354,
   "metadata": {
    "collapsed": true
   },
   "outputs": [],
   "source": [
    "all_props = []\n",
    "for props in propositions:\n",
    "    if props is not None:\n",
    "        all_props = all_props + props"
   ]
  },
  {
   "cell_type": "code",
   "execution_count": 355,
   "metadata": {
    "collapsed": false
   },
   "outputs": [
    {
     "data": {
      "text/plain": [
       "['Nous élargirons les horaires d’ouverture des services publics pour les adapter aux contraintes des usagers : certains services publics ouvriront le samedi et en soirée, afin d’être plus facilement accessibles par tous les usagers, et notamment ceux qui travaillent toute la semaine et en journée.',\n",
       " 'D’ici 2022, 100% des démarches administratives pourront être effectuées depuis Internet – sauf première délivrance des documents d’identité officiels.',\n",
       " 'Nous créerons un compte citoyen en ligne (site et application), qui rassemblera sur une même interface tous les droits, notamment ceux liés à la santé, à la trajectoire professionnelle, à la formation, à la situation fiscale, aux droits civiques.',\n",
       " 'D’ici la fin 2017, les directeurs d’administration centrale et les principaux dirigeants des organismes publics seront nommés ou confirmés au terme d’une procédure transparente, après revue de compétences et entretien.',\n",
       " 'S’ils décident de quitter le service de l’État, les hauts fonctionnaires ne pourront plus, au-delà d’une certaine période, cumuler les rémunérations offertes par le secteur privé et la sécurité procurée par la faculté de retourner à leur guise dans le service public.',\n",
       " 'Dans la fonction publique, nous limiterons à cinq ans la durée de mise en disponibilité ou de détachement des fonctionnaires dans des entreprises à caractère commercial.',\n",
       " 'Nous garantirons la transparence sur la qualité et l’efficacité des services publics partout en France.',\n",
       " 'Nous créerons 10 000 postes de policiers et gendarmes supplémentaires. Nous ouvrirons 12 000 postes de professeurs des écoles dans les classes de CP et de CE1 dans les zones prioritaires.',\n",
       " 'Nous réduirons le nombre d’agents publics de 120 000 emplois sur la durée du quinquennat.',\n",
       " 'Les ministres seront comptables du respect des objectifs de dépense publique qui leur auront été assignés.',\n",
       " 'Nous mettrons fin à l’évolution uniforme des rémunérations de toutes les fonctions publiques afin de mieux prendre en compte les spécificités de chacune.',\n",
       " 'En concertation avec les élus, nous simplifierons l’administration territoriale en confiant aux services des métropoles les compétences des conseils départementaux où elles se situent.',\n",
       " 'Les agents publics bénéficieront d’un meilleur pouvoir d’achat grâce au basculement des cotisations salariales vers la CSG.',\n",
       " 'Nous développerons l’expérimentation de nouvelles façons de travailler et de servir les usagers, puis évaluerons rigoureusement les résultats afin de repérer et de généraliser les meilleurs dispositifs.',\n",
       " 'Les grandes lois seront systématiquement évaluées de manière indépendante.',\n",
       " 'Nous introduirons plus de souplesse dans la gestion des carrières avec des rémunérations plus individualisées et la promotion des mobilités.',\n",
       " 'Le statut des fonctionnaires ne sera pas remis en cause, mais il sera modernisé et décloisonné, par un assouplissement du système rigide des corps.',\n",
       " 'Nous recruterons un quart au moins des directeurs d’administration centrale en dehors de la fonction publique sur la base d’appels à candidatures ouverts visant à identifier les meilleures compétences techniques et managériales.',\n",
       " 'Nous éliminerons les contraintes statutaires qui restreignent l’accès aux postes d’encadrement supérieur dans la fonction publique.',\n",
       " 'Nous développerons le recrutement sur contrat dans les fonctions non-régaliennes, afin de permettre au service public d’attirer des professionnels d’expérience en fonction des besoins.',\n",
       " 'Nous agirons pour que les agriculteurs pèsent plus dans leurs négociations avec les industriels de l’agro-alimentaire.',\n",
       " 'Nous encouragerons le développement de véritables organisations de producteurs, avec des capacités de négociations renforcées pour peser plus dans les négociations commerciales avec les centrales d’achat de la grande distribution.',\n",
       " 'Nous organiserons un Grenelle de l’alimentation avec les représentants des agriculteurs, des industries de transformation, de la distribution et des consommateurs, afin de définir un partage équilibré de la valeur.',\n",
       " 'Nous protégerons les agriculteurs contre la volatilité des prix par la mise en place d’outils de régulation adaptés à chaque filière.',\n",
       " 'Nous proposerons des outils de gestion des risques efficaces et adaptés.',\n",
       " 'Nous permettrons aux agriculteurs de conserver les mêmes règles du jeu pour être compétitifs : favoriser la convergence sociale et fiscale au niveau européen.',\n",
       " 'Nous créerons un droit à l’erreur pour tous.',\n",
       " 'Nous donnerons droit au chômage aux agriculteurs pour leur permettre de surmonter les périodes de baisse d’activité.',\n",
       " 'Nous adapterons la formation agricole et faciliterons la formation professionnelle tout au long de la vie pour permettre aux agriculteurs de profiter des nouvelles connaissances.',\n",
       " 'Nous encouragerons les projets de méthanisation en maintenant des aides, en engageant une simplification administrative et en accélérant le raccordement au réseau électrique des unités.',\n",
       " 'Nous soutiendrons l’innovation et la recherche à travers plusieurs actions : fin des zones sans réseau téléphonique, développement du numérique et de l’agriculture de précision, mise en place d’un portail des données agricoles pour stimuler une innovation décentralisée, ouverte, collaborative au service des agriculteurs.',\n",
       " 'Nous encouragerons la diversification des sources de revenus en soutenant par exemple l’agro-tourisme.',\n",
       " 'Nous rémunérerons les agriculteurs pour les services environnementaux  (entretien des paysages, pâturage des alpages qui réduisent les avalanches, etc.) qu’ils rendent, à hauteur de 200 millions d’euros par an dans le cadre de la PAC.',\n",
       " 'Dans le cadre du Grenelle de l’alimentation, nous définirons également un calendrier prévoyant l’élimination progressive des pesticides en commençant par ceux qui présentent un risque pour la biodiversité ou la santé, et le développement d’alternatives.',\n",
       " 'Dès le début du quinquennat, nous séparerons les activités de conseil aux agriculteurs et de vente des pesticides qui peuvent susciter des conflits d’intérêt.',\n",
       " 'Nous renforcerons la transparence des transactions agricoles en soumettant toutes les sociétés foncières au contrôle des SAFER.',\n",
       " 'Nous assurerons le financement du foncier et du capital d’exploitation en facilitant le recours à des outils de portage : le crédit-bail immobilier, la location-vente progressive, prêt viager hypothécaire etc.',\n",
       " \"Nous soutiendrons l’installation des jeunes agriculteurs : en plus de la dotation jeunes agriculteurs (DJA), nous permettrons un prêt d'honneur à la personne sans demande de garantie d’un montant de 50 000 euros maximum avec un différé de 2 ans.\",\n",
       " 'Nous allègerons les charges.',\n",
       " 'Nous lancerons un plan de transformation agricole de 5 milliards d’euros sur 5 ans. Les financements seront réservés à :',\n",
       " 'Nous ferons confiance aux territoires pour s’organiser et trouver des solutions adaptées.',\n",
       " '100% des enfants auront accès aux actions d’éducation artistique et culturelle.',\n",
       " 'Ouvrir les bibliothèques le soir et le dimanche.',\n",
       " 'Créer un Pass Culture de 500 € pour tous les jeunes de 18 ans, qui leur permettra, via une application, d’accéder aux activités culturelles de leur choix : musée, théâtre, cinéma, concert, livres ou musique enregistrée. Il sera cofinancé par les distributeurs et les grandes plateformes numériques, qui bénéficieront du dispositif.',\n",
       " 'Professionnaliser et ouvrir les nominations dans le secteur culturel afin qu’elles reflètent la diversité de la société.',\n",
       " 'Maintenir l’effort financier de l’État en faveur de la culture, en contrepartie d’une exigence d’efficacité : toutes les politiques publiques en faveur de la culture seront évaluées.',\n",
       " 'Regrouper les forces à l’international.',\n",
       " 'Favoriser la diffusion du spectacle vivant notamment en multipliant les spectacles coproduits et adapter le soutien au cinéma et à l’audiovisuel aux nouveaux formats.',\n",
       " 'Pérenniser et adapter le statut d’intermittent du spectacle, qui est un outil au service de la politique culturelle ; revoir la formation initiale des artistes par l’interdisciplinarité, les troncs communs entre écoles d’art, la mobilité internationale.',\n",
       " 'Investir dans les industries créatives et culturelles françaises en créant un fonds d’investissement dédié de 200 millions d’euros.',\n",
       " 'Lancer un Erasmus des professionnels de la culture pour favoriser la circulation des artistes, des commissaires d’exposition et des conservateurs.',\n",
       " 'Généraliser le Pass Culture au niveau européen.',\n",
       " 'Créer les conditions de l’émergence d’un « Netflix européen » exposant le meilleur du cinéma et des séries européennes',\n",
       " 'Rétablir une concurrence équitable avec les grands acteurs numériques pour qu’ils payent leurs impôts comme tous les autres acteurs économiques et qu’ils soient soumis aux mêmes obligations, dans les pays où les œuvres sont diffusées.',\n",
       " 'Défendre résolument les droits d’auteur, aider les artistes et les éditeurs de contenu européens par la négociation encadrée d’accords sur leur rémunération, étendre les droits voisins aux éditeurs de presse et renforcer l’action contre les sites pirates.',\n",
       " 'Rénover et mieux valoriser le patrimoine grâce à une dotation dont l’utilisation sera conditionnée à des projets éducatifs, artistiques ou touristiques.',\n",
       " 'Créer un nouveau statut de l’entreprise de presse, sur le modèle des trusts anglo-saxons pour garantir l’indépendance éditoriale et journalistique.',\n",
       " 'Simplifier la réglementation audiovisuelle en matière de publicité, de financement et de diffusion, pour lever les freins à la croissance de la production et de la diffusion audiovisuelles et préparer le basculement numérique, tout en préservant la diversité culturelle.',\n",
       " 'Nous renforcerons le secteur public de l’audiovisuel pour qu’il réponde aux attentes de tous les Français et accélère sa transformation numérique, en concentrant les moyens sur des chaînes moins nombreuses mais pleinement dédiées à leur mission de service public.',\n",
       " 'Nous rapprochons les sociétés audiovisuelles publiques pour une plus grande efficacité et une meilleure adéquation entre le périmètre des chaînes et leurs missions de service public. Leurs conseils d’administration seront plus indépendants et plus ouverts dans sa composition. Ils seront chargés de designer les dirigeants, après appel public à candidatures.',\n",
       " 'Nous porterons progressivement le budget de la défense à 2% du PIB en 2025. Cet effort est nécessaire, pour faire face au renforcement des effectifs post-attentats et pour moderniser nos équipements, mobilisés sur plusieurs fronts.',\n",
       " 'Nous engagerons la modernisation de la force de dissuasion nucléaire, garante de la sécurité de la France. Cet effort concernera ses composantes sous-marines et aéroportées.',\n",
       " 'Nous continuerons de renouveler les équipements conventionnels pour permettre la préservation de notre autonomie, de notre efficacité et de la sécurité de nos soldats. L’ensemble des forces est concerné : drones et satellites pour le renseignement, avions de transport, patrouilleurs maritimes, véhicules de combat.',\n",
       " 'Nous maintiendrons la force opérationnelle terrestre à 77.000 hommes, effectifs nécessaires pour maintenir le niveau d’engagement actuel de nos troupes, tout en leur laissant le temps nécessaire pour s’entraîner et se reposer.',\n",
       " 'Nous renforcerons la priorité en matière de cyberdéfense et de cybersécurité. Nous l’avons vu lors des élections américaines, Internet est un nouveau terrain d’opération des conflits et des tensions. Il en va de notre souveraineté.',\n",
       " 'Nous développerons (vraiment) l’Europe de la défense.',\n",
       " 'Nous activerons les « groupements tactiques ».',\n",
       " 'Nous soutiendrons la création d’un Fonds européen de défense, pour financer des programmes communs, tel un drone européen.',\n",
       " 'Nous ferons décroître progressivement l’opération Sentinelle, en fonction de l’évolution de la menace terroriste.',\n",
       " 'Nous revitaliserons la réserve opérationnelle et la garde nationale.',\n",
       " \"Nous réduirons la pauvreté des personnes âgées. Le minimum vieillesse, pour une personne seule, est aujourd'hui d'environ 800 euros : nous le porterons au-delà de 900 euros.\",\n",
       " 'Nous créerons un service sanitaire de 3 mois pour tous les étudiants en santé : dans ce cadre, 40 000 d’entre eux interviendront pour des actions de prévention, et notamment pour des actions de prévention de la dépendance.',\n",
       " 'Nous ferons évoluer la rémunération des médecins en ville afin de mieux valoriser les actions de prévention de la dépendance.',\n",
       " 'Nous développerons et soutiendrons les soins à domicile (ménagers, infirmiers).',\n",
       " 'Nous faciliterons le retour à domicile des personnes en situation de perte d’autonomie via différents dispositifs.',\n",
       " 'Nous soutiendrons et développerons les solutions d’hospitalisation à domicile et de maintien à domicile pour éviter les hospitalisations inutiles et favoriser le confort des patients les plus fragiles.',\n",
       " 'Nous relancerons le recensement des logements accessibles et/ou adaptés, réalisé à l’initiative des communes.',\n",
       " 'Nous encouragerons toutes les formes d’habitat inclusif et partagé, et en particulier l’hébergement intergénérationnel.',\n",
       " 'Nous encouragerons les réseaux d’aide à la personne (associations où coopèrent médecins, professions para-médicales, services sociaux) et accélérerons le décloisonnement entre la ville et l’hôpital d’une part, et les secteurs sanitaire et social d’autre part.',\n",
       " 'Nous permettrons aux aidants de mieux se former ou d’être accompagnés.',\n",
       " 'Nous faciliterons les démarches administratives que réalisent les aidants pour leurs aînés.',\n",
       " 'Nous permettrons le don de RTT entre collègues pour les aidants dans les entreprises.',\n",
       " 'Nous favoriserons la création d’hébergements temporaires pour « aider les aidants » et nous encouragerons le « baluchonnage », c’est à dire l’intervention d’une tierce personne au sein du domicile des personnes âgées.',\n",
       " 'Nous instaurerons des enquêtes de satisfaction systématiques dans les établissements médico-sociaux.',\n",
       " 'Nous simplifierons et élargirons le droit actuel pour déployer plus facilement des expérimentations et les solutions de santé connectée.',\n",
       " 'Nous encouragerons les solutions de télémédecine dans les EPHAD, les maisons de santé et les centres gériatriques afin d’assurer un suivi médical pertinent aux personnes en situation de perte d’autonomie sur l’ensemble du territoire.',\n",
       " 'Nous travaillerons à la structuration du secteur de l’aide à domicile et, en lien avec la Banque Publique d’Investissement, au développement de la « Silver Economie ».',\n",
       " 'Nous permettrons de négocier au plus près du terrain.',\n",
       " 'Une démarche volontariste sera engagée pour réduire fortement le nombre de branches : nous pouvons viser d’en avoir entre 50 et 100.',\n",
       " 'Nous simplifierons les instances de représentation du personnel pour un dialogue social plus efficace et rendre le passage des seuils plus souple.',\n",
       " 'Nous renforcerons la formation des représentants des salariés.',\n",
       " 'Nous permettrons à chaque salarié d’apporter des ressources financées par l’employeur au syndicat de son choix.',\n",
       " 'Nous encouragerons l’engagement syndical, la reconnaissance de celui-ci dans les carrières au sein des entreprises et nous lutterons contre la discrimination syndicale.',\n",
       " 'Nous maintiendrons un rythme élevé de création de places en crèche.',\n",
       " 'Pour que les familles soient à égalité face aux modes de garde des enfants et empêcher les passe-droits, nous obligerons les communes à publier en ligne leurs critères d’attribution des places de crèche, puis à mettre en place systématiquement un système de cotation des demandes.',\n",
       " 'Nous orienterons progressivement les critères d’attribution vers des règles plus équitables et modulerons les financements nationaux selon le poids accordé par la commune aux critères sociaux.',\n",
       " 'Nous diviserons par deux les effectifs des classes de CP et de CE1 en REP et REP+, mesure la plus importante prise en faveur de l’éducation prioritaire depuis la création des ZEP en 1981.',\n",
       " 'Nous introduirons, au début de chaque année, des bilans personnalisés, de la classe de grande section à la troisième, afin que les enseignants disposent d’une base fiable et utile pour mesurer les progrès de chaque élève, et qu’ils choisissent les meilleurs outils pour un enseignement adapté aux besoins de chacun.',\n",
       " 'Nous renforcerons l’individualisation des apprentissages en développant des supports numériques et des applications adaptées pour faire évoluer les pratiques pédagogiques ; les enseignants seront formés à cette fin.',\n",
       " 'Nous lutterons contre la déperdition des savoirs scolaires en proposant des stages de remise à niveau en fin d’été entre le CP et le CM2. Ils seront assurés par des enseignants volontaires, qui seront rémunérés à ce titre.',\n",
       " 'Nous proposerons à tous un accompagnement après la classe.',\n",
       " 'Nous proposerons, comme en primaire, des stages de remise à niveau pour les collégiens les plus en difficulté.',\n",
       " 'Nous remettrons des études dirigées partout dans les établissements.',\n",
       " 'Nous formerons, sur la durée du quinquennat, 1 million de jeunes aujourd’hui sans qualification ni activité.',\n",
       " \"Nous ferons un effort massif pour l'apprentissage.\",\n",
       " 'Nous n’affecterons plus aucun professeur (hors choix motivé) en zone prioritaire pendant ses 3 premières années d’enseignement.',\n",
       " 'Nous reconnaîtrons mieux l’engagement et la contribution des enseignants exerçant en REP+ (zones prioritaires).',\n",
       " 'Nous étendrons la formation en alternance dès la licence pour les étudiants qui se destinent aux métiers de l’enseignement.',\n",
       " 'Nous placerons une formation ambitieuse au cœur du système éducatif.',\n",
       " 'Nous donnerons l’initiative aux établissements. Concrètement, cela signifiera :',\n",
       " 'Nous accompagnerons l’autonomie des établissements de diagnostics réguliers et si besoin de mesures d’accompagnement spécifiques.',\n",
       " 'Nous favoriserons un lien de confiance renouvelé par une place plus grande donnée à l’échange avec les parents, en généralisant notamment l’expérience de la « mallette des parents ».',\n",
       " 'Nous mobiliserons, en maternelle, des jeunes engagés dans le cadre du service civique, afin d’appuyer les professeurs, particulièrement pour la maîtrise du langage.',\n",
       " 'Contre toutes les attaques qu’il subit, nous défendrons le droit à l’interruption volontaire de grossesse (IVG).',\n",
       " 'Pour que les couples soient à égalité face aux modes de garde des enfants et empêcher les passe-droits, nous obligerons les communes à publier en ligne leurs critères d’attribution des places de crèche, puis à mettre en place systématiquement un système de cotation des demandes. Dans le même temps, nous soutiendrons l’effort massif de construction de places de crèche.',\n",
       " 'Pour que les femmes soient à égalité face au congé maternité, nous créerons un congé de maternité unique garanti pour toutes les femmes quel que soit leur statut (salariée, entrepreneuse, intermittente, non-salariée, statut multiple, etc.) aligné sur le régime le plus avantageux.',\n",
       " 'Parce que l’impôt ne doit pas décourager le travail des femmes, nous créerons une option d’individualisation de l’impôt sur le revenu.',\n",
       " 'Pour accélérer l’égalité professionnelle et salariale dans les grandes entreprises, le Défenseur des Droits aura pour mission de favoriser les opérations de contrôle aléatoires et imprévus à grande échelle sur les politiques salariales et de ressources humaines, et de rendre publics les résultats.',\n",
       " 'Nous mettrons en œuvre la parité dans les nominations des grands postes de l’Etat (agences et directeurs d’administration).',\n",
       " 'Nous lancerons dès la première année du quinquennat une campagne nationale de communication et de sensibilisation sur le sujet du harcèlement et des violences faites aux femmes.',\n",
       " 'Nous augmenterons le montant des amendes pour incivilité pour qu’enfin le harcèlement ne soit plus toléré dans l’espace public. Elles seront exigées immédiatement.',\n",
       " 'Nous accélérerons la généralisation du téléphone d’alerte pour secourir plus rapidement les victimes de violence. Ce dispositif, expérimenté dans plusieurs départements, a déjà sauvé des vies.',\n",
       " 'Nous mettrons en place une assurance-chômage pour tous, parce que dans un monde qui se transforme, le chômage ne peut plus être un risque contre lequel certains se couvrent à titre individuel, et d’autres par des garanties collectives.',\n",
       " \"Nous ouvrirons les droits à l'assurance-chômage aux salariés qui démissionnent.\",\n",
       " \"La contrepartie de ces droits nouveaux sera un contrôle accru de la recherche d’emploi, pour lequel les moyens de Pôle Emploi seront renforcés et les sanctions rendues justes et crédibles. À l'arrivée à Pôle Emploi, un bilan de compétence sera réalisé dans les 15 jours. Si plus de deux emplois décents, selon des critères de salaire et de qualification, sont refusés ou que l'intensité de la recherche d'emploi est insuffisante, alors les allocations seront suspendues.\",\n",
       " 'Parce que tous seront désormais couverts quel que soit leur statut, l’État prendra en charge le pilotage du système d’assurance-chômage. Il y associera l’ensemble des parties prenantes, et en particulier les partenaires sociaux.',\n",
       " 'La majeure partie des contributions actuelles des entreprises pour la formation sera progressivement convertie en droits individuels pour les actifs. Chacun pourra s’adresser directement aux prestataires de formation, selon ses besoins. Le système sera simple.',\n",
       " 'Les droits seront d’autant plus élevés que les besoins de qualification sont importants. Le système sera juste.',\n",
       " 'Chacun disposera d’une information complète sur les résultats concrets de chaque formation, de chaque accompagnement (retour à l’emploi, impact sur la trajectoire salariale…) car tous les organismes seront obligés de se soumettre à une labellisation et d’afficher leurs performances : plus personne ne s’engagera dans une formation sans savoir à quoi elle mène ni quelle est sa qualité. Le système sera transparent.',\n",
       " 'Nous investirons massivement dans l’acquisition des compétences.',\n",
       " 'Nous soutiendrons la constitution d’universités de niveau mondial, sur la base de regroupements volontaires d’universités et de grandes écoles avec le soutien des organismes de recherche.',\n",
       " 'Nous allouerons des moyens supplémentaires au financement de projets en priorité.',\n",
       " 'Nous ferons de la France le leader mondial de la recherche sur le réchauffement climatique et la transition environnementale.',\n",
       " 'Nous donnerons aux universités la possibilité de déployer librement leur offre de formation, à condition d’offrir une palette suffisamment large de filières et d’orientations et de favoriser les aménagements de cursus aux étudiants en stage, en alternance ou en activité professionnelle.',\n",
       " 'Nous donnerons aux universités et aux grandes écoles la liberté de recruter eux-mêmes leurs enseignants-chercheurs suivant les standards internationaux de qualité et d’indépendance.',\n",
       " 'De nouveaux modèles de gouvernance pour les universités seront développés.',\n",
       " 'Le recrutement des dirigeants des organismes de recherche et des grandes universités se fera suivant les normes internationales.',\n",
       " 'Nous simplifierons les procédures d’évaluation des établissements en les consacrant exclusivement à l’appréciation du bilan et des résultats des établissements, des unités de recherche et des formations.',\n",
       " 'Tous les étudiants pourront désormais réellement évaluer leurs cours à la fin du semestre.',\n",
       " 'Nous sanctuariserons le budget de l’enseignement supérieur et de la recherche.',\n",
       " 'Nous attribuerons des moyens publics supplémentaires aux établissements d’enseignement supérieur et de recherche sur des bases contractuelles.',\n",
       " 'Nous permettrons aux universités et aux grandes écoles de diversifier leurs sources de financement.',\n",
       " 'Nous mobiliserons les bailleurs sociaux pour créer au sein du parc social des « logements jeunes » (objectif : 30 000 supplémentaires).',\n",
       " 'Nous construirons 80 000 logements pour les jeunes : 60 000 logements pour les étudiants et 20 000 logements pour les jeunes actifs.',\n",
       " 'Nous inciterons les universités à élargir les horaires d’ouverture de leurs bibliothèques, à aménager des plages horaires en soirée durant la semaine, et à étendre progressivement l’ouverture le dimanche.',\n",
       " 'Nous établirons un système d’aide plus progressif et plus juste, et nous réinstaurerons les bourses au mérite pour les étudiants titulaires d’une mention \"Très Bien\" au baccalauréat.',\n",
       " \"Pour éclairer nos étudiants sur leur choix d’orientation, nous exigerons que chaque établissement de l'enseignement supérieur publie en toute transparence les taux de réussite et les débouchés professionnels, par formation, de ses anciens étudiants.\",\n",
       " 'Chaque université affichera les prérequis de chacune des formations qu’elle propose.',\n",
       " \"Nous garantirons une meilleure transition de l'enseignement secondaire vers le supérieur.\",\n",
       " 'Pour enrayer la sélection par l’échec, nous créerons des formations avec un véritable accompagnement pédagogique personnalisé, comportant des passerelles vers les filières plus spécialisées ou plus exigeantes.',\n",
       " 'Nous développerons la formation universitaire continue pour favoriser, tout au long de la vie, les mobilités professionnelles et les reconversions.',\n",
       " 'Nous revaloriserons la formation professionnelle via la création de 100 000 places supplémentaires dans de nouvelles filières courtes professionnalisantes proposées par les lycées, les universités, les établissements consulaires en lien avec les branches professionnelles.',\n",
       " 'Nous supprimerons la caisse qui gère le Régime Social des Indépendants (RSI) pour l’adosser au régime général, afin que tous bénéficient de la même qualité de service et des mêmes droits. Nous réduirons nettement les charges qui pèsent sur les indépendants (professions libérales, commerçants, artisans, agriculteurs…)',\n",
       " 'Nous ouvrirons des droits à l’assurance-chômage aux indépendants et aux entrepreneurs afin qu’ils puissent bénéficier des mêmes droits au chômage que les salariés si leur aventure entrepreneuriale ne s’avère pas couronnée de succès.',\n",
       " 'Nous supprimerons les charges des microentreprises (auto-entrepreneurs) la première année et doublerons les plafonds pour permettre à plus d’entreprises de bénéficier de cette mesure et du régime fiscal de la microentreprise. Nous permettrons chaque année à tous les artisans et commerçants d’opter ou non, selon leurs besoins, pour le régime fiscal de la microentreprise.',\n",
       " 'Nous refonderons l’action de l’administration pour la mettre au service des entreprises et l’inciter à produire des règles simples et stables. Cela se traduira notamment par la création d’un droit à l’erreur. L’administration sera d’abord là pour conseiller avant de sanctionner, la sanction étant limitée aux manquements délibérés, répétés ou particulièrement graves.',\n",
       " 'Nous créerons un code du travail digital pour mieux accompagner les PME dans les décisions qu’elles prennent. Parce que la réglementation du travail est souvent trop complexe, un site donnera accès aux PME aux obligations légales et conventionnelles à respecter, ainsi qu’à des conseils fournis par l’administration. Les réponses fournies en ligne pourront être valables auprès de cette dernière.',\n",
       " 'Nous développerons les instruments permettant d’accompagner et d’aider les TPE/PME dans les principales étapes de la gestion de leurs ressources humaines comme, par exemple, pour faire face à leurs premiers recrutements, s’acquitter de l’obligation de mettre en place un entretien professionnel ou pour leur permettre d’accéder à la formation professionnelle à laquelle elles ont droit pour leurs salariés. Cette offre de service d’information, de conseil et d’accompagnement permettra d’assurer l’effectivité des mesures prises plus efficacement que par la sanction.',\n",
       " 'Nous instaurerons un plafond et un plancher pour les indemnités prud’homales pour licenciement sans cause réelle et sérieuse (hormis les cas de discrimination, de harcèlement, etc.). Le plancher permettra de protéger les droits des salariés. Le plafond donnera aux entreprises une visibilité et une assurance qui permettront de lever les freins à l’embauche en CDI.',\n",
       " 'Nous poursuivrons les efforts de simplification dans l’accès à la commande publique.',\n",
       " 'L’Impôt de Solidarité sur la Fortune ne concernera plus l’investissement qui sert l’économie (actions, parts, titres d’entreprises). Il sera remplacé par un Impôt sur la Fortune Immobilière, qui reposera uniquement sur les biens immobiliers, dans les mêmes conditions que l’ISF aujourd’hui.',\n",
       " 'Un prélèvement forfaitaire unique (PFU) de l’ordre de 30% sera appliqué à l’ensemble des revenus tirés du capital mobilier (intérêts, dividendes, plus-values mobilières etc.). Il simplifiera considérablement le choix des investisseurs qui se détermineront uniquement en fonction du rendement, du risque et des frais associés à chaque produit, avec plus de transparence, et non plus en fonction d’incitations fiscales et réglementaires. Il évitera des impositions marginales excessives, qui peuvent décourager l’investissement.',\n",
       " 'Nous constituerons un Fonds pour l’industrie et l’innovation. Il sera doté de 10 milliards d’euros issus des actions d’entreprises possédées de manière minoritaire par l’Etat et sera placé au service de notre industrie et de l’innovation. Nous mobiliserons les revenus issus de ces participations pour financer l’industrie du futur.',\n",
       " 'Nous amplifierons encore les efforts en matière de réduction des délais de paiement, en renforçant notamment les obligations en la matière des collectivités publiques et dissuaderons les mauvais payeurs par une action ferme de l’Etat.',\n",
       " 'Nous réduirons le taux d’IS jusqu’à la moyenne européenne de 25%.',\n",
       " 'Nous faciliterons l’embauche des salariés peu qualifiés, en atteignant zéro charges générales au niveau du SMIC.',\n",
       " 'Nous défendrons l’instauration d’un contrôle européen sur les investissements étrangers afin de défendre ensemble nos entreprises stratégiques.',\n",
       " 'Nous défendrons le renforcement des procédures européennes anti-dumping afin de pouvoir agir plus rapidement et de manière plus dissuasive.',\n",
       " 'Nous défendrons un Buy European Act permettant de réserver l’accès aux marchés publics européens aux entreprises qui localisent au moins la moitié de leur production en Europe.',\n",
       " 'Nous défendrons, au niveau européen, une taxe sur le chiffre d’affaires réalisé dans nos pays pour des prestations de service électronique. Cela éliminera ainsi les montages consistant à rapatrier les profits dans des paradis fiscaux.',\n",
       " 'Nous devrons prendre des sanctions commerciales contre les pays qui ne respectent pas les clauses sociales et environnementales des accords commerciaux conclus avec l’Union européenne. Un procureur commercial garantira la rapidité de ces mesures.',\n",
       " 'Nous augmenterons le salaire net de chacun, en supprimant les cotisations chômage et maladie. Grâce à cette mesure, financée par une hausse de la CSG, tous les salariés verront leur salaire augmenter. Par exemple, si l’on gagne 2200 euros nets par mois, ce sera 500 euros nets supplémentaires par an. Les fonctionnaires bénéficieront d’une mesure équivalente.',\n",
       " \"Nous permettrons de négocier au plus près du terrain. Le Code du travail définit un socle de droits et de règles (durée légale du travail, salaire minimum, égalité professionnelle...), qui continuera de s’imposer aux entreprises. Au-delà, la primauté sera donnée aux accords d'entreprise sur les accords de branche.\",\n",
       " \"Une démarche volontariste sera engagée pour réduire fortement le nombre de branches à celles qui pourront pleinement participer à une politique de filière au-delà des métiers et des secteurs : nous pouvons viser d'en avoir entre cinquante et cent.\",\n",
       " 'Nous simplifierons les instances de représentation du personnel pour un dialogue social plus efficace.',\n",
       " 'Nous renforcerons la formation des représentants des salariés.',\n",
       " 'Nous permettrons à chaque salarié d’apporter des ressources financées par l’employeur au syndicat de son choix.',\n",
       " 'Nous fermerons les centrales à charbon restantes en 5 ans.',\n",
       " 'En cohérence avec l’accord de Paris, nous interdirons l’exploration des gaz de schiste et ne délivrerons aucun nouveau permis d’exploration d’hydrocarbures.',\n",
       " 'Nous intégrerons le coût écologique dans le prix du carbone, en faisant monter en puissance la taxe carbone pour atteindre 100 €/tCO2 en 2030.',\n",
       " 'Nous financerons le développement des énergies renouvelables : d’ici à 2022, nous avons pour objectif de doubler la capacité en éolien et en solaire photovoltaïque.',\n",
       " 'Nous en finirons avec les procédures qui s’empilent, en raccourcissant et en simplifiant les procédures de déploiement des énergies renouvelables.',\n",
       " 'Nous focaliserons les efforts de recherche, de développement et d’investissement des opérateurs sur le stockage de l’énergie et les réseaux électriques intelligents.',\n",
       " 'Parce que nous savons aujourd’hui ne pas disposer de tous les éléments de connaissance nécessaires, nous prendrons nos décisions stratégiques une fois que l’Autorité de Sûreté Nucléaire (ASN) aura rendu ses conclusions, attendues pour 2018, sur la prolongation des centrales au-delà de 40 ans.',\n",
       " \"La fermeture de la centrale de Fessenheim sera confirmée. Elle interviendra au moment de la mise en service de l'EPR de Flamanville.\",\n",
       " \"Les moyens de l'ASN seront consolidés.\",\n",
       " 'Nous renforcerons la lutte contre l’obsolescence programmée en renforçant l’affichage de la durée de vie des appareils électroménagers.',\n",
       " 'Nous visons « 100% de plastique recyclé sur tout le territoire » d’ici 2025, grâce à la modernisation des centres de tri  par l’augmentation progressive de la taxe générale sur les activités polluantes (sur l’incinération et l’enfouissement).',\n",
       " 'Les industriels devront faire figurer sur les emballages des indications très simples pour faciliter le tri et en faire un réflexe pour chaque Français.',\n",
       " 'Nous étendrons le système de bonus-malus sur l’éco-contribution, pour favoriser les produits durables, tout en pénalisant les produits néfastes pour l’environnement.',\n",
       " 'Nous généraliserons les engagements volontaires de lutte et lancerons de nouvelles initiatives contre le gaspillage alimentaire avec les fédérations professionnelles concernées.',\n",
       " \"Nous mènerons une campagne de mobilisation de même ampleur que le plan cancer afin de sensibiliser les Français et d'inciter à des nouvelles pratiques de consommation.\",\n",
       " 'Pour réduire massivement la pollution liée aux particules fines, la fiscalité du diesel sera alignée sur celle de l’essence  pendant le quinquennat.',\n",
       " 'Nous pèserons pour renforcer les normes anti-pollution européennes pour les véhicules neufs et les contrôles en conditions réelles (en tirant les enseignements du scandale Volkswagen).',\n",
       " 'D’ici à 2022, l’ensemble de la restauration collective –  les cantines des écoles et les restaurants d’entreprise – devra proposer au moins 50% de produits biologiques, labels de qualité, ou local.',\n",
       " \"Nous réunirons tous les acteurs de la filière alimentaire afin d'élaborer un agenda des solutions pour l'alimentation, dans le cadre d’un “Grenelle de l’alimentation”.\",\n",
       " 'Dès le début du quinquennat, nous séparerons les activités de conseil aux agriculteurs et de vente des pesticides qui peuvent susciter des conflits d’intérêt.',\n",
       " 'Nous interviendrons avec fermeté au niveau européen pour revoir totalement les méthodes d’évaluation des produits.',\n",
       " \"Nous promouvrons la position de la France comme leader dans la recherche sur l'impact de ces substances et sur nos capacités à les remplacer.\",\n",
       " 'Nous rendrons plus transparente la rémunération des experts.',\n",
       " \"L'Etat interdira au plus vite les perturbateurs endocriniens repérés comme ayant des impacts sanitaires avérés ou probables, dès lors qu'il existe des solutions scientifiquement reconnues comme moins toxiques.\",\n",
       " \"Nous mettrons en place un site national d'information des Français sur ces perturbateurs, particulièrement pour les produits commercialisés à destination des enfants et des femmes enceintes.\",\n",
       " 'L’Etat soutiendra les régions. Il leur accordera des fonds, en contrepartie de leur engagement à :',\n",
       " \"Nous lancerons un grand plan de rénovation des bâtiments publics, de l'Etat et des collectivités locales pour 4 milliards d’euros.\",\n",
       " \"Nous accélérerons le déploiement des véhicules électriques en maintenant le bonus-malus à l'achat et en accélérant le déploiement des bornes de recharge.\",\n",
       " 'Nous créerons dans le cadre du plan d’investissement une prime exceptionnelle de 1000 euros pour permettre à tous ceux dont les véhicules ont été fabriqués avant 2001 d’acheter des voitures plus écologiques, qu’elles soient neuves ou d’occasion.',\n",
       " 'Nous permettrons à tous de pouvoir réaliser les travaux nécessaires, notamment à ceux qui n’ont pas aujourd’hui toutes les ressources pour investir.',\n",
       " 'Nous proposerons un audit gratuit à tous les propriétaires occupants en situation de précarité énergétique : maisons à la campagne, pavillons du périurbain, copropriétés où les travaux ont été trop longtemps repoussés.',\n",
       " 'Nous viserons la rénovation de la moitié des logements-passoires des propriétaires les plus modestes dès 2022, afin de diminuer les émissions et de faire baisser les charges (électricité, fioul, gaz). A cette fin, via un fonds public doté de 4 milliards, nous financerons les travaux des propriétaires les plus précaires.',\n",
       " 'Nous accompagnerons les PME françaises pour qu’elles se lancent dans des plans anti-gaspi afin de réduire leurs consommations d’énergies et de ressources, grâce à des diagnostics aidés. Les coûts des diagnostics seront remboursés avec une partie minime des économies réalisées.',\n",
       " 'Nous rémunérerons les agriculteurs pour les services environnementaux qu’ils rendent (entretien des paysages, pâturage des alpages qui réduisent les avalanches, etc.), à hauteur de 200 millions d’euros par an dans le cadre de la PAC.',\n",
       " 'Nous lancerons un plan de transformation agricole de 5 milliards d’euros sur 5 ans. Les financements seront réservés à :',\n",
       " \"Nous mobiliserons les chefs d’Etat et les entreprises, afin de créer une dynamique et une prise de conscience de même ampleur que celle engagée sur la question climatique, grâce à une conférence mondiale. On localisera dans les outre-mer l'Agence française pour la biodiversité.\",\n",
       " 'Nous devrons prendre des sanctions commerciales au niveau européen contre les pays qui ne respectent pas les clauses environnementales des accords commerciaux conclus avec l’Union européenne. Face aux velléités du nouveau Président américain, la France devra notamment peser pour que l’Europe mette les Etats-Unis face à leurs responsabilités.',\n",
       " 'Nous proposerons à nos partenaires de lancer dans toute l’Union européenne des conventions démocratiques dès la fin 2017.',\n",
       " 'Nous mettrons en place des listes européennes pour élire les 73 eurodéputés correspondant aux sièges britanniques au Parlement européen. Si le calendrier des négociations du Brexit le permet, ce changement pourra avoir lieu dès les élections européennes de juin 2019.',\n",
       " \"Nous proposerons à nos partenaires de renforcer le corps de police des frontières européen, en lui donnant une capacité de surveillance et de protection durables des frontières extérieures. L'objectif est de 5 000 hommes mobilisables par la nouvelle Agence européenne de garde-frontières et de garde‑côtes.\",\n",
       " 'Nous proposerons de développer des accords globaux avec les principaux pays de départ et de transit des migrants, fondés sur une aide au développement, l’installation de points de contrôle dans ces pays avant l’arrivée dans l’UE, l’aide à la lutte contre les passeurs et le retour des migrants non autorisés à entrer dans l’UE. Le respect de ces engagements sera vérifié lors d’une conférence annuelle et conditionnera le niveau de l’aide au développement.',\n",
       " 'Nous proposerons de créer un Fonds européen de défense qui financera des équipements militaires communs (ex. drone européen) et des programmes conjoints de recherche‑développement en matière militaire.',\n",
       " 'Nous proposerons de mettre en place un Quartier Général européen permanent chargé d’assurer une planification et un contrôle des opérations de défense européenne, en lien étroit avec les centres de commandement nationaux et l’OTAN.',\n",
       " 'Nous proposerons de créer un Conseil de sécurité européen rassemblant les principaux responsables militaires, diplomatiques et du renseignement des Etats membres.',\n",
       " 'Pour cela, nous mettrons en place une coopération spécifique entre les Etats membres qui souhaitent avancer ensemble sur les questions de défense sans attendre la participation de tous les pays de l’UE.',\n",
       " 'Nous proposerons d’établir un véritable système d’information européen pour faciliter les actions de renseignement : une base de données centralisée avec un échange obligatoire d’informations, accessible aux services de renseignement des différents Etats membres.',\n",
       " 'Nous proposerons de renforcer et d’harmoniser la sécurité des cartes d’identité (biométrie).',\n",
       " 'Nous proposerons de créer un budget pour la zone euro avec 3 fonctions (investissements d’avenir, assistance financière d’urgence et réponse aux crises économiques). L’accès à ce budget sera conditionné au respect de règles communes en matière fiscale et sociale (pour éviter le dumping au sein de la zone euro).',\n",
       " 'Nous proposerons de créer un poste de ministre de l’Economie et des Finances de la zone euro, qui aura la responsabilité du budget de la zone euro, sous le contrôle d’un Parlement de la zone euro, rassemblant les parlementaires européens des Etats membres.',\n",
       " \"Nous exigerons que soit mis en place un socle de droits sociaux européens, en définissant des standards minimums en matière de droits à la formation, de couverture santé, d’assurance chômage ou de salaire minimum (à des niveaux tenant compte de l'inégal développement des Etats membres).\",\n",
       " 'Nous défendrons le renforcement des instruments anti-dumping, qui doivent être plus dissuasifs et plus réactifs (par ex. pour lutter contre la concurrence déloyale de pays comme la Chine ou l’Inde sur l’acier).',\n",
       " 'Nous défendrons un \"Buy European Act\" permettant de réserver l’accès aux marchés publics européens aux entreprises qui localisent au moins la moitié de leur production en Europe.',\n",
       " 'Nous proposerons de mettre en place au niveau européen un instrument de contrôle des investissements étrangers en Europe pour préserver nos intérêts et secteurs stratégiques, à l’instar de ce que font les Etats-Unis ou la Chine ou de ce qui existe en France.',\n",
       " 'Nous proposerons de créer un « procureur commercial européen », pour vérifier le respect des engagements pris par nos partenaires et sanctionner rapidement leur violation, notamment en matière sociale, environnementale ou fiscale.',\n",
       " 'Nous exigerons que soit intégré dans tous les accords commerciaux de l’UE un volet de coopération fiscale ainsi que des clauses sociales et environnementales contraignantes (en abaissant en priorité les tarifs douaniers sur les biens et services « propres » et en instituant des sanctions commerciales en cas de violation des clauses sociales et environnementales).',\n",
       " 'Nous proposerons la mise en place des comités de vigilance associant des représentants d’associations et d’ONG au cours de la négociation, puis pour l’application des accords commerciaux et l’évaluation de leur impact.',\n",
       " \"Nous réformerons le marché carbone européen, en agissant par la fixation d'un prix plancher de la tonne de carbone. C’est la condition d’une transition énergétique efficace et équitable pour nos entreprises.\",\n",
       " 'Nous rendrons la politique agricole commune plus protectrice et plus réactive, en mettant en place des mécanismes de stabilisation des revenus adaptés à chaque filière (subvention contra-cyclique, régulation de la production…) et en favorisant une agriculture plus respectueuse de l’environnement.',\n",
       " \"Nous promouvrons la mise en place d’un Fonds européen de financement en capital-risque pour accompagner la croissance des start-up européennes du numérique. Ce fonds devra être doté d’au moins 5 milliards d'euros.\",\n",
       " 'Nous devrons renégocier avec les Etats-Unis le  *Privacy Shield*, le cadre de protection des données, d’ici 2018, afin de garantir la préservation des données personnelles de tous les Européens.',\n",
       " \"Nous proposerons la mise en en place d'une Agence européenne pour la confiance numérique, chargée de réguler les grandes plateformes numériques pour garantir la protection des données personnelles et la loyauté de leur fonctionnement.\",\n",
       " 'Nous proposerons de généraliser progressivement le programme « Erasmus », avec l’objectif de 200 000 jeunes Français par an (soit 25% d’une classe d’âge) effectuant au moins un semestre à l’étranger d’ici 2022.',\n",
       " 'Nous inciterons à la création d’un statut européen de l’apprenti facilitant la mobilité.',\n",
       " 'Nous défendrons le mariage pour tous, qui est un acquis fondamental du quinquennat en cours.',\n",
       " 'Nous lutterons contre l’homophobie du quotidien, notamment dans le milieu du travail, en multipliant les opérations de contrôles aléatoires (\"testing\") et de désignation publique des entreprises fautives (\"name and shame\").',\n",
       " 'Nous assurerons la participation de la France à une initiative internationale pour lutter contre les trafics et la marchandisation des femmes liés au développement de la GPA dans le monde.',\n",
       " 'Nous sommes favorables à l’ouverture de la procréation médicalement assistée (PMA) pour les femmes seules et les couples de femmes.',\n",
       " 'Nous ne sommes pas favorables à autoriser la gestation pour autrui (GPA) en France.',\n",
       " 'Nous assurerons que les enfants issus de la GPA nés à l’étranger voient leur filiation reconnue à l’état-civil français, selon la jurisprudence de la Cour Européenne des Droits de l’Homme.',\n",
       " 'Le plan d’investissement',\n",
       " 'Nous donnerons la priorité à l’accessibilité des transports publics et de la voirie.',\n",
       " 'Nous accompagnerons les collectivités locales pour qu’elles fournissent une solution d’accessibilité à leurs habitants.',\n",
       " 'Nous investirons pour faciliter l’accessibilité numérique. Nous créerons une plateforme numérique collaborative pour généraliser des bonnes pratiques locales.',\n",
       " '‘Changer de regard’ sur le handicap commence par ‘mieux connaître’ le handicap : nous instaurerons une sensibilisation systématique au handicap dans les écoles primaires et les collèges, en favorisant l’intervention de personnes concernées dans les classes.',\n",
       " 'Nous encouragerons la tenue d’actions collectives autour du handicap dans les administrations, les grandes entreprises publiques et les collectivités (séminaires, mécénat de compétence, collectes, partenariats, programmes d’aide).',\n",
       " 'Nous favoriserons des binômes entre personnes valides et handicapées dans les différents lieux de vie (école, travail, ville) fondés sur l’échange et la contribution effective de chacun. L’aide ne doit pas seulement passer par un professionnel ou la famille.',\n",
       " 'Nous identifierons un référent facilement accessible pour chaque personne, qui permettra de renforcer l’accompagnement aux démarches.',\n",
       " 'Nous améliorerons la protection juridique des majeurs sous tutelle afin de répondre aux recommandations récentes du Défenseur des droits. Nous développerons les moyens des services des tutelles afin de permettre un encadrement individualisé de qualité de ces personnes.',\n",
       " \"L'allocation aux adultes handicapés (AAH), pour une personne seule, est aujourd'hui d'environ 800€ par mois : nous la porterons au-delà de 900 par mois.\",\n",
       " 'Nous instaurerons des évaluations systématiques de la satisfaction dans les établissements médico-sociaux.',\n",
       " 'Nous adapterons les règles de tarification des établissements et services médico-sociaux pour permettre une réponse individualisée et le maintien du lien avec les familles.',\n",
       " 'Les bailleurs sociaux devront identifier les logements adaptés pour les personnes handicapées et les personnes vieillissantes de leur parc (logements en rez-de-chaussée accessibles sans marche depuis le trottoir par exemple) et rendre cette liste transparente.',\n",
       " \"Les bailleurs sociaux devront proposer des solutions de relogement aux personnes handicapées et vieillissantes dont le logement social n'est plus adapté, ou bien faire des travaux dans ces logements (par exemple changer une baignoire en douche, adapter le mobilier de la cuisine,...).\",\n",
       " 'Nous continuerons à encourager la scolarisation en milieu ordinaire des nombreux enfants aujourd’hui sans solution scolaire.',\n",
       " 'Nous donnerons accès à un(e) auxiliaire de vie scolaire à tous les enfants en situation de handicap qui en ont besoin pour avoir une scolarité comme les autres.',\n",
       " 'Nous améliorerons le parcours des jeunes permettant l’accès aux diplômes, notamment au travers des adaptations numériques.',\n",
       " 'Nous améliorerons la vie des personnes handicapées autour de l’école, par exemple en assurant une meilleure accessibilité des activités de loisirs péri-scolaires, en organisant des séjours de vacances dédiés ou mixtes.',\n",
       " 'Nous ferons de la lutte contre la discrimination une priorité nationale. Nous développerons des opérations de contrôles aléatoires et imprévus à grande échelle. Nous désignerons les entreprises fautives. Les partenaires sociaux seront également mobilisés.',\n",
       " \"Nous prévoirons un abondement public pour le compte personnel d'activité des personnes handicapées et introduirons une labellisation spécifique pour les formations qui leur sont destinées, tenant compte des débouchés professionnels des formations.\",\n",
       " 'Nous développerons et encouragerons les initiatives de tutorat dans l’entreprise.',\n",
       " \"Nous encouragerons les expérimentations tripartites (Pôle Emploi/associations/organismes de formation) pour favoriser l'insertion et la reinsertion des travailleurs handicapés.\",\n",
       " 'Nous poursuivrons et amplifierons les actions incitatives en faveur de l’accessibilité des cabinets médicaux, de la formation des médecins aux spécificités de l’examen de la personne handicapée. Nous poursuivrons l’inventaire pour la revalorisation des actes longs.',\n",
       " 'Nous financerons des appels à projet pour le développement d’appareils médicaux (mammographies, scanners...) adaptés et innovants.',\n",
       " 'Nous lancerons un plan d’évaluation des techniques et méthodes de prise en charge des handicaps (rééducation, réadaptation, réhabilitation cognitive et/ou comportementale) par des travaux encadrés par des enseignants chercheurs.',\n",
       " 'Nous permettrons le don de RTT entre collègues pour les personnes aidantes dans les entreprises',\n",
       " 'Nous prendrons en compte la situation des personnes aidantes dans le calcul de l’âge de départ à la retraite dans la réforme que nous conduirons.',\n",
       " \"Nous permettrons aux aidants de mieux se former ou d’être accompagnés, au moment de l’annonce du handicap d'un proche et de manière régulière.\",\n",
       " 'Définir de façon systématique des indicateurs d’inclusion pour chacune des politiques publiques menées. Il s’agit de partager, en amont, des objectifs clairs et précis dans tous les domaines pour mieux évaluer, en aval, l’impact des politiques publiques décidées.',\n",
       " 'Nous proposerons que chaque étranger en situation régulière arrivant en France ait droit à une formation linguistique suffisante pour atteindre le niveau B1 (niveau qui permet la naturalisation). Cette certification\\xa0:',\n",
       " 'Nous mettrons en place des programmes locaux d’intégration',\n",
       " 'Nous allégerons les procédures et réduirons les délais d’obtention des visas « talents », pour améliorer l’attractivité de la France dans la compétition internationale pour attirer les talents étrangers (créateurs d’entreprises, d’investisseurs, de chercheurs ou d’artistes).',\n",
       " 'Nous développerons les visas de circulation pour les professionnels (entreprises, scientifiques..) : ceux-ci devraient être inscrits sur une liste de bona fide établie sous la responsabilité de la chambre de commerce locale ou du service économique régional de l’ambassade, afin de permettre un traitement rapide des dossiers.',\n",
       " 'Nous simplifierons les modalités d’accès au travail pour tous les étudiants titulaires d’un master en France.',\n",
       " 'Nous réformerons les conditions d’examen des demandes d’asile avec l’objectif d’assurer une prise de décision en 8 semaines pour toutes demandes.',\n",
       " 'Nous réformerons les modalités de recours contre les décisions de refus. En cas de recours, le jugement interviendra dans un délai de 6 à 8 semaines.',\n",
       " 'Nous renforcerons le corps de police des frontières européen, en lui donnant une capacité de surveillance et de protection durables des frontières extérieures. Il faut fixer une ambition de 5 000 hommes mobilisables par la nouvelle Agence européenne de garde-frontières et de garde‑côtes.',\n",
       " 'Nous développerons des accords globaux avec les principaux pays de départ et de transit des migrants, fondés sur une aide au développement, l’installation de points de contrôle dans ces pays avant l’arrivée dans l’UE, l’aide à la lutte contre les passeurs et le retour des migrants non autorisés à entrer dans l’UE.',\n",
       " 'Nous réduirons le taux d’impôt sur les sociétés jusqu’à la moyenne européenne de 25%.',\n",
       " 'L’Impôt de Solidarité sur la Fortune (ISF) ne concernera plus l’investissement qui sert l’économie (actions, parts, titres d’entreprises). Il sera remplacé par un Impôt sur la Fortune Immobilière, qui reposera uniquement sur les biens immobiliers, dans les mêmes conditions que l’ISF aujourd’hui.',\n",
       " 'Un prélèvement forfaitaire unique (PFU) de l’ordre de 30% sera appliqué à l’ensemble des revenus tirés du capital mobilier (intérêts, dividendes, plus-values mobilières etc.).',\n",
       " 'Nous garantirons stabilité et visibilité aux acteurs en matière fiscale. Nous sanctuariserons notamment le Crédit Impôt Recherche, le Crédit Impôt Innovation et le dispositif Jeunes Entreprises Innovantes sur la durée du quinquennat, tout en poursuivant la simplification de la mécanique administrative pour en bénéficier.',\n",
       " 'Nous rendrons plus transparente et plus efficace la formation professionnelle, pour que se former devienne une démarche naturelle.',\n",
       " '15 des 50 milliards d’euros du plan d’investissement public seront investis dans les compétences.',\n",
       " 'Nous ferons de la France une terre d’expérimentation, où il sera à la fois plus simple et plus rapide d’expérimenter des solutions industrielles nouvelles.',\n",
       " 'Nous refonderons l’action de l’administration pour la mettre au service des entreprises et l’inciter à produire des règles simples et stables.',\n",
       " 'Nous développerons la négociation collective au plus près des travailleurs pour décider des règles qui régissent leur vie quotidienne au plus près du terrain.',\n",
       " 'Nous défendrons l’instauration d’un contrôle européen sur les investissements étrangers afin de défendre ensemble nos entreprises stratégiques.',\n",
       " 'Nous défendrons le renforcement des procédures européennes anti-dumping afin de pouvoir agir plus rapidement et de manière plus dissuasive.',\n",
       " 'Nous défendrons un \"Buy European Act\" permettant de réserver l’accès aux marchés publics européens aux entreprises qui localisent au moins la moitié de leur production en Europe.',\n",
       " 'Nous défendrons, au niveau européen, une taxe sur le chiffre d’affaires réalisé dans nos pays pour des prestations de service électronique.',\n",
       " 'Nous devrons prendre des sanctions commerciales contre les pays qui ne respectent pas les clauses sociales et environnementales des accords commerciaux conclus avec l’Union européenne.',\n",
       " 'A l’image de la politique spatiale européenne, nous pousserons par exemple à la définition d’une nouvelle politique européenne pour favoriser le développement des industries stratégiques pour la transition écologique.',\n",
       " 'Nous constituerons un Fonds pour l’industrie et l’innovation. Il sera doté de 10 milliards d’euros issus des actions d’entreprises possédées de manière minoritaire par l’Etat et sera placé au service de notre industrie et de l’innovation.',\n",
       " 'Nous concentrerons progressivement la gestion de l’ensemble des aides à l’innovation de l’Etat et de ses opérateurs au sein de Bpifrance, et conforterons son rôle dans l’accompagnement des PME et ETI à l’export.',\n",
       " 'Nous armerons les nouvelles grandes régions en matière d’anticipation des restructurations et de réindustrialisation, avec notamment la création de fonds de retournement et de fonds de dette régionaux.',\n",
       " 'Nous créerons, dans chaque département, un tribunal de première instance qui fusionnera l’ensemble des tribunaux locaux spécialisés de première instance. Ce tribunal traitera l’ensemble des matières dans des pôles dédiés : pénal, social, affaires familiales, commercial, civil…. Les justiciables n’auront plus à chercher leur juge.',\n",
       " 'Nous créerons un service d’accueil unique du justiciable sur les anciens sites des juridictions fusionnées. Dans ces points d’accueil, les justiciables, quel que soit le contentieux, pourront être renseignés et accompagnés, effectuer les démarches préalables à l’audience, et suivre l’avancée de leur dossier.',\n",
       " 'Nous modifierons les ressorts des cours d’appel afin qu’aucune ne soit à cheval sur plusieurs régions administratives et qu’aucun département ne dépende d’une cour qui ne soit pas dans la même région que lui. Là encore, cela ne nécessite pas de fermer les sites : tout en maintenant sur place l’activité juridictionnelle, l’administration (ressources humaines, gestion financière…) des cours d’appel plus modestes où l’activité est insuffisante pourra être maintenue mais uniquement comme échelon juridictionnel de proximité et non comme structure de gestion.',\n",
       " 'Nous ferons en sorte que, sauf exception, toutes les décisions des premiers juges soient immédiatement exécutoires pour que l’appel ne soit pas dilatoire et ne soit pas un prétexte à délais.',\n",
       " 'Nous ramènerons le nombre de modes de saisine de 15 à 2 pour les procédures civiles.',\n",
       " 'Avec la numérisation, les juges et les greffiers bénéficieront de nouveaux outils qui permettront de simplifier et d’automatiser des tâches répétitives comme les enregistrements ou les convocations, comme les demandes de transmission de pièces justificatives. Les juges bénéficieront d’outils numériques d’aide à la décision.',\n",
       " 'Nous simplifierons la gestion des tutelles pour les personnes âgées.',\n",
       " 'Nous simplifierons le traitement des procédures en matière pénale.',\n",
       " 'Nous créerons un service public numérique de la justice, avec un portail unique d’accès sur le modèle d’impots.gouv.fr. Les citoyens et leurs avocats y trouveront toutes les informations pratiques. Ils pourront se pourvoir en justice depuis leur ordinateur, transmettre une requête, des pièces, ou suivre leur dossier depuis leur smartphone.',\n",
       " 'Nous créerons une procédure simple, exclusivement numérique et rapide pour le règlement des litiges de la vie quotidienne.',\n",
       " 'Nous favoriserons la création de plateformes de règlement amiable des litiges qui lorsqu’elles seront tenues par des professionnels associant avocats huissiers ou notaires pourront conclure des accords ayant la force d’un jugement.',\n",
       " 'Nous réformerons l’aide juridictionnelle pour qu’elle soit plus responsable et efficace.',\n",
       " 'Toute personne condamnée à une peine de prison ferme inférieure ou égale à 2 ans devra être effectivement incarcérée avant que ne soient envisagées des mesures d’aménagement de cette peine. Le principe de l’automaticité de l’examen de l’aménagement de peine sera donc supprimé.',\n",
       " 'Nous instaurerons le principe d’un examen automatique de l’aménagement de la peine aux 2/3 de la peine exécutée. Sauf avis contraire du juge d’application des peines, le détenu verra sa peine aménagée. La décision sera évidemment accompagnée de mesures alternatives à la détention.',\n",
       " 'Nous rénoverons les bâtiments pénitenciaires anciens pour qu’ils soient aux normes d’habitat décent. Nous remplacerons nombre pour nombre ceux qui ne pourront être rénovés.',\n",
       " 'Nous construirons 15 000 places de prison supplémentaires sur le quinquennat, soit environ un quart de plus qu’aujourd’hui. L’objectif est in fine que 80% des détenus au moins soient en cellule individuelle. Nous devons également revenir à des établissements à taille humaine, dans lesquels il soit possible d’organiser un parcours de détention, des activités, du travail.',\n",
       " 'La personne détenue sera placée dans un parcours de peine dépendant de son comportement, c’est à dire plus favorable si elle se comporte bien, et défavorable en cas de mauvaise conduite. Il faut inscrire obligatoirement le détenu dans un parcours de travail ou de formation : mettre fin à l’inactivité et concevoir les nouveaux hébergements autour de cette notion d’activité.',\n",
       " 'Nous définirons des zones où la construction de logements est une priorité absolue.',\n",
       " 'Quand c\\'est nécessaire, l\\'Etat prendra ses responsabilités pour organiser la construction dans les zones tendues, en recourant par exemple plus largement aux dispositifs de type \"Opération d\\'Intérêt National\", en délivrant les permis de construire, en détendant les règles de constructibilité au maximum et en accélerant les procédures, y compris en limitant les possibilités de recours.',\n",
       " 'Nous construirons 80 000 logements pour les jeunes : 60 000 logements pour les étudiants et 20 000 logements pour les jeunes actifs.',\n",
       " 'Nous mobiliserons les bailleurs sociaux pour créer au sein du parc social des « logements jeunes » (objectif : 30 000 supplémentaires). Ces logements seront accessibles sans dépôt de garantie, sans demande de caution et pour un bail non renouvelable.',\n",
       " \"Nous créerons un bail « mobilité professionnelle » pour répondre aux besoins des actifs en mobilité temporaire (formation, période d'essai, stage).\",\n",
       " 'Nous maintiendrons la loi SRU (Loi Solidarité et Renouvellement Urbain) qui a accéléré l’accroissement de la construction de logements sociaux depuis 16 ans.',\n",
       " 'Nous poursuivrons la production de logements sociaux au même niveau et au même rythme que ces dernières années, en concentrant les aides de l’Etat sur les logements aux plus faibles loyers et dans les zones où la demande en logement social est la plus forte.',\n",
       " 'Nous ferons la transparence sur l’attribution des logements sociaux.',\n",
       " \"Nous renforcerons fortement la mobilité dans le parc social là où la demande est très forte en tenant compte de manière plus dynamique de l'évolution de la situation des locataires et en fluidifiant les changements  de logement nécessaires à l'évolution des besoins des locataires (vieillissement, arrivée ou départ des enfants, mobilité professionnelle,...)\",\n",
       " 'Nous créerons 10 000 places supplémentaires en pension de famille sur le quinquennat. Ces places sont adaptées aux personnes isolées, « cassées » par des années de vie dans la rue. Elles y trouvent un endroit où poser leurs bagages, le temps nécessaire, pour reprendre pied.',\n",
       " 'Nous augmenterons considérablement la part de l’intermédiation locative (gestion ou location d’un logement du parc privé par une association pour y loger\\ndes ménages à faibles ressources). Nous demanderons aux bailleurs sociaux d’acheter à cette fin 40 000 logements privés pour passer de 25 000 à 65 000 places en intermédiation locative.',\n",
       " 'A destination des sans-abris, nous assurerons un droit à la domiciliation (qui permet de déclencher d’autres droits, notamment l’accès aux minima sociaux ou la candidature aux logements HLM et d’assurer le suivi de leur courrier) en faisant évoluer la mission de service public de La Poste.',\n",
       " 'Nous exonèrerons 4 Français sur 5 de la taxe d’habitation.',\n",
       " 'Nous proposerons un audit gratuit à tous les propriétaires occupants en situation de précarité énergétique : maisons en zone rurale, pavillons du périurbain, copropriétés où les travaux ont été trop longtemps repoussés.',\n",
       " 'Nous viserons la rénovation de la moitié des logements-passoires dès 2022, afin de diminuer les émissions et de faire baisser les charges (électricité, fioul, gaz). Les passoires énergétiques seront interdites de location à compter de 2025. A cette fin, via un fonds public, nous prendrons intégralement en charge les travaux des propriétaires les plus précaires, avec un remboursement au moment de la vente du bien.',\n",
       " \"Nous permettrons à tous de pouvoir réaliser les travaux nécessaires, notamment à ceux qui n’ont pas aujourd’hui toutes les ressources pour investir. Nous transformerons le Crédit d’Impôt Transition Energétique (CITE) en prime immédiatement perceptible au moment des travaux et non l'année suivante, ce qui favorisait les ménages les plus aisés : ainsi, ceux qui engagent des travaux ne seront pas soutenus par l’Etat un an après leur décision, mais dès le moment où ils commencent leurs travaux.\",\n",
       " \"Nous encouragerons l'association des travaux de maintien à domicile des personnes âgées avec les travaux de rénovation énergétique.\",\n",
       " \"Nous amplifierons le programme de rénovation urbaine en le portant à 10 milliards d'euros, permettant ainsi de répondre aux enjeux des 450 quartiers retenus.\",\n",
       " \"Nous construirons des logements à bas loyers ailleurs que dans les quartiers où ils sont aujourd'hui concentrés, nous  proposerons des relogements à l'échelle intercommunale et mobiliserons dans cet objectif tous les bailleurs sociaux.\",\n",
       " 'Nous ne créerons pas de nouvelles normes de construction sur le quinquennat.',\n",
       " 'Afin de faire des ports français les principales portes d’accès à la France, nous établirons une nouvelle stratégie portuaire nationale, alliant Grands ports maritimes et ports décentralisés et secondaires.',\n",
       " 'Nous soutiendrons notre secteur de la pêche et de l’aquaculture pour garantir la souveraineté alimentaire de notre pays.',\n",
       " \"Nous repenserons les conditions de l’emploi maritime, notamment en renforçant ou en créant les passerelles au sein du monde maritime et avec les autres secteurs d'activité.\",\n",
       " 'Nous soutiendrons le développement des énergies marines renouvelables afin d’atteindre les objectifs fixés par la loi de transition énergétique et de construire une filière industrielle française.',\n",
       " 'Nous encouragerons une valorisation raisonnée de nos ressources marines stratégiques, notamment dans le champ des biotechnologies ou des métaux rares.',\n",
       " 'Nous développerons la recherche marine, parent pauvre de la recherche française.',\n",
       " 'Nous accorderons une attention particulière à la protection de la biodiversité marine. Nous proposerons d’organiser, dans un territoire d’outre-mer, une conférence mondiale sur la biodiversité.',\n",
       " 'Les contrats de développement durable, passés entre l’Etat et les régions, comporteront un volet maritime sur nos façades.',\n",
       " 'Nous renforcerons le travail public-privé entrepris lors du précédent quinquennat autour du Comité France maritime. Dans cet esprit, nous repenserons l’utilisation des espaces marins et littoraux grâce à une planification spatiale souple, dynamique et évolutive.',\n",
       " 'Nous encouragerons la dynamique enclenchée par le Cluster maritime pour avoir les moyens de construire une French Sea Tech. Notre ambition portera sur :',\n",
       " 'Nous conforterons le rôle et les moyens des acteurs de l’Etat en mer pour assurer le contrôle de notre espace maritime et des richesses qu’il contient.',\n",
       " 'Nous lancerons un appel à projets en direction des agglomérations pour soutenir la création de solutions d’information ou de distributions intermodales, donnant accès à toutes les solutions de mobilité, de la voiture aux transports collectifs en passant par le vélo ou le covoiturage.',\n",
       " 'Nous construirons des infrastructures pour connecter entre eux les modes de transport : parkings relais, gares routières, correspondances…',\n",
       " 'Nous développerons les aides à la mobilité pour permettre le retour à l’emploi, qu’il s’agisse de réduire les coûts de transport ou de déménager pour se rapprocher d’un emploi.',\n",
       " 'Le développement du covoiturage sera renforcé, grâce à la mise en place des voies dédiées aux bus, VTC et covoiturages sur les autoroutes urbaines et d’une modulation des péages en fonction de l’occupation des  véhicules.',\n",
       " 'Nous soutiendrons les expérimentations et nous développerons le cadre réglementaire nécessaires au développement des voitures autonomes.',\n",
       " 'Nous proposons donc un plan d’urgence pour les investissements de rénovation (rail et route).',\n",
       " 'Nous réaliserons un programme d’investissement ciblé sur la lutte contre la congestion en agglomération.',\n",
       " 'Nous accélérerons la transformation digitale des routes et des trains pour accroître le débit et la fiabilité des infrastructures existantes. Cette action, combinée à la modernisation des réseaux, devra permettre de relancer le fret ferroviaire qui souffre de circulations dégradées.',\n",
       " 'Nous ferons une loi d’orientation sur les infrastructures, incorporant les besoins de renouvellement de l’existant, dès le début du mandat, pour sélectionner les projets à réaliser et s’assurer qu’ils sont bien financés, sans que cela se fasse au détriment de l’existant.',\n",
       " 'Nous créerons une prime exceptionnelle de 1000 euros pour permettre à tous ceux dont les véhicules ont été fabriqués avant 2001 d’acheter des voitures plus écologiques, qu’elles soient neuves ou d’occasion.',\n",
       " 'Pour réduire massivement la pollution liée aux particules fines, la fiscalité du diesel sera alignée sur celle de l’essence pendant le quinquennat.',\n",
       " 'Nous pèserons pour renforcer les normes anti-pollution européennes pour les véhicules neufs et les contrôles en conditions réelles (en tirant les enseignements du scandale Volkswagen), avec pour objectif de long terme de n’avoir plus, en 2040, aucune vente de véhicule thermique.',\n",
       " 'Nous couvrirons en très haut débit l’ensemble du territoire. Ce sera fait d’ici la fin du quinquennat, pour ne laisser aucun territoire à la traîne dans la transition numérique.',\n",
       " 'Nous éliminerons les zones sans réseau (aussi appelées « zones blanches »).',\n",
       " 'Nous porterons une stratégie d’inclusion à destination de ceux qui rencontrent des difficultés à utiliser le numérique en développant avec les associations et les collectivités, un réseau d’accompagnement sur le territoire qui proposera du temps de soutien et des formations aux outils et aux services numériques.',\n",
       " 'Nous aiderons les TPE et les PME à réussir leur transformation numérique.',\n",
       " 'D’ici 2022, 100% des démarches administratives pourront être effectuées depuis Internet – sauf première délivrance des documents d’identité officiels. Par exemple, il sera possible pour le citoyen de faire une demande de procuration électorale sans se rendre au commissariat.',\n",
       " 'Nous nous appuierons sur le numérique pour redéfinir l’action publique.',\n",
       " 'Nous créerons un compte citoyen en ligne (site et application), qui rassemblera sur une même interface tous les droits, notamment ceux liés à la santé, à la trajectoire professionnelle, à la formation, à la situation fiscale, aux droits civiques.',\n",
       " 'Nous créerons une banque de données numériques réutilisables.',\n",
       " 'Nous créerons un service public numérique de la justice, avec portail unique d’accès (sur le modèle d’impots.gouv.fr). Les citoyens et leurs avocats y trouveront toutes les informations pratiques et la jurisprudence applicable à leur cas. Ils pourront se pourvoir en justice depuis leur ordinateur, transmettre une requête, des pièces, ou suivre leur dossier depuis leur smartphone.',\n",
       " 'Nous encouragerons le développement de la télé-médecine et du numérique dans le domaine de la santé, afin de donner aux médecins la possibilité d’assurer un suivi à distance, par exemple pour un patient cardiaque via un objet connecté ou en accélérant une consultation chez un patient à risque. Ce sera un axe majeur du grand plan d’investissement. Cela permettra, à terme, de faire des économies réelles.',\n",
       " 'Nous développerons le droit à l’expérimentation dans le respect des impératifs de sécurité, de protection du consommateur et de loyauté de la concurrence.',\n",
       " 'Nous définirons une stratégie nationale pour l’intelligence artificielle dont le développement va avoir de profonds impacts sur une série de secteurs. Les chercheurs français sont bien armés pour y jouer un rôle majeur.',\n",
       " \"Nous adopterons un cadre fiscal qui encourage l'investissement dans l'innovation, notamment en instaurant un prélèvement forfaitaire unique sur l'ensemble des revenus tirés du capital mobilier et en remplaçant l'ISF par un impôt sur la fortune immobilière.\",\n",
       " 'Nous développerons les instruments d’une transparence sur l’usage des données privées par les acteurs du numérique.',\n",
       " 'Nous agirons pour un marché unique du numérique en Europe, qui permettra aux entreprises innovantes de disposer des mêmes règles partout dans l’Union européenne.',\n",
       " 'Nous agirons pour la mise en place d’un Fonds européen de financement en capital-risque pour accompagner la croissance des start-up européennes du numérique.',\n",
       " 'Nous renégocierons avec les Etats-Unis le « Privacy Shield », le cadre de protection des données, d’ici 2018, afin de garantir réellement la préservation des données personnelles de tous les Européens.',\n",
       " \"Nous proposerons la mise en en place d'une Agence européenne pour la confiance numérique, chargée de réguler les grandes plateformes numériques pour garantir la protection des données personnelles et la loyauté de leur fonctionnement.\",\n",
       " 'Nous nous battrons, au niveau européen, pour une taxe sur le chiffre d’affaires réalisé dans nos pays pour des prestations de service électronique.',\n",
       " 'Nous reconstruirons une politique de mobilité plus juste et porterons à 200 000 le nombre de billets aidés chaque année pour la mobilité des ultra-marins en France et dans leur environnement régional.',\n",
       " 'Nous négocierons au sein de l’Union Européenne afin que les normes prennent mieux en compte les spécificités de nos territoires d’outre-mer, par exemple, dans l’agriculture ou la politique de la pêche.',\n",
       " 'Nous consacrerons 1 milliard d’euros sur 5 ans au financement des investissements collectifs des territoires ultra-marins, dans le cadre du plan d’investissement.',\n",
       " 'Nous financerons nos actions dans la formation, le tourisme, la santé et la transition énergétique grâce au plan d’investissement.',\n",
       " \"Pour favoriser la compétitivité et la pérennité des entreprises et le développement de l'emploi, nous engagerons une évaluation des dispositifs de soutien existants.\",\n",
       " 'Nous supprimerons la caisse qui gère le Régime Social des Indépendants (RSI) pour l’adosser au régime général et nous renforcerons l’activité de Bpifrance dans les Outre-mer.',\n",
       " 'Nous donnerons aux Outre-mer les moyens d’une croissance bleue plus dynamique, en organisant la filière maritime et en développant le volet ultra-marin de la « task force maritime » créée par le Comité interministériel de la mer.',\n",
       " 'Sur la base de stratégies de développement du tourisme, concertées territoire par territoire, nous ferons un bilan des aides fiscales et sociales.',\n",
       " 'Nous organiserons une conférence internationale sur la biodiversité.',\n",
       " \"Nous localiserons dans les Outre-mer l'Agence française pour la biodiversité.\",\n",
       " 'Afin de faire de l’enseignement supérieur ultra-marin un secteur d’excellence, nous soutiendrons le développement d’un ERASMUS caribéen et nous ferons de nos universités outre-mer des pôles universitaires internationaux rayonnant dans leurs régions.',\n",
       " 'Nous développerons et étendrons, avec les collectivités territoriales concernées, les services de l’État et les représentants des entreprises, tous les dispositifs qui ont fait leurs preuves.',\n",
       " \"Nous organiserons en partenariat avec les collectivités territoriales et le milieu associatif un réseau de structures d'accueil capable de mettre en œuvre la réponse pénale en direction des mineurs.\",\n",
       " \"Nous favoriserons le recrutement au sein des départements d'outre-mer en créant des écoles de formation de gendarmes adjoints et d'adjoints de sécurité en Martinique, en Guadeloupe et à la Réunion (pour la Réunion et Mayotte) et nous créerons parallèlement des classes d'excellence pour accompagner les jeunes ultra-marins qui souhaitent entreprendre une carrière dans les métiers de la sécurité et de la justice.\",\n",
       " 'Nous demanderons à l’Autorité de la Concurrence d’évaluer l’efficacité des mesures prises pour réduire les écarts de prix.',\n",
       " 'Nous favoriserons la poursuite des évolutions en cours en répondant favorablement aux demandes d’habilitation des collectivités concernées.',\n",
       " 'Nous mènerons à bien les consultations institutionnelles prévues en Nouvelle-Calédonie.',\n",
       " 'Nous créerons un versement social unique et automatique pour lutter contre le non-recours aux aides sociales.',\n",
       " \"L’allocation adultes handicapés (AAH), pour une personne seule, est aujourd'hui d'environ 800 euros par mois : nous la porterons au-delà de 900 euros par mois.\",\n",
       " \"Nous réduirons la pauvreté des personnes âgées. Le minimum vieillesse, pour une personne seule, est aujourd'hui d'environ 800 euros : nous le porterons au-delà de 900 euros.\",\n",
       " 'Nous augmenterons de 50% le montant de la prime d’activité.',\n",
       " 'Nous créerons un droit effectif à la domiciliation pour les personnes sans-abris, afin qu’elles puissent accéder à la plénitude de leurs droits et notamment aux minimas sociaux.',\n",
       " 'Nous créerons un coffre-fort numérique et l’accès à un cloud solidaire permettant de conserver les documents d’identité numérisés, dont la gestion sera confiée à la Poste.',\n",
       " 'Nous porterons enfin une stratégie d’inclusion numérique, en développant avec les associations et les personnes bénéficiaires des formations aux outils numériques.',\n",
       " 'Nous maintiendrons la loi SRU (Loi Solidarité et Renouvellement Urbain) qui a accéléré l’accroissement de la construction de logements sociaux depuis 16 ans.',\n",
       " 'Nous poursuivrons la production de logements sociaux au même niveau et au même rythme que ces dernières années, en concentrant les aides de l’Etat sur les logements aux plus faibles loyers et dans les zones où la demande en logement social est la plus forte.',\n",
       " 'Nous ferons la transparence sur l’attribution des logements sociaux dans les zones tendues.',\n",
       " \"Nous renforcerons fortement la mobilité dans le parc social là où la demande est très forte en tenant compte de manière plus dynamique de l'évolution de la situation des locataires et en fluidifiant les changements de logement nécessaires à l'évolution des besoins des locataires (vieillissement, arrivée ou départ des enfants, mobilité professionnelle,...)\",\n",
       " 'Nous créerons 10 000 places supplémentaires en pension de famille sur le quinquennat.',\n",
       " 'Nous augmenterons considérablement la part de l’intermédiation locative (gestion ou location d’un logement du parc privé par une association pour y loger des ménages à faibles ressources).',\n",
       " 'Nous travaillerons sur la pertinence des soins, et nous nous engageons à ce qu’aucun soin utile ne soit déremboursé pendant les 5 ans qui viennent.',\n",
       " 'S’agissant des lunettes, des prothèses dentaires et de l’audition, nous fixons l’objectif de 100% de prise en charge pour 2022, contre alors que la couverture reste trop faible aujourd’hui. Nous réaliserons cet objectif sans augmenter le prix des mutuelles.',\n",
       " 'Nous rétablirons le remboursement à 100% du traitement des formes sévères d’hypertension artérielle (HTA).',\n",
       " 'Nous financerons des actions de prévention au titre des missions d’intérêt général dans les établissements de santé et des objectifs de performance pour tous les professionnels de santé libéraux.',\n",
       " 'Nous créerons un service sanitaire de 3 mois pour tous les étudiants en santé : dans ce cadre, 40 000 d’entre eux interviendront dans les écoles, les entreprises, pour des actions de prévention.',\n",
       " 'Nous livrerons un effort national de formation sans précédent.',\n",
       " 'Nous généraliserons la Garantie jeunes à 200 000 jeunes.',\n",
       " 'Nous renforcerons les pratiques consistant à représenter les personnes bénéficiaires aux seins des instances, comme par exemple au sein du Conseil national de lutte contre la pauvreté et l’exclusion sociale.',\n",
       " '15 milliards d’euros seront consacrés à la transition écologique.',\n",
       " '15 milliards d’euros seront consacrés aux compétences.',\n",
       " '5 milliards d’euros seront consacrés à l’agriculture.',\n",
       " '5 milliards d’euros seront consacrés à la santé.',\n",
       " '5 milliards d’euros seront consacrés aux transports et aux équipements collectifs locaux.',\n",
       " '5 milliards d’euros seront consacrés à la modernisation de l’action publique.',\n",
       " 'Nous exonèrerons 4 Français sur 5 de la taxe d’habitation.',\n",
       " 'S’agissant des lunettes, des prothèses dentaires et de l’audition, nous fixons l’objectif de 100% de prise en charge pour 2022, contre alors que la couverture reste trop faible aujourd’hui.',\n",
       " 'Nous rétablirons les exonérations de cotisations sociales sur les heures supplémentaires.',\n",
       " 'Nous augmenterons le revenu net de chacun, en réduisant les cotisations sociales.',\n",
       " 'Nous ferons en sorte que toute reprise d’emploi se traduise par un supplément de revenu conséquent, en augmentant la prime d’activité.',\n",
       " \"Nous réduirons la pauvreté des personnes âgées. Le minimum vieillesse, pour une personne seule, est aujourd'hui d'environ 800 euros : nous le porterons au-delà de 900 euros.\",\n",
       " \"Nous réduirons la pauvreté des personnes en situation de handicap. L'allocation aux adultes handicapés (AAH), pour une personne seule, est aujourd'hui d'environ 800€ par mois : nous la porterons au-delà de 900 par mois.\",\n",
       " 'Nous créerons un versement social unique et automatique pour lutter contre le non-recours aux aides sociales.',\n",
       " 'Nous organiserons des services publics vraiment neutres, et des actions de formation à la laïcité seront systématiquement proposées aux agents de l’administration.',\n",
       " 'Nous permettrons l’expression raisonnable de la liberté religieuse dans l’espace public.',\n",
       " 'Nous laisserons de la marge de manœuvre aux entreprises pour régler les questions religieuses au travail.',\n",
       " 'Nous agirons pour aider les musulmans à restructurer l’islam de France.',\n",
       " 'Créer une Fédération nationale de l’islam de France regroupant des associations cultuelles locales créées dans le cadre posé par la loi de 1905.',\n",
       " 'Nous formerons des imams sur le sol français et de façon adaptée aux valeurs de la République.',\n",
       " 'Susciter au sein de l’université la création de diplômes universitaires destinés aux ministres du culte.',\n",
       " 'Créer un statut unifié des aumôniers.',\n",
       " 'Nous combattrons les dérives de l’islam identitaire et nous préviendrons la radicalisation.',\n",
       " 'Nous réaffirmerons la place de la République dans tous les quartiers, dans un partenariat exigeant avec le secteur associatif.',\n",
       " 'Nous serons intransigeants sur le respect de l’égalité entre les hommes et les femmes et la place des femmes dans l’espace public.',\n",
       " 'Nous combattrons l’idéologie djihadiste :',\n",
       " 'Demain, chacun pourra connaître en temps réel ses droits.',\n",
       " 'Demain, personne ne craindra de « perdre des droits ».',\n",
       " 'Demain, personne n’accusera autrui de « profiter du système ».',\n",
       " 'Demain, chacun pourra mieux choisir son âge de départ.',\n",
       " 'Demain, nous ne pénaliserons plus les parcours heurtés.',\n",
       " 'Le système restera un régime par répartition.',\n",
       " 'Les taux de cotisation pourront rester différents.',\n",
       " 'Les spécificités de certains régimes ne disparaîtront pas.',\n",
       " 'Il y aura toujours un âge légal de la retraite à partir duquel on pourra liquider ses droits. Il restera à 62 ans.',\n",
       " 'La solidarité nationale aidera ceux qui en ont besoin.',\n",
       " 'La pénibilité sera toujours prise en compte.',\n",
       " 'Nous financerons des actions de prévention au titre des missions d’intérêt général dans les établissements de santé et des objectifs de performance pour tous les professionnels de santé libéraux.',\n",
       " 'Nous créerons un service sanitaire de 3 mois pour tous les étudiants en santé : dans ce cadre, 40 000 d’entre eux interviendront dans les écoles, les entreprises, pour des actions de prévention.',\n",
       " 'Nous soutiendrons la recherche en santé environnementale et limiterons les risques d’exposition aux substances à risque.',\n",
       " 'Nous ferons évoluer la rémunération des médecins en ville afin de mieux valoriser les actions de prévention.',\n",
       " 'Nous travaillerons sur la pertinence des soins, et nous engageons à ce qu’aucun soin utile ne soit déremboursé pendant les 5 ans qui viennent.',\n",
       " 'S’agissant des lunettes, des prothèses dentaires et de l’audition, nous fixons l’objectif de 100% de prise en charge pour 2022, car la couverture reste trop faible aujourd’hui. Nous réaliserons cet objectif sans augmenter le prix des mutuelles. Pour cela, nous favoriserons la concurrence, en instaurant notamment 3 contrats types que devront proposer assureurs et mutuelles pour garantir la transparence et faciliter les comparaisons.',\n",
       " 'Nous rétablirons le remboursement à 100% du traitement des formes sévères d’hypertension artérielle (HTA).',\n",
       " 'S’agissant du tiers payant, nous prendrons le temps d’évaluer ses bénéfices et les contraintes qu’il pourrait induire.',\n",
       " \"Nous renforcerons le droit à l'oubli pour les personnes ayant été malades.\",\n",
       " 'Nous nous battrons contre les déserts médicaux qui touchent de nombreuses zones rurales, périurbaines, des villes et des hôpitaux.',\n",
       " 'Le numerus clausus actuel est injuste et inefficace, nous formerons davantage de praticiens et adapterons les capacités de formation aux besoins de santé des territoires.',\n",
       " 'Pour répondre aux attentes nouvelles des professionnels de santé à travailler en groupe et ainsi favoriser leur installation dans les territoires sous dotés, nous doublerons le nombre de maisons pluridisciplinaires de santé.',\n",
       " 'Nous déverrouillerons massivement l’accès à la télémédecine, levier de lutte contre les inégalités sociales et territoriales de santé.',\n",
       " 'Nous renforcerons l’attractivité des métiers de santé de soins primaires et donnerons davantage d’autonomie aux hôpitaux en diversifiant les modes de rémunération des professionnels et les modes de financement des hôpitaux, dans un cadre sécurisé nationalement.',\n",
       " 'Nous évaluerons la qualité et la pertinence des soins, rendrons les informations totalement transparentes pour les usagers, améliorerons la formation des professionnels et la diffusion des bonnes pratiques.',\n",
       " 'Actuellement, un médicament acheté sur deux n’est pas consommé avec un risque d’automédication et d’impact environnemental. Cela entraîne un gaspillage de 7 milliards d’euros par an : nous généraliserons donc la vente de médicaments à l’unité.',\n",
       " 'Nous accélérerons le déploiement des groupements hospitaliers de territoire.',\n",
       " 'Nous diversifierons les modes de financement des établissements de santé, en réduisant la place de la tarification à l’activité (T2A) pour favoriser des financements liés à des objectifs précis et des missions de santé publique, aux parcours ou aux épisodes de soins, incluant le secteur médico-social.',\n",
       " 'Nous soutiendrons les initiatives et les expérimentations des professionnels de santé, médicaux, paramédicaux, hospitaliers et libéraux, afin de renforcer la coordination des soins et de mieux accompagner les malades dans leur parcours.',\n",
       " 'Nous développerons les pratiques avancées, dans un dialogue constructif avec les professionnels de santé, afin que chacun puisse se concentrer sur son cœur de métier.',\n",
       " 'Nous adapterons les formations de santé pour répondre aux nouveaux défis et aux attentes des professionnels, comme par exemple l’accès au doctorat à plus de paramédicaux pour développer la recherche et harmoniser les pratiques soignantes.',\n",
       " 'Pour soutenir nos entreprises innovantes en santé, les inciter à produire en France et diffuser plus rapidement l’innovation, nous assurerons des autorisations plus rapides de mise sur le marché.',\n",
       " 'Nous ouvrirons avec les industriels un dialogue sincère et exigeant pour payer les médicaments à leur juste prix, soutenir l’innovation et la production en France, renforcer la visibilité pour chacun, dans la durée.',\n",
       " 'Nous gérerons nos dépenses et notre stratégie de santé sur un horizon de plusieurs années pour donner de la visibilité et de la stabilité aux acteurs de santé.',\n",
       " 'Parce qu’on ne peut pas se contenter de limiter les coûts à court terme et qu’il faut changer de logique pour faire des économies durables, nous investirons pour faire des réformes de fond.',\n",
       " 'Nous diminuerons la bureaucratie et imposerons un retour au coeur du métier de policier pour plus de présence sur le terrain.',\n",
       " 'Nous mettrons en place des outils répressifs au plus proche du terrain et mieux adaptés.',\n",
       " 'Nous intégrerons davantage les forces de sécurité dans les quartiers.',\n",
       " 'L’échelon du quartier doit être préféré à celui de la commune.',\n",
       " 'Nous susciterons des partenariats locaux innovants entre policiers et habitants.',\n",
       " 'Nous accroîtrons la déconcentration des responsabilités au sein des services de police et de gendarmerie, et donc les marges d’autonomie, pour permettre aux échelons les plus bas une meilleure prise en charge des problèmes spécifiques locaux.',\n",
       " 'Ce qui a fait ses preuves doit être renforcé et mieux financé.',\n",
       " 'Nous recruterons 10 000 policiers et gendarmes supplémentaires en 5 ans, sur la base de 7 500 policiers et 2 500 gendarmes. Ces effectifs nouveaux seront affectés en premier lieu dans les zones prioritaires.',\n",
       " 'Nous adapterons le recrutement des policiers pour une meilleure intégration dans les territoires.',\n",
       " 'Nous relancerons vigoureusement la formation. Les forces de police doivent être mieux équipées pour faire face aux nouvelles situations.',\n",
       " 'Nous généraliserons, en particulier dans les quartiers prioritaires ou dans les quartiers marqués par une baisse de la confiance entre la police et la population, l’usage des caméras piétons pour enregistrer les contrôles d’identité.',\n",
       " 'Nous maintiendrons et amplifierons notre stratégie à l’extérieur.',\n",
       " 'Nous renforcerons, moderniserons et adapterons notre stratégie de sécurité intérieure.',\n",
       " 'Nous mobiliserons de manière concertée les ministères de l’Intérieur, de la Justice, de la Défense, des Finances et des Affaires Etrangères.',\n",
       " 'Nous remodèlerons l’organisation du renseignement.',\n",
       " 'Nous mettrons en place une véritable programmation sur 4 à 5 ans pour la modernisation des moyens de la sécurité intérieure.',\n",
       " 'Nous poursuivrons les efforts engagés au niveau du ministère de la défense.',\n",
       " 'Nous créerons des centres fermés de petite taille spécifiquement dédiés à recevoir des personnes radicalisées.',\n",
       " 'Nous négocierons la signature d’un accord national interprofessionnel visant à organiser et faciliter la pratique du sport dans les entreprises.',\n",
       " 'Nous inciterons les établissements scolaires et les associations sportives locales à se rapprocher pour garantir la continuité et la complémentarité des pratiques sur le temps scolaire et extrascolaire.',\n",
       " 'Nous mettrons en place des maisons du sport santé pour garantir un accompagnement personnalisé de nos compatriotes atteints d’affections lourdes (obésité, maladies cardiovasculaires, diabètes, etc.), mais aussi désireux de se remettre en forme.',\n",
       " 'Nous nous battrons pour permettre à tous de pratiquer une activité sportive.',\n",
       " 'Nous redéfinirons l’organisation de la politique du sport au niveau national.',\n",
       " 'Nous nous engageons à rendre le fonctionnement des fédérations plus efficace avec l’élection systématique des présidents de fédérations par les clubs, une plus grande autonomie donnée par l’Etat.',\n",
       " 'Nous soutenons pleinement la candidature de Paris à l’organisation des Jeux Olympiques et Paralympiques 2024.',\n",
       " 'Nous améliorerons le maillage des équipements sportifs sur l’ensemble du territoire en fixant des objectifs de construction dans le cadre de nouveaux grands projets d’aménagement.',\n",
       " 'Nous rendrons obligatoire la réalisation des équipements sportifs dans les zones nouvelles d’aménagement, faciliterons l’achat de créneaux dans les équipements réalisés par des opérateurs privés.',\n",
       " 'Nous ferons en sorte que d’ici la fin du quinquennat, l’ensemble des sportifs de haut niveau soient en formation ou en contrat avec une entreprise.',\n",
       " 'Nous simplifierons les deux services publics de la formation aux métiers du sport qui existent aujourd’hui (la formation délivrée par le Ministère des sports et celles délivrées par l’Education Nationale, les formations STAPS) dans un objectif d’efficacité et de lisibilité des offres de formation.',\n",
       " 'La mise en œuvre d’un plan de valorisation du bénévolat avec le renforcement de la protection des bénévoles en matière de responsabilité personnelle et , le renforcement du mécénat de compétence.',\n",
       " 'Nous exonèrerons 4 Français sur 5 de la taxe d’habitation.',\n",
       " 'Nous donnerons accès aux services publics en développant les maisons de services publics qui regrouperont dans un même lieu (sous-préfectures notamment) tous les services essentiels à la vie quotidienne (poste, prestations sociales, accès à l’emploi...)',\n",
       " 'Nous organiserons le retour des services publics dans les quartiers, nous sanctuariserons les soutiens aux associations et aux professionnels de terrain qui construisent et nous associerons les habitants aux décisions qui les concernent.',\n",
       " 'Nous doublerons le nombre de maisons de santé d’ici 2022.',\n",
       " 'Nous investirons dans le numérique et nous développerons la télé-médecine pour permettre les prises en charge à distance.',\n",
       " 'Nous investirons dans le numérique et nous développerons la télé-médecine pour permettre les prises en charge à distance.',\n",
       " 'Le numerus clausus actuel est injuste et inefficace, nous formerons davantage de praticiens et adapterons les capacités de formation aux besoins de santé des territoires.',\n",
       " 'Nous couvrirons en très haut débit l’ensemble du territoire. Ce sera fait d’ici la fin du quinquennat, pour ne laisser aucun territoire à la traîne dans la transition numérique.',\n",
       " 'Nous éliminerons les zones sans réseau (aussi appelées zones blanches).',\n",
       " 'Le développement du covoiturage sera renforcé, grâce à la mise en place des voies dédiées aux bus, VTC et covoiturage sur les autoroutes urbaines et d’une modulation des péages en fonction de l’occupation des véhicules.',\n",
       " \"Nous porterons à 200 000 d’ici la fin du quinquennat le nombre de billets d'avion aidés chaque année pour la mobilité des ultra-marins en France et dans leur environnement régional.\",\n",
       " 'Nous ferons tout pour accélérer la construction dans les zones les plus tendues : simplification des procédures, soutien aux collectivités qui construisent et lutte contre les recours abusifs.',\n",
       " 'La qualité architecturale, environnementale, ne doit pas être un luxe réservé aux habitants des centre-villes : elle doit être une exigence sur tout le territoire.',\n",
       " \"Nous lancerons un nouvel effort massif de rénovation urbaine. Nous devons doubler l'ambition des projets de renouvellement urbain pour atteindre 10 milliards d'euros.\",\n",
       " 'Nous simplifierons la vie des commerçant en supprimant la caisse qui gère le Régime Social des Indépendants (RSI) pour l’adosser au régime général.',\n",
       " 'Nous soutiendrons nos agriculteurs.',\n",
       " 'Nous créerons des “emplois francs” pour les habitants des quartiers sensibles.',\n",
       " 'Les collectivités devront s’engager à réduire la dépense publique locale, à hauteur de 10 milliards d’euros.',\n",
       " 'Nous donnerons plus de souplesse aux collectivités pour gérer leurs finances.',\n",
       " 'Nous donnerons plus de souplesse aux collectivités pour gérer leurs ressources humaines.',\n",
       " 'Nous donnerons plus de souplesse aux collectivités pour décider de leur propre organisation.',\n",
       " 'Nous consacrerons 10 milliards d’euros du plan d’investissement aux actions des collectivités.',\n",
       " 'Tous les 6 mois, sera réunie autour du Premier ministre une conférence nationale des territoires, rassemblant les associations d’élus pour faire le point sur les objectifs et les résultats en matière d’économies, de réduction des coûts imposés (normes…), de mesures d’accompagnement.',\n",
       " 'Nous augmenterons le revenu net de chacun, en réduisant les cotisations sociales.',\n",
       " 'Nous ferons en sorte que toute reprise d’emploi se traduise par un supplément de revenu conséquent, en augmentant la prime d’activité.',\n",
       " 'Nous rétablirons les exonérations de cotisations sociales sur les heures supplémentaires.',\n",
       " 'Nous simplifierons la vie des entreprises, en transformant le CICE en allégement permanent de cotisations sociales de 6 points.',\n",
       " 'Nous faciliterons l’embauche des salariés peu qualifiés, en atteignant zéro charge générale au niveau du SMIC.',\n",
       " 'Nous créerons des “emplois francs”.',\n",
       " 'Nous créerons un code du travail digital pour mieux accompagner les PME dans les décisions qu’elles prennent.',\n",
       " 'Nous réduirons nettement les cotisations sociales qui pèsent sur les indépendants (professions libérales, commerçants, artisans, agriculteurs…) : 500 euros de moins par an pour un revenu de 3000 euros nets par mois.',\n",
       " 'Nous supprimerons la caisse qui gère le Régime Social des Indépendants (RSI) pour l’adosser au régime général, afin que tous bénéficient de la même qualité de service et des mêmes droits.',\n",
       " 'Nous supprimerons les charges des microentreprises nouveau nom des auto-entrepreneurs) la première année et doublerons les plafonds pour permettre à plus d’entreprises de bénéficier de cette mesure et du régime fiscal de la microentreprise.',\n",
       " 'Nous ferons un effort massif pour l’apprentissage. Pour que les jeunes en difficulté scolaire puissent réussir leur apprentissage, nous développerons les périodes de pré-apprentissage.',\n",
       " 'Nous instaurerons un système de bonus-malus sur les cotisations d’assurance chômage.',\n",
       " 'Nous instaurerons un plafond et un plancher pour les indemnités prud’homales pour licenciement sans cause réelle et sérieuse (hormis les cas de discrimination, de harcèlement, etc.).',\n",
       " 'Nous mettrons en place une assurance chômage pour tous, parce que dans un monde qui se transforme, le chômage ne peut plus être un risque contre lequel certains se couvrent à titre individuel, d’autres par des garanties collectives qui se fragilisent.',\n",
       " \"Nous ouvrirons les droits à l'assurance-chômage aux salariés qui démissionnent.\",\n",
       " 'La contrepartie de ces droits nouveaux sera un contrôle accru de la recherche d’emploi, pour lequel les moyens de Pôle Emploi seront renforcés et les sanctions rendues justes et crédibles.',\n",
       " 'Parce qu’il assume en dernier ressort la responsabilité du chômage et de la précarité, l’État prendra en charge le système d’assurance-chômage en y associant l’ensemble des parties prenantes et en particulier les partenaires sociaux.',\n",
       " 'La majeure partie des contributions actuelles des entreprises pour la formation sera progressivement converti en droits individuels pour les actifs. Chacun pourra s’adresser directement aux prestataires de formation, selon ses besoins. Le système sera simple.',\n",
       " 'Les droits seront d’autant plus élevés que les besoins de qualification sont importants. Le système sera  juste.',\n",
       " \"Chacun disposera d’une information simple sur les résultats concrets de chaque formation, de chaque accompagnement (retour à l’emploi, impact sur la trajectoire salariale…) car tous les organismes seront soumis à labellisation et obligés d'afficher leurs performances : plus personne ne s’engagera dans une formation sans savoir à quoi elle mène ni quelle est sa qualité. Le système sera transparent.\",\n",
       " 'Nous investirons massivement dans l’acquisition des compétences',\n",
       " 'Nous permettrons de négocier au plus près du terrain. Le Code du travail définit un socle de droits et de règles (durée légale du travail, salaire minimum, égalité professionnelle...), qui continuera de s’imposer aux entreprises.',\n",
       " 'Une démarche volontariste sera engagée pour réduire fortement le nombre de branches à celles qui pourront pleinement participer à une politique de filière au-delà des métiers et des secteurs : nous pouvons viser d’en avoir entre cinquante et cent.',\n",
       " 'Nous simplifierons les instances de représentation du personnel pour un dialogue social plus efficace.',\n",
       " 'Nous renforcerons la formation des représentants des salariés.',\n",
       " 'Nous permettrons à chaque salarié d’apporter des ressources financées par l’employeur au syndicat de son choix.',\n",
       " 'Nous encouragerons l’engagement syndical, la reconnaissance de celui-ci dans les carrières au sein des entreprises et nous lutterons contre la discrimination syndicale.',\n",
       " 'Nous instaurerons le non-cumul des mandats dans le temps. On ne pourra exercer plus de trois mandats identiques successifs.',\n",
       " 'Nous modulerons le financement des partis politiques en fonction du renouvellement des candidats investis par le parti.',\n",
       " 'Nous ouvrirons les postes d’autorité dans l’Etat à toute personne pouvant justifier d’une expérience et d’une compétence utiles au service de l’État, notamment au travers de l’exercice de responsabilités politiques.',\n",
       " 'Nous supprimerons le régime spécial de retraites des parlementaires. Ils seront rattachés au régime général.',\n",
       " 'Nous prévoirons que les nouveaux ministres, immédiatement après leur nomination, soient auditionnés par la commission permanente de l’Assemblée nationale compétente pour leur portefeuille.',\n",
       " 'Le Président de la République présentera son bilan national et européen une fois par an devant le Congrès.',\n",
       " 'Nous demanderons aux parlementaires qui soutiennent notre action de mettre en place des dispositifs innovants d’évaluation du travail parlementaire (jurys citoyens, compte-rendus de mandat via les réseaux sociaux,...)',\n",
       " 'Nous exigerons la probité de nos hommes politiques :',\n",
       " 'Nous exigerons que le casier judiciaire B2 des candidats à des fonctions électives soit vierge.',\n",
       " 'Interdire que des amendements écartés en commission soient à nouveau examinés en séance publique. La procédure parlementaire doit être plus efficace et plus rapide.',\n",
       " 'Limiter le nombre de mois pendant lequel on légifère et consacrer plus de temps parlementaire à l’évaluation de l’action du gouvernement.',\n",
       " 'Appliquer par défaut la procédure accélérée devant le Parlement, avec une seule lecture initiale par chambre.',\n",
       " 'Généraliser le vote électronique d’ici 2022.',\n",
       " 'Nous réduirons le nombre de parlementaires au Sénat comme à l’Assemblée nationale']"
      ]
     },
     "execution_count": 355,
     "metadata": {},
     "output_type": "execute_result"
    }
   ],
   "source": [
    "all_props"
   ]
  },
  {
   "cell_type": "code",
   "execution_count": 359,
   "metadata": {
    "collapsed": false
   },
   "outputs": [
    {
     "data": {
      "text/html": [
       "<div>\n",
       "<table border=\"1\" class=\"dataframe\">\n",
       "  <thead>\n",
       "    <tr style=\"text-align: right;\">\n",
       "      <th></th>\n",
       "      <th>proposition</th>\n",
       "    </tr>\n",
       "  </thead>\n",
       "  <tbody>\n",
       "    <tr>\n",
       "      <th>0</th>\n",
       "      <td>Nous élargirons les horaires d’ouverture des s...</td>\n",
       "    </tr>\n",
       "    <tr>\n",
       "      <th>1</th>\n",
       "      <td>D’ici 2022, 100% des démarches administratives...</td>\n",
       "    </tr>\n",
       "    <tr>\n",
       "      <th>2</th>\n",
       "      <td>Nous créerons un compte citoyen en ligne (site...</td>\n",
       "    </tr>\n",
       "    <tr>\n",
       "      <th>3</th>\n",
       "      <td>D’ici la fin 2017, les directeurs d’administra...</td>\n",
       "    </tr>\n",
       "    <tr>\n",
       "      <th>4</th>\n",
       "      <td>S’ils décident de quitter le service de l’État...</td>\n",
       "    </tr>\n",
       "    <tr>\n",
       "      <th>5</th>\n",
       "      <td>Dans la fonction publique, nous limiterons à c...</td>\n",
       "    </tr>\n",
       "    <tr>\n",
       "      <th>6</th>\n",
       "      <td>Nous garantirons la transparence sur la qualit...</td>\n",
       "    </tr>\n",
       "    <tr>\n",
       "      <th>7</th>\n",
       "      <td>Nous créerons 10 000 postes de policiers et ge...</td>\n",
       "    </tr>\n",
       "    <tr>\n",
       "      <th>8</th>\n",
       "      <td>Nous réduirons le nombre d’agents publics de 1...</td>\n",
       "    </tr>\n",
       "    <tr>\n",
       "      <th>9</th>\n",
       "      <td>Les ministres seront comptables du respect des...</td>\n",
       "    </tr>\n",
       "    <tr>\n",
       "      <th>10</th>\n",
       "      <td>Nous mettrons fin à l’évolution uniforme des r...</td>\n",
       "    </tr>\n",
       "    <tr>\n",
       "      <th>11</th>\n",
       "      <td>En concertation avec les élus, nous simplifier...</td>\n",
       "    </tr>\n",
       "    <tr>\n",
       "      <th>12</th>\n",
       "      <td>Les agents publics bénéficieront d’un meilleur...</td>\n",
       "    </tr>\n",
       "    <tr>\n",
       "      <th>13</th>\n",
       "      <td>Nous développerons l’expérimentation de nouvel...</td>\n",
       "    </tr>\n",
       "    <tr>\n",
       "      <th>14</th>\n",
       "      <td>Les grandes lois seront systématiquement évalu...</td>\n",
       "    </tr>\n",
       "    <tr>\n",
       "      <th>15</th>\n",
       "      <td>Nous introduirons plus de souplesse dans la ge...</td>\n",
       "    </tr>\n",
       "    <tr>\n",
       "      <th>16</th>\n",
       "      <td>Le statut des fonctionnaires ne sera pas remis...</td>\n",
       "    </tr>\n",
       "    <tr>\n",
       "      <th>17</th>\n",
       "      <td>Nous recruterons un quart au moins des directe...</td>\n",
       "    </tr>\n",
       "    <tr>\n",
       "      <th>18</th>\n",
       "      <td>Nous éliminerons les contraintes statutaires q...</td>\n",
       "    </tr>\n",
       "    <tr>\n",
       "      <th>19</th>\n",
       "      <td>Nous développerons le recrutement sur contrat ...</td>\n",
       "    </tr>\n",
       "    <tr>\n",
       "      <th>20</th>\n",
       "      <td>Nous agirons pour que les agriculteurs pèsent ...</td>\n",
       "    </tr>\n",
       "    <tr>\n",
       "      <th>21</th>\n",
       "      <td>Nous encouragerons le développement de véritab...</td>\n",
       "    </tr>\n",
       "    <tr>\n",
       "      <th>22</th>\n",
       "      <td>Nous organiserons un Grenelle de l’alimentatio...</td>\n",
       "    </tr>\n",
       "    <tr>\n",
       "      <th>23</th>\n",
       "      <td>Nous protégerons les agriculteurs contre la vo...</td>\n",
       "    </tr>\n",
       "    <tr>\n",
       "      <th>24</th>\n",
       "      <td>Nous proposerons des outils de gestion des ris...</td>\n",
       "    </tr>\n",
       "    <tr>\n",
       "      <th>25</th>\n",
       "      <td>Nous permettrons aux agriculteurs de conserver...</td>\n",
       "    </tr>\n",
       "    <tr>\n",
       "      <th>26</th>\n",
       "      <td>Nous créerons un droit à l’erreur pour tous.</td>\n",
       "    </tr>\n",
       "    <tr>\n",
       "      <th>27</th>\n",
       "      <td>Nous donnerons droit au chômage aux agriculteu...</td>\n",
       "    </tr>\n",
       "    <tr>\n",
       "      <th>28</th>\n",
       "      <td>Nous adapterons la formation agricole et facil...</td>\n",
       "    </tr>\n",
       "    <tr>\n",
       "      <th>29</th>\n",
       "      <td>Nous encouragerons les projets de méthanisatio...</td>\n",
       "    </tr>\n",
       "    <tr>\n",
       "      <th>...</th>\n",
       "      <td>...</td>\n",
       "    </tr>\n",
       "    <tr>\n",
       "      <th>545</th>\n",
       "      <td>Nous instaurerons un système de bonus-malus su...</td>\n",
       "    </tr>\n",
       "    <tr>\n",
       "      <th>546</th>\n",
       "      <td>Nous instaurerons un plafond et un plancher po...</td>\n",
       "    </tr>\n",
       "    <tr>\n",
       "      <th>547</th>\n",
       "      <td>Nous mettrons en place une assurance chômage p...</td>\n",
       "    </tr>\n",
       "    <tr>\n",
       "      <th>548</th>\n",
       "      <td>Nous ouvrirons les droits à l'assurance-chômag...</td>\n",
       "    </tr>\n",
       "    <tr>\n",
       "      <th>549</th>\n",
       "      <td>La contrepartie de ces droits nouveaux sera un...</td>\n",
       "    </tr>\n",
       "    <tr>\n",
       "      <th>550</th>\n",
       "      <td>Parce qu’il assume en dernier ressort la respo...</td>\n",
       "    </tr>\n",
       "    <tr>\n",
       "      <th>551</th>\n",
       "      <td>La majeure partie des contributions actuelles ...</td>\n",
       "    </tr>\n",
       "    <tr>\n",
       "      <th>552</th>\n",
       "      <td>Les droits seront d’autant plus élevés que les...</td>\n",
       "    </tr>\n",
       "    <tr>\n",
       "      <th>553</th>\n",
       "      <td>Chacun disposera d’une information simple sur ...</td>\n",
       "    </tr>\n",
       "    <tr>\n",
       "      <th>554</th>\n",
       "      <td>Nous investirons massivement dans l’acquisitio...</td>\n",
       "    </tr>\n",
       "    <tr>\n",
       "      <th>555</th>\n",
       "      <td>Nous permettrons de négocier au plus près du t...</td>\n",
       "    </tr>\n",
       "    <tr>\n",
       "      <th>556</th>\n",
       "      <td>Une démarche volontariste sera engagée pour ré...</td>\n",
       "    </tr>\n",
       "    <tr>\n",
       "      <th>557</th>\n",
       "      <td>Nous simplifierons les instances de représenta...</td>\n",
       "    </tr>\n",
       "    <tr>\n",
       "      <th>558</th>\n",
       "      <td>Nous renforcerons la formation des représentan...</td>\n",
       "    </tr>\n",
       "    <tr>\n",
       "      <th>559</th>\n",
       "      <td>Nous permettrons à chaque salarié d’apporter d...</td>\n",
       "    </tr>\n",
       "    <tr>\n",
       "      <th>560</th>\n",
       "      <td>Nous encouragerons l’engagement syndical, la r...</td>\n",
       "    </tr>\n",
       "    <tr>\n",
       "      <th>561</th>\n",
       "      <td>Nous instaurerons le non-cumul des mandats dan...</td>\n",
       "    </tr>\n",
       "    <tr>\n",
       "      <th>562</th>\n",
       "      <td>Nous modulerons le financement des partis poli...</td>\n",
       "    </tr>\n",
       "    <tr>\n",
       "      <th>563</th>\n",
       "      <td>Nous ouvrirons les postes d’autorité dans l’Et...</td>\n",
       "    </tr>\n",
       "    <tr>\n",
       "      <th>564</th>\n",
       "      <td>Nous supprimerons le régime spécial de retrait...</td>\n",
       "    </tr>\n",
       "    <tr>\n",
       "      <th>565</th>\n",
       "      <td>Nous prévoirons que les nouveaux ministres, im...</td>\n",
       "    </tr>\n",
       "    <tr>\n",
       "      <th>566</th>\n",
       "      <td>Le Président de la République présentera son b...</td>\n",
       "    </tr>\n",
       "    <tr>\n",
       "      <th>567</th>\n",
       "      <td>Nous demanderons aux parlementaires qui soutie...</td>\n",
       "    </tr>\n",
       "    <tr>\n",
       "      <th>568</th>\n",
       "      <td>Nous exigerons la probité de nos hommes politi...</td>\n",
       "    </tr>\n",
       "    <tr>\n",
       "      <th>569</th>\n",
       "      <td>Nous exigerons que le casier judiciaire B2 des...</td>\n",
       "    </tr>\n",
       "    <tr>\n",
       "      <th>570</th>\n",
       "      <td>Interdire que des amendements écartés en commi...</td>\n",
       "    </tr>\n",
       "    <tr>\n",
       "      <th>571</th>\n",
       "      <td>Limiter le nombre de mois pendant lequel on lé...</td>\n",
       "    </tr>\n",
       "    <tr>\n",
       "      <th>572</th>\n",
       "      <td>Appliquer par défaut la procédure accélérée de...</td>\n",
       "    </tr>\n",
       "    <tr>\n",
       "      <th>573</th>\n",
       "      <td>Généraliser le vote électronique d’ici 2022.</td>\n",
       "    </tr>\n",
       "    <tr>\n",
       "      <th>574</th>\n",
       "      <td>Nous réduirons le nombre de parlementaires au ...</td>\n",
       "    </tr>\n",
       "  </tbody>\n",
       "</table>\n",
       "<p>575 rows × 1 columns</p>\n",
       "</div>"
      ],
      "text/plain": [
       "                                           proposition\n",
       "0    Nous élargirons les horaires d’ouverture des s...\n",
       "1    D’ici 2022, 100% des démarches administratives...\n",
       "2    Nous créerons un compte citoyen en ligne (site...\n",
       "3    D’ici la fin 2017, les directeurs d’administra...\n",
       "4    S’ils décident de quitter le service de l’État...\n",
       "5    Dans la fonction publique, nous limiterons à c...\n",
       "6    Nous garantirons la transparence sur la qualit...\n",
       "7    Nous créerons 10 000 postes de policiers et ge...\n",
       "8    Nous réduirons le nombre d’agents publics de 1...\n",
       "9    Les ministres seront comptables du respect des...\n",
       "10   Nous mettrons fin à l’évolution uniforme des r...\n",
       "11   En concertation avec les élus, nous simplifier...\n",
       "12   Les agents publics bénéficieront d’un meilleur...\n",
       "13   Nous développerons l’expérimentation de nouvel...\n",
       "14   Les grandes lois seront systématiquement évalu...\n",
       "15   Nous introduirons plus de souplesse dans la ge...\n",
       "16   Le statut des fonctionnaires ne sera pas remis...\n",
       "17   Nous recruterons un quart au moins des directe...\n",
       "18   Nous éliminerons les contraintes statutaires q...\n",
       "19   Nous développerons le recrutement sur contrat ...\n",
       "20   Nous agirons pour que les agriculteurs pèsent ...\n",
       "21   Nous encouragerons le développement de véritab...\n",
       "22   Nous organiserons un Grenelle de l’alimentatio...\n",
       "23   Nous protégerons les agriculteurs contre la vo...\n",
       "24   Nous proposerons des outils de gestion des ris...\n",
       "25   Nous permettrons aux agriculteurs de conserver...\n",
       "26        Nous créerons un droit à l’erreur pour tous.\n",
       "27   Nous donnerons droit au chômage aux agriculteu...\n",
       "28   Nous adapterons la formation agricole et facil...\n",
       "29   Nous encouragerons les projets de méthanisatio...\n",
       "..                                                 ...\n",
       "545  Nous instaurerons un système de bonus-malus su...\n",
       "546  Nous instaurerons un plafond et un plancher po...\n",
       "547  Nous mettrons en place une assurance chômage p...\n",
       "548  Nous ouvrirons les droits à l'assurance-chômag...\n",
       "549  La contrepartie de ces droits nouveaux sera un...\n",
       "550  Parce qu’il assume en dernier ressort la respo...\n",
       "551  La majeure partie des contributions actuelles ...\n",
       "552  Les droits seront d’autant plus élevés que les...\n",
       "553  Chacun disposera d’une information simple sur ...\n",
       "554  Nous investirons massivement dans l’acquisitio...\n",
       "555  Nous permettrons de négocier au plus près du t...\n",
       "556  Une démarche volontariste sera engagée pour ré...\n",
       "557  Nous simplifierons les instances de représenta...\n",
       "558  Nous renforcerons la formation des représentan...\n",
       "559  Nous permettrons à chaque salarié d’apporter d...\n",
       "560  Nous encouragerons l’engagement syndical, la r...\n",
       "561  Nous instaurerons le non-cumul des mandats dan...\n",
       "562  Nous modulerons le financement des partis poli...\n",
       "563  Nous ouvrirons les postes d’autorité dans l’Et...\n",
       "564  Nous supprimerons le régime spécial de retrait...\n",
       "565  Nous prévoirons que les nouveaux ministres, im...\n",
       "566  Le Président de la République présentera son b...\n",
       "567  Nous demanderons aux parlementaires qui soutie...\n",
       "568  Nous exigerons la probité de nos hommes politi...\n",
       "569  Nous exigerons que le casier judiciaire B2 des...\n",
       "570  Interdire que des amendements écartés en commi...\n",
       "571  Limiter le nombre de mois pendant lequel on lé...\n",
       "572  Appliquer par défaut la procédure accélérée de...\n",
       "573       Généraliser le vote électronique d’ici 2022.\n",
       "574  Nous réduirons le nombre de parlementaires au ...\n",
       "\n",
       "[575 rows x 1 columns]"
      ]
     },
     "execution_count": 359,
     "metadata": {},
     "output_type": "execute_result"
    }
   ],
   "source": [
    "df = pd.DataFrame(all_props, columns=['proposition'])\n",
    "df"
   ]
  },
  {
   "cell_type": "code",
   "execution_count": 360,
   "metadata": {
    "collapsed": true
   },
   "outputs": [],
   "source": [
    "df.to_csv('projets/emmanuel_macron.csv')"
   ]
  },
  {
   "cell_type": "markdown",
   "metadata": {},
   "source": [
    "# Yannick Jadot"
   ]
  },
  {
   "cell_type": "markdown",
   "metadata": {},
   "source": [
    "http://avecjadot.fr/lafrancevive/"
   ]
  },
  {
   "cell_type": "code",
   "execution_count": 395,
   "metadata": {
    "collapsed": true
   },
   "outputs": [],
   "source": [
    "r = requests.get('http://avecjadot.fr/lafrancevive/')"
   ]
  },
  {
   "cell_type": "code",
   "execution_count": 396,
   "metadata": {
    "collapsed": true
   },
   "outputs": [],
   "source": [
    "soup = BeautifulSoup(r.text, 'html.parser')"
   ]
  },
  {
   "cell_type": "code",
   "execution_count": 399,
   "metadata": {
    "collapsed": false
   },
   "outputs": [],
   "source": [
    "tags = soup.find_all('div', class_='bloc-mesure')"
   ]
  },
  {
   "cell_type": "code",
   "execution_count": 404,
   "metadata": {
    "collapsed": true
   },
   "outputs": [],
   "source": [
    "links = [tag.find('a').attrs['href'] for tag in tags]"
   ]
  },
  {
   "cell_type": "code",
   "execution_count": 406,
   "metadata": {
    "collapsed": false
   },
   "outputs": [
    {
     "data": {
      "text/plain": [
       "True"
      ]
     },
     "execution_count": 406,
     "metadata": {},
     "output_type": "execute_result"
    }
   ],
   "source": [
    "all([link.startswith('http://avecjadot.fr/') for link in links])"
   ]
  },
  {
   "cell_type": "markdown",
   "metadata": {},
   "source": [
    "Extraction du titre d'une des pages."
   ]
  },
  {
   "cell_type": "code",
   "execution_count": 407,
   "metadata": {
    "collapsed": true
   },
   "outputs": [],
   "source": [
    "link = links[0]"
   ]
  },
  {
   "cell_type": "code",
   "execution_count": 408,
   "metadata": {
    "collapsed": true
   },
   "outputs": [],
   "source": [
    "r = requests.get(link)"
   ]
  },
  {
   "cell_type": "code",
   "execution_count": 409,
   "metadata": {
    "collapsed": true
   },
   "outputs": [],
   "source": [
    "soup = BeautifulSoup(r.text, 'html.parser')"
   ]
  },
  {
   "cell_type": "code",
   "execution_count": 414,
   "metadata": {
    "collapsed": false
   },
   "outputs": [
    {
     "data": {
      "text/plain": [
       "'Adopter une loi de sortie progressive et définitive du nucléaire d’ici 2035, arrêter les premiers réacteurs dès 2017.'"
      ]
     },
     "execution_count": 414,
     "metadata": {},
     "output_type": "execute_result"
    }
   ],
   "source": [
    "soup.find('div', class_='texte-mesure').text.strip().replace('\\n', ' ')"
   ]
  },
  {
   "cell_type": "code",
   "execution_count": 415,
   "metadata": {
    "collapsed": true
   },
   "outputs": [],
   "source": [
    "def extract_data(link):\n",
    "    r = requests.get(link)\n",
    "    soup = BeautifulSoup(r.text, 'html.parser')\n",
    "    return soup.find('div', class_='texte-mesure').text.strip().replace('\\n', ' ')"
   ]
  },
  {
   "cell_type": "code",
   "execution_count": 416,
   "metadata": {
    "collapsed": false
   },
   "outputs": [
    {
     "data": {
      "text/plain": [
       "'Adopter une loi de sortie progressive et définitive du nucléaire d’ici 2035, arrêter les premiers réacteurs dès 2017.'"
      ]
     },
     "execution_count": 416,
     "metadata": {},
     "output_type": "execute_result"
    }
   ],
   "source": [
    "extract_data(link)"
   ]
  },
  {
   "cell_type": "code",
   "execution_count": 418,
   "metadata": {
    "collapsed": false
   },
   "outputs": [],
   "source": [
    "all_props = [extract_data(link) for link in links]"
   ]
  },
  {
   "cell_type": "code",
   "execution_count": 419,
   "metadata": {
    "collapsed": false
   },
   "outputs": [
    {
     "data": {
      "text/html": [
       "<div>\n",
       "<table border=\"1\" class=\"dataframe\">\n",
       "  <thead>\n",
       "    <tr style=\"text-align: right;\">\n",
       "      <th></th>\n",
       "      <th>proposition</th>\n",
       "    </tr>\n",
       "  </thead>\n",
       "  <tbody>\n",
       "    <tr>\n",
       "      <th>0</th>\n",
       "      <td>Adopter une loi de sortie progressive et défin...</td>\n",
       "    </tr>\n",
       "    <tr>\n",
       "      <th>1</th>\n",
       "      <td>Les objectifs en matière d’énergies renouvelab...</td>\n",
       "    </tr>\n",
       "    <tr>\n",
       "      <th>2</th>\n",
       "      <td>Favoriser l’appropriation citoyenne locale de ...</td>\n",
       "    </tr>\n",
       "    <tr>\n",
       "      <th>3</th>\n",
       "      <td>Lutter contre le gaspillage et éradiquer les p...</td>\n",
       "    </tr>\n",
       "    <tr>\n",
       "      <th>4</th>\n",
       "      <td>Favoriser l’économie circulaire et lutter cont...</td>\n",
       "    </tr>\n",
       "    <tr>\n",
       "      <th>5</th>\n",
       "      <td>Aller vers une France zéro déchet en divisant ...</td>\n",
       "    </tr>\n",
       "    <tr>\n",
       "      <th>6</th>\n",
       "      <td>Développer les réseaux de transports du quotid...</td>\n",
       "    </tr>\n",
       "    <tr>\n",
       "      <th>7</th>\n",
       "      <td>Faire de la santé une priorité nationale. → \\t...</td>\n",
       "    </tr>\n",
       "    <tr>\n",
       "      <th>8</th>\n",
       "      <td>Préserver notre santé en luttant contre les po...</td>\n",
       "    </tr>\n",
       "    <tr>\n",
       "      <th>9</th>\n",
       "      <td>Protéger notre biodiversité. → \\t Vers une Fra...</td>\n",
       "    </tr>\n",
       "    <tr>\n",
       "      <th>10</th>\n",
       "      <td>Garantir une alimentation saine. → Approvision...</td>\n",
       "    </tr>\n",
       "    <tr>\n",
       "      <th>11</th>\n",
       "      <td>Lutter contre la souffrance animale. → \\t Inte...</td>\n",
       "    </tr>\n",
       "    <tr>\n",
       "      <th>12</th>\n",
       "      <td>Créer un label valorisant la pêche artisanale ...</td>\n",
       "    </tr>\n",
       "    <tr>\n",
       "      <th>13</th>\n",
       "      <td>Lutter contre la publicité à destination des j...</td>\n",
       "    </tr>\n",
       "    <tr>\n",
       "      <th>14</th>\n",
       "      <td>Les jeunes sont des adultes comme les autres. ...</td>\n",
       "    </tr>\n",
       "    <tr>\n",
       "      <th>15</th>\n",
       "      <td>Faire de l’immobilier universitaire un levier ...</td>\n",
       "    </tr>\n",
       "    <tr>\n",
       "      <th>16</th>\n",
       "      <td>Lutter contre la précarité et favoriser l’auto...</td>\n",
       "    </tr>\n",
       "    <tr>\n",
       "      <th>17</th>\n",
       "      <td>Revaloriser le SMIC à 1800 euros bruts dans la...</td>\n",
       "    </tr>\n",
       "    <tr>\n",
       "      <th>18</th>\n",
       "      <td>Favoriser la réduction du temps de travail, su...</td>\n",
       "    </tr>\n",
       "    <tr>\n",
       "      <th>19</th>\n",
       "      <td>Assurer à tou-te-s un revenu d’existence. → \\t...</td>\n",
       "    </tr>\n",
       "    <tr>\n",
       "      <th>20</th>\n",
       "      <td>Lutter contre la souffrance au travail. → \\t M...</td>\n",
       "    </tr>\n",
       "    <tr>\n",
       "      <th>21</th>\n",
       "      <td>Garantir à tou-te-s une protection sociale équ...</td>\n",
       "    </tr>\n",
       "    <tr>\n",
       "      <th>22</th>\n",
       "      <td>Lutter contre le décrochage et l’échec scolair...</td>\n",
       "    </tr>\n",
       "    <tr>\n",
       "      <th>23</th>\n",
       "      <td>Remplacer obligatoirement les enseignants aprè...</td>\n",
       "    </tr>\n",
       "    <tr>\n",
       "      <th>24</th>\n",
       "      <td>Reconnaître toutes les familles. → \\t Ouvrir l...</td>\n",
       "    </tr>\n",
       "    <tr>\n",
       "      <th>25</th>\n",
       "      <td>Aider toutes les familles. → \\t Créer de 400 0...</td>\n",
       "    </tr>\n",
       "    <tr>\n",
       "      <th>26</th>\n",
       "      <td>Donner le choix à nos aîné-es. → \\t Créer au m...</td>\n",
       "    </tr>\n",
       "    <tr>\n",
       "      <th>27</th>\n",
       "      <td>Renforcer le droit de mourir dans la dignité e...</td>\n",
       "    </tr>\n",
       "    <tr>\n",
       "      <th>28</th>\n",
       "      <td>Faire une France accessible aux personnes en s...</td>\n",
       "    </tr>\n",
       "    <tr>\n",
       "      <th>29</th>\n",
       "      <td>La culture pour tous. → \\t Dédier 1% du budget...</td>\n",
       "    </tr>\n",
       "    <tr>\n",
       "      <th>...</th>\n",
       "      <td>...</td>\n",
       "    </tr>\n",
       "    <tr>\n",
       "      <th>46</th>\n",
       "      <td>Mettre en place une fiscalité plus juste et pl...</td>\n",
       "    </tr>\n",
       "    <tr>\n",
       "      <th>47</th>\n",
       "      <td>Renforcer la lutte contre l’évasion fiscale. →...</td>\n",
       "    </tr>\n",
       "    <tr>\n",
       "      <th>48</th>\n",
       "      <td>Sortir de la monarchie républicaine. → Une Ass...</td>\n",
       "    </tr>\n",
       "    <tr>\n",
       "      <th>49</th>\n",
       "      <td>Créer un fonds pour une démocratie d’initiativ...</td>\n",
       "    </tr>\n",
       "    <tr>\n",
       "      <th>50</th>\n",
       "      <td>Adopter le 1% budget participatif.</td>\n",
       "    </tr>\n",
       "    <tr>\n",
       "      <th>51</th>\n",
       "      <td>Adopter le 3 fois 1% redistributif citoyen. → ...</td>\n",
       "    </tr>\n",
       "    <tr>\n",
       "      <th>52</th>\n",
       "      <td>Inscrire dans la loi la co-gestion des entrepr...</td>\n",
       "    </tr>\n",
       "    <tr>\n",
       "      <th>53</th>\n",
       "      <td>Modifier la Constitution pour que dans l’artic...</td>\n",
       "    </tr>\n",
       "    <tr>\n",
       "      <th>54</th>\n",
       "      <td>Nommer un vice-Premier ministre au Développeme...</td>\n",
       "    </tr>\n",
       "    <tr>\n",
       "      <th>55</th>\n",
       "      <td>Faire évoluer le mandat et la composition du C...</td>\n",
       "    </tr>\n",
       "    <tr>\n",
       "      <th>56</th>\n",
       "      <td>Renforcer les services publics et les adapter ...</td>\n",
       "    </tr>\n",
       "    <tr>\n",
       "      <th>57</th>\n",
       "      <td>Afficher pour chaque service public la part pa...</td>\n",
       "    </tr>\n",
       "    <tr>\n",
       "      <th>58</th>\n",
       "      <td>Tirer parti de l’extraordinaire réseau que con...</td>\n",
       "    </tr>\n",
       "    <tr>\n",
       "      <th>59</th>\n",
       "      <td>Assurer notre sécurité. → Développer une polic...</td>\n",
       "    </tr>\n",
       "    <tr>\n",
       "      <th>60</th>\n",
       "      <td>Adopter un plan d’investissement de 600 millia...</td>\n",
       "    </tr>\n",
       "    <tr>\n",
       "      <th>61</th>\n",
       "      <td>Faire élire en 2019 une assemblée constituante...</td>\n",
       "    </tr>\n",
       "    <tr>\n",
       "      <th>62</th>\n",
       "      <td>Envoyer chaque année 1 million de jeunes en em...</td>\n",
       "    </tr>\n",
       "    <tr>\n",
       "      <th>63</th>\n",
       "      <td>Stopper l’évasion et construire l’harmonisatio...</td>\n",
       "    </tr>\n",
       "    <tr>\n",
       "      <th>64</th>\n",
       "      <td>Renforcer les ratios prudentiels des banques e...</td>\n",
       "    </tr>\n",
       "    <tr>\n",
       "      <th>65</th>\n",
       "      <td>Mettre véritablement en œuvre la Taxe sur les ...</td>\n",
       "    </tr>\n",
       "    <tr>\n",
       "      <th>66</th>\n",
       "      <td>Interdire en 5 ans sur le marché européen les ...</td>\n",
       "    </tr>\n",
       "    <tr>\n",
       "      <th>67</th>\n",
       "      <td>Stopper les négociations des accords de libre-...</td>\n",
       "    </tr>\n",
       "    <tr>\n",
       "      <th>68</th>\n",
       "      <td>Refonder la politique commerciale de l’Union p...</td>\n",
       "    </tr>\n",
       "    <tr>\n",
       "      <th>69</th>\n",
       "      <td>Abandonner la Convention de Dublin et partager...</td>\n",
       "    </tr>\n",
       "    <tr>\n",
       "      <th>70</th>\n",
       "      <td>Aller vers une défense européenne commune.</td>\n",
       "    </tr>\n",
       "    <tr>\n",
       "      <th>71</th>\n",
       "      <td>Réformer le Conseil de sécurité des Nations un...</td>\n",
       "    </tr>\n",
       "    <tr>\n",
       "      <th>72</th>\n",
       "      <td>Accroître l’Aide Publique au Développement à l...</td>\n",
       "    </tr>\n",
       "    <tr>\n",
       "      <th>73</th>\n",
       "      <td>Prendre l’initiative d’une conférence internat...</td>\n",
       "    </tr>\n",
       "    <tr>\n",
       "      <th>74</th>\n",
       "      <td>Remplacer la stratégie de dissuasion nucléaire...</td>\n",
       "    </tr>\n",
       "    <tr>\n",
       "      <th>75</th>\n",
       "      <td>Interdire les ventes d’armes aux pays non démo...</td>\n",
       "    </tr>\n",
       "  </tbody>\n",
       "</table>\n",
       "<p>76 rows × 1 columns</p>\n",
       "</div>"
      ],
      "text/plain": [
       "                                          proposition\n",
       "0   Adopter une loi de sortie progressive et défin...\n",
       "1   Les objectifs en matière d’énergies renouvelab...\n",
       "2   Favoriser l’appropriation citoyenne locale de ...\n",
       "3   Lutter contre le gaspillage et éradiquer les p...\n",
       "4   Favoriser l’économie circulaire et lutter cont...\n",
       "5   Aller vers une France zéro déchet en divisant ...\n",
       "6   Développer les réseaux de transports du quotid...\n",
       "7   Faire de la santé une priorité nationale. → \\t...\n",
       "8   Préserver notre santé en luttant contre les po...\n",
       "9   Protéger notre biodiversité. → \\t Vers une Fra...\n",
       "10  Garantir une alimentation saine. → Approvision...\n",
       "11  Lutter contre la souffrance animale. → \\t Inte...\n",
       "12  Créer un label valorisant la pêche artisanale ...\n",
       "13  Lutter contre la publicité à destination des j...\n",
       "14  Les jeunes sont des adultes comme les autres. ...\n",
       "15  Faire de l’immobilier universitaire un levier ...\n",
       "16  Lutter contre la précarité et favoriser l’auto...\n",
       "17  Revaloriser le SMIC à 1800 euros bruts dans la...\n",
       "18  Favoriser la réduction du temps de travail, su...\n",
       "19  Assurer à tou-te-s un revenu d’existence. → \\t...\n",
       "20  Lutter contre la souffrance au travail. → \\t M...\n",
       "21  Garantir à tou-te-s une protection sociale équ...\n",
       "22  Lutter contre le décrochage et l’échec scolair...\n",
       "23  Remplacer obligatoirement les enseignants aprè...\n",
       "24  Reconnaître toutes les familles. → \\t Ouvrir l...\n",
       "25  Aider toutes les familles. → \\t Créer de 400 0...\n",
       "26  Donner le choix à nos aîné-es. → \\t Créer au m...\n",
       "27  Renforcer le droit de mourir dans la dignité e...\n",
       "28  Faire une France accessible aux personnes en s...\n",
       "29  La culture pour tous. → \\t Dédier 1% du budget...\n",
       "..                                                ...\n",
       "46  Mettre en place une fiscalité plus juste et pl...\n",
       "47  Renforcer la lutte contre l’évasion fiscale. →...\n",
       "48  Sortir de la monarchie républicaine. → Une Ass...\n",
       "49  Créer un fonds pour une démocratie d’initiativ...\n",
       "50                 Adopter le 1% budget participatif.\n",
       "51  Adopter le 3 fois 1% redistributif citoyen. → ...\n",
       "52  Inscrire dans la loi la co-gestion des entrepr...\n",
       "53  Modifier la Constitution pour que dans l’artic...\n",
       "54  Nommer un vice-Premier ministre au Développeme...\n",
       "55  Faire évoluer le mandat et la composition du C...\n",
       "56  Renforcer les services publics et les adapter ...\n",
       "57  Afficher pour chaque service public la part pa...\n",
       "58  Tirer parti de l’extraordinaire réseau que con...\n",
       "59  Assurer notre sécurité. → Développer une polic...\n",
       "60  Adopter un plan d’investissement de 600 millia...\n",
       "61  Faire élire en 2019 une assemblée constituante...\n",
       "62  Envoyer chaque année 1 million de jeunes en em...\n",
       "63  Stopper l’évasion et construire l’harmonisatio...\n",
       "64  Renforcer les ratios prudentiels des banques e...\n",
       "65  Mettre véritablement en œuvre la Taxe sur les ...\n",
       "66  Interdire en 5 ans sur le marché européen les ...\n",
       "67  Stopper les négociations des accords de libre-...\n",
       "68  Refonder la politique commerciale de l’Union p...\n",
       "69  Abandonner la Convention de Dublin et partager...\n",
       "70         Aller vers une défense européenne commune.\n",
       "71  Réformer le Conseil de sécurité des Nations un...\n",
       "72  Accroître l’Aide Publique au Développement à l...\n",
       "73  Prendre l’initiative d’une conférence internat...\n",
       "74  Remplacer la stratégie de dissuasion nucléaire...\n",
       "75  Interdire les ventes d’armes aux pays non démo...\n",
       "\n",
       "[76 rows x 1 columns]"
      ]
     },
     "execution_count": 419,
     "metadata": {},
     "output_type": "execute_result"
    }
   ],
   "source": [
    "df = pd.DataFrame(all_props, columns=['proposition'])\n",
    "df"
   ]
  },
  {
   "cell_type": "code",
   "execution_count": 420,
   "metadata": {
    "collapsed": true
   },
   "outputs": [],
   "source": [
    "df.to_csv('projets/yannick_jadot.csv')"
   ]
  },
  {
   "cell_type": "code",
   "execution_count": null,
   "metadata": {
    "collapsed": true
   },
   "outputs": [],
   "source": []
  }
 ],
 "metadata": {
  "kernelspec": {
   "display_name": "Python 3",
   "language": "python",
   "name": "python3"
  },
  "language_info": {
   "codemirror_mode": {
    "name": "ipython",
    "version": 3
   },
   "file_extension": ".py",
   "mimetype": "text/x-python",
   "name": "python",
   "nbconvert_exporter": "python",
   "pygments_lexer": "ipython3",
   "version": "3.5.2"
  }
 },
 "nbformat": 4,
 "nbformat_minor": 2
}
