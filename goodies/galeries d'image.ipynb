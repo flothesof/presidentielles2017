{
 "cells": [
  {
   "cell_type": "markdown",
   "metadata": {},
   "source": [
    "# Emmanuel Macron "
   ]
  },
  {
   "cell_type": "markdown",
   "metadata": {
    "deletable": true,
    "editable": true
   },
   "source": [
    "C'est marrant à quel point l'iconographie du site d'Emmanuel est soignée. Peut-on en faire une gallerie d'images?"
   ]
  },
  {
   "cell_type": "markdown",
   "metadata": {
    "collapsed": true,
    "deletable": true,
    "editable": true
   },
   "source": [
    "On part de cette url : https://en-marche.fr/emmanuel-macron/le-programme "
   ]
  },
  {
   "cell_type": "code",
   "execution_count": 2,
   "metadata": {
    "collapsed": true,
    "deletable": true,
    "editable": true
   },
   "outputs": [],
   "source": [
    "from bs4 import BeautifulSoup\n",
    "import requests"
   ]
  },
  {
   "cell_type": "code",
   "execution_count": 3,
   "metadata": {
    "collapsed": true,
    "deletable": true,
    "editable": true
   },
   "outputs": [],
   "source": [
    "r = requests.get('https://en-marche.fr/emmanuel-macron/le-programme')"
   ]
  },
  {
   "cell_type": "code",
   "execution_count": 4,
   "metadata": {
    "collapsed": true,
    "deletable": true,
    "editable": true
   },
   "outputs": [],
   "source": [
    "soup = BeautifulSoup(r.text, 'html.parser')"
   ]
  },
  {
   "cell_type": "code",
   "execution_count": 5,
   "metadata": {
    "collapsed": false,
    "deletable": true,
    "editable": true
   },
   "outputs": [],
   "source": [
    "proposals = soup.find_all(class_='programme__proposal')"
   ]
  },
  {
   "cell_type": "code",
   "execution_count": 6,
   "metadata": {
    "collapsed": false,
    "deletable": true,
    "editable": true
   },
   "outputs": [],
   "source": [
    "proposals = [p for p in proposals if 'programme__proposal--category' not in p.attrs['class']]"
   ]
  },
  {
   "cell_type": "code",
   "execution_count": 7,
   "metadata": {
    "collapsed": false,
    "deletable": true,
    "editable": true
   },
   "outputs": [
    {
     "data": {
      "text/plain": [
       "36"
      ]
     },
     "execution_count": 7,
     "metadata": {},
     "output_type": "execute_result"
    }
   ],
   "source": [
    "len(proposals)"
   ]
  },
  {
   "cell_type": "code",
   "execution_count": 8,
   "metadata": {
    "collapsed": true,
    "deletable": true,
    "editable": true
   },
   "outputs": [],
   "source": [
    "p = proposals[0]"
   ]
  },
  {
   "cell_type": "code",
   "execution_count": 9,
   "metadata": {
    "collapsed": false,
    "deletable": true,
    "editable": true
   },
   "outputs": [
    {
     "data": {
      "text/plain": [
       "'https://en-marche.fr/emmanuel-macron/le-programme/action-publique-fonction-publique'"
      ]
     },
     "execution_count": 9,
     "metadata": {},
     "output_type": "execute_result"
    }
   ],
   "source": [
    "full_url = 'https://en-marche.fr' + p.find('a').attrs['href']\n",
    "full_url"
   ]
  },
  {
   "cell_type": "code",
   "execution_count": 10,
   "metadata": {
    "collapsed": true,
    "deletable": true,
    "editable": true
   },
   "outputs": [],
   "source": [
    "full_urls = ['https://en-marche.fr' + p.find('a').attrs['href'] for p in proposals]"
   ]
  },
  {
   "cell_type": "code",
   "execution_count": 11,
   "metadata": {
    "collapsed": false,
    "deletable": true,
    "editable": true
   },
   "outputs": [
    {
     "data": {
      "text/plain": [
       "['https://en-marche.fr/emmanuel-macron/le-programme/action-publique-fonction-publique',\n",
       " 'https://en-marche.fr/emmanuel-macron/le-programme/agriculture',\n",
       " 'https://en-marche.fr/emmanuel-macron/le-programme/culture',\n",
       " 'https://en-marche.fr/emmanuel-macron/le-programme/defense',\n",
       " 'https://en-marche.fr/emmanuel-macron/le-programme/dependance',\n",
       " 'https://en-marche.fr/emmanuel-macron/le-programme/dialogue-social',\n",
       " 'https://en-marche.fr/emmanuel-macron/le-programme/education',\n",
       " 'https://en-marche.fr/emmanuel-macron/le-programme/%C3%A9galit%C3%A9-hommes-et-femmes',\n",
       " 'https://en-marche.fr/emmanuel-macron/le-programme/emploi-ch%C3%B4mage-securites-professionnelles',\n",
       " 'https://en-marche.fr/emmanuel-macron/le-programme/enseignement-superieur-recherche']"
      ]
     },
     "execution_count": 11,
     "metadata": {},
     "output_type": "execute_result"
    }
   ],
   "source": [
    "full_urls[:10]"
   ]
  },
  {
   "cell_type": "code",
   "execution_count": 12,
   "metadata": {
    "collapsed": true,
    "deletable": true,
    "editable": true
   },
   "outputs": [],
   "source": [
    "r = requests.get(full_url)\n",
    "soup = BeautifulSoup(r.text, 'html.parser')"
   ]
  },
  {
   "cell_type": "code",
   "execution_count": 13,
   "metadata": {
    "collapsed": false,
    "deletable": true,
    "editable": true
   },
   "outputs": [
    {
     "data": {
      "text/plain": [
       "<figure class=\"fullscreen\">\n",
       "<img alt=\"01-fonction-publique-hospital-sante-emmanuel-macron-en-marche\" src=\"/assets/images/01-fonction-publique-hospital-sante-emmanuel-macron-en-marche?q=70&amp;cache=e7d04db7e6ec8a188aee&amp;fm=pjpg&amp;s=97b9c84c57c417dcef72c4919e6f2625\" title=\"Action publique / Fonction publique\"/>\n",
       "</figure>"
      ]
     },
     "execution_count": 13,
     "metadata": {},
     "output_type": "execute_result"
    }
   ],
   "source": [
    "figure_tag = soup.find('figure', class_='fullscreen')\n",
    "figure_tag"
   ]
  },
  {
   "cell_type": "markdown",
   "metadata": {
    "deletable": true,
    "editable": true
   },
   "source": [
    "On peut maintenant extraire le lien vers l'image."
   ]
  },
  {
   "cell_type": "code",
   "execution_count": 14,
   "metadata": {
    "collapsed": false,
    "deletable": true,
    "editable": true
   },
   "outputs": [
    {
     "data": {
      "text/plain": [
       "'https://en-marche.fr/assets/images/01-fonction-publique-hospital-sante-emmanuel-macron-en-marche?q=70&cache=e7d04db7e6ec8a188aee&fm=pjpg&s=97b9c84c57c417dcef72c4919e6f2625'"
      ]
     },
     "execution_count": 14,
     "metadata": {},
     "output_type": "execute_result"
    }
   ],
   "source": [
    "src_url = 'https://en-marche.fr' + figure_tag('img')[0].attrs['src']\n",
    "src_url"
   ]
  },
  {
   "cell_type": "markdown",
   "metadata": {
    "deletable": true,
    "editable": true
   },
   "source": [
    "On peut afficher ceci dans le notebook."
   ]
  },
  {
   "cell_type": "code",
   "execution_count": 15,
   "metadata": {
    "collapsed": true,
    "deletable": true,
    "editable": true
   },
   "outputs": [],
   "source": [
    "from IPython.display import Image"
   ]
  },
  {
   "cell_type": "code",
   "execution_count": 16,
   "metadata": {
    "collapsed": false,
    "deletable": true,
    "editable": true
   },
   "outputs": [
    {
     "data": {
      "text/html": [
       "<img src=\"https://en-marche.fr/assets/images/01-fonction-publique-hospital-sante-emmanuel-macron-en-marche?q=70&cache=e7d04db7e6ec8a188aee&fm=pjpg&s=97b9c84c57c417dcef72c4919e6f2625\"/>"
      ],
      "text/plain": [
       "<IPython.core.display.Image object>"
      ]
     },
     "execution_count": 16,
     "metadata": {},
     "output_type": "execute_result"
    }
   ],
   "source": [
    "Image(url=src_url)"
   ]
  },
  {
   "cell_type": "code",
   "execution_count": 17,
   "metadata": {
    "collapsed": true,
    "deletable": true,
    "editable": true
   },
   "outputs": [],
   "source": [
    "def extract_img_src(url):\n",
    "    \"Extracts image src url from linked page.\"\n",
    "    r = requests.get(url)\n",
    "    soup = BeautifulSoup(r.text, 'html.parser')\n",
    "    figure_tag = soup.find('figure', class_='fullscreen')\n",
    "    if figure_tag is not None and figure_tag('img') is not None:\n",
    "        src_url = 'https://en-marche.fr' + figure_tag('img')[0].attrs['src']\n",
    "        return src_url\n",
    "    else:\n",
    "        print(\"no image for url: {}\".format(url))\n",
    "        return None"
   ]
  },
  {
   "cell_type": "markdown",
   "metadata": {
    "deletable": true,
    "editable": true
   },
   "source": [
    "On peut répeter ce processus et faire une gallerie avec toutes ces images."
   ]
  },
  {
   "cell_type": "code",
   "execution_count": 18,
   "metadata": {
    "collapsed": false,
    "deletable": true,
    "editable": true
   },
   "outputs": [
    {
     "name": "stdout",
     "output_type": "stream",
     "text": [
      "no image for url: https://en-marche.fr/emmanuel-macron/le-programme/familles-et-societe\n",
      "no image for url: https://en-marche.fr/emmanuel-macron/le-programme/handicap\n",
      "no image for url: https://en-marche.fr/emmanuel-macron/le-programme/immigration-et-asile\n",
      "no image for url: https://en-marche.fr/emmanuel-macron/le-programme/justice\n",
      "no image for url: https://en-marche.fr/emmanuel-macron/le-programme/pauvrete\n"
     ]
    }
   ],
   "source": [
    "srcs = [extract_img_src(url) for url in full_urls]"
   ]
  },
  {
   "cell_type": "code",
   "execution_count": 19,
   "metadata": {
    "collapsed": true,
    "deletable": true,
    "editable": true
   },
   "outputs": [],
   "source": [
    "srcs = [_ for _ in srcs if _ is not None]"
   ]
  },
  {
   "cell_type": "code",
   "execution_count": 20,
   "metadata": {
    "collapsed": true,
    "deletable": true,
    "editable": true
   },
   "outputs": [],
   "source": [
    "header = \"\"\"<!doctype html>\n",
    "<html lang=\"fr\">\n",
    "<head>\n",
    "  <meta charset=\"utf-8\">\n",
    "  <title>Gallerie des photos du site d'Emmanuel Macron</title>\n",
    "  <style>\n",
    "  img {width: 100%;}\n",
    "  </style>\n",
    "</head>\"\"\""
   ]
  },
  {
   "cell_type": "code",
   "execution_count": 22,
   "metadata": {
    "collapsed": true,
    "deletable": true,
    "editable": true
   },
   "outputs": [],
   "source": [
    "def format_as_img_tag(src):\n",
    "    return \"<img src={} />\".format(src)"
   ]
  },
  {
   "cell_type": "code",
   "execution_count": 23,
   "metadata": {
    "collapsed": false,
    "deletable": true,
    "editable": true
   },
   "outputs": [
    {
     "data": {
      "text/plain": [
       "'<img src=https://en-marche.fr/assets/images/04-culture-musee-exposition-guadeloupe-emmanuel-macron?q=70&cache=0f9e2f1675c10ef5c67b&fm=pjpg&s=92575e4c67cd6a07095acfd08652efb6 />'"
      ]
     },
     "execution_count": 23,
     "metadata": {},
     "output_type": "execute_result"
    }
   ],
   "source": [
    "format_as_img_tag(srcs[2])"
   ]
  },
  {
   "cell_type": "code",
   "execution_count": 24,
   "metadata": {
    "collapsed": false,
    "deletable": true,
    "editable": true
   },
   "outputs": [],
   "source": [
    "with open('galerie_macron.html', 'w') as f:\n",
    "    body = \"\"\"<body>\n",
    "{0}\n",
    "</body>\"\"\".format(\"\\n\".join(format_as_img_tag(url) for url in srcs))\n",
    "    html = header + body + \"</html>\"\n",
    "    f.write(html)"
   ]
  },
  {
   "cell_type": "markdown",
   "metadata": {
    "deletable": true,
    "editable": true
   },
   "source": [
    "Ce sont des belles photos..."
   ]
  },
  {
   "cell_type": "markdown",
   "metadata": {},
   "source": [
    "# François Fillon "
   ]
  },
  {
   "cell_type": "markdown",
   "metadata": {},
   "source": [
    "Depuis la sortie du programme de François Fillon, on peut répéter la démarche."
   ]
  },
  {
   "cell_type": "code",
   "execution_count": 35,
   "metadata": {
    "collapsed": true
   },
   "outputs": [],
   "source": [
    "r = requests.get('https://www.fillon2017.fr/projet/')\n",
    "soup = BeautifulSoup(r.text, 'html.parser')"
   ]
  },
  {
   "cell_type": "code",
   "execution_count": 36,
   "metadata": {
    "collapsed": false
   },
   "outputs": [],
   "source": [
    "tags = soup.find_all('a', class_='projectItem__inner')"
   ]
  },
  {
   "cell_type": "code",
   "execution_count": 37,
   "metadata": {
    "collapsed": false
   },
   "outputs": [],
   "source": [
    "sublinks = [tag.attrs['href'] for tag in tags]"
   ]
  },
  {
   "cell_type": "markdown",
   "metadata": {},
   "source": [
    "On s'attaque aux pages individuelles."
   ]
  },
  {
   "cell_type": "code",
   "execution_count": 39,
   "metadata": {
    "collapsed": false
   },
   "outputs": [
    {
     "data": {
      "text/plain": [
       "'https://www.fillon2017.fr/projet/competitivite/'"
      ]
     },
     "execution_count": 39,
     "metadata": {},
     "output_type": "execute_result"
    }
   ],
   "source": [
    "sublinks[0]"
   ]
  },
  {
   "cell_type": "code",
   "execution_count": 38,
   "metadata": {
    "collapsed": true
   },
   "outputs": [],
   "source": [
    "r = requests.get(sublinks[0])\n",
    "soup = BeautifulSoup(r.text, 'html.parser')"
   ]
  },
  {
   "cell_type": "code",
   "execution_count": 48,
   "metadata": {
    "collapsed": false
   },
   "outputs": [],
   "source": [
    "src = soup.find('div', class_='singleProject__banner bannerWithMask backgroundCover').attrs['style'].split(\"background-image: url(\")[1][1:-3]"
   ]
  },
  {
   "cell_type": "code",
   "execution_count": 49,
   "metadata": {
    "collapsed": true
   },
   "outputs": [],
   "source": [
    "def extract_img_src(url):\n",
    "    r = requests.get(url)\n",
    "    soup = BeautifulSoup(r.text, 'html.parser') \n",
    "    src = soup.find('div', class_='singleProject__banner bannerWithMask backgroundCover').attrs['style'].split(\"background-image: url(\")[1][1:-3]\n",
    "    return src"
   ]
  },
  {
   "cell_type": "code",
   "execution_count": 51,
   "metadata": {
    "collapsed": false
   },
   "outputs": [],
   "source": [
    "srcs = [extract_img_src(url) for url in sublinks]"
   ]
  },
  {
   "cell_type": "code",
   "execution_count": 52,
   "metadata": {
    "collapsed": false
   },
   "outputs": [
    {
     "data": {
      "text/plain": [
       "['https://www.fillon2017.fr/wp-content/uploads/2016/01/DSCF7108.jpg',\n",
       " 'https://www.fillon2017.fr/wp-content/uploads/2017/03/FRANCOIS_FILLON_LIMOUSIN_0558-1024x457.png',\n",
       " 'https://www.fillon2017.fr/wp-content/uploads/2017/03/allocation_sociale_unique-1024x509.jpg',\n",
       " 'https://www.fillon2017.fr/wp-content/uploads/2016/01/DSCF5325.jpg',\n",
       " 'https://www.fillon2017.fr/wp-content/uploads/2017/03/IMG_0849-1024x478.png',\n",
       " 'https://www.fillon2017.fr/wp-content/uploads/2017/03/IMG_7587-1024x416.png',\n",
       " 'https://www.fillon2017.fr/wp-content/uploads/2017/03/DSCF7085-1024x462.png',\n",
       " 'https://www.fillon2017.fr/wp-content/uploads/2017/03/fonction_publique-1024x451.jpg',\n",
       " 'https://www.fillon2017.fr/wp-content/uploads/2016/06/DSC_1847.jpg',\n",
       " 'https://www.fillon2017.fr/wp-content/uploads/2017/03/IMG_1579-1024x470.png',\n",
       " 'https://www.fillon2017.fr/wp-content/uploads/2016/05/femmes-1-1024x314.jpg',\n",
       " 'https://www.fillon2017.fr/wp-content/uploads/2017/03/DSCF7280-1024x411.jpg',\n",
       " 'https://www.fillon2017.fr/wp-content/uploads/2017/03/1234432974.jpg',\n",
       " 'https://www.fillon2017.fr/wp-content/uploads/2017/03/defense-1024x471.jpg',\n",
       " 'https://www.fillon2017.fr/wp-content/uploads/2017/03/IMG_1232-1024x523.png',\n",
       " 'https://www.fillon2017.fr/wp-content/uploads/2017/03/enseignement_recherche-1024x474.png',\n",
       " 'https://www.fillon2017.fr/wp-content/uploads/2017/03/FRANCOIS_FILLON_LIMOUSIN_0327-1-1024x458.png',\n",
       " 'https://www.fillon2017.fr/wp-content/uploads/2017/03/chasse_ff-1024x530.png',\n",
       " 'https://www.fillon2017.fr/wp-content/uploads/2017/03/DSCF7239-1024x420.jpg',\n",
       " 'https://www.fillon2017.fr/wp-content/uploads/2017/03/IMG_0926-1024x465.png',\n",
       " 'https://www.fillon2017.fr/wp-content/uploads/2016/03/DSCF5040.jpg',\n",
       " 'https://www.fillon2017.fr/wp-content/uploads/2017/03/pouv_achat-1024x494.png',\n",
       " 'https://www.fillon2017.fr/wp-content/uploads/2017/03/IMG_1341-1024x519.png',\n",
       " 'https://www.fillon2017.fr/wp-content/uploads/2016/04/IMG_0353.jpg',\n",
       " 'https://www.fillon2017.fr/wp-content/uploads/2017/03/reforme_etat-1024x388.jpg',\n",
       " 'https://www.fillon2017.fr/wp-content/uploads/2017/03/IMG_8849-1024x576.jpg',\n",
       " 'https://www.fillon2017.fr/wp-content/uploads/2017/03/IMG_1135-1024x445.jpg',\n",
       " 'https://www.fillon2017.fr/wp-content/uploads/2017/03/image1-1024x444.jpg',\n",
       " 'https://www.fillon2017.fr/wp-content/uploads/2017/03/FD_2439_2-1024x411.jpg',\n",
       " 'https://www.fillon2017.fr/wp-content/uploads/2017/03/13062320_10154143009027533_3114262831415445150_n.jpg',\n",
       " 'https://www.fillon2017.fr/wp-content/uploads/2016/11/Capture-d’écran-2017-02-23-à-00.05.53.png',\n",
       " 'https://www.fillon2017.fr/wp-content/uploads/2016/01/Capture-d’écran-2017-02-23-à-10.29.24.png',\n",
       " 'https://www.fillon2017.fr/wp-content/uploads/2017/03/IMG_1742-1024x456.png',\n",
       " 'https://www.fillon2017.fr/wp-content/uploads/2017/03/IMG_0952-1024x434.png',\n",
       " 'https://www.fillon2017.fr/wp-content/uploads/2017/03/IMG_9977-1024x450.jpg',\n",
       " 'https://www.fillon2017.fr/wp-content/uploads/2015/11/IMG_8838.jpg',\n",
       " 'https://www.fillon2017.fr/wp-content/uploads/2017/03/politique_ville-1024x478.jpg',\n",
       " 'https://www.fillon2017.fr/wp-content/uploads/2017/03/DSCF5048-1024x390.jpg',\n",
       " 'https://www.fillon2017.fr/wp-content/uploads/2017/03/etranger-1024x427.jpg']"
      ]
     },
     "execution_count": 52,
     "metadata": {},
     "output_type": "execute_result"
    }
   ],
   "source": [
    "srcs"
   ]
  },
  {
   "cell_type": "code",
   "execution_count": 53,
   "metadata": {
    "collapsed": true
   },
   "outputs": [],
   "source": [
    "with open('galerie_fillon.html', 'w') as f:\n",
    "    body = \"\"\"<body>\n",
    "{0}\n",
    "</body>\"\"\".format(\"\\n\".join(format_as_img_tag(url) for url in srcs))\n",
    "    html = header + body + \"</html>\"\n",
    "    f.write(html)"
   ]
  },
  {
   "cell_type": "code",
   "execution_count": null,
   "metadata": {
    "collapsed": true
   },
   "outputs": [],
   "source": []
  }
 ],
 "metadata": {
  "kernelspec": {
   "display_name": "Python 3",
   "language": "python",
   "name": "python3"
  },
  "language_info": {
   "codemirror_mode": {
    "name": "ipython",
    "version": 3
   },
   "file_extension": ".py",
   "mimetype": "text/x-python",
   "name": "python",
   "nbconvert_exporter": "python",
   "pygments_lexer": "ipython3",
   "version": "3.5.2"
  }
 },
 "nbformat": 4,
 "nbformat_minor": 2
}
