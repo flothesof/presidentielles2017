{
 "cells": [
  {
   "cell_type": "markdown",
   "metadata": {
    "deletable": true,
    "editable": true
   },
   "source": [
    "Cette exploration interactive vous permet de vous confronter à la connaissance des propositions de certains candidats à l'élection présidentielles 2017.\n",
    "\n",
    "Pour utiliser cette application il vous faut :\n",
    "\n",
    "- sélectionner la cellule ci-dessous (en cliquant à l'intérieur)\n",
    "- puis appuyer simultanément sur les touches CONTRÔLE+ENTREE ou sur l'icône ▶ dans la barre d'outil\n",
    "\n",
    "Au fur et à mesure des questions, votre score évolue. Vous pouvez également consulter la matrice de confusion déduite de vos réponse à l'aide du bouton dédié."
   ]
  },
  {
   "cell_type": "code",
   "execution_count": null,
   "metadata": {
    "collapsed": false,
    "deletable": true,
    "editable": true
   },
   "outputs": [],
   "source": [
    "%matplotlib inline\n",
    "from ipynb.funcs import load_data, GUI\n",
    "propositions, candidate_labels = load_data(projects_path='projets/')\n",
    "gui = GUI(candidate_labels, propositions)\n",
    "gui.box"
   ]
  }
 ],
 "metadata": {
  "kernelspec": {
   "display_name": "Python 3",
   "language": "python",
   "name": "python3"
  },
  "language_info": {
   "codemirror_mode": {
    "name": "ipython",
    "version": 3
   },
   "file_extension": ".py",
   "mimetype": "text/x-python",
   "name": "python",
   "nbconvert_exporter": "python",
   "pygments_lexer": "ipython3",
   "version": "3.5.2"
  }
 },
 "nbformat": 4,
 "nbformat_minor": 2
}
