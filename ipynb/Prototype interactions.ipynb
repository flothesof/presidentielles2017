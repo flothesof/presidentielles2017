{
 "cells": [
  {
   "cell_type": "code",
   "execution_count": 1,
   "metadata": {
    "collapsed": true,
    "deletable": true,
    "editable": true
   },
   "outputs": [],
   "source": [
    "import numpy as np\n",
    "import pandas as pd\n",
    "import matplotlib.pyplot as plt\n",
    "from ipywidgets import interact_manual, interact\n",
    "from ipywidgets import Button, HBox, IntText, HTML, VBox\n",
    "from IPython.display import display, clear_output"
   ]
  },
  {
   "cell_type": "code",
   "execution_count": 2,
   "metadata": {
    "collapsed": true
   },
   "outputs": [],
   "source": [
    "%load_ext autoreload\n",
    "%autoreload 2"
   ]
  },
  {
   "cell_type": "markdown",
   "metadata": {
    "deletable": true,
    "editable": true
   },
   "source": [
    "# Chargement des données "
   ]
  },
  {
   "cell_type": "markdown",
   "metadata": {
    "deletable": true,
    "editable": true
   },
   "source": [
    "On charge les propositions présidentielles."
   ]
  },
  {
   "cell_type": "code",
   "execution_count": 3,
   "metadata": {
    "collapsed": false,
    "deletable": true,
    "editable": true
   },
   "outputs": [],
   "source": [
    "from funcs import load_data"
   ]
  },
  {
   "cell_type": "code",
   "execution_count": 4,
   "metadata": {
    "collapsed": false,
    "deletable": true,
    "editable": true
   },
   "outputs": [],
   "source": [
    "propositions, candidate_labels = load_data()"
   ]
  },
  {
   "cell_type": "markdown",
   "metadata": {
    "deletable": true,
    "editable": true
   },
   "source": [
    "# Quizz candidats "
   ]
  },
  {
   "cell_type": "code",
   "execution_count": 5,
   "metadata": {
    "collapsed": true,
    "deletable": true,
    "editable": true
   },
   "outputs": [],
   "source": [
    "class GUI:\n",
    "    def __init__(self, candidate_labels, propositions):\n",
    "        # internal vars\n",
    "        self.header = '<p style=\"font-size: 150%;font-weight: 300;line-height: 1.39;margin: 0 0 12.5px;\">{} <a target=\"_blank\" href=\"{}\">source</a></p>'\n",
    "        self.candidate_labels = candidate_labels\n",
    "        self.propositions = propositions\n",
    "        self.choice = None\n",
    "        self.clicked = dict(zip(self.candidate_labels, [False] * len(self.candidate_labels)))\n",
    "        self.confusion_matrix = np.zeros((len(candidate_labels), len(candidate_labels)))\n",
    "        \n",
    "        # candidate buttons\n",
    "        buttons = [Button(description=label) for label in self.candidate_labels]\n",
    "        for b in buttons:\n",
    "            b.on_click(self.on_button_clicked)\n",
    "        hbox1 = HBox()\n",
    "        hbox1.children = buttons\n",
    "        self.buttons = buttons\n",
    "\n",
    "        # scorebox and new_question button and confusion matrix\n",
    "        self.scorebox = IntText(description='score', value=0)\n",
    "        new_question = Button(description='nouvelle question !')\n",
    "        new_question.on_click(self.create_new_question)\n",
    "        confusion_matrix_button = Button(description='afficher matrice de confusion')\n",
    "        confusion_matrix_button.on_click(self.show_confusion_matrix)\n",
    "        hbox2 = HBox()\n",
    "        hbox2.children = [self.scorebox, new_question, confusion_matrix_button]\n",
    "\n",
    "        # proposition box\n",
    "        self.html = HTML()\n",
    "\n",
    "        # general layout\n",
    "        vbox = VBox()\n",
    "        vbox.children = [hbox1, hbox2, self.html]\n",
    "        self.box = vbox\n",
    "\n",
    "        # generate first question\n",
    "        self.create_new_question()\n",
    "        \n",
    "    def create_new_question(self, b=None):\n",
    "        clear_output()\n",
    "        choice = np.random.randint(len(self.candidate_labels))\n",
    "        self.choice = choice\n",
    "        current_propositions = self.propositions[choice]\n",
    "        n = current_propositions.shape[0]\n",
    "        m = np.random.randint(n)\n",
    "        self.html.value = self.header.format(current_propositions['proposition'][m],\n",
    "                                             current_propositions['source'][m])\n",
    "        for b in self.buttons:\n",
    "            b.style.button_color = None\n",
    "            self.clicked = dict(zip(self.candidate_labels, [False] * len(self.candidate_labels)))\n",
    "        \n",
    "    def on_button_clicked(self, b):\n",
    "        clear_output()\n",
    "        if not self.clicked[b.description]:\n",
    "            if b.description == self.candidate_labels[self.choice]:\n",
    "                self.scorebox.value += 1\n",
    "                b.style.button_color = 'lightgreen'\n",
    "                self.update_confusion_matrix(b.description, self.candidate_labels[self.choice])\n",
    "            else:\n",
    "                self.scorebox.value -= 1\n",
    "                b.style.button_color = 'red'\n",
    "                self.update_confusion_matrix(b.description, self.candidate_labels[self.choice])\n",
    "        self.clicked[b.description] = True\n",
    "        \n",
    "    def update_confusion_matrix(self, clicked_label, true_label):\n",
    "        \"Updates confusion matrix with answer.\"\n",
    "        clicked = self.candidate_labels.index(clicked_label)\n",
    "        true = self.candidate_labels.index(true_label)\n",
    "        self.confusion_matrix[true, clicked] += 1\n",
    "        \n",
    "    def show_confusion_matrix(self, b):\n",
    "        classes = self.candidate_labels\n",
    "        plt.imshow(self.confusion_matrix)\n",
    "        plt.colorbar(label='nombre de réponses')\n",
    "        tick_marks = np.arange(len(classes))\n",
    "        plt.xticks(tick_marks, classes, rotation=45)\n",
    "        plt.yticks(tick_marks, classes)\n",
    "        plt.ylabel('Vraie réponse')\n",
    "        plt.xlabel('Ce que vous avez répondu')\n",
    "        print(self.confusion_matrix)"
   ]
  },
  {
   "cell_type": "code",
   "execution_count": 6,
   "metadata": {
    "collapsed": false,
    "deletable": true,
    "editable": true
   },
   "outputs": [],
   "source": [
    "gui = GUI(candidate_labels, propositions)\n",
    "display(gui.box)"
   ]
  },
  {
   "cell_type": "markdown",
   "metadata": {},
   "source": [
    "# Recherche plein texte de propositions "
   ]
  },
  {
   "cell_type": "code",
   "execution_count": 7,
   "metadata": {
    "collapsed": true,
    "deletable": true,
    "editable": true
   },
   "outputs": [],
   "source": [
    "def make_df(candidate, candidate_label):\n",
    "    \"Returns a dataframe with candidate name.\"\n",
    "    ind_s = pd.Series(index=candidate.index, data=[candidate_label], name='candidat')\n",
    "    return pd.DataFrame(data=[ind_s, candidate]).transpose()"
   ]
  },
  {
   "cell_type": "code",
   "execution_count": 8,
   "metadata": {
    "collapsed": false,
    "deletable": true,
    "editable": true
   },
   "outputs": [
    {
     "ename": "NameError",
     "evalue": "name 'candidates' is not defined",
     "output_type": "error",
     "traceback": [
      "\u001b[0;31m---------------------------------------------------------------------------\u001b[0m",
      "\u001b[0;31mNameError\u001b[0m                                 Traceback (most recent call last)",
      "\u001b[0;32m<ipython-input-8-4d7f2fa4399a>\u001b[0m in \u001b[0;36m<module>\u001b[0;34m()\u001b[0m\n\u001b[0;32m----> 1\u001b[0;31m \u001b[0mall_propositions\u001b[0m \u001b[0;34m=\u001b[0m \u001b[0mpd\u001b[0m\u001b[0;34m.\u001b[0m\u001b[0mconcat\u001b[0m\u001b[0;34m(\u001b[0m\u001b[0;34m[\u001b[0m\u001b[0mmake_df\u001b[0m\u001b[0;34m(\u001b[0m\u001b[0mc\u001b[0m\u001b[0;34m,\u001b[0m \u001b[0mlabel\u001b[0m\u001b[0;34m)\u001b[0m \u001b[0;32mfor\u001b[0m \u001b[0mc\u001b[0m\u001b[0;34m,\u001b[0m \u001b[0mlabel\u001b[0m \u001b[0;32min\u001b[0m \u001b[0mzip\u001b[0m\u001b[0;34m(\u001b[0m\u001b[0mcandidates\u001b[0m\u001b[0;34m,\u001b[0m \u001b[0mcandidate_labels\u001b[0m\u001b[0;34m)\u001b[0m\u001b[0;34m]\u001b[0m\u001b[0;34m)\u001b[0m\u001b[0;34m\u001b[0m\u001b[0m\n\u001b[0m",
      "\u001b[0;31mNameError\u001b[0m: name 'candidates' is not defined"
     ]
    }
   ],
   "source": [
    "all_propositions = pd.concat([make_df(c, label) for c, label in zip(candidates, candidate_labels)])"
   ]
  },
  {
   "cell_type": "code",
   "execution_count": null,
   "metadata": {
    "collapsed": false,
    "deletable": true,
    "editable": true
   },
   "outputs": [],
   "source": [
    "ind = all_propositions['proposition'].str.lower().str.contains('vert')"
   ]
  },
  {
   "cell_type": "code",
   "execution_count": null,
   "metadata": {
    "collapsed": false,
    "deletable": true,
    "editable": true
   },
   "outputs": [],
   "source": [
    "all_propositions[ind]"
   ]
  },
  {
   "cell_type": "code",
   "execution_count": null,
   "metadata": {
    "collapsed": true,
    "deletable": true,
    "editable": true
   },
   "outputs": [],
   "source": [
    "mask = all_propositions[ind]"
   ]
  },
  {
   "cell_type": "code",
   "execution_count": null,
   "metadata": {
    "collapsed": false,
    "deletable": true,
    "editable": true
   },
   "outputs": [],
   "source": [
    "mask.groupby(by='candidat').sum().iloc[0].values"
   ]
  },
  {
   "cell_type": "code",
   "execution_count": null,
   "metadata": {
    "collapsed": true,
    "deletable": true,
    "editable": true
   },
   "outputs": [],
   "source": [
    "from ipywidgets import interact, IntSlider, SelectMultiple"
   ]
  },
  {
   "cell_type": "code",
   "execution_count": null,
   "metadata": {
    "collapsed": false,
    "deletable": true,
    "editable": true
   },
   "outputs": [],
   "source": [
    "mask.size"
   ]
  },
  {
   "cell_type": "code",
   "execution_count": null,
   "metadata": {
    "collapsed": false,
    "deletable": true,
    "editable": true
   },
   "outputs": [],
   "source": [
    "slider = IntSlider(min=0, max=mask.size - 1)\n",
    "slider"
   ]
  },
  {
   "cell_type": "code",
   "execution_count": null,
   "metadata": {
    "collapsed": true,
    "deletable": true,
    "editable": true
   },
   "outputs": [],
   "source": [
    "selector = SelectMultiple(\n",
    "        options=mask['proposition'].values.tolist(),\n",
    "        value=[],\n",
    "        description='',\n",
    "        disabled=False,\n",
    "        )\n",
    "selector.layout.width='500px'\n",
    "selector.layout.height = \"300px\""
   ]
  },
  {
   "cell_type": "code",
   "execution_count": null,
   "metadata": {
    "collapsed": false,
    "deletable": true,
    "editable": true
   },
   "outputs": [],
   "source": [
    "@interact\n",
    "def search_for_props(search='croissance'):\n",
    "    ind = all_propositions['proposition'].str.lower().str.contains(search)\n",
    "    mask = all_propositions[ind]\n",
    "    selector.options = mask['proposition'].values.tolist()\n",
    "\n",
    "display(selector)"
   ]
  },
  {
   "cell_type": "code",
   "execution_count": null,
   "metadata": {
    "collapsed": true,
    "deletable": true,
    "editable": true
   },
   "outputs": [],
   "source": []
  }
 ],
 "metadata": {
  "kernelspec": {
   "display_name": "Python 3",
   "language": "python",
   "name": "python3"
  },
  "language_info": {
   "codemirror_mode": {
    "name": "ipython",
    "version": 3
   },
   "file_extension": ".py",
   "mimetype": "text/x-python",
   "name": "python",
   "nbconvert_exporter": "python",
   "pygments_lexer": "ipython3",
   "version": "3.5.2"
  }
 },
 "nbformat": 4,
 "nbformat_minor": 2
}
