{
 "cells": [
  {
   "cell_type": "markdown",
   "metadata": {
    "deletable": true,
    "editable": true
   },
   "source": [
    "Dans ce notebook, nous allons essayer de faire du text mining pour récuper des versions locales des programmes des présidentielles 2017 des candidats suivants :\n",
    "\n",
    "- François Fillon (apparemment, le projet sort le 13 mars seulement)\n",
    "- Marine Le Pen\n",
    "- Benoît Hamon\n",
    "- Jean-Luc Mélenchon\n",
    "- Emmanuel Macron\n",
    "\n",
    "Différentes manières de récupérer les programmes sont possibles : soit à partir des fichiers .pdf, soit à partir des sites des campagnes. Nous allons faire au plus simple, à l'aide des sites de campagnes."
   ]
  },
  {
   "cell_type": "code",
   "execution_count": 1,
   "metadata": {
    "collapsed": true,
    "deletable": true,
    "editable": true
   },
   "outputs": [],
   "source": [
    "from bs4 import BeautifulSoup\n",
    "import requests\n",
    "import re\n",
    "import pandas as pd\n",
    "from ipywidgets import interact"
   ]
  },
  {
   "cell_type": "code",
   "execution_count": 40,
   "metadata": {
    "collapsed": true,
    "deletable": true,
    "editable": true
   },
   "outputs": [],
   "source": [
    "def make_df_from_props_sources(props_sources):\n",
    "    \"Makes a big dataframe from props_sources.\"\n",
    "    dfs = []\n",
    "    for key in props_sources:\n",
    "        df = pd.DataFrame(props_sources[key], columns=['proposition'])\n",
    "        df['source'] = key\n",
    "        dfs.append(df)\n",
    "    df = pd.concat(dfs).reset_index(drop=True)\n",
    "    return df"
   ]
  },
  {
   "cell_type": "markdown",
   "metadata": {
    "deletable": true,
    "editable": true
   },
   "source": [
    "# François Fillon "
   ]
  },
  {
   "cell_type": "markdown",
   "metadata": {
    "deletable": true,
    "editable": true
   },
   "source": [
    "Le projet de François Fillon ne sera annoncé que le 13 mars : https://www.fillon2017.fr/projet/"
   ]
  },
  {
   "cell_type": "code",
   "execution_count": 2,
   "metadata": {
    "collapsed": true,
    "deletable": true,
    "editable": true
   },
   "outputs": [],
   "source": [
    "r = requests.get('https://www.fillon2017.fr/projet/')\n",
    "soup = BeautifulSoup(r.text, 'html.parser')"
   ]
  },
  {
   "cell_type": "code",
   "execution_count": 3,
   "metadata": {
    "collapsed": true,
    "deletable": true,
    "editable": true
   },
   "outputs": [],
   "source": [
    "tags = soup.find_all('a', class_='projectItem__inner')"
   ]
  },
  {
   "cell_type": "code",
   "execution_count": 4,
   "metadata": {
    "collapsed": true,
    "deletable": true,
    "editable": true
   },
   "outputs": [],
   "source": [
    "sublinks = [tag.attrs['href'] for tag in tags]"
   ]
  },
  {
   "cell_type": "code",
   "execution_count": 6,
   "metadata": {
    "collapsed": true,
    "deletable": true,
    "editable": true
   },
   "outputs": [],
   "source": [
    "r = requests.get('https://www.fillon2017.fr/projet/competitivite/')\n",
    "soup = BeautifulSoup(r.text, 'html.parser')"
   ]
  },
  {
   "cell_type": "code",
   "execution_count": 10,
   "metadata": {
    "collapsed": false,
    "deletable": true,
    "editable": true
   },
   "outputs": [],
   "source": [
    "tags = soup.find_all('li', class_='singleProject__propositionItem')"
   ]
  },
  {
   "cell_type": "code",
   "execution_count": 20,
   "metadata": {
    "collapsed": false,
    "deletable": true,
    "editable": true
   },
   "outputs": [
    {
     "data": {
      "text/plain": [
       "5"
      ]
     },
     "execution_count": 20,
     "metadata": {},
     "output_type": "execute_result"
    }
   ],
   "source": [
    "len(tags)"
   ]
  },
  {
   "cell_type": "code",
   "execution_count": 13,
   "metadata": {
    "collapsed": true,
    "deletable": true,
    "editable": true
   },
   "outputs": [],
   "source": [
    "tag = tags[0]"
   ]
  },
  {
   "cell_type": "code",
   "execution_count": 24,
   "metadata": {
    "collapsed": false,
    "deletable": true,
    "editable": true
   },
   "outputs": [
    {
     "data": {
      "text/plain": [
       "'Prolonger jusqu’en 2019 le dispositif de suramortissement exceptionnel des investissements, pour soutenir l’investissement et la trésorerie des entreprises industrielles. \\n'"
      ]
     },
     "execution_count": 24,
     "metadata": {},
     "output_type": "execute_result"
    }
   ],
   "source": [
    "tag.find('div', class_='singleProject__propositionItem-content').text"
   ]
  },
  {
   "cell_type": "code",
   "execution_count": 25,
   "metadata": {
    "collapsed": false,
    "deletable": true,
    "editable": true
   },
   "outputs": [],
   "source": [
    "for tag in tags:\n",
    "    tag.find('div', class_='singleProject__propositionItem-content').text"
   ]
  },
  {
   "cell_type": "code",
   "execution_count": 26,
   "metadata": {
    "collapsed": true,
    "deletable": true,
    "editable": true
   },
   "outputs": [],
   "source": [
    "def extract_propositions(url):\n",
    "    r = requests.get(url)\n",
    "    soup = BeautifulSoup(r.text, 'html.parser')\n",
    "    tags = soup.find_all('li', class_='singleProject__propositionItem')\n",
    "    return [tag.find('div', class_='singleProject__propositionItem-content').text for tag in tags]"
   ]
  },
  {
   "cell_type": "code",
   "execution_count": 27,
   "metadata": {
    "collapsed": false,
    "deletable": true,
    "editable": true
   },
   "outputs": [
    {
     "data": {
      "text/plain": [
       "['Renforcer les allègements existants par un nouvel allègement de charges sociales et d’impôts de production, de 25 Mds€, portant sur tous les salaires, pour redonner un nouveau souffle à l’économie française. Cet allègement montera progressivement en charge jusqu’en 2020. ',\n",
       " 'Transformer le CICE qui est un crédit d’impôt complexe, en baisse des charges patronales pour un montant équivalent, durable et lisible.',\n",
       " \"Alléger l’impôt sur les sociétés (IS) pour renforcer la compétitivité de nos entreprises et la création d’emplois en France. Les contributions additionnelles à l’IS seront supprimées en 2018 et le taux d'IS sera diminué progressivement pour atteindre environ 25% au terme du quinquennat. Cette mesure représente un effort de l’ordre de 10 Mds€ et permettra de tendre vers le taux moyen de l’Union européenne.  \\n\",\n",
       " 'Prolonger jusqu’en 2019 le dispositif de suramortissement exceptionnel des investissements, pour soutenir l’investissement et la trésorerie des entreprises industrielles. \\n',\n",
       " 'Stabiliser et rendre lisible notre politique fiscale pendant cinq ans, après avoir annoncé les grandes mesures fiscales du quinquennat, pour donner de la lisibilité aux acteurs économiques.']"
      ]
     },
     "execution_count": 27,
     "metadata": {},
     "output_type": "execute_result"
    }
   ],
   "source": [
    "extract_propositions(sublinks[0])"
   ]
  },
  {
   "cell_type": "code",
   "execution_count": 28,
   "metadata": {
    "collapsed": true,
    "deletable": true,
    "editable": true
   },
   "outputs": [],
   "source": [
    "props_sources = {}\n",
    "for sublink in sublinks:\n",
    "    props = extract_propositions(sublink)\n",
    "    props_sources[sublink] = props"
   ]
  },
  {
   "cell_type": "code",
   "execution_count": 93,
   "metadata": {
    "collapsed": false,
    "deletable": true,
    "editable": true
   },
   "outputs": [
    {
     "data": {
      "text/html": [
       "<div>\n",
       "<table border=\"1\" class=\"dataframe\">\n",
       "  <thead>\n",
       "    <tr style=\"text-align: right;\">\n",
       "      <th></th>\n",
       "      <th>proposition</th>\n",
       "      <th>source</th>\n",
       "    </tr>\n",
       "  </thead>\n",
       "  <tbody>\n",
       "    <tr>\n",
       "      <th>0</th>\n",
       "      <td>Inscrire dans la Constitution le principe de q...</td>\n",
       "      <td>https://www.fillon2017.fr/projet/immigration/</td>\n",
       "    </tr>\n",
       "    <tr>\n",
       "      <th>1</th>\n",
       "      <td>Développer l'usage des statistiques d'origine ...</td>\n",
       "      <td>https://www.fillon2017.fr/projet/immigration/</td>\n",
       "    </tr>\n",
       "    <tr>\n",
       "      <th>2</th>\n",
       "      <td>Durcir les exigences du regroupement familial ...</td>\n",
       "      <td>https://www.fillon2017.fr/projet/immigration/</td>\n",
       "    </tr>\n",
       "    <tr>\n",
       "      <th>3</th>\n",
       "      <td>Restaurer notre souveraineté migratoire en ren...</td>\n",
       "      <td>https://www.fillon2017.fr/projet/immigration/</td>\n",
       "    </tr>\n",
       "    <tr>\n",
       "      <th>4</th>\n",
       "      <td>Abroger les récentes réformes législatives éla...</td>\n",
       "      <td>https://www.fillon2017.fr/projet/immigration/</td>\n",
       "    </tr>\n",
       "  </tbody>\n",
       "</table>\n",
       "</div>"
      ],
      "text/plain": [
       "                                         proposition  \\\n",
       "0  Inscrire dans la Constitution le principe de q...   \n",
       "1  Développer l'usage des statistiques d'origine ...   \n",
       "2  Durcir les exigences du regroupement familial ...   \n",
       "3  Restaurer notre souveraineté migratoire en ren...   \n",
       "4  Abroger les récentes réformes législatives éla...   \n",
       "\n",
       "                                          source  \n",
       "0  https://www.fillon2017.fr/projet/immigration/  \n",
       "1  https://www.fillon2017.fr/projet/immigration/  \n",
       "2  https://www.fillon2017.fr/projet/immigration/  \n",
       "3  https://www.fillon2017.fr/projet/immigration/  \n",
       "4  https://www.fillon2017.fr/projet/immigration/  "
      ]
     },
     "execution_count": 93,
     "metadata": {},
     "output_type": "execute_result"
    }
   ],
   "source": [
    "df = make_df_from_props_sources(props_sources)\n",
    "df.head()"
   ]
  },
  {
   "cell_type": "code",
   "execution_count": 94,
   "metadata": {
    "collapsed": true,
    "deletable": true,
    "editable": true
   },
   "outputs": [],
   "source": [
    "df.to_csv('../projets/francois_fillon.csv', index=False)"
   ]
  },
  {
   "cell_type": "markdown",
   "metadata": {
    "deletable": true,
    "editable": true
   },
   "source": [
    "# Marine Le Pen "
   ]
  },
  {
   "cell_type": "markdown",
   "metadata": {
    "deletable": true,
    "editable": true
   },
   "source": [
    "Les 144 engagements de Marine Le Pen peuvent être consultés ici : https://www.marine2017.fr/programme/"
   ]
  },
  {
   "cell_type": "markdown",
   "metadata": {
    "deletable": true,
    "editable": true
   },
   "source": [
    "## Analyse de la structure du site\n",
    "\n",
    "Apparemment, les différentes propositions sont imbriquées dans des balises `<p>`. \n",
    "\n",
    "```\n",
    "<p>3. <strong>Permettre la représentation de tous les Français</strong> par le scrutin proportionnel à toutes les élections. À l’Assemblée nationale, la proportionnelle sera intégrale avec une prime majoritaire de 30&nbsp;% des sièges pour la liste arrivée en tête et un seuil de 5&nbsp;% des suffrages pour obtenir des élus.</p>\n",
    "```\n",
    "On peut donc extraire ces éléments et les trier ensuite."
   ]
  },
  {
   "cell_type": "markdown",
   "metadata": {
    "deletable": true,
    "editable": true
   },
   "source": [
    "## Extraction des paragraphes"
   ]
  },
  {
   "cell_type": "markdown",
   "metadata": {
    "deletable": true,
    "editable": true
   },
   "source": [
    "Téléchargeons le code source de la page."
   ]
  },
  {
   "cell_type": "code",
   "execution_count": 98,
   "metadata": {
    "collapsed": false,
    "deletable": true,
    "editable": true
   },
   "outputs": [],
   "source": [
    "r = requests.get('https://www.marine2017.fr/programme/')"
   ]
  },
  {
   "cell_type": "code",
   "execution_count": 99,
   "metadata": {
    "collapsed": false,
    "deletable": true,
    "editable": true
   },
   "outputs": [],
   "source": [
    "soup = BeautifulSoup(r.text, \"html.parser\")"
   ]
  },
  {
   "cell_type": "markdown",
   "metadata": {
    "deletable": true,
    "editable": true
   },
   "source": [
    "Maintenant, chercons à extraire tous les paragraphes, à l'aide d'une fonction qui vérifie que le paragraphe commence par un nombre suivi d'un point (et peut-être d'un espace)."
   ]
  },
  {
   "cell_type": "code",
   "execution_count": 122,
   "metadata": {
    "collapsed": true,
    "deletable": true,
    "editable": true
   },
   "outputs": [],
   "source": [
    "pattern = re.compile('^\\d+.\\s*')"
   ]
  },
  {
   "cell_type": "code",
   "execution_count": 123,
   "metadata": {
    "collapsed": true,
    "deletable": true,
    "editable": true
   },
   "outputs": [],
   "source": [
    "def filter_func(tag):    \n",
    "    if tag.text is not None:\n",
    "        return pattern.match(tag.text) is not None\n",
    "    else:\n",
    "        return False"
   ]
  },
  {
   "cell_type": "code",
   "execution_count": 124,
   "metadata": {
    "collapsed": false,
    "deletable": true,
    "editable": true
   },
   "outputs": [],
   "source": [
    "all_paragraphs = [re.split(pattern, tag.text)[1:] for tag in soup.find_all('p') if filter_func(tag)]"
   ]
  },
  {
   "cell_type": "code",
   "execution_count": 125,
   "metadata": {
    "collapsed": false,
    "deletable": true,
    "editable": true
   },
   "outputs": [
    {
     "data": {
      "text/plain": [
       "144"
      ]
     },
     "execution_count": 125,
     "metadata": {},
     "output_type": "execute_result"
    }
   ],
   "source": [
    "len(all_paragraphs)"
   ]
  },
  {
   "cell_type": "code",
   "execution_count": 132,
   "metadata": {
    "collapsed": false,
    "deletable": true,
    "editable": true
   },
   "outputs": [
    {
     "data": {
      "application/vnd.jupyter.widget-view+json": {
       "model_id": "e115ff278b9845ac8659ceac18b97b84"
      }
     },
     "metadata": {},
     "output_type": "display_data"
    }
   ],
   "source": [
    "@interact\n",
    "def disp_para(n=(0, len(all_paragraphs) - 1)):\n",
    "    print(all_paragraphs[n])"
   ]
  },
  {
   "cell_type": "code",
   "execution_count": 133,
   "metadata": {
    "collapsed": true,
    "deletable": true,
    "editable": true
   },
   "outputs": [],
   "source": [
    "props_sources = {}\n",
    "props_sources['https://www.marine2017.fr/programme/'] = all_paragraphs"
   ]
  },
  {
   "cell_type": "code",
   "execution_count": 134,
   "metadata": {
    "collapsed": false,
    "deletable": true,
    "editable": true
   },
   "outputs": [],
   "source": [
    "df = make_df_from_props_sources(props_sources)"
   ]
  },
  {
   "cell_type": "code",
   "execution_count": 135,
   "metadata": {
    "collapsed": false,
    "deletable": true,
    "editable": true
   },
   "outputs": [
    {
     "data": {
      "text/html": [
       "<div>\n",
       "<table border=\"1\" class=\"dataframe\">\n",
       "  <thead>\n",
       "    <tr style=\"text-align: right;\">\n",
       "      <th></th>\n",
       "      <th>proposition</th>\n",
       "      <th>source</th>\n",
       "    </tr>\n",
       "  </thead>\n",
       "  <tbody>\n",
       "    <tr>\n",
       "      <th>0</th>\n",
       "      <td>Retrouver notre liberté et la maîtrise de notr...</td>\n",
       "      <td>https://www.marine2017.fr/programme/</td>\n",
       "    </tr>\n",
       "    <tr>\n",
       "      <th>1</th>\n",
       "      <td>Organiser un référendum en vue de réviser la C...</td>\n",
       "      <td>https://www.marine2017.fr/programme/</td>\n",
       "    </tr>\n",
       "    <tr>\n",
       "      <th>2</th>\n",
       "      <td>Permettre la représentation de tous les França...</td>\n",
       "      <td>https://www.marine2017.fr/programme/</td>\n",
       "    </tr>\n",
       "    <tr>\n",
       "      <th>3</th>\n",
       "      <td>Abaisser le nombre de députés à 300 (contre 57...</td>\n",
       "      <td>https://www.marine2017.fr/programme/</td>\n",
       "    </tr>\n",
       "    <tr>\n",
       "      <th>4</th>\n",
       "      <td>Créer un véritable référendum d’initiative pop...</td>\n",
       "      <td>https://www.marine2017.fr/programme/</td>\n",
       "    </tr>\n",
       "    <tr>\n",
       "      <th>5</th>\n",
       "      <td>Conserver trois niveaux d’administration (au l...</td>\n",
       "      <td>https://www.marine2017.fr/programme/</td>\n",
       "    </tr>\n",
       "    <tr>\n",
       "      <th>6</th>\n",
       "      <td>Garantir la liberté d’expression et les libert...</td>\n",
       "      <td>https://www.marine2017.fr/programme/</td>\n",
       "    </tr>\n",
       "    <tr>\n",
       "      <th>7</th>\n",
       "      <td>Créer une charte à valeur constitutionnelle qu...</td>\n",
       "      <td>https://www.marine2017.fr/programme/</td>\n",
       "    </tr>\n",
       "    <tr>\n",
       "      <th>8</th>\n",
       "      <td>Défendre les droits des femmes : lutter contre...</td>\n",
       "      <td>https://www.marine2017.fr/programme/</td>\n",
       "    </tr>\n",
       "    <tr>\n",
       "      <th>9</th>\n",
       "      <td>Assurer le respect de la liberté d’association...</td>\n",
       "      <td>https://www.marine2017.fr/programme/</td>\n",
       "    </tr>\n",
       "  </tbody>\n",
       "</table>\n",
       "</div>"
      ],
      "text/plain": [
       "                                         proposition  \\\n",
       "0  Retrouver notre liberté et la maîtrise de notr...   \n",
       "1  Organiser un référendum en vue de réviser la C...   \n",
       "2  Permettre la représentation de tous les França...   \n",
       "3  Abaisser le nombre de députés à 300 (contre 57...   \n",
       "4  Créer un véritable référendum d’initiative pop...   \n",
       "5  Conserver trois niveaux d’administration (au l...   \n",
       "6  Garantir la liberté d’expression et les libert...   \n",
       "7  Créer une charte à valeur constitutionnelle qu...   \n",
       "8  Défendre les droits des femmes : lutter contre...   \n",
       "9  Assurer le respect de la liberté d’association...   \n",
       "\n",
       "                                 source  \n",
       "0  https://www.marine2017.fr/programme/  \n",
       "1  https://www.marine2017.fr/programme/  \n",
       "2  https://www.marine2017.fr/programme/  \n",
       "3  https://www.marine2017.fr/programme/  \n",
       "4  https://www.marine2017.fr/programme/  \n",
       "5  https://www.marine2017.fr/programme/  \n",
       "6  https://www.marine2017.fr/programme/  \n",
       "7  https://www.marine2017.fr/programme/  \n",
       "8  https://www.marine2017.fr/programme/  \n",
       "9  https://www.marine2017.fr/programme/  "
      ]
     },
     "execution_count": 135,
     "metadata": {},
     "output_type": "execute_result"
    }
   ],
   "source": [
    "df.head(10)"
   ]
  },
  {
   "cell_type": "markdown",
   "metadata": {
    "deletable": true,
    "editable": true
   },
   "source": [
    "Bien, on peut maintenant écrire ces données dans un fichier texte."
   ]
  },
  {
   "cell_type": "code",
   "execution_count": 136,
   "metadata": {
    "collapsed": true,
    "deletable": true,
    "editable": true
   },
   "outputs": [],
   "source": [
    "df.to_csv('../projets/marine_le_pen.csv', index=False)"
   ]
  },
  {
   "cell_type": "markdown",
   "metadata": {
    "deletable": true,
    "editable": true
   },
   "source": [
    "# Benoît Hamon "
   ]
  },
  {
   "cell_type": "markdown",
   "metadata": {
    "deletable": true,
    "editable": true
   },
   "source": [
    "Le site de Benoît Hamon ne permet pas d'accéder à une page avec toutes les propositions facilement. Du coup, il faut explorer trois sous-catégories."
   ]
  },
  {
   "cell_type": "markdown",
   "metadata": {
    "deletable": true,
    "editable": true
   },
   "source": [
    "https://www.benoithamon2017.fr/thematique/pour-un-progres-social-et-ecologique/"
   ]
  },
  {
   "cell_type": "code",
   "execution_count": 145,
   "metadata": {
    "collapsed": false,
    "deletable": true,
    "editable": true
   },
   "outputs": [
    {
     "data": {
      "text/plain": [
       "<Response [200]>"
      ]
     },
     "execution_count": 145,
     "metadata": {},
     "output_type": "execute_result"
    }
   ],
   "source": [
    "r = requests.get('https://www.benoithamon2017.fr/thematique/pour-un-progres-social-et-ecologique/')\n",
    "r"
   ]
  },
  {
   "cell_type": "code",
   "execution_count": 146,
   "metadata": {
    "collapsed": false,
    "deletable": true,
    "editable": true
   },
   "outputs": [],
   "source": [
    "soup = BeautifulSoup(r.text, 'html.parser')"
   ]
  },
  {
   "cell_type": "code",
   "execution_count": 147,
   "metadata": {
    "collapsed": false,
    "deletable": true,
    "editable": true
   },
   "outputs": [],
   "source": [
    "all_propositions = soup.find_all(class_='Propositions-Proposition')"
   ]
  },
  {
   "cell_type": "code",
   "execution_count": 148,
   "metadata": {
    "collapsed": false,
    "deletable": true,
    "editable": true
   },
   "outputs": [
    {
     "data": {
      "text/plain": [
       "66"
      ]
     },
     "execution_count": 148,
     "metadata": {},
     "output_type": "execute_result"
    }
   ],
   "source": [
    "len(all_propositions)"
   ]
  },
  {
   "cell_type": "code",
   "execution_count": 149,
   "metadata": {
    "collapsed": true,
    "deletable": true,
    "editable": true
   },
   "outputs": [],
   "source": [
    "p = all_propositions[0]"
   ]
  },
  {
   "cell_type": "code",
   "execution_count": 150,
   "metadata": {
    "collapsed": false,
    "deletable": true,
    "editable": true
   },
   "outputs": [
    {
     "data": {
      "text/plain": [
       "'\\nLutte contre les déserts médicaux\\nJe lutterai contre les déserts médicaux en retirant le conventionnement aux médecins qui s’installent en zone surdotée. Cette mesure n’entrave en rien la liberté d’installation du médecin, qui peut toujours choisir de s’y installer\\xa0: il ne bénéficiera simplement plus du conventionnement. J’encouragerai le développement de maisons de santé pluridisciplinaires rassemblant des médecins libéraux, appuyés pour les tâches administratives par un gestionnaire des fonctions support. \\n\\n\\nJe soutiens, je partage sur les réseaux #DésertsMédicaux\\n\\n\\n\\nEn savoir plus\\n'"
      ]
     },
     "execution_count": 150,
     "metadata": {},
     "output_type": "execute_result"
    }
   ],
   "source": [
    "p.text"
   ]
  },
  {
   "cell_type": "code",
   "execution_count": 151,
   "metadata": {
    "collapsed": false,
    "deletable": true,
    "editable": true
   },
   "outputs": [
    {
     "data": {
      "text/plain": [
       "'Lutte contre les déserts médicaux'"
      ]
     },
     "execution_count": 151,
     "metadata": {},
     "output_type": "execute_result"
    }
   ],
   "source": [
    "p.find('h1').text"
   ]
  },
  {
   "cell_type": "code",
   "execution_count": 152,
   "metadata": {
    "collapsed": false,
    "deletable": true,
    "editable": true
   },
   "outputs": [
    {
     "data": {
      "text/plain": [
       "'Je lutterai contre les déserts médicaux en retirant le conventionnement aux médecins qui s’installent en zone surdotée. Cette mesure n’entrave en rien la liberté d’installation du médecin, qui peut toujours choisir de s’y installer\\xa0: il ne bénéficiera simplement plus du conventionnement. J’encouragerai le développement de maisons de santé pluridisciplinaires rassemblant des médecins libéraux, appuyés pour les tâches administratives par un gestionnaire des fonctions support.'"
      ]
     },
     "execution_count": 152,
     "metadata": {},
     "output_type": "execute_result"
    }
   ],
   "source": [
    "p.find('p').text"
   ]
  },
  {
   "cell_type": "markdown",
   "metadata": {
    "deletable": true,
    "editable": true
   },
   "source": [
    "On peut extraire de ces propositions la moëlle essentielle :"
   ]
  },
  {
   "cell_type": "code",
   "execution_count": 154,
   "metadata": {
    "collapsed": true,
    "deletable": true,
    "editable": true
   },
   "outputs": [],
   "source": [
    "def extract_data(tag):\n",
    "    \"Extracts title for tag and content.\"\n",
    "    subject = tag.find('h1').text\n",
    "    content = tag.find('p').text\n",
    "    return subject, content"
   ]
  },
  {
   "cell_type": "markdown",
   "metadata": {
    "deletable": true,
    "editable": true
   },
   "source": [
    "Construisons une table de données avec ces propositions."
   ]
  },
  {
   "cell_type": "code",
   "execution_count": 155,
   "metadata": {
    "collapsed": false,
    "deletable": true,
    "editable": true
   },
   "outputs": [],
   "source": [
    "df = pd.DataFrame([extract_data(p) for p in all_propositions], columns=['titre', 'contenu'])"
   ]
  },
  {
   "cell_type": "code",
   "execution_count": 156,
   "metadata": {
    "collapsed": false,
    "deletable": true,
    "editable": true
   },
   "outputs": [
    {
     "data": {
      "text/html": [
       "<div>\n",
       "<table border=\"1\" class=\"dataframe\">\n",
       "  <thead>\n",
       "    <tr style=\"text-align: right;\">\n",
       "      <th></th>\n",
       "      <th>titre</th>\n",
       "      <th>contenu</th>\n",
       "    </tr>\n",
       "  </thead>\n",
       "  <tbody>\n",
       "    <tr>\n",
       "      <th>0</th>\n",
       "      <td>Lutte contre les déserts médicaux</td>\n",
       "      <td>Je lutterai contre les déserts médicaux en ret...</td>\n",
       "    </tr>\n",
       "    <tr>\n",
       "      <th>1</th>\n",
       "      <td>Abrogation de la loi Travail</td>\n",
       "      <td>J’abrogerai immédiatement la loi Travail. Je r...</td>\n",
       "    </tr>\n",
       "    <tr>\n",
       "      <th>2</th>\n",
       "      <td>Un budget de 1% du PIB dédié à la culture</td>\n",
       "      <td>Je porterai le budget consacré au développemen...</td>\n",
       "    </tr>\n",
       "    <tr>\n",
       "      <th>3</th>\n",
       "      <td>Création d’un Revenu universel d’existence</td>\n",
       "      <td>Je mettrai en place un revenu universel d’exis...</td>\n",
       "    </tr>\n",
       "    <tr>\n",
       "      <th>4</th>\n",
       "      <td>Mise en place d’un statut social unique de l’a...</td>\n",
       "      <td>Je créerai un statut unique pour tous les acti...</td>\n",
       "    </tr>\n",
       "    <tr>\n",
       "      <th>5</th>\n",
       "      <td>Oui au travail indépendant, non à l’ubérisatio...</td>\n",
       "      <td>Je lutterai contre le salariat déguisé des ent...</td>\n",
       "    </tr>\n",
       "    <tr>\n",
       "      <th>6</th>\n",
       "      <td>Plan d’investissements dans la rénovation éner...</td>\n",
       "      <td>Je lancerai un plan massif d’investissements d...</td>\n",
       "    </tr>\n",
       "    <tr>\n",
       "      <th>7</th>\n",
       "      <td>Annulation de la dette contractée par les pays...</td>\n",
       "      <td>J’organiserai avec nos partenaires européens l...</td>\n",
       "    </tr>\n",
       "    <tr>\n",
       "      <th>8</th>\n",
       "      <td>Création d’une taxe sur les robots</td>\n",
       "      <td>Je créerai une taxe sur la richesse créée par ...</td>\n",
       "    </tr>\n",
       "    <tr>\n",
       "      <th>9</th>\n",
       "      <td>Reconnaissance d’un statut de l’artiste</td>\n",
       "      <td>Je donnerai corps à un statut de l’artiste afi...</td>\n",
       "    </tr>\n",
       "    <tr>\n",
       "      <th>10</th>\n",
       "      <td>Plus de pluralisme dans la recherche et l’ense...</td>\n",
       "      <td>Je soutiendrai la création d’une nouvelle sect...</td>\n",
       "    </tr>\n",
       "    <tr>\n",
       "      <th>11</th>\n",
       "      <td>Sanctuarisation des biens communs (air, eau, s...</td>\n",
       "      <td>Je sanctuariserai les biens communs en inscriv...</td>\n",
       "    </tr>\n",
       "    <tr>\n",
       "      <th>12</th>\n",
       "      <td>Stop aux pesticides et aux perturbateurs endoc...</td>\n",
       "      <td>J’interdirai immédiatement les pesticides dang...</td>\n",
       "    </tr>\n",
       "    <tr>\n",
       "      <th>13</th>\n",
       "      <td>Grande conférence Ecologie-Prévention-Santé</td>\n",
       "      <td>Je lancerai une grande conférence nationale Ec...</td>\n",
       "    </tr>\n",
       "    <tr>\n",
       "      <th>14</th>\n",
       "      <td>Défense de nos intérêts face au libéralisme éc...</td>\n",
       "      <td>Je suspendrai immédiatement l’application de l...</td>\n",
       "    </tr>\n",
       "    <tr>\n",
       "      <th>15</th>\n",
       "      <td>Une véritable convergence sociale européenne</td>\n",
       "      <td>Je proposerai un processus de convergence soci...</td>\n",
       "    </tr>\n",
       "    <tr>\n",
       "      <th>16</th>\n",
       "      <td>Mesures immédiates de soutien au pouvoir d’achat</td>\n",
       "      <td>Je revaloriserai immédiatement les minima soci...</td>\n",
       "    </tr>\n",
       "    <tr>\n",
       "      <th>17</th>\n",
       "      <td>Une nouvelle étape dans le partage du temps de...</td>\n",
       "      <td>Je propose d’organiser la baisse du temps de t...</td>\n",
       "    </tr>\n",
       "    <tr>\n",
       "      <th>18</th>\n",
       "      <td>Un visa humanitaire pour une protection tempor...</td>\n",
       "      <td>Je créerai un visa humanitaire. Il ouvrira aux...</td>\n",
       "    </tr>\n",
       "    <tr>\n",
       "      <th>19</th>\n",
       "      <td>Droit de mourir dans la dignité</td>\n",
       "      <td>Je créerai le droit à une aide médicale pour m...</td>\n",
       "    </tr>\n",
       "    <tr>\n",
       "      <th>20</th>\n",
       "      <td>Objectif de 50% d’énergies renouvelables dès 2025</td>\n",
       "      <td>Je créerai une aide pour permettre aux citoyen...</td>\n",
       "    </tr>\n",
       "    <tr>\n",
       "      <th>21</th>\n",
       "      <td>13 agences régionales pour un développement te...</td>\n",
       "      <td>Je créerai dans chacune des grandes régions un...</td>\n",
       "    </tr>\n",
       "    <tr>\n",
       "      <th>22</th>\n",
       "      <td>Une plus grande attention à la situation socia...</td>\n",
       "      <td>J’accorderai toute l’attention qu’elle mérite ...</td>\n",
       "    </tr>\n",
       "    <tr>\n",
       "      <th>23</th>\n",
       "      <td>Reconnaissance du burnout comme maladie profes...</td>\n",
       "      <td>Je ferai reconnaître le syndrome d’épuisement ...</td>\n",
       "    </tr>\n",
       "    <tr>\n",
       "      <th>24</th>\n",
       "      <td>Plus de centres d’accueil du planning familial</td>\n",
       "      <td>Je rouvrirai des centres d’accueil du Planning...</td>\n",
       "    </tr>\n",
       "    <tr>\n",
       "      <th>25</th>\n",
       "      <td>Renforcement de la lutte contre l’évasion fiscale</td>\n",
       "      <td>Je mettrai en place un reporting public pays p...</td>\n",
       "    </tr>\n",
       "    <tr>\n",
       "      <th>26</th>\n",
       "      <td>Facilitation de la reprise en SCOP par les sal...</td>\n",
       "      <td>Je faciliterai la reprise d’entreprises par le...</td>\n",
       "    </tr>\n",
       "    <tr>\n",
       "      <th>27</th>\n",
       "      <td>Sortie du diesel à l’horizon 2025</td>\n",
       "      <td>Je ferai sortir la France du diesel à l’horizo...</td>\n",
       "    </tr>\n",
       "    <tr>\n",
       "      <th>28</th>\n",
       "      <td>Réduction du coût du capital et des dividendes</td>\n",
       "      <td>En France, le partage des bénéfices se fait tr...</td>\n",
       "    </tr>\n",
       "    <tr>\n",
       "      <th>29</th>\n",
       "      <td>Un programme d’investissements pour développer...</td>\n",
       "      <td>Je lancerai un programme d’investissements agr...</td>\n",
       "    </tr>\n",
       "    <tr>\n",
       "      <th>...</th>\n",
       "      <td>...</td>\n",
       "      <td>...</td>\n",
       "    </tr>\n",
       "    <tr>\n",
       "      <th>36</th>\n",
       "      <td>Du temps et des moyens pour chacun de s’engager</td>\n",
       "      <td>Je développerai les modalités de partage du te...</td>\n",
       "    </tr>\n",
       "    <tr>\n",
       "      <th>37</th>\n",
       "      <td>Renforcement de la loi SRU sur le logement social</td>\n",
       "      <td>Je renforcerai les sanctions à l’encontre des ...</td>\n",
       "    </tr>\n",
       "    <tr>\n",
       "      <th>38</th>\n",
       "      <td>Une réforme fiscale pour rétablir justice et é...</td>\n",
       "      <td>Je mènerai une véritable révolution fiscale. J...</td>\n",
       "    </tr>\n",
       "    <tr>\n",
       "      <th>39</th>\n",
       "      <td>Une aide au développement à la hauteur de nos ...</td>\n",
       "      <td>Je rétablirai l’aide au développement à la hau...</td>\n",
       "    </tr>\n",
       "    <tr>\n",
       "      <th>40</th>\n",
       "      <td>Elimination des obstacles à l’intégration des ...</td>\n",
       "      <td>Je lèverai les obstacles actuels à l’intégrati...</td>\n",
       "    </tr>\n",
       "    <tr>\n",
       "      <th>41</th>\n",
       "      <td>Equité des aides à l’accès aux complémentaires...</td>\n",
       "      <td>Je porterai un droit à la santé universel, ind...</td>\n",
       "    </tr>\n",
       "    <tr>\n",
       "      <th>42</th>\n",
       "      <td>Grande conférence contre l’exclusion</td>\n",
       "      <td>Dès 2017, j’ouvrirai une grande conférence des...</td>\n",
       "    </tr>\n",
       "    <tr>\n",
       "      <th>43</th>\n",
       "      <td>Modification des règles de Dublin sur le droit...</td>\n",
       "      <td>Je mettrai fin aux règles absurdes de Dublin q...</td>\n",
       "    </tr>\n",
       "    <tr>\n",
       "      <th>44</th>\n",
       "      <td>Moratoire sur le Pacte de stabilité</td>\n",
       "      <td>Je forgerai une alliance interétatique, politi...</td>\n",
       "    </tr>\n",
       "    <tr>\n",
       "      <th>45</th>\n",
       "      <td>Un Acte II de l’Economie Sociale et Solidaire</td>\n",
       "      <td>Je lancerai un acte II de l’économie sociale e...</td>\n",
       "    </tr>\n",
       "    <tr>\n",
       "      <th>46</th>\n",
       "      <td>Un Etat stratège pour la révolution énergétique</td>\n",
       "      <td>Je redonnerai une vision stratégique à l’Etat ...</td>\n",
       "    </tr>\n",
       "    <tr>\n",
       "      <th>47</th>\n",
       "      <td>Légalisation du cannabis et prévention</td>\n",
       "      <td>Je légaliserai le cannabis et j’encadrerai sa ...</td>\n",
       "    </tr>\n",
       "    <tr>\n",
       "      <th>48</th>\n",
       "      <td>Prévention contre l’alcool et le tabac</td>\n",
       "      <td>Je mettrai l’accent sur la prévention pour réd...</td>\n",
       "    </tr>\n",
       "    <tr>\n",
       "      <th>49</th>\n",
       "      <td>Reconnaissance de l’engagement des jeunes</td>\n",
       "      <td>J’assurerai à tous les jeunes une véritable re...</td>\n",
       "    </tr>\n",
       "    <tr>\n",
       "      <th>50</th>\n",
       "      <td>Création d’un service public de la petite enfance</td>\n",
       "      <td>Je souhaite que les jeunes parents, et notamme...</td>\n",
       "    </tr>\n",
       "    <tr>\n",
       "      <th>51</th>\n",
       "      <td>Grand plan national Sport et Santé</td>\n",
       "      <td>Je propose le remboursement par la Sécurité So...</td>\n",
       "    </tr>\n",
       "    <tr>\n",
       "      <th>52</th>\n",
       "      <td>Responsabilité des dirigeants d’entreprises</td>\n",
       "      <td>Je créerai un statut des dirigeant.e.s de gran...</td>\n",
       "    </tr>\n",
       "    <tr>\n",
       "      <th>53</th>\n",
       "      <td>Reconnaissance du droit à la déconnexion pour ...</td>\n",
       "      <td>Je reconnaîtrai le droit à la déconnexion effe...</td>\n",
       "    </tr>\n",
       "    <tr>\n",
       "      <th>54</th>\n",
       "      <td>Un impôt unique sur le patrimoine net des dettes</td>\n",
       "      <td>Je créerai un impôt unique sur le patrimoine, ...</td>\n",
       "    </tr>\n",
       "    <tr>\n",
       "      <th>55</th>\n",
       "      <td>Garantie d’un meilleur accès aux données publi...</td>\n",
       "      <td>Je mènerai une politique d’open data et de tra...</td>\n",
       "    </tr>\n",
       "    <tr>\n",
       "      <th>56</th>\n",
       "      <td>Contrôle parlementaire des nominations préside...</td>\n",
       "      <td>Je développerai le contrôle parlementaire sur ...</td>\n",
       "    </tr>\n",
       "    <tr>\n",
       "      <th>57</th>\n",
       "      <td>Respect de l’égalité salariale femmes-hommes</td>\n",
       "      <td>Je renforcerai les sanctions inscrites dans la...</td>\n",
       "    </tr>\n",
       "    <tr>\n",
       "      <th>58</th>\n",
       "      <td>Une PAC verte pour accompagner la transition a...</td>\n",
       "      <td>Je négocierai au niveau européen pour qu’une p...</td>\n",
       "    </tr>\n",
       "    <tr>\n",
       "      <th>59</th>\n",
       "      <td>Priorité de l’attribution du foncier agricole ...</td>\n",
       "      <td>Je modifierai les critères de l’examen des dos...</td>\n",
       "    </tr>\n",
       "    <tr>\n",
       "      <th>60</th>\n",
       "      <td>L’autonomie alimentaire grâce aux circuits courts</td>\n",
       "      <td>Je favoriserai le développement de cultures ma...</td>\n",
       "    </tr>\n",
       "    <tr>\n",
       "      <th>61</th>\n",
       "      <td>Lancement d’un plan contre la maltraitance ani...</td>\n",
       "      <td>Je garantirai le respect des plus hautes exige...</td>\n",
       "    </tr>\n",
       "    <tr>\n",
       "      <th>62</th>\n",
       "      <td>Vers une harmonisation fiscale en Europe</td>\n",
       "      <td>Je ferai de l’harmonisation fiscale dans l’Uni...</td>\n",
       "    </tr>\n",
       "    <tr>\n",
       "      <th>63</th>\n",
       "      <td>Pour un syndicalisme renforcé</td>\n",
       "      <td>Je renforcerai l’implication des syndicats dan...</td>\n",
       "    </tr>\n",
       "    <tr>\n",
       "      <th>64</th>\n",
       "      <td>Sortie du budget de la défense des règles euro...</td>\n",
       "      <td>J’exclurai le budget de la défense du calcul d...</td>\n",
       "    </tr>\n",
       "    <tr>\n",
       "      <th>65</th>\n",
       "      <td>L’Université au coeur de la méritocratie répub...</td>\n",
       "      <td>Je remettrai l’enseignement supérieur au coeur...</td>\n",
       "    </tr>\n",
       "  </tbody>\n",
       "</table>\n",
       "<p>66 rows × 2 columns</p>\n",
       "</div>"
      ],
      "text/plain": [
       "                                                titre  \\\n",
       "0                   Lutte contre les déserts médicaux   \n",
       "1                        Abrogation de la loi Travail   \n",
       "2           Un budget de 1% du PIB dédié à la culture   \n",
       "3          Création d’un Revenu universel d’existence   \n",
       "4   Mise en place d’un statut social unique de l’a...   \n",
       "5   Oui au travail indépendant, non à l’ubérisatio...   \n",
       "6   Plan d’investissements dans la rénovation éner...   \n",
       "7   Annulation de la dette contractée par les pays...   \n",
       "8                  Création d’une taxe sur les robots   \n",
       "9             Reconnaissance d’un statut de l’artiste   \n",
       "10  Plus de pluralisme dans la recherche et l’ense...   \n",
       "11  Sanctuarisation des biens communs (air, eau, s...   \n",
       "12  Stop aux pesticides et aux perturbateurs endoc...   \n",
       "13        Grande conférence Ecologie-Prévention-Santé   \n",
       "14  Défense de nos intérêts face au libéralisme éc...   \n",
       "15       Une véritable convergence sociale européenne   \n",
       "16   Mesures immédiates de soutien au pouvoir d’achat   \n",
       "17  Une nouvelle étape dans le partage du temps de...   \n",
       "18  Un visa humanitaire pour une protection tempor...   \n",
       "19                    Droit de mourir dans la dignité   \n",
       "20  Objectif de 50% d’énergies renouvelables dès 2025   \n",
       "21  13 agences régionales pour un développement te...   \n",
       "22  Une plus grande attention à la situation socia...   \n",
       "23  Reconnaissance du burnout comme maladie profes...   \n",
       "24     Plus de centres d’accueil du planning familial   \n",
       "25  Renforcement de la lutte contre l’évasion fiscale   \n",
       "26  Facilitation de la reprise en SCOP par les sal...   \n",
       "27                  Sortie du diesel à l’horizon 2025   \n",
       "28     Réduction du coût du capital et des dividendes   \n",
       "29  Un programme d’investissements pour développer...   \n",
       "..                                                ...   \n",
       "36    Du temps et des moyens pour chacun de s’engager   \n",
       "37  Renforcement de la loi SRU sur le logement social   \n",
       "38  Une réforme fiscale pour rétablir justice et é...   \n",
       "39  Une aide au développement à la hauteur de nos ...   \n",
       "40  Elimination des obstacles à l’intégration des ...   \n",
       "41  Equité des aides à l’accès aux complémentaires...   \n",
       "42               Grande conférence contre l’exclusion   \n",
       "43  Modification des règles de Dublin sur le droit...   \n",
       "44                Moratoire sur le Pacte de stabilité   \n",
       "45      Un Acte II de l’Economie Sociale et Solidaire   \n",
       "46    Un Etat stratège pour la révolution énergétique   \n",
       "47             Légalisation du cannabis et prévention   \n",
       "48             Prévention contre l’alcool et le tabac   \n",
       "49          Reconnaissance de l’engagement des jeunes   \n",
       "50  Création d’un service public de la petite enfance   \n",
       "51                 Grand plan national Sport et Santé   \n",
       "52        Responsabilité des dirigeants d’entreprises   \n",
       "53  Reconnaissance du droit à la déconnexion pour ...   \n",
       "54   Un impôt unique sur le patrimoine net des dettes   \n",
       "55  Garantie d’un meilleur accès aux données publi...   \n",
       "56  Contrôle parlementaire des nominations préside...   \n",
       "57       Respect de l’égalité salariale femmes-hommes   \n",
       "58  Une PAC verte pour accompagner la transition a...   \n",
       "59  Priorité de l’attribution du foncier agricole ...   \n",
       "60  L’autonomie alimentaire grâce aux circuits courts   \n",
       "61  Lancement d’un plan contre la maltraitance ani...   \n",
       "62           Vers une harmonisation fiscale en Europe   \n",
       "63                      Pour un syndicalisme renforcé   \n",
       "64  Sortie du budget de la défense des règles euro...   \n",
       "65  L’Université au coeur de la méritocratie répub...   \n",
       "\n",
       "                                              contenu  \n",
       "0   Je lutterai contre les déserts médicaux en ret...  \n",
       "1   J’abrogerai immédiatement la loi Travail. Je r...  \n",
       "2   Je porterai le budget consacré au développemen...  \n",
       "3   Je mettrai en place un revenu universel d’exis...  \n",
       "4   Je créerai un statut unique pour tous les acti...  \n",
       "5   Je lutterai contre le salariat déguisé des ent...  \n",
       "6   Je lancerai un plan massif d’investissements d...  \n",
       "7   J’organiserai avec nos partenaires européens l...  \n",
       "8   Je créerai une taxe sur la richesse créée par ...  \n",
       "9   Je donnerai corps à un statut de l’artiste afi...  \n",
       "10  Je soutiendrai la création d’une nouvelle sect...  \n",
       "11  Je sanctuariserai les biens communs en inscriv...  \n",
       "12  J’interdirai immédiatement les pesticides dang...  \n",
       "13  Je lancerai une grande conférence nationale Ec...  \n",
       "14  Je suspendrai immédiatement l’application de l...  \n",
       "15  Je proposerai un processus de convergence soci...  \n",
       "16  Je revaloriserai immédiatement les minima soci...  \n",
       "17  Je propose d’organiser la baisse du temps de t...  \n",
       "18  Je créerai un visa humanitaire. Il ouvrira aux...  \n",
       "19  Je créerai le droit à une aide médicale pour m...  \n",
       "20  Je créerai une aide pour permettre aux citoyen...  \n",
       "21  Je créerai dans chacune des grandes régions un...  \n",
       "22  J’accorderai toute l’attention qu’elle mérite ...  \n",
       "23  Je ferai reconnaître le syndrome d’épuisement ...  \n",
       "24  Je rouvrirai des centres d’accueil du Planning...  \n",
       "25  Je mettrai en place un reporting public pays p...  \n",
       "26  Je faciliterai la reprise d’entreprises par le...  \n",
       "27  Je ferai sortir la France du diesel à l’horizo...  \n",
       "28  En France, le partage des bénéfices se fait tr...  \n",
       "29  Je lancerai un programme d’investissements agr...  \n",
       "..                                                ...  \n",
       "36  Je développerai les modalités de partage du te...  \n",
       "37  Je renforcerai les sanctions à l’encontre des ...  \n",
       "38  Je mènerai une véritable révolution fiscale. J...  \n",
       "39  Je rétablirai l’aide au développement à la hau...  \n",
       "40  Je lèverai les obstacles actuels à l’intégrati...  \n",
       "41  Je porterai un droit à la santé universel, ind...  \n",
       "42  Dès 2017, j’ouvrirai une grande conférence des...  \n",
       "43  Je mettrai fin aux règles absurdes de Dublin q...  \n",
       "44  Je forgerai une alliance interétatique, politi...  \n",
       "45  Je lancerai un acte II de l’économie sociale e...  \n",
       "46  Je redonnerai une vision stratégique à l’Etat ...  \n",
       "47  Je légaliserai le cannabis et j’encadrerai sa ...  \n",
       "48  Je mettrai l’accent sur la prévention pour réd...  \n",
       "49  J’assurerai à tous les jeunes une véritable re...  \n",
       "50  Je souhaite que les jeunes parents, et notamme...  \n",
       "51  Je propose le remboursement par la Sécurité So...  \n",
       "52  Je créerai un statut des dirigeant.e.s de gran...  \n",
       "53  Je reconnaîtrai le droit à la déconnexion effe...  \n",
       "54  Je créerai un impôt unique sur le patrimoine, ...  \n",
       "55  Je mènerai une politique d’open data et de tra...  \n",
       "56  Je développerai le contrôle parlementaire sur ...  \n",
       "57  Je renforcerai les sanctions inscrites dans la...  \n",
       "58  Je négocierai au niveau européen pour qu’une p...  \n",
       "59  Je modifierai les critères de l’examen des dos...  \n",
       "60  Je favoriserai le développement de cultures ma...  \n",
       "61  Je garantirai le respect des plus hautes exige...  \n",
       "62  Je ferai de l’harmonisation fiscale dans l’Uni...  \n",
       "63  Je renforcerai l’implication des syndicats dan...  \n",
       "64  J’exclurai le budget de la défense du calcul d...  \n",
       "65  Je remettrai l’enseignement supérieur au coeur...  \n",
       "\n",
       "[66 rows x 2 columns]"
      ]
     },
     "execution_count": 156,
     "metadata": {},
     "output_type": "execute_result"
    }
   ],
   "source": [
    "df"
   ]
  },
  {
   "cell_type": "code",
   "execution_count": 169,
   "metadata": {
    "collapsed": false,
    "deletable": true,
    "editable": true
   },
   "outputs": [
    {
     "data": {
      "text/html": [
       "<div>\n",
       "<table border=\"1\" class=\"dataframe\">\n",
       "  <thead>\n",
       "    <tr style=\"text-align: right;\">\n",
       "      <th></th>\n",
       "      <th>titre</th>\n",
       "      <th>contenu</th>\n",
       "    </tr>\n",
       "  </thead>\n",
       "  <tbody>\n",
       "    <tr>\n",
       "      <th>65</th>\n",
       "      <td>L’Université au coeur de la méritocratie répub...</td>\n",
       "      <td>Je remettrai l’enseignement supérieur au coeur...</td>\n",
       "    </tr>\n",
       "  </tbody>\n",
       "</table>\n",
       "</div>"
      ],
      "text/plain": [
       "                                                titre  \\\n",
       "65  L’Université au coeur de la méritocratie répub...   \n",
       "\n",
       "                                              contenu  \n",
       "65  Je remettrai l’enseignement supérieur au coeur...  "
      ]
     },
     "execution_count": 169,
     "metadata": {},
     "output_type": "execute_result"
    }
   ],
   "source": [
    "df[df['contenu'].str.contains('ascension')]"
   ]
  },
  {
   "cell_type": "markdown",
   "metadata": {
    "deletable": true,
    "editable": true
   },
   "source": [
    "On peut transformer ces propositions en DataFrame."
   ]
  },
  {
   "cell_type": "code",
   "execution_count": 171,
   "metadata": {
    "collapsed": true,
    "deletable": true,
    "editable": true
   },
   "outputs": [],
   "source": [
    "props_sources = {}\n",
    "props_sources['https://www.benoithamon2017.fr/thematique/pour-un-progres-social-et-ecologique/'] = df['contenu'].values.tolist()"
   ]
  },
  {
   "cell_type": "code",
   "execution_count": 172,
   "metadata": {
    "collapsed": true,
    "deletable": true,
    "editable": true
   },
   "outputs": [],
   "source": [
    "df = make_df_from_props_sources(props_sources)"
   ]
  },
  {
   "cell_type": "code",
   "execution_count": 174,
   "metadata": {
    "collapsed": false,
    "deletable": true,
    "editable": true
   },
   "outputs": [
    {
     "data": {
      "text/html": [
       "<div>\n",
       "<table border=\"1\" class=\"dataframe\">\n",
       "  <thead>\n",
       "    <tr style=\"text-align: right;\">\n",
       "      <th></th>\n",
       "      <th>proposition</th>\n",
       "      <th>source</th>\n",
       "    </tr>\n",
       "  </thead>\n",
       "  <tbody>\n",
       "    <tr>\n",
       "      <th>0</th>\n",
       "      <td>Je lutterai contre les déserts médicaux en ret...</td>\n",
       "      <td>https://www.benoithamon2017.fr/thematique/pour...</td>\n",
       "    </tr>\n",
       "    <tr>\n",
       "      <th>1</th>\n",
       "      <td>J’abrogerai immédiatement la loi Travail. Je r...</td>\n",
       "      <td>https://www.benoithamon2017.fr/thematique/pour...</td>\n",
       "    </tr>\n",
       "    <tr>\n",
       "      <th>2</th>\n",
       "      <td>Je porterai le budget consacré au développemen...</td>\n",
       "      <td>https://www.benoithamon2017.fr/thematique/pour...</td>\n",
       "    </tr>\n",
       "    <tr>\n",
       "      <th>3</th>\n",
       "      <td>Je mettrai en place un revenu universel d’exis...</td>\n",
       "      <td>https://www.benoithamon2017.fr/thematique/pour...</td>\n",
       "    </tr>\n",
       "    <tr>\n",
       "      <th>4</th>\n",
       "      <td>Je créerai un statut unique pour tous les acti...</td>\n",
       "      <td>https://www.benoithamon2017.fr/thematique/pour...</td>\n",
       "    </tr>\n",
       "  </tbody>\n",
       "</table>\n",
       "</div>"
      ],
      "text/plain": [
       "                                         proposition  \\\n",
       "0  Je lutterai contre les déserts médicaux en ret...   \n",
       "1  J’abrogerai immédiatement la loi Travail. Je r...   \n",
       "2  Je porterai le budget consacré au développemen...   \n",
       "3  Je mettrai en place un revenu universel d’exis...   \n",
       "4  Je créerai un statut unique pour tous les acti...   \n",
       "\n",
       "                                              source  \n",
       "0  https://www.benoithamon2017.fr/thematique/pour...  \n",
       "1  https://www.benoithamon2017.fr/thematique/pour...  \n",
       "2  https://www.benoithamon2017.fr/thematique/pour...  \n",
       "3  https://www.benoithamon2017.fr/thematique/pour...  \n",
       "4  https://www.benoithamon2017.fr/thematique/pour...  "
      ]
     },
     "execution_count": 174,
     "metadata": {},
     "output_type": "execute_result"
    }
   ],
   "source": [
    "df.head()"
   ]
  },
  {
   "cell_type": "code",
   "execution_count": 175,
   "metadata": {
    "collapsed": true,
    "deletable": true,
    "editable": true
   },
   "outputs": [],
   "source": [
    "df.to_csv('../projets/benoit_hamon.csv', index=False)"
   ]
  },
  {
   "cell_type": "markdown",
   "metadata": {
    "deletable": true,
    "editable": true
   },
   "source": [
    "# Jean-Luc Mélenchon "
   ]
  },
  {
   "cell_type": "markdown",
   "metadata": {
    "deletable": true,
    "editable": true
   },
   "source": [
    "On peut trouver une version inofficielle du programme ici : https://laec.fr/sommaire"
   ]
  },
  {
   "cell_type": "markdown",
   "metadata": {
    "deletable": true,
    "editable": true
   },
   "source": [
    "Un peu comme pour le site d'Hamon, il y a des rubriques. Commençons par la première."
   ]
  },
  {
   "cell_type": "code",
   "execution_count": 176,
   "metadata": {
    "collapsed": true,
    "deletable": true,
    "editable": true
   },
   "outputs": [],
   "source": [
    "r = requests.get('https://laec.fr/chapitre/1/la-6e-republique')"
   ]
  },
  {
   "cell_type": "code",
   "execution_count": 177,
   "metadata": {
    "collapsed": true,
    "deletable": true,
    "editable": true
   },
   "outputs": [],
   "source": [
    "soup = BeautifulSoup(r.text, 'html.parser')"
   ]
  },
  {
   "cell_type": "code",
   "execution_count": 178,
   "metadata": {
    "collapsed": false,
    "deletable": true,
    "editable": true
   },
   "outputs": [],
   "source": [
    "sublinks = soup.find_all('a', class_='list-group-item')"
   ]
  },
  {
   "cell_type": "code",
   "execution_count": 179,
   "metadata": {
    "collapsed": false,
    "deletable": true,
    "editable": true
   },
   "outputs": [
    {
     "data": {
      "text/plain": [
       "[<a class=\"list-group-item toc-section toc-chapter-la-6e-republique\" href=\"/section/1/reunir-une-assemblee-constituante\"><span class=\"label label-default\">1</span> Réunir une Assemblée constituante </a>,\n",
       " <a class=\"list-group-item toc-section toc-chapter-la-6e-republique\" href=\"/section/2/balayer-l-oligarchie-abolir-les-privileges-de-la-caste\"><span class=\"label label-default\">2</span> Balayer l'oligarchie, abolir les privilèges de la caste </a>,\n",
       " <a class=\"list-group-item toc-section toc-chapter-la-6e-republique\" href=\"/section/3/une-republique-permettant-l-intervention-populaire\"><span class=\"label label-default\">3</span> Une République permettant l'intervention populaire </a>,\n",
       " <a class=\"list-group-item toc-section toc-chapter-la-6e-republique\" href=\"/section/4/abolir-la-monarchie-presidentielle\"><span class=\"label label-default\">4</span> Abolir la monarchie présidentielle </a>,\n",
       " <a class=\"list-group-item toc-section toc-chapter-la-6e-republique\" href=\"/section/5/une-nouvelle-etape-des-libertes-et-de-l-emancipation-personnelles\"><span class=\"label label-default\">5</span> Une nouvelle étape des libertés et de l'émancipation personnelles </a>,\n",
       " <a class=\"list-group-item toc-section toc-chapter-la-6e-republique\" href=\"/section/6/une-republique-universelle\"><span class=\"label label-default\">6</span> Une République universelle </a>,\n",
       " <a class=\"list-group-item toc-section toc-chapter-la-6e-republique\" href=\"/section/7/une-republique-laique\"><span class=\"label label-default\">7</span> Une République laïque </a>,\n",
       " <a class=\"list-group-item toc-section toc-chapter-la-6e-republique\" href=\"/section/8/la-revolution-citoyenne-dans-les-medias\"><span class=\"label label-default\">8</span> La révolution citoyenne dans les médias </a>,\n",
       " <a class=\"list-group-item toc-section toc-chapter-la-6e-republique\" href=\"/section/9/la-republique-garante-des-biens-communs\"><span class=\"label label-default\">9</span> La République garante des biens communs </a>,\n",
       " <a class=\"list-group-item toc-section toc-chapter-la-6e-republique\" href=\"/section/10/reconnaitre-la-citoyennete-dans-l-entreprise-et-des-droits-nouveaux-aux-salaries\"><span class=\"label label-default\">10</span> Reconnaître la citoyenneté dans l'entreprise et des droits nouveaux aux salariés </a>,\n",
       " <a class=\"list-group-item toc-section toc-chapter-la-6e-republique\" href=\"/section/11/une-justice-au-nom-du-peuple\"><span class=\"label label-default\">11</span> Une justice au nom du peuple </a>,\n",
       " <a class=\"list-group-item toc-section toc-chapter-la-6e-republique\" href=\"/section/12/une-politique-antiterroriste-rationnelle\"><span class=\"label label-default\">12</span> Une politique antiterroriste rationnelle </a>,\n",
       " <a class=\"list-group-item toc-section toc-chapter-la-6e-republique\" href=\"/section/13/garantir-la-securite-et-la-surete\"><span class=\"label label-default\">13</span> Garantir la sécurité et la sûreté </a>,\n",
       " <a class=\"list-group-item toc-section toc-chapter-la-6e-republique\" href=\"/section/14/la-jeunesse-au-service-de-l-interet-general-et-de-la-surete-de-la-nation\"><span class=\"label label-default\">14</span> La jeunesse au service de l'intérêt général et de la sûreté de la Nation </a>,\n",
       " <a class=\"list-group-item toc-section toc-chapter-la-6e-republique\" href=\"/section/15/l-egalite-reelle-pour-les-outre-mer\"><span class=\"label label-default\">15</span> L'égalité réelle pour les Outre-mer </a>]"
      ]
     },
     "execution_count": 179,
     "metadata": {},
     "output_type": "execute_result"
    }
   ],
   "source": [
    "sublinks"
   ]
  },
  {
   "cell_type": "markdown",
   "metadata": {
    "deletable": true,
    "editable": true
   },
   "source": [
    "On peut étendre cette manière de récupérer les données à toutes les sous-sections :"
   ]
  },
  {
   "cell_type": "code",
   "execution_count": 180,
   "metadata": {
    "collapsed": true,
    "deletable": true,
    "editable": true
   },
   "outputs": [],
   "source": [
    "suburls = ['https://laec.fr/chapitre/1/la-6e-republique', \n",
    "           'https://laec.fr/chapitre/2/proteger-et-partager',\n",
    "           'https://laec.fr/chapitre/3/la-planification-ecologique',\n",
    "           'https://laec.fr/chapitre/4/sortir-des-traites-europeens',\n",
    "           'https://laec.fr/chapitre/5/pour-l-independance-de-la-france',\n",
    "           'https://laec.fr/chapitre/6/le-progres-humain-d-abord',\n",
    "           'https://laec.fr/chapitre/7/la-france-aux-frontieres-de-l-humanite']"
   ]
  },
  {
   "cell_type": "code",
   "execution_count": 181,
   "metadata": {
    "collapsed": true,
    "deletable": true,
    "editable": true
   },
   "outputs": [],
   "source": [
    "sublinks = []\n",
    "for suburl in suburls:\n",
    "    r = requests.get(suburl)\n",
    "    soup = BeautifulSoup(r.text, 'html.parser')\n",
    "    sublinks.extend(soup.find_all('a', class_='list-group-item'))"
   ]
  },
  {
   "cell_type": "code",
   "execution_count": 211,
   "metadata": {
    "collapsed": false,
    "deletable": true,
    "editable": true
   },
   "outputs": [
    {
     "data": {
      "text/plain": [
       "[<a class=\"list-group-item toc-section toc-chapter-la-6e-republique\" href=\"/section/1/reunir-une-assemblee-constituante\"><span class=\"label label-default\">1</span> Réunir une Assemblée constituante </a>,\n",
       " <a class=\"list-group-item toc-section toc-chapter-la-6e-republique\" href=\"/section/2/balayer-l-oligarchie-abolir-les-privileges-de-la-caste\"><span class=\"label label-default\">2</span> Balayer l'oligarchie, abolir les privilèges de la caste </a>,\n",
       " <a class=\"list-group-item toc-section toc-chapter-la-6e-republique\" href=\"/section/3/une-republique-permettant-l-intervention-populaire\"><span class=\"label label-default\">3</span> Une République permettant l'intervention populaire </a>,\n",
       " <a class=\"list-group-item toc-section toc-chapter-la-6e-republique\" href=\"/section/4/abolir-la-monarchie-presidentielle\"><span class=\"label label-default\">4</span> Abolir la monarchie présidentielle </a>,\n",
       " <a class=\"list-group-item toc-section toc-chapter-la-6e-republique\" href=\"/section/5/une-nouvelle-etape-des-libertes-et-de-l-emancipation-personnelles\"><span class=\"label label-default\">5</span> Une nouvelle étape des libertés et de l'émancipation personnelles </a>]"
      ]
     },
     "execution_count": 211,
     "metadata": {},
     "output_type": "execute_result"
    }
   ],
   "source": [
    "sublinks[:5]"
   ]
  },
  {
   "cell_type": "markdown",
   "metadata": {
    "deletable": true,
    "editable": true
   },
   "source": [
    "Combien de propositions trouvons-nous ?"
   ]
  },
  {
   "cell_type": "code",
   "execution_count": 212,
   "metadata": {
    "collapsed": false,
    "deletable": true,
    "editable": true
   },
   "outputs": [
    {
     "data": {
      "text/plain": [
       "83"
      ]
     },
     "execution_count": 212,
     "metadata": {},
     "output_type": "execute_result"
    }
   ],
   "source": [
    "len(sublinks)"
   ]
  },
  {
   "cell_type": "markdown",
   "metadata": {
    "deletable": true,
    "editable": true
   },
   "source": [
    "Construisons les url complètes."
   ]
  },
  {
   "cell_type": "code",
   "execution_count": 216,
   "metadata": {
    "collapsed": false,
    "deletable": true,
    "editable": true
   },
   "outputs": [
    {
     "data": {
      "text/plain": [
       "['https://laec.fr/section/1/reunir-une-assemblee-constituante',\n",
       " 'https://laec.fr/section/2/balayer-l-oligarchie-abolir-les-privileges-de-la-caste',\n",
       " 'https://laec.fr/section/3/une-republique-permettant-l-intervention-populaire',\n",
       " 'https://laec.fr/section/4/abolir-la-monarchie-presidentielle',\n",
       " 'https://laec.fr/section/5/une-nouvelle-etape-des-libertes-et-de-l-emancipation-personnelles',\n",
       " 'https://laec.fr/section/6/une-republique-universelle',\n",
       " 'https://laec.fr/section/7/une-republique-laique',\n",
       " 'https://laec.fr/section/8/la-revolution-citoyenne-dans-les-medias',\n",
       " 'https://laec.fr/section/9/la-republique-garante-des-biens-communs',\n",
       " 'https://laec.fr/section/10/reconnaitre-la-citoyennete-dans-l-entreprise-et-des-droits-nouveaux-aux-salaries']"
      ]
     },
     "execution_count": 216,
     "metadata": {},
     "output_type": "execute_result"
    }
   ],
   "source": [
    "full_urls = ['https://laec.fr' + link.attrs['href'] for link in sublinks]\n",
    "full_urls[:10]"
   ]
  },
  {
   "cell_type": "code",
   "execution_count": 274,
   "metadata": {
    "collapsed": true,
    "deletable": true,
    "editable": true
   },
   "outputs": [],
   "source": [
    "full_url = full_urls[13]\n",
    "#full_url = full_urls[0]"
   ]
  },
  {
   "cell_type": "code",
   "execution_count": 275,
   "metadata": {
    "collapsed": false,
    "deletable": true,
    "editable": true
   },
   "outputs": [],
   "source": [
    "r = requests.get(full_url)"
   ]
  },
  {
   "cell_type": "code",
   "execution_count": 276,
   "metadata": {
    "collapsed": false,
    "deletable": true,
    "editable": true
   },
   "outputs": [
    {
     "name": "stdout",
     "output_type": "stream",
     "text": [
      "<!DOCTYPE html>\n",
      "<html lang=\"fr\" class=\"page no-js not-logged-in theme-frontend theme-chapter-la-6e-republique page-section page-section-14\">\n",
      "<!--\n",
      "\n",
      "\n",
      "░░░░░░░░░░░░░░░░░░░░░░░░░░░░░░░░░\n",
      "░░░█░░░█▀█░█▀▀░█▀▀░░░░█▀▀░█▀▄░░░░\n",
      "░░░█░░░█▀█░█▀▀░█░░░░░░█▀▀░█▀▄░░░░\n",
      "░░░▀▀▀░▀░▀░▀▀▀░▀▀▀░▀░░▀░░░▀░▀░░░░\n",
      "░░░░░░░░░░░░░░░░░░░░░░░░░░░░░░░░░\n",
      "+===== L'Avenir En Commun ======+\n",
      "\n",
      "-->\n",
      "  <head>\n",
      "    <!-- Classe .js/.no-js https://www.paulirish.com/2009/avoiding-the-fouc-v3/ -->\n",
      "    <script>(function(H){H.className=H.className.replace(/\\bno-js\\b/,'js')})(document.documentElement)</script>\n",
      "    \n",
      "    <meta charset=\"UTF-8\">\n",
      "    <meta name=\"viewport\" content=\"width=device-width, initial-scale=1, shrink-to-fit=no\">\n",
      "\n",
      "    <title>La jeunesse au service de l&#039;intérêt général et de la sûreté de la Nation</title>\n",
      "    <meta name=\"d\n"
     ]
    }
   ],
   "source": [
    "print(r.text[:800])"
   ]
  },
  {
   "cell_type": "code",
   "execution_count": 277,
   "metadata": {
    "collapsed": true,
    "deletable": true,
    "editable": true
   },
   "outputs": [],
   "source": [
    "soup = BeautifulSoup(r.text, 'html.parser')"
   ]
  },
  {
   "cell_type": "code",
   "execution_count": 278,
   "metadata": {
    "collapsed": false,
    "deletable": true,
    "editable": true
   },
   "outputs": [],
   "source": [
    "tags = soup.find_all('li', class_='list-group-item')"
   ]
  },
  {
   "cell_type": "code",
   "execution_count": 279,
   "metadata": {
    "collapsed": true,
    "deletable": true,
    "editable": true
   },
   "outputs": [],
   "source": [
    "tag = tags[0]"
   ]
  },
  {
   "cell_type": "code",
   "execution_count": 281,
   "metadata": {
    "collapsed": false,
    "deletable": true,
    "editable": true
   },
   "outputs": [
    {
     "data": {
      "text/plain": [
       "\"Créer un service citoyen obligatoirePour les femmes et les hommesPar conscription avant 25 ans, proche du lieu de vie, en limitant le casernement aux fonctions qui l'exigent réellementD'une durée totale de neuf mois, comprenant une formation militaire initiale incluant un droit à l'objection de conscienceRémunéré au smicAffecté à des tâches d'intérêt général\\xa0: secours à la population, sapeurs-pompiers, sécurité publique, défense, sécurité civile, protection et réparation de l'environnement, appui à des associations labellisées d'intérêt généralPrésence sur tout le territoire, y compris les Outre-mer, les zones rurales et les quartiers populairesComprenant un bilan de santé, une évaluation des capacités d'écriture, de lecture et de calcul avec leur éventuelle mise à niveau, la formation gratuite à la conduite et le passage de l'examen du permis de conduire\""
      ]
     },
     "execution_count": 281,
     "metadata": {},
     "output_type": "execute_result"
    }
   ],
   "source": [
    "tag.text"
   ]
  },
  {
   "cell_type": "code",
   "execution_count": 282,
   "metadata": {
    "collapsed": false,
    "deletable": true,
    "editable": true
   },
   "outputs": [
    {
     "data": {
      "text/plain": [
       "[<li>Pour les femmes et les hommes</li>,\n",
       " <li>Par conscription avant 25 ans, proche du lieu de vie, en limitant le <em>casernement</em> aux fonctions qui l'exigent réellement</li>,\n",
       " <li>D'une durée totale de neuf mois, comprenant une formation militaire initiale incluant un droit à l'objection de conscience</li>,\n",
       " <li>Rémunéré au <abbr title=\"Salaire Minimum Interprofessionnel de Croissance\">smic</abbr></li>,\n",
       " <li>Affecté à des tâches d'intérêt général : secours à la population, sapeurs-pompiers, sécurité publique, défense, sécurité civile, protection et réparation de l'environnement, appui à des associations labellisées d'intérêt général</li>,\n",
       " <li>Présence sur tout le territoire, y compris les Outre-mer, les zones rurales et les quartiers populaires</li>,\n",
       " <li>Comprenant un bilan de santé, une évaluation des capacités d'écriture, de lecture et de calcul avec leur éventuelle mise à niveau, la formation gratuite à la conduite et le passage de l'examen du permis de conduire</li>]"
      ]
     },
     "execution_count": 282,
     "metadata": {},
     "output_type": "execute_result"
    }
   ],
   "source": [
    "tag.find_all('li')"
   ]
  },
  {
   "cell_type": "code",
   "execution_count": 288,
   "metadata": {
    "collapsed": false,
    "deletable": true,
    "editable": true
   },
   "outputs": [
    {
     "data": {
      "text/plain": [
       "'Créer un service citoyen obligatoire'"
      ]
     },
     "execution_count": 288,
     "metadata": {},
     "output_type": "execute_result"
    }
   ],
   "source": [
    "tag.p.text"
   ]
  },
  {
   "cell_type": "code",
   "execution_count": 284,
   "metadata": {
    "collapsed": false,
    "deletable": true,
    "editable": true
   },
   "outputs": [
    {
     "data": {
      "text/plain": [
       "\"Pour les femmes et les hommes\\nPar conscription avant 25 ans, proche du lieu de vie, en limitant le casernement aux fonctions qui l'exigent réellement\\nD'une durée totale de neuf mois, comprenant une formation militaire initiale incluant un droit à l'objection de conscience\\nRémunéré au smic\\nAffecté à des tâches d'intérêt général\\xa0: secours à la population, sapeurs-pompiers, sécurité publique, défense, sécurité civile, protection et réparation de l'environnement, appui à des associations labellisées d'intérêt général\\nPrésence sur tout le territoire, y compris les Outre-mer, les zones rurales et les quartiers populaires\\nComprenant un bilan de santé, une évaluation des capacités d'écriture, de lecture et de calcul avec leur éventuelle mise à niveau, la formation gratuite à la conduite et le passage de l'examen du permis de conduire\""
      ]
     },
     "execution_count": 284,
     "metadata": {},
     "output_type": "execute_result"
    }
   ],
   "source": [
    "\"\\n\".join([t.text for t in tag.find_all('li')])"
   ]
  },
  {
   "cell_type": "code",
   "execution_count": 286,
   "metadata": {
    "collapsed": false,
    "deletable": true,
    "editable": true
   },
   "outputs": [
    {
     "data": {
      "text/plain": [
       "2"
      ]
     },
     "execution_count": 286,
     "metadata": {},
     "output_type": "execute_result"
    }
   ],
   "source": [
    "len(tags)"
   ]
  },
  {
   "cell_type": "code",
   "execution_count": 285,
   "metadata": {
    "collapsed": false,
    "deletable": true,
    "editable": true
   },
   "outputs": [
    {
     "data": {
      "text/plain": [
       "[\"Créer un service citoyen obligatoirePour les femmes et les hommesPar conscription avant 25 ans, proche du lieu de vie, en limitant le casernement aux fonctions qui l'exigent réellementD'une durée totale de neuf mois, comprenant une formation militaire initiale incluant un droit à l'objection de conscienceRémunéré au smicAffecté à des tâches d'intérêt général\\xa0: secours à la population, sapeurs-pompiers, sécurité publique, défense, sécurité civile, protection et réparation de l'environnement, appui à des associations labellisées d'intérêt généralPrésence sur tout le territoire, y compris les Outre-mer, les zones rurales et les quartiers populairesComprenant un bilan de santé, une évaluation des capacités d'écriture, de lecture et de calcul avec leur éventuelle mise à niveau, la formation gratuite à la conduite et le passage de l'examen du permis de conduire\",\n",
       " \"Créer une garde nationale placée sous commandement civil et composéeDes jeunes en service citoyen obligatoire ayant choisi d'intégrer la réserve pour la protection de la sûreté et de l'intégrité de la NationDes unités existantes labellisées\\xa0: réserve de sécurité nationale, réserve de sécurité civile, réserve citoyenne\"]"
      ]
     },
     "execution_count": 285,
     "metadata": {},
     "output_type": "execute_result"
    }
   ],
   "source": [
    "[tag.text for tag in tags]"
   ]
  },
  {
   "cell_type": "code",
   "execution_count": 294,
   "metadata": {
    "collapsed": true,
    "deletable": true,
    "editable": true
   },
   "outputs": [],
   "source": [
    "def extract_data(url):\n",
    "    r = requests.get(url)\n",
    "    soup = BeautifulSoup(r.text, 'html.parser')\n",
    "    tags = soup.find_all('li', class_='list-group-item')\n",
    "    contents = []\n",
    "    for tag in tags:\n",
    "        if len(tag.find_all('li')) == 0:\n",
    "            contents.append(tag.text)\n",
    "        else:\n",
    "            contents.append(tag.p.text + '\\n\\t' + \"\\n\\t\".join([t.text for t in tag.find_all('li')]))\n",
    "    return contents"
   ]
  },
  {
   "cell_type": "code",
   "execution_count": 295,
   "metadata": {
    "collapsed": false,
    "deletable": true,
    "editable": true
   },
   "outputs": [
    {
     "data": {
      "text/plain": [
       "[\"Créer un service citoyen obligatoire\\n\\tPour les femmes et les hommes\\n\\tPar conscription avant 25 ans, proche du lieu de vie, en limitant le casernement aux fonctions qui l'exigent réellement\\n\\tD'une durée totale de neuf mois, comprenant une formation militaire initiale incluant un droit à l'objection de conscience\\n\\tRémunéré au smic\\n\\tAffecté à des tâches d'intérêt général\\xa0: secours à la population, sapeurs-pompiers, sécurité publique, défense, sécurité civile, protection et réparation de l'environnement, appui à des associations labellisées d'intérêt général\\n\\tPrésence sur tout le territoire, y compris les Outre-mer, les zones rurales et les quartiers populaires\\n\\tComprenant un bilan de santé, une évaluation des capacités d'écriture, de lecture et de calcul avec leur éventuelle mise à niveau, la formation gratuite à la conduite et le passage de l'examen du permis de conduire\",\n",
       " \"Créer une garde nationale placée sous commandement civil et composée\\n\\tDes jeunes en service citoyen obligatoire ayant choisi d'intégrer la réserve pour la protection de la sûreté et de l'intégrité de la Nation\\n\\tDes unités existantes labellisées\\xa0: réserve de sécurité nationale, réserve de sécurité civile, réserve citoyenne\"]"
      ]
     },
     "execution_count": 295,
     "metadata": {},
     "output_type": "execute_result"
    }
   ],
   "source": [
    "extract_data(full_url)"
   ]
  },
  {
   "cell_type": "code",
   "execution_count": 296,
   "metadata": {
    "collapsed": false,
    "deletable": true,
    "editable": true
   },
   "outputs": [
    {
     "data": {
      "text/plain": [
       "[\"Créer un service citoyen obligatoire\\n\\tPour les femmes et les hommes\\n\\tPar conscription avant 25 ans, proche du lieu de vie, en limitant le casernement aux fonctions qui l'exigent réellement\\n\\tD'une durée totale de neuf mois, comprenant une formation militaire initiale incluant un droit à l'objection de conscience\\n\\tRémunéré au smic\\n\\tAffecté à des tâches d'intérêt général\\xa0: secours à la population, sapeurs-pompiers, sécurité publique, défense, sécurité civile, protection et réparation de l'environnement, appui à des associations labellisées d'intérêt général\\n\\tPrésence sur tout le territoire, y compris les Outre-mer, les zones rurales et les quartiers populaires\\n\\tComprenant un bilan de santé, une évaluation des capacités d'écriture, de lecture et de calcul avec leur éventuelle mise à niveau, la formation gratuite à la conduite et le passage de l'examen du permis de conduire\",\n",
       " \"Créer une garde nationale placée sous commandement civil et composée\\n\\tDes jeunes en service citoyen obligatoire ayant choisi d'intégrer la réserve pour la protection de la sûreté et de l'intégrité de la Nation\\n\\tDes unités existantes labellisées\\xa0: réserve de sécurité nationale, réserve de sécurité civile, réserve citoyenne\"]"
      ]
     },
     "execution_count": 296,
     "metadata": {},
     "output_type": "execute_result"
    }
   ],
   "source": [
    "extract_data(full_urls[13])"
   ]
  },
  {
   "cell_type": "code",
   "execution_count": 297,
   "metadata": {
    "collapsed": false,
    "deletable": true,
    "editable": true
   },
   "outputs": [
    {
     "name": "stdout",
     "output_type": "stream",
     "text": [
      "Créer un service citoyen obligatoire\n",
      "Pour les femmes et les hommes\n",
      "Par conscription avant 25 ans, proche du lieu de vie, en limitant le casernement aux fonctions qui l'exigent réellement\n",
      "D'une durée totale de neuf mois, comprenant une formation militaire initiale incluant un droit à l'objection de conscience\n",
      "Rémunéré au smic\n",
      "Affecté à des tâches d'intérêt général : secours à la population, sapeurs-pompiers, sécurité publique, défense, sécurité civile, protection et réparation de l'environnement, appui à des associations labellisées d'intérêt général\n",
      "Présence sur tout le territoire, y compris les Outre-mer, les zones rurales et les quartiers populaires\n",
      "Comprenant un bilan de santé, une évaluation des capacités d'écriture, de lecture et de calcul avec leur éventuelle mise à niveau, la formation gratuite à la conduite et le passage de l'examen du permis de conduire\n"
     ]
    }
   ],
   "source": [
    "print(_291[0])"
   ]
  },
  {
   "cell_type": "code",
   "execution_count": 298,
   "metadata": {
    "collapsed": true,
    "deletable": true,
    "editable": true
   },
   "outputs": [],
   "source": [
    "props_sources = {}\n",
    "for url in full_urls:\n",
    "    props_sources[url] = extract_data(url)"
   ]
  },
  {
   "cell_type": "code",
   "execution_count": 299,
   "metadata": {
    "collapsed": false,
    "deletable": true,
    "editable": true
   },
   "outputs": [
    {
     "data": {
      "text/html": [
       "<div>\n",
       "<table border=\"1\" class=\"dataframe\">\n",
       "  <thead>\n",
       "    <tr style=\"text-align: right;\">\n",
       "      <th></th>\n",
       "      <th>proposition</th>\n",
       "      <th>source</th>\n",
       "    </tr>\n",
       "  </thead>\n",
       "  <tbody>\n",
       "    <tr>\n",
       "      <th>0</th>\n",
       "      <td>Créer un service citoyen obligatoire\\n\\tPour l...</td>\n",
       "      <td>https://laec.fr/section/14/la-jeunesse-au-serv...</td>\n",
       "    </tr>\n",
       "    <tr>\n",
       "      <th>1</th>\n",
       "      <td>Créer une garde nationale placée sous commande...</td>\n",
       "      <td>https://laec.fr/section/14/la-jeunesse-au-serv...</td>\n",
       "    </tr>\n",
       "    <tr>\n",
       "      <th>2</th>\n",
       "      <td>Établir un diagnostic global des consommations...</td>\n",
       "      <td>https://laec.fr/section/69/changer-de-logique-...</td>\n",
       "    </tr>\n",
       "    <tr>\n",
       "      <th>3</th>\n",
       "      <td>Légaliser et encadrer la consommation, la prod...</td>\n",
       "      <td>https://laec.fr/section/69/changer-de-logique-...</td>\n",
       "    </tr>\n",
       "    <tr>\n",
       "      <th>4</th>\n",
       "      <td>Affecter les recettes des taxes sur le cannabi...</td>\n",
       "      <td>https://laec.fr/section/69/changer-de-logique-...</td>\n",
       "    </tr>\n",
       "    <tr>\n",
       "      <th>5</th>\n",
       "      <td>Déclarer la souffrance au travail grande cause...</td>\n",
       "      <td>https://laec.fr/section/70/en-finir-avec-la-so...</td>\n",
       "    </tr>\n",
       "    <tr>\n",
       "      <th>6</th>\n",
       "      <td>Renforcer la médecine du travail\\n\\tIntégrer l...</td>\n",
       "      <td>https://laec.fr/section/70/en-finir-avec-la-so...</td>\n",
       "    </tr>\n",
       "    <tr>\n",
       "      <th>7</th>\n",
       "      <td>Reconnaître le burn-out comme maladie professi...</td>\n",
       "      <td>https://laec.fr/section/70/en-finir-avec-la-so...</td>\n",
       "    </tr>\n",
       "    <tr>\n",
       "      <th>8</th>\n",
       "      <td>Faire du nombre d'accidents du travail un crit...</td>\n",
       "      <td>https://laec.fr/section/70/en-finir-avec-la-so...</td>\n",
       "    </tr>\n",
       "    <tr>\n",
       "      <th>9</th>\n",
       "      <td>S'exonérer du pacte de stabilité et des règles...</td>\n",
       "      <td>https://laec.fr/section/49/prendre-les-mesures...</td>\n",
       "    </tr>\n",
       "    <tr>\n",
       "      <th>10</th>\n",
       "      <td>Cesser d'appliquer unilatéralement la directiv...</td>\n",
       "      <td>https://laec.fr/section/49/prendre-les-mesures...</td>\n",
       "    </tr>\n",
       "    <tr>\n",
       "      <th>11</th>\n",
       "      <td>Refuser les régressions du droit européen sur ...</td>\n",
       "      <td>https://laec.fr/section/49/prendre-les-mesures...</td>\n",
       "    </tr>\n",
       "    <tr>\n",
       "      <th>12</th>\n",
       "      <td>Refuser les traités de libre-échange : le trai...</td>\n",
       "      <td>https://laec.fr/section/49/prendre-les-mesures...</td>\n",
       "    </tr>\n",
       "    <tr>\n",
       "      <th>13</th>\n",
       "      <td>Stopper la libéralisation et la privatisation ...</td>\n",
       "      <td>https://laec.fr/section/49/prendre-les-mesures...</td>\n",
       "    </tr>\n",
       "    <tr>\n",
       "      <th>14</th>\n",
       "      <td>Encadrer les mouvements de capitaux pour évite...</td>\n",
       "      <td>https://laec.fr/section/49/prendre-les-mesures...</td>\n",
       "    </tr>\n",
       "    <tr>\n",
       "      <th>15</th>\n",
       "      <td>Créer un Plan personnalisé contre la pauvreté ...</td>\n",
       "      <td>https://laec.fr/section/33/eradiquer-la-pauvrete</td>\n",
       "    </tr>\n",
       "    <tr>\n",
       "      <th>16</th>\n",
       "      <td>Créer une garantie dignité en revalorisant les...</td>\n",
       "      <td>https://laec.fr/section/33/eradiquer-la-pauvrete</td>\n",
       "    </tr>\n",
       "    <tr>\n",
       "      <th>17</th>\n",
       "      <td>Restructurer les emprunts des ménages surendet...</td>\n",
       "      <td>https://laec.fr/section/33/eradiquer-la-pauvrete</td>\n",
       "    </tr>\n",
       "    <tr>\n",
       "      <th>18</th>\n",
       "      <td>Atteindre l'objectif de zéro sans-abri : chacu...</td>\n",
       "      <td>https://laec.fr/section/33/eradiquer-la-pauvrete</td>\n",
       "    </tr>\n",
       "    <tr>\n",
       "      <th>19</th>\n",
       "      <td>Instaurer la gratuité de l'accès et des quanti...</td>\n",
       "      <td>https://laec.fr/section/33/eradiquer-la-pauvrete</td>\n",
       "    </tr>\n",
       "    <tr>\n",
       "      <th>20</th>\n",
       "      <td>Lutter contre le non-recours aux droits sociau...</td>\n",
       "      <td>https://laec.fr/section/33/eradiquer-la-pauvrete</td>\n",
       "    </tr>\n",
       "    <tr>\n",
       "      <th>21</th>\n",
       "      <td>Faire France de tout bois\\n\\tDéfendre le droit...</td>\n",
       "      <td>https://laec.fr/section/6/une-republique-unive...</td>\n",
       "    </tr>\n",
       "    <tr>\n",
       "      <th>22</th>\n",
       "      <td>Abolir les ségrégations et lutter contre toute...</td>\n",
       "      <td>https://laec.fr/section/6/une-republique-unive...</td>\n",
       "    </tr>\n",
       "    <tr>\n",
       "      <th>23</th>\n",
       "      <td>Abolir le patriarcat dans l'État et la société...</td>\n",
       "      <td>https://laec.fr/section/6/une-republique-unive...</td>\n",
       "    </tr>\n",
       "    <tr>\n",
       "      <th>24</th>\n",
       "      <td>Assurer l'égalité de toutes les familles, de t...</td>\n",
       "      <td>https://laec.fr/section/6/une-republique-unive...</td>\n",
       "    </tr>\n",
       "    <tr>\n",
       "      <th>25</th>\n",
       "      <td>Mettre fin à la cotation continue des entrepri...</td>\n",
       "      <td>https://laec.fr/section/20/definanciariser-l-e...</td>\n",
       "    </tr>\n",
       "    <tr>\n",
       "      <th>26</th>\n",
       "      <td>Moduler les droits de vote des actionnaires se...</td>\n",
       "      <td>https://laec.fr/section/20/definanciariser-l-e...</td>\n",
       "    </tr>\n",
       "    <tr>\n",
       "      <th>27</th>\n",
       "      <td>Moduler l'impôt sur les sociétés selon l'usage...</td>\n",
       "      <td>https://laec.fr/section/20/definanciariser-l-e...</td>\n",
       "    </tr>\n",
       "    <tr>\n",
       "      <th>28</th>\n",
       "      <td>Augmenter la mise en réserve légale (aujourd'h...</td>\n",
       "      <td>https://laec.fr/section/20/definanciariser-l-e...</td>\n",
       "    </tr>\n",
       "    <tr>\n",
       "      <th>29</th>\n",
       "      <td>Interdire aux entreprises de distribuer un mon...</td>\n",
       "      <td>https://laec.fr/section/20/definanciariser-l-e...</td>\n",
       "    </tr>\n",
       "    <tr>\n",
       "      <th>...</th>\n",
       "      <td>...</td>\n",
       "      <td>...</td>\n",
       "    </tr>\n",
       "    <tr>\n",
       "      <th>332</th>\n",
       "      <td>Sortir du nucléaire\\n\\tFermer immédiatement Fe...</td>\n",
       "      <td>https://laec.fr/section/39/100-d-energies-reno...</td>\n",
       "    </tr>\n",
       "    <tr>\n",
       "      <th>333</th>\n",
       "      <td>Créer un pôle public de l'énergie pour mener u...</td>\n",
       "      <td>https://laec.fr/section/39/100-d-energies-reno...</td>\n",
       "    </tr>\n",
       "    <tr>\n",
       "      <th>334</th>\n",
       "      <td>Revenir sur la libéralisation du marché de l'é...</td>\n",
       "      <td>https://laec.fr/section/39/100-d-energies-reno...</td>\n",
       "    </tr>\n",
       "    <tr>\n",
       "      <th>335</th>\n",
       "      <td>Combattre l'obsolescence programmée des biens ...</td>\n",
       "      <td>https://laec.fr/section/44/une-france-zero-dechet</td>\n",
       "    </tr>\n",
       "    <tr>\n",
       "      <th>336</th>\n",
       "      <td>Lutter contre le suremballage, le gaspillage (...</td>\n",
       "      <td>https://laec.fr/section/44/une-france-zero-dechet</td>\n",
       "    </tr>\n",
       "    <tr>\n",
       "      <th>337</th>\n",
       "      <td>Rendre obligatoires le recyclage, le compostag...</td>\n",
       "      <td>https://laec.fr/section/44/une-france-zero-dechet</td>\n",
       "    </tr>\n",
       "    <tr>\n",
       "      <th>338</th>\n",
       "      <td>Soutenir toutes les initiatives s'appuyant sur...</td>\n",
       "      <td>https://laec.fr/section/44/une-france-zero-dechet</td>\n",
       "    </tr>\n",
       "    <tr>\n",
       "      <th>339</th>\n",
       "      <td>Reconnaître l'État palestinien</td>\n",
       "      <td>https://laec.fr/section/61/agir-pour-une-paix-...</td>\n",
       "    </tr>\n",
       "    <tr>\n",
       "      <th>340</th>\n",
       "      <td>Appuyer la solution à deux États coexistant pa...</td>\n",
       "      <td>https://laec.fr/section/61/agir-pour-une-paix-...</td>\n",
       "    </tr>\n",
       "    <tr>\n",
       "      <th>341</th>\n",
       "      <td>Protéger la haute mer de toute appropriation e...</td>\n",
       "      <td>https://laec.fr/section/58/etendre-les-protect...</td>\n",
       "    </tr>\n",
       "    <tr>\n",
       "      <th>342</th>\n",
       "      <td>Construire un statut international pour l'Arct...</td>\n",
       "      <td>https://laec.fr/section/58/etendre-les-protect...</td>\n",
       "    </tr>\n",
       "    <tr>\n",
       "      <th>343</th>\n",
       "      <td>Faire appliquer le principe de non-privatisati...</td>\n",
       "      <td>https://laec.fr/section/58/etendre-les-protect...</td>\n",
       "    </tr>\n",
       "    <tr>\n",
       "      <th>344</th>\n",
       "      <td>Créer un crime international d'écocide (attein...</td>\n",
       "      <td>https://laec.fr/section/58/etendre-les-protect...</td>\n",
       "    </tr>\n",
       "    <tr>\n",
       "      <th>345</th>\n",
       "      <td>Créer un tribunal international de justice éco...</td>\n",
       "      <td>https://laec.fr/section/58/etendre-les-protect...</td>\n",
       "    </tr>\n",
       "    <tr>\n",
       "      <th>346</th>\n",
       "      <td>Rendre inéligible à vie toute personne condamn...</td>\n",
       "      <td>https://laec.fr/section/2/balayer-l-oligarchie...</td>\n",
       "    </tr>\n",
       "    <tr>\n",
       "      <th>347</th>\n",
       "      <td>Supprimer le monopole du déclenchement de pour...</td>\n",
       "      <td>https://laec.fr/section/2/balayer-l-oligarchie...</td>\n",
       "    </tr>\n",
       "    <tr>\n",
       "      <th>348</th>\n",
       "      <td>Combattre la pollution du débat parlementaire ...</td>\n",
       "      <td>https://laec.fr/section/2/balayer-l-oligarchie...</td>\n",
       "    </tr>\n",
       "    <tr>\n",
       "      <th>349</th>\n",
       "      <td>Mettre fin au pantouflage : tout haut fonction...</td>\n",
       "      <td>https://laec.fr/section/2/balayer-l-oligarchie...</td>\n",
       "    </tr>\n",
       "    <tr>\n",
       "      <th>350</th>\n",
       "      <td>Appliquer les recommandations d'Anticor et de ...</td>\n",
       "      <td>https://laec.fr/section/2/balayer-l-oligarchie...</td>\n",
       "    </tr>\n",
       "    <tr>\n",
       "      <th>351</th>\n",
       "      <td>Mettre fin à l'usurpation par le Medef de la p...</td>\n",
       "      <td>https://laec.fr/section/2/balayer-l-oligarchie...</td>\n",
       "    </tr>\n",
       "    <tr>\n",
       "      <th>352</th>\n",
       "      <td>Développer le transport ferroviaire\\n\\tAdopter...</td>\n",
       "      <td>https://laec.fr/section/41/developper-les-tran...</td>\n",
       "    </tr>\n",
       "    <tr>\n",
       "      <th>353</th>\n",
       "      <td>Développer le cabotage maritime entre les port...</td>\n",
       "      <td>https://laec.fr/section/41/developper-les-tran...</td>\n",
       "    </tr>\n",
       "    <tr>\n",
       "      <th>354</th>\n",
       "      <td>Renationaliser les autoroutes</td>\n",
       "      <td>https://laec.fr/section/41/developper-les-tran...</td>\n",
       "    </tr>\n",
       "    <tr>\n",
       "      <th>355</th>\n",
       "      <td>Repenser la mobilité individuelle\\n\\tEngager l...</td>\n",
       "      <td>https://laec.fr/section/41/developper-les-tran...</td>\n",
       "    </tr>\n",
       "    <tr>\n",
       "      <th>356</th>\n",
       "      <td>Proposer de nouvelles coopérations spatiales o...</td>\n",
       "      <td>https://laec.fr/section/80/ouvrir-une-nouvelle...</td>\n",
       "    </tr>\n",
       "    <tr>\n",
       "      <th>357</th>\n",
       "      <td>Lancer des coopérations maritimes pour faire f...</td>\n",
       "      <td>https://laec.fr/section/80/ouvrir-une-nouvelle...</td>\n",
       "    </tr>\n",
       "    <tr>\n",
       "      <th>358</th>\n",
       "      <td>Gérer enfin les migrations à l'échelle interna...</td>\n",
       "      <td>https://laec.fr/section/59/lutter-contre-les-c...</td>\n",
       "    </tr>\n",
       "    <tr>\n",
       "      <th>359</th>\n",
       "      <td>Éviter aux migrants de devoir fuir leur pays\\n...</td>\n",
       "      <td>https://laec.fr/section/59/lutter-contre-les-c...</td>\n",
       "    </tr>\n",
       "    <tr>\n",
       "      <th>360</th>\n",
       "      <td>En Europe, sortir de l'impasse de Schengen et ...</td>\n",
       "      <td>https://laec.fr/section/59/lutter-contre-les-c...</td>\n",
       "    </tr>\n",
       "    <tr>\n",
       "      <th>361</th>\n",
       "      <td>Assumer notre devoir d'humanité envers les réf...</td>\n",
       "      <td>https://laec.fr/section/59/lutter-contre-les-c...</td>\n",
       "    </tr>\n",
       "  </tbody>\n",
       "</table>\n",
       "<p>362 rows × 2 columns</p>\n",
       "</div>"
      ],
      "text/plain": [
       "                                           proposition  \\\n",
       "0    Créer un service citoyen obligatoire\\n\\tPour l...   \n",
       "1    Créer une garde nationale placée sous commande...   \n",
       "2    Établir un diagnostic global des consommations...   \n",
       "3    Légaliser et encadrer la consommation, la prod...   \n",
       "4    Affecter les recettes des taxes sur le cannabi...   \n",
       "5    Déclarer la souffrance au travail grande cause...   \n",
       "6    Renforcer la médecine du travail\\n\\tIntégrer l...   \n",
       "7    Reconnaître le burn-out comme maladie professi...   \n",
       "8    Faire du nombre d'accidents du travail un crit...   \n",
       "9    S'exonérer du pacte de stabilité et des règles...   \n",
       "10   Cesser d'appliquer unilatéralement la directiv...   \n",
       "11   Refuser les régressions du droit européen sur ...   \n",
       "12   Refuser les traités de libre-échange : le trai...   \n",
       "13   Stopper la libéralisation et la privatisation ...   \n",
       "14   Encadrer les mouvements de capitaux pour évite...   \n",
       "15   Créer un Plan personnalisé contre la pauvreté ...   \n",
       "16   Créer une garantie dignité en revalorisant les...   \n",
       "17   Restructurer les emprunts des ménages surendet...   \n",
       "18   Atteindre l'objectif de zéro sans-abri : chacu...   \n",
       "19   Instaurer la gratuité de l'accès et des quanti...   \n",
       "20   Lutter contre le non-recours aux droits sociau...   \n",
       "21   Faire France de tout bois\\n\\tDéfendre le droit...   \n",
       "22   Abolir les ségrégations et lutter contre toute...   \n",
       "23   Abolir le patriarcat dans l'État et la société...   \n",
       "24   Assurer l'égalité de toutes les familles, de t...   \n",
       "25   Mettre fin à la cotation continue des entrepri...   \n",
       "26   Moduler les droits de vote des actionnaires se...   \n",
       "27   Moduler l'impôt sur les sociétés selon l'usage...   \n",
       "28   Augmenter la mise en réserve légale (aujourd'h...   \n",
       "29   Interdire aux entreprises de distribuer un mon...   \n",
       "..                                                 ...   \n",
       "332  Sortir du nucléaire\\n\\tFermer immédiatement Fe...   \n",
       "333  Créer un pôle public de l'énergie pour mener u...   \n",
       "334  Revenir sur la libéralisation du marché de l'é...   \n",
       "335  Combattre l'obsolescence programmée des biens ...   \n",
       "336  Lutter contre le suremballage, le gaspillage (...   \n",
       "337  Rendre obligatoires le recyclage, le compostag...   \n",
       "338  Soutenir toutes les initiatives s'appuyant sur...   \n",
       "339                     Reconnaître l'État palestinien   \n",
       "340  Appuyer la solution à deux États coexistant pa...   \n",
       "341  Protéger la haute mer de toute appropriation e...   \n",
       "342  Construire un statut international pour l'Arct...   \n",
       "343  Faire appliquer le principe de non-privatisati...   \n",
       "344  Créer un crime international d'écocide (attein...   \n",
       "345  Créer un tribunal international de justice éco...   \n",
       "346  Rendre inéligible à vie toute personne condamn...   \n",
       "347  Supprimer le monopole du déclenchement de pour...   \n",
       "348  Combattre la pollution du débat parlementaire ...   \n",
       "349  Mettre fin au pantouflage : tout haut fonction...   \n",
       "350  Appliquer les recommandations d'Anticor et de ...   \n",
       "351  Mettre fin à l'usurpation par le Medef de la p...   \n",
       "352  Développer le transport ferroviaire\\n\\tAdopter...   \n",
       "353  Développer le cabotage maritime entre les port...   \n",
       "354                      Renationaliser les autoroutes   \n",
       "355  Repenser la mobilité individuelle\\n\\tEngager l...   \n",
       "356  Proposer de nouvelles coopérations spatiales o...   \n",
       "357  Lancer des coopérations maritimes pour faire f...   \n",
       "358  Gérer enfin les migrations à l'échelle interna...   \n",
       "359  Éviter aux migrants de devoir fuir leur pays\\n...   \n",
       "360  En Europe, sortir de l'impasse de Schengen et ...   \n",
       "361  Assumer notre devoir d'humanité envers les réf...   \n",
       "\n",
       "                                                source  \n",
       "0    https://laec.fr/section/14/la-jeunesse-au-serv...  \n",
       "1    https://laec.fr/section/14/la-jeunesse-au-serv...  \n",
       "2    https://laec.fr/section/69/changer-de-logique-...  \n",
       "3    https://laec.fr/section/69/changer-de-logique-...  \n",
       "4    https://laec.fr/section/69/changer-de-logique-...  \n",
       "5    https://laec.fr/section/70/en-finir-avec-la-so...  \n",
       "6    https://laec.fr/section/70/en-finir-avec-la-so...  \n",
       "7    https://laec.fr/section/70/en-finir-avec-la-so...  \n",
       "8    https://laec.fr/section/70/en-finir-avec-la-so...  \n",
       "9    https://laec.fr/section/49/prendre-les-mesures...  \n",
       "10   https://laec.fr/section/49/prendre-les-mesures...  \n",
       "11   https://laec.fr/section/49/prendre-les-mesures...  \n",
       "12   https://laec.fr/section/49/prendre-les-mesures...  \n",
       "13   https://laec.fr/section/49/prendre-les-mesures...  \n",
       "14   https://laec.fr/section/49/prendre-les-mesures...  \n",
       "15    https://laec.fr/section/33/eradiquer-la-pauvrete  \n",
       "16    https://laec.fr/section/33/eradiquer-la-pauvrete  \n",
       "17    https://laec.fr/section/33/eradiquer-la-pauvrete  \n",
       "18    https://laec.fr/section/33/eradiquer-la-pauvrete  \n",
       "19    https://laec.fr/section/33/eradiquer-la-pauvrete  \n",
       "20    https://laec.fr/section/33/eradiquer-la-pauvrete  \n",
       "21   https://laec.fr/section/6/une-republique-unive...  \n",
       "22   https://laec.fr/section/6/une-republique-unive...  \n",
       "23   https://laec.fr/section/6/une-republique-unive...  \n",
       "24   https://laec.fr/section/6/une-republique-unive...  \n",
       "25   https://laec.fr/section/20/definanciariser-l-e...  \n",
       "26   https://laec.fr/section/20/definanciariser-l-e...  \n",
       "27   https://laec.fr/section/20/definanciariser-l-e...  \n",
       "28   https://laec.fr/section/20/definanciariser-l-e...  \n",
       "29   https://laec.fr/section/20/definanciariser-l-e...  \n",
       "..                                                 ...  \n",
       "332  https://laec.fr/section/39/100-d-energies-reno...  \n",
       "333  https://laec.fr/section/39/100-d-energies-reno...  \n",
       "334  https://laec.fr/section/39/100-d-energies-reno...  \n",
       "335  https://laec.fr/section/44/une-france-zero-dechet  \n",
       "336  https://laec.fr/section/44/une-france-zero-dechet  \n",
       "337  https://laec.fr/section/44/une-france-zero-dechet  \n",
       "338  https://laec.fr/section/44/une-france-zero-dechet  \n",
       "339  https://laec.fr/section/61/agir-pour-une-paix-...  \n",
       "340  https://laec.fr/section/61/agir-pour-une-paix-...  \n",
       "341  https://laec.fr/section/58/etendre-les-protect...  \n",
       "342  https://laec.fr/section/58/etendre-les-protect...  \n",
       "343  https://laec.fr/section/58/etendre-les-protect...  \n",
       "344  https://laec.fr/section/58/etendre-les-protect...  \n",
       "345  https://laec.fr/section/58/etendre-les-protect...  \n",
       "346  https://laec.fr/section/2/balayer-l-oligarchie...  \n",
       "347  https://laec.fr/section/2/balayer-l-oligarchie...  \n",
       "348  https://laec.fr/section/2/balayer-l-oligarchie...  \n",
       "349  https://laec.fr/section/2/balayer-l-oligarchie...  \n",
       "350  https://laec.fr/section/2/balayer-l-oligarchie...  \n",
       "351  https://laec.fr/section/2/balayer-l-oligarchie...  \n",
       "352  https://laec.fr/section/41/developper-les-tran...  \n",
       "353  https://laec.fr/section/41/developper-les-tran...  \n",
       "354  https://laec.fr/section/41/developper-les-tran...  \n",
       "355  https://laec.fr/section/41/developper-les-tran...  \n",
       "356  https://laec.fr/section/80/ouvrir-une-nouvelle...  \n",
       "357  https://laec.fr/section/80/ouvrir-une-nouvelle...  \n",
       "358  https://laec.fr/section/59/lutter-contre-les-c...  \n",
       "359  https://laec.fr/section/59/lutter-contre-les-c...  \n",
       "360  https://laec.fr/section/59/lutter-contre-les-c...  \n",
       "361  https://laec.fr/section/59/lutter-contre-les-c...  \n",
       "\n",
       "[362 rows x 2 columns]"
      ]
     },
     "execution_count": 299,
     "metadata": {},
     "output_type": "execute_result"
    }
   ],
   "source": [
    "df = make_df_from_props_sources(props_sources)\n",
    "df"
   ]
  },
  {
   "cell_type": "markdown",
   "metadata": {
    "deletable": true,
    "editable": true
   },
   "source": [
    "On écrit un fichier."
   ]
  },
  {
   "cell_type": "code",
   "execution_count": 300,
   "metadata": {
    "collapsed": true,
    "deletable": true,
    "editable": true
   },
   "outputs": [],
   "source": [
    "df.to_csv('../projets/jean_luc_melenchon.csv', index=False)"
   ]
  },
  {
   "cell_type": "markdown",
   "metadata": {
    "deletable": true,
    "editable": true
   },
   "source": [
    "# Emmanuel Macron "
   ]
  },
  {
   "cell_type": "markdown",
   "metadata": {
    "deletable": true,
    "editable": true
   },
   "source": [
    "Il faut dans un premier temps aller chercher les pages individuelles du site."
   ]
  },
  {
   "cell_type": "code",
   "execution_count": 301,
   "metadata": {
    "collapsed": true,
    "deletable": true,
    "editable": true
   },
   "outputs": [],
   "source": [
    "r = requests.get('https://en-marche.fr/emmanuel-macron/le-programme')\n",
    "soup = BeautifulSoup(r.text, 'html.parser')"
   ]
  },
  {
   "cell_type": "code",
   "execution_count": 302,
   "metadata": {
    "collapsed": true,
    "deletable": true,
    "editable": true
   },
   "outputs": [],
   "source": [
    "proposals = soup.find_all(class_='programme__proposal')\n",
    "proposals = [p for p in proposals if 'programme__proposal--category' not in p.attrs['class']]"
   ]
  },
  {
   "cell_type": "code",
   "execution_count": 303,
   "metadata": {
    "collapsed": false,
    "deletable": true,
    "editable": true
   },
   "outputs": [
    {
     "data": {
      "text/plain": [
       "36"
      ]
     },
     "execution_count": 303,
     "metadata": {},
     "output_type": "execute_result"
    }
   ],
   "source": [
    "len(proposals)"
   ]
  },
  {
   "cell_type": "code",
   "execution_count": 304,
   "metadata": {
    "collapsed": true,
    "deletable": true,
    "editable": true
   },
   "outputs": [],
   "source": [
    "full_urls = [\"https://en-marche.fr\" + p.find('a').attrs['href'] for p in proposals]"
   ]
  },
  {
   "cell_type": "code",
   "execution_count": 305,
   "metadata": {
    "collapsed": true,
    "deletable": true,
    "editable": true
   },
   "outputs": [],
   "source": [
    "url = full_urls[1]"
   ]
  },
  {
   "cell_type": "code",
   "execution_count": 306,
   "metadata": {
    "collapsed": true,
    "deletable": true,
    "editable": true
   },
   "outputs": [],
   "source": [
    "r = requests.get(url)"
   ]
  },
  {
   "cell_type": "code",
   "execution_count": 307,
   "metadata": {
    "collapsed": true,
    "deletable": true,
    "editable": true
   },
   "outputs": [],
   "source": [
    "text = r.text"
   ]
  },
  {
   "cell_type": "code",
   "execution_count": 308,
   "metadata": {
    "collapsed": false,
    "deletable": true,
    "editable": true
   },
   "outputs": [],
   "source": [
    "text = text.replace('</br>', '')"
   ]
  },
  {
   "cell_type": "code",
   "execution_count": 309,
   "metadata": {
    "collapsed": false,
    "deletable": true,
    "editable": true
   },
   "outputs": [],
   "source": [
    "soup = BeautifulSoup(text, 'html.parser')"
   ]
  },
  {
   "cell_type": "code",
   "execution_count": 310,
   "metadata": {
    "collapsed": false,
    "deletable": true,
    "editable": true
   },
   "outputs": [],
   "source": [
    "article_tag = soup.find_all('article', class_='l__wrapper--slim')[0]"
   ]
  },
  {
   "cell_type": "code",
   "execution_count": 311,
   "metadata": {
    "collapsed": false,
    "deletable": true,
    "editable": true
   },
   "outputs": [
    {
     "name": "stdout",
     "output_type": "stream",
     "text": [
      "\n",
      "Nous agirons pour que les agriculteurs pèsent plus dans leurs négociations avec les industriels de l’agro-alimentaire.\n",
      "\n",
      "\n",
      "Nous encouragerons le développement de véritables organisations de producteurs, avec des capacités de négociations renforcées pour peser plus dans les négociations commerciales avec les centrales d’achat de la grande distribution.\n",
      "\n",
      "\n",
      "Nous organiserons un Grenelle de l’alimentation avec les représentants des agriculteurs, des industries de transformation, de la distribution et des consommateurs, afin de définir un partage équilibré de la valeur.\n",
      "\n",
      "\n",
      "Nous protégerons les agriculteurs contre la volatilité des prix par la mise en place d’outils de régulation adaptés à chaque filière.\n",
      "\n",
      "\n",
      "Nous proposerons des outils de gestion des risques efficaces et adaptés.\n",
      "\n",
      "\n",
      "Nous permettrons aux agriculteurs de conserver les mêmes règles du jeu pour être compétitifs : favoriser la convergence sociale et fiscale au niveau européen.\n",
      "\n",
      "\n",
      "Nous créerons un droit à l’erreur pour tous.\n",
      "\n",
      "\n",
      "Nous donnerons droit au chômage aux agriculteurs pour leur permettre de surmonter les périodes de baisse d’activité.\n",
      "\n",
      "\n",
      "Nous adapterons la formation agricole et faciliterons la formation professionnelle tout au long de la vie pour permettre aux agriculteurs de profiter des nouvelles connaissances.\n",
      "\n",
      "\n",
      "Nous encouragerons les projets de méthanisation en maintenant des aides, en engageant une simplification administrative et en accélérant le raccordement au réseau électrique des unités.\n",
      "\n",
      "\n",
      "Nous soutiendrons l’innovation et la recherche à travers plusieurs actions : fin des zones sans réseau téléphonique, développement du numérique et de l’agriculture de précision, mise en place d’un portail des données agricoles pour stimuler une innovation décentralisée, ouverte, collaborative au service des agriculteurs.\n",
      "\n",
      "\n",
      "Nous encouragerons la diversification des sources de revenus en soutenant par exemple l’agro-tourisme.\n",
      "\n",
      "\n",
      "Nous rémunérerons les agriculteurs pour les services environnementaux  (entretien des paysages, pâturage des alpages qui réduisent les avalanches, etc.) qu’ils rendent, à hauteur de 200 millions d’euros par an dans le cadre de la PAC.\n",
      "\n",
      "\n",
      "Dans le cadre du Grenelle de l’alimentation, nous définirons également un calendrier prévoyant l’élimination progressive des pesticides en commençant par ceux qui présentent un risque pour la biodiversité ou la santé, et le développement d’alternatives.\n",
      "\n",
      "\n",
      "Dès le début du quinquennat, nous séparerons les activités de conseil aux agriculteurs et de vente des pesticides qui peuvent susciter des conflits d’intérêt.\n",
      "\n",
      "\n",
      "Nous renforcerons la transparence des transactions agricoles en soumettant toutes les sociétés foncières au contrôle des SAFER.\n",
      "\n",
      "\n",
      "Nous assurerons le financement du foncier et du capital d’exploitation en facilitant le recours à des outils de portage : le crédit-bail immobilier, la location-vente progressive, prêt viager hypothécaire etc.\n",
      "\n",
      "\n",
      "Nous soutiendrons l’installation des jeunes agriculteurs : en plus de la dotation jeunes agriculteurs (DJA), nous permettrons un prêt d'honneur à la personne sans demande de garantie d’un montant de 50 000 euros maximum avec un différé de 2 ans.\n",
      "\n",
      "\n",
      "Nous allègerons les charges.\n",
      "\n",
      "\n",
      "Nous lancerons un plan de transformation agricole de 5 milliards d’euros sur 5 ans. Les financements seront réservés à :\n",
      "\n",
      "\n",
      "Nous ferons confiance aux territoires pour s’organiser et trouver des solutions adaptées.\n",
      "\n"
     ]
    }
   ],
   "source": [
    "for line in article_tag.find_all(class_='arrows'):\n",
    "    print(line.text) "
   ]
  },
  {
   "cell_type": "code",
   "execution_count": 312,
   "metadata": {
    "collapsed": false,
    "deletable": true,
    "editable": true
   },
   "outputs": [],
   "source": [
    "tag = article_tag.find_all(class_='arrows')[-1]"
   ]
  },
  {
   "cell_type": "code",
   "execution_count": 313,
   "metadata": {
    "collapsed": false,
    "deletable": true,
    "editable": true
   },
   "outputs": [
    {
     "data": {
      "text/plain": [
       "'\\nNous ferons confiance aux territoires pour s’organiser et trouver des solutions adaptées.\\n'"
      ]
     },
     "execution_count": 313,
     "metadata": {},
     "output_type": "execute_result"
    }
   ],
   "source": [
    "tag.text"
   ]
  },
  {
   "cell_type": "code",
   "execution_count": 314,
   "metadata": {
    "collapsed": false,
    "deletable": true,
    "editable": true
   },
   "outputs": [
    {
     "data": {
      "text/plain": [
       "'\\nNous encouragerons les projets alimentaires territoriaux (PAT) pour rapprocher les producteurs, les transformateurs, les distributeurs, les collectivités territoriales et atteindre 50% de produits biologiques, écologiques ou locaux dans l’ensemble de la restauration collective en 2022. \\n'"
      ]
     },
     "execution_count": 314,
     "metadata": {},
     "output_type": "execute_result"
    }
   ],
   "source": [
    "tag.next_sibling"
   ]
  },
  {
   "cell_type": "code",
   "execution_count": 315,
   "metadata": {
    "collapsed": true,
    "deletable": true,
    "editable": true
   },
   "outputs": [],
   "source": [
    "def extract_items(url):\n",
    "    r = requests.get(url)\n",
    "    text = r.text.replace('</br>', '')\n",
    "    soup = BeautifulSoup(text, 'html.parser')\n",
    "    article_tag = soup.find_all('article', class_='l__wrapper--slim')[0]\n",
    "    return [line.text.strip() for line in article_tag.find_all(class_='arrows')]"
   ]
  },
  {
   "cell_type": "code",
   "execution_count": 316,
   "metadata": {
    "collapsed": false,
    "deletable": true,
    "editable": true
   },
   "outputs": [
    {
     "data": {
      "text/plain": [
       "['Nous agirons pour que les agriculteurs pèsent plus dans leurs négociations avec les industriels de l’agro-alimentaire.',\n",
       " 'Nous encouragerons le développement de véritables organisations de producteurs, avec des capacités de négociations renforcées pour peser plus dans les négociations commerciales avec les centrales d’achat de la grande distribution.',\n",
       " 'Nous organiserons un Grenelle de l’alimentation avec les représentants des agriculteurs, des industries de transformation, de la distribution et des consommateurs, afin de définir un partage équilibré de la valeur.',\n",
       " 'Nous protégerons les agriculteurs contre la volatilité des prix par la mise en place d’outils de régulation adaptés à chaque filière.',\n",
       " 'Nous proposerons des outils de gestion des risques efficaces et adaptés.',\n",
       " 'Nous permettrons aux agriculteurs de conserver les mêmes règles du jeu pour être compétitifs : favoriser la convergence sociale et fiscale au niveau européen.',\n",
       " 'Nous créerons un droit à l’erreur pour tous.',\n",
       " 'Nous donnerons droit au chômage aux agriculteurs pour leur permettre de surmonter les périodes de baisse d’activité.',\n",
       " 'Nous adapterons la formation agricole et faciliterons la formation professionnelle tout au long de la vie pour permettre aux agriculteurs de profiter des nouvelles connaissances.',\n",
       " 'Nous encouragerons les projets de méthanisation en maintenant des aides, en engageant une simplification administrative et en accélérant le raccordement au réseau électrique des unités.',\n",
       " 'Nous soutiendrons l’innovation et la recherche à travers plusieurs actions : fin des zones sans réseau téléphonique, développement du numérique et de l’agriculture de précision, mise en place d’un portail des données agricoles pour stimuler une innovation décentralisée, ouverte, collaborative au service des agriculteurs.',\n",
       " 'Nous encouragerons la diversification des sources de revenus en soutenant par exemple l’agro-tourisme.',\n",
       " 'Nous rémunérerons les agriculteurs pour les services environnementaux  (entretien des paysages, pâturage des alpages qui réduisent les avalanches, etc.) qu’ils rendent, à hauteur de 200 millions d’euros par an dans le cadre de la PAC.',\n",
       " 'Dans le cadre du Grenelle de l’alimentation, nous définirons également un calendrier prévoyant l’élimination progressive des pesticides en commençant par ceux qui présentent un risque pour la biodiversité ou la santé, et le développement d’alternatives.',\n",
       " 'Dès le début du quinquennat, nous séparerons les activités de conseil aux agriculteurs et de vente des pesticides qui peuvent susciter des conflits d’intérêt.',\n",
       " 'Nous renforcerons la transparence des transactions agricoles en soumettant toutes les sociétés foncières au contrôle des SAFER.',\n",
       " 'Nous assurerons le financement du foncier et du capital d’exploitation en facilitant le recours à des outils de portage : le crédit-bail immobilier, la location-vente progressive, prêt viager hypothécaire etc.',\n",
       " \"Nous soutiendrons l’installation des jeunes agriculteurs : en plus de la dotation jeunes agriculteurs (DJA), nous permettrons un prêt d'honneur à la personne sans demande de garantie d’un montant de 50 000 euros maximum avec un différé de 2 ans.\",\n",
       " 'Nous allègerons les charges.',\n",
       " 'Nous lancerons un plan de transformation agricole de 5 milliards d’euros sur 5 ans. Les financements seront réservés à :',\n",
       " 'Nous ferons confiance aux territoires pour s’organiser et trouver des solutions adaptées.']"
      ]
     },
     "execution_count": 316,
     "metadata": {},
     "output_type": "execute_result"
    }
   ],
   "source": [
    "extract_items(full_urls[1])"
   ]
  },
  {
   "cell_type": "markdown",
   "metadata": {
    "deletable": true,
    "editable": true
   },
   "source": [
    "On extrait toutes les propositions."
   ]
  },
  {
   "cell_type": "code",
   "execution_count": 317,
   "metadata": {
    "collapsed": false,
    "deletable": true,
    "editable": true
   },
   "outputs": [],
   "source": [
    "propositions = [extract_items(url) for url in full_urls]"
   ]
  },
  {
   "cell_type": "code",
   "execution_count": 318,
   "metadata": {
    "collapsed": false,
    "deletable": true,
    "editable": true
   },
   "outputs": [
    {
     "data": {
      "text/plain": [
       "36"
      ]
     },
     "execution_count": 318,
     "metadata": {},
     "output_type": "execute_result"
    }
   ],
   "source": [
    "len(propositions)"
   ]
  },
  {
   "cell_type": "code",
   "execution_count": 319,
   "metadata": {
    "collapsed": false,
    "deletable": true,
    "editable": true
   },
   "outputs": [
    {
     "data": {
      "text/plain": [
       "'https://en-marche.fr/emmanuel-macron/le-programme/international'"
      ]
     },
     "execution_count": 319,
     "metadata": {},
     "output_type": "execute_result"
    }
   ],
   "source": [
    "full_urls[18]"
   ]
  },
  {
   "cell_type": "code",
   "execution_count": 320,
   "metadata": {
    "collapsed": false,
    "deletable": true,
    "editable": true
   },
   "outputs": [
    {
     "data": {
      "application/vnd.jupyter.widget-view+json": {
       "model_id": "1495ff68c3a54c3597e14a32438993ef"
      }
     },
     "metadata": {},
     "output_type": "display_data"
    }
   ],
   "source": [
    "@interact\n",
    "def print_prop(n=(0, len(propositions) - 1)):\n",
    "    print(propositions[n])"
   ]
  },
  {
   "cell_type": "code",
   "execution_count": 322,
   "metadata": {
    "collapsed": true,
    "deletable": true,
    "editable": true
   },
   "outputs": [],
   "source": [
    "props_sources = {}\n",
    "for url, props in zip(full_urls, propositions):\n",
    "    props_sources[url] = props"
   ]
  },
  {
   "cell_type": "code",
   "execution_count": 324,
   "metadata": {
    "collapsed": false,
    "deletable": true,
    "editable": true
   },
   "outputs": [],
   "source": [
    "df = make_df_from_props_sources(props_sources)"
   ]
  },
  {
   "cell_type": "code",
   "execution_count": 326,
   "metadata": {
    "collapsed": false,
    "deletable": true,
    "editable": true
   },
   "outputs": [
    {
     "data": {
      "text/html": [
       "<div>\n",
       "<table border=\"1\" class=\"dataframe\">\n",
       "  <thead>\n",
       "    <tr style=\"text-align: right;\">\n",
       "      <th></th>\n",
       "      <th>proposition</th>\n",
       "      <th>source</th>\n",
       "    </tr>\n",
       "  </thead>\n",
       "  <tbody>\n",
       "    <tr>\n",
       "      <th>0</th>\n",
       "      <td>Le plan d’investissement</td>\n",
       "      <td>https://en-marche.fr/emmanuel-macron/le-progra...</td>\n",
       "    </tr>\n",
       "    <tr>\n",
       "      <th>1</th>\n",
       "      <td>Nous instaurerons le non-cumul des mandats dan...</td>\n",
       "      <td>https://en-marche.fr/emmanuel-macron/le-progra...</td>\n",
       "    </tr>\n",
       "    <tr>\n",
       "      <th>2</th>\n",
       "      <td>Nous modulerons le financement des partis poli...</td>\n",
       "      <td>https://en-marche.fr/emmanuel-macron/le-progra...</td>\n",
       "    </tr>\n",
       "    <tr>\n",
       "      <th>3</th>\n",
       "      <td>Nous ouvrirons les postes d’autorité dans l’Et...</td>\n",
       "      <td>https://en-marche.fr/emmanuel-macron/le-progra...</td>\n",
       "    </tr>\n",
       "    <tr>\n",
       "      <th>4</th>\n",
       "      <td>Nous supprimerons le régime spécial de retrait...</td>\n",
       "      <td>https://en-marche.fr/emmanuel-macron/le-progra...</td>\n",
       "    </tr>\n",
       "  </tbody>\n",
       "</table>\n",
       "</div>"
      ],
      "text/plain": [
       "                                         proposition  \\\n",
       "0                           Le plan d’investissement   \n",
       "1  Nous instaurerons le non-cumul des mandats dan...   \n",
       "2  Nous modulerons le financement des partis poli...   \n",
       "3  Nous ouvrirons les postes d’autorité dans l’Et...   \n",
       "4  Nous supprimerons le régime spécial de retrait...   \n",
       "\n",
       "                                              source  \n",
       "0  https://en-marche.fr/emmanuel-macron/le-progra...  \n",
       "1  https://en-marche.fr/emmanuel-macron/le-progra...  \n",
       "2  https://en-marche.fr/emmanuel-macron/le-progra...  \n",
       "3  https://en-marche.fr/emmanuel-macron/le-progra...  \n",
       "4  https://en-marche.fr/emmanuel-macron/le-progra...  "
      ]
     },
     "execution_count": 326,
     "metadata": {},
     "output_type": "execute_result"
    }
   ],
   "source": [
    "df.head()"
   ]
  },
  {
   "cell_type": "code",
   "execution_count": 328,
   "metadata": {
    "collapsed": false,
    "deletable": true,
    "editable": true
   },
   "outputs": [
    {
     "data": {
      "text/plain": [
       "'https://en-marche.fr/emmanuel-macron/le-programme/finances-publiques'"
      ]
     },
     "execution_count": 328,
     "metadata": {},
     "output_type": "execute_result"
    }
   ],
   "source": [
    "df.iloc[0, 1]"
   ]
  },
  {
   "cell_type": "code",
   "execution_count": 325,
   "metadata": {
    "collapsed": true,
    "deletable": true,
    "editable": true
   },
   "outputs": [],
   "source": [
    "df.to_csv('../projets/emmanuel_macron.csv', index=False)"
   ]
  },
  {
   "cell_type": "markdown",
   "metadata": {
    "deletable": true,
    "editable": true
   },
   "source": [
    "# Yannick Jadot"
   ]
  },
  {
   "cell_type": "markdown",
   "metadata": {
    "deletable": true,
    "editable": true
   },
   "source": [
    "http://avecjadot.fr/lafrancevive/"
   ]
  },
  {
   "cell_type": "code",
   "execution_count": 334,
   "metadata": {
    "collapsed": true,
    "deletable": true,
    "editable": true
   },
   "outputs": [],
   "source": [
    "r = requests.get('http://avecjadot.fr/lafrancevive/')"
   ]
  },
  {
   "cell_type": "code",
   "execution_count": 335,
   "metadata": {
    "collapsed": true,
    "deletable": true,
    "editable": true
   },
   "outputs": [],
   "source": [
    "soup = BeautifulSoup(r.text, 'html.parser')"
   ]
  },
  {
   "cell_type": "code",
   "execution_count": 336,
   "metadata": {
    "collapsed": false,
    "deletable": true,
    "editable": true
   },
   "outputs": [],
   "source": [
    "tags = soup.find_all('div', class_='bloc-mesure')"
   ]
  },
  {
   "cell_type": "code",
   "execution_count": 337,
   "metadata": {
    "collapsed": true,
    "deletable": true,
    "editable": true
   },
   "outputs": [],
   "source": [
    "links = [tag.find('a').attrs['href'] for tag in tags]"
   ]
  },
  {
   "cell_type": "code",
   "execution_count": 338,
   "metadata": {
    "collapsed": false,
    "deletable": true,
    "editable": true
   },
   "outputs": [
    {
     "data": {
      "text/plain": [
       "True"
      ]
     },
     "execution_count": 338,
     "metadata": {},
     "output_type": "execute_result"
    }
   ],
   "source": [
    "all([link.startswith('http://avecjadot.fr/') for link in links])"
   ]
  },
  {
   "cell_type": "markdown",
   "metadata": {
    "deletable": true,
    "editable": true
   },
   "source": [
    "Extraction du titre d'une des pages."
   ]
  },
  {
   "cell_type": "code",
   "execution_count": 339,
   "metadata": {
    "collapsed": true,
    "deletable": true,
    "editable": true
   },
   "outputs": [],
   "source": [
    "link = links[0]"
   ]
  },
  {
   "cell_type": "code",
   "execution_count": 340,
   "metadata": {
    "collapsed": true,
    "deletable": true,
    "editable": true
   },
   "outputs": [],
   "source": [
    "r = requests.get(link)"
   ]
  },
  {
   "cell_type": "code",
   "execution_count": 341,
   "metadata": {
    "collapsed": true,
    "deletable": true,
    "editable": true
   },
   "outputs": [],
   "source": [
    "soup = BeautifulSoup(r.text, 'html.parser')"
   ]
  },
  {
   "cell_type": "code",
   "execution_count": 342,
   "metadata": {
    "collapsed": false,
    "deletable": true,
    "editable": true
   },
   "outputs": [
    {
     "data": {
      "text/plain": [
       "'Adopter une loi de sortie progressive et définitive du nucléaire d’ici 2035, arrêter les premiers réacteurs dès 2017.'"
      ]
     },
     "execution_count": 342,
     "metadata": {},
     "output_type": "execute_result"
    }
   ],
   "source": [
    "soup.find('div', class_='texte-mesure').text.strip().replace('\\n', ' ')"
   ]
  },
  {
   "cell_type": "code",
   "execution_count": 343,
   "metadata": {
    "collapsed": true,
    "deletable": true,
    "editable": true
   },
   "outputs": [],
   "source": [
    "def extract_data(link):\n",
    "    r = requests.get(link)\n",
    "    soup = BeautifulSoup(r.text, 'html.parser')\n",
    "    return soup.find('div', class_='texte-mesure').text.strip().replace('\\n', ' ')"
   ]
  },
  {
   "cell_type": "code",
   "execution_count": 344,
   "metadata": {
    "collapsed": false,
    "deletable": true,
    "editable": true
   },
   "outputs": [
    {
     "data": {
      "text/plain": [
       "'Adopter une loi de sortie progressive et définitive du nucléaire d’ici 2035, arrêter les premiers réacteurs dès 2017.'"
      ]
     },
     "execution_count": 344,
     "metadata": {},
     "output_type": "execute_result"
    }
   ],
   "source": [
    "extract_data(link)"
   ]
  },
  {
   "cell_type": "code",
   "execution_count": 345,
   "metadata": {
    "collapsed": false,
    "deletable": true,
    "editable": true
   },
   "outputs": [],
   "source": [
    "all_props = [extract_data(link) for link in links]"
   ]
  },
  {
   "cell_type": "code",
   "execution_count": 349,
   "metadata": {
    "collapsed": true,
    "deletable": true,
    "editable": true
   },
   "outputs": [],
   "source": [
    "props_sources = {}\n",
    "for url, props in zip(links, all_props):\n",
    "    props_sources[url] = [props]"
   ]
  },
  {
   "cell_type": "code",
   "execution_count": 354,
   "metadata": {
    "collapsed": false,
    "deletable": true,
    "editable": true
   },
   "outputs": [
    {
     "data": {
      "text/plain": [
       "{'http://avecjadot.fr/lafrancevive/1-budget-de-letat-consacre-aux-projets-choisis-citoyens-via-plateformes-civic-tech/': ['Adopter le 1% budget participatif.'],\n",
       " 'http://avecjadot.fr/lafrancevive/1-million-de-jeunes-an-emploi-formation-pays-de-lunion/': ['Envoyer chaque année 1 million de jeunes en emploi ou en formation dans un autre pays de l’Union européenne.'],\n",
       " 'http://avecjadot.fr/lafrancevive/2-de-dechets-2030-distribution-invendus-valorisation-compostage/': ['Aller vers une France zéro déchet en divisant par 2 notre production de déchets par habitant à l’horizon 2030. → \\xa0\\xa0 \\xa0 Mettre en place un plan national de lutte contre le gaspillage alimentaire dans les cantines. → \\xa0\\xa0 \\xa0 Rendre obligatoire la redistribution des invendus de la grande distribution vers les associations de solidarité, et l’élevage pour les déchets très périmés. → \\xa0\\xa0 \\xa0 Valoriser énergétiquement les fermentescibles en généralisant la méthanisation. → \\xa0\\xa0 \\xa0 Développer le compostage collectif dans les zones d’habitat dense. → \\xa0\\xa0 \\xa0 Introduire un critère « zéro déchet » dans les marchés publics.'],\n",
       " 'http://avecjadot.fr/lafrancevive/3-1-redistributif-citoyen-1-benefices-de-secteurs-cibles-dedies-a-projets-citoyens/': ['Adopter le 3 fois 1% redistributif citoyen. → 1% des bénéfices de l’agroalimentaire pour financer des projets citoyens d’alimentation de qualité relocalisée. → 1% des bénéfices des promoteurs immobiliers pour financer les actions citoyennes en matière d’urbanisme. → 1% des bénéfices du secteur de la publicité pour financer des médias citoyens.'],\n",
       " 'http://avecjadot.fr/lafrancevive/425/': ['Faire évoluer le mandat et la composition du Conseil économique, social et environnemental pour en faire une troisième chambre, aux côtés de l’Assemblée nationale et du Sénat, qui aurait un droit de veto suspensif sur toute mesure législative qui mettrait en cause le long terme.'],\n",
       " 'http://avecjadot.fr/lafrancevive/5-montant-de-reserve-parlementaire-affectee-a-projets-dexpertise-citoyenne/': ['Créer un fonds pour une démocratie d’initiative citoyenne, financé par un prélèvement de 5% sur les financements de la démocratie représentative : partis politiques, réserves parlementaires, campagnes électorales.'],\n",
       " 'http://avecjadot.fr/lafrancevive/abandonner-convention-de-dublin-partager-equitablement-laccueil-refugies-sein-de-lue/': ['Abandonner la Convention de Dublin et partager équitablement l’accueil et l’intégration des réfugiés dans les pays de l’Union.'],\n",
       " 'http://avecjadot.fr/lafrancevive/accroitre-laide-publique-developpement-a-07-pnb/': ['Accroître l’Aide Publique au Développement à la hauteur de l’engagement international de la France, c’est-à-dire à 0,7% du PNB à l’horizon 2022.'],\n",
       " 'http://avecjadot.fr/lafrancevive/accroitre-louverture-marches-publics-aux-entreprises-de-leconomie-sociale-solidaire/': ['Développer l’économie sociale et solidaire. → Accroître l’ouverture des marchés publics aux entreprises agréées Entreprise Solidaire d’Utilité Sociale.'],\n",
       " 'http://avecjadot.fr/lafrancevive/adopter-plan-dinvestissement-de-600-milliards-deuros-an-lancer-transition/': ['Adopter un plan d’investissement de 600 milliards d’euros par an, financé par la Banque européenne d’investissement et les banques nationales d’investissement, garanti ou racheté par la Banque centrale européenne, avec 4 priorités. → La transition énergétique. → Le numérique. → Les infrastructures de transport du quotidien. → La santé.'],\n",
       " 'http://avecjadot.fr/lafrancevive/afficher-service-public-part-payee-collectivite/': ['Afficher pour chaque service public la part payée par la collectivité.'],\n",
       " 'http://avecjadot.fr/lafrancevive/aider-toutes-familles-creant-400-000-places-creche/': ['Aider toutes les familles. → \\t Créer de 400 000 places en crèche.'],\n",
       " 'http://avecjadot.fr/lafrancevive/alimentation-saine-financer-conversion-vers-lagriculture-bio-100-de-bio-a-cantine/': ['Garantir une alimentation saine. → Approvisionner 100% des cantines publiques et privées par l’agriculture paysanne ou biologique : écoles, hôpitaux, entreprises, etc. → Affecter 50% des fonds de la PAC pour financer la conversion des exploitations et la structuration des filières.'],\n",
       " 'http://avecjadot.fr/lafrancevive/aller-vers-defense-europeenne-commune/': ['Aller vers une défense européenne commune.'],\n",
       " 'http://avecjadot.fr/lafrancevive/assainir-secteur-bancaire-notamment-separant-activites-de-banque-de-detail-de-credit/': ['Renforcer les ratios prudentiels des banques et séparer les activités de banque de détail et de banque de crédit.'],\n",
       " 'http://avecjadot.fr/lafrancevive/assurer-a-revenu-dexistence-defini-conference-de-consensus-debat-national/': ['Assurer à tou-te-s un revenu d’existence. → \\t Expérimenter un revenu de base dont les conditions seront définies lors d’une conférence de consensus suivie d’un débat national. Cette question n’est pas celle des minima sociaux, il faut changer la place du travail et reconnaître l’utilité sociale de chacune et de chacun.'],\n",
       " 'http://avecjadot.fr/lafrancevive/baser-prioritairement-programme-de-renovation-thermique-bati-pme-lartisanat-local/': ['Baser prioritairement le programme de rénovation thermique du bâti sur les PME et l’artisanat local.'],\n",
       " 'http://avecjadot.fr/lafrancevive/conference-internationale-de-sanctuarisation-de-larctique-2/': ['Prendre l’initiative d’une conférence internationale dont l’objectif sera de sanctuariser l’Arctique.'],\n",
       " 'http://avecjadot.fr/lafrancevive/consommer-mieux-credit-impot-reparation-garanties-plus-longues-eco-conception/': ['Favoriser l’économie circulaire et lutter contre l’obsolescence programmée des produits. → \\xa0\\xa0 \\xa0 5 ans de garantie minimale pour l’électroménager et les voitures. → \\xa0\\xa0 \\xa0 Moduler la TVA selon l’éco-conception, la réparabilité, la réutilisation et le recyclage d’un produit. → \\xa0\\xa0 \\xa0 Créer un Crédit d’impôt réparation permettant de rembourser 50% des frais de main d’oeuvre. → \\xa0\\xa0 \\xa0 Créer une filière de déconstruction des navires en fin de vie et de traitement des déchets électroniques.'],\n",
       " 'http://avecjadot.fr/lafrancevive/constitutionnaliser-lecologie-inscrire-republique-ecologique-constitution/': ['Modifier la Constitution pour que dans l’article premier soit inscrit « République écologique », afin de constitutionnaliser l’écologie.'],\n",
       " 'http://avecjadot.fr/lafrancevive/contrats-territoriaux-de-transition-ecologique-accompagner-conversion-de-economie/': ['Négocier des contrats territoriaux de transition écologique de 10 ans entre les collectivités locales, l’État, les entreprises, les syndicats et les organisations de la société civile pour anticiper et favoriser les conversions économiques et industrielles. → Accompagner et former les salariés : aucun travailleur abandonné sur le bord de la route.'],\n",
       " 'http://avecjadot.fr/lafrancevive/culture-1-budget-de-letat-dedie-a-culture/': ['La culture pour tous. → \\t Dédier 1% du budget de l’État à la Culture.'],\n",
       " 'http://avecjadot.fr/lafrancevive/donner-choix-aux-aine-es-autant-de-places-ehpad-public-quen-etablissements-prives/': ['Donner le choix à nos aîné-es. → \\t Créer au moins autant de places en EHPAD public qu’en établissements privés sur chaque territoire.'],\n",
       " 'http://avecjadot.fr/lafrancevive/eco-campus-leviers-de-transition-ecologique-eco-conception-cantines-bio-etc/': ['Faire de l’immobilier universitaire un levier de la transition écologique par le développement d’éco-campus. → \\t Plan général de rénovation du bâti universitaire avec 70 000 rénovations et 50 000 nouvelles chambres éco- conçues, alimentation bio et locale dans les cantines, centres de santé, etc.'],\n",
       " 'http://avecjadot.fr/lafrancevive/election-2019-dune-assemblee-constituante-a-partir-de-conventions-citoyennes/': ['Faire élire en 2019 une assemblée constituante dont le travail se fonde sur des conventions citoyennes régionales et nationales.'],\n",
       " 'http://avecjadot.fr/lafrancevive/faire-de-formation-droit-creer-compte-individuel-de-formation-long-de-vie/': ['Faire de la formation un droit tout au long de la vie. → Créer un compte individuel de formation crédité de 16 semestres de formation à utiliser à tout moment de sa vie après 16 ans.'],\n",
       " 'http://avecjadot.fr/lafrancevive/faire-france-accessible-creer-lagence-nationale-de-laccessibilite-universelle/': ['Faire une France accessible aux personnes en situation de handicap. → \\t Garantir l’accessibilité de tous les services publics en créant une Agence nationale de l’accessibilité universelle.'],\n",
       " 'http://avecjadot.fr/lafrancevive/faire-reseau-de-maisons-services-publics-appuye-reseau-bureaux-de-poste/': ['Tirer parti de l’extraordinaire réseau que constituent les bureaux de Poste, pour en faire des Maison des services publics.'],\n",
       " 'http://avecjadot.fr/lafrancevive/faire-salaries-decideurs-50-de-salaries-conseils-dadministration/': ['Inscrire dans la loi la co-gestion des entreprises. → Faire siéger 50% de salariés dans les Conseils d’Administration.'],\n",
       " 'http://avecjadot.fr/lafrancevive/favoriser-reduction-temps-de-travail-semaine-plusieurs-annees/': ['Favoriser la réduction du temps de travail, sur la semaine ou sur plusieurs années.'],\n",
       " 'http://avecjadot.fr/lafrancevive/fin-niches-fiscales-nuisibles-a-lenvironnement-economiser-13-milliards-an/': ['Développer la fiscalité écologique. → En finir avec les niches fiscales nuisibles à l’environnement et la santé (13 milliards d’euros par an), dont la niche diesel. → Affecter la moitié des dépenses économisées à une prime de conversion automobile pour les ménages les plus vulnérables.'],\n",
       " 'http://avecjadot.fr/lafrancevive/financer-nos-transports-quotidien-taxe-poids-lourds-abandon-grands-projets-inutiles/': ['Développer les réseaux de transports du quotidien. → \\t Engager une révision complète du schéma national des infrastructures. → \\t Abandonner les grands projets inutiles : nouvelles lignes à grande vitesse, tunnel Lyon-Turin, aéroport de Notre-Dame-des-Landes, Grand Contournement Ouest de Strasbourg, etc. → \\t Restaurer la taxe poids lourds pour donner l’absolue priorité aux trajets domicile-travail et domicile-vie quotidienne.'],\n",
       " 'http://avecjadot.fr/lafrancevive/fiscalite-plus-reformer-fiscalite-patrimoine-individualiser-limpot-revenu/': ['Mettre en place une fiscalité plus juste et plus lisible. → Réformer la fiscalité du patrimoine en tenant compte du patrimoine net. → Fusionner l’impôt sur le revenu avec la CSG et la rendre progressive. → Individualiser l’impôt sur le revenu.'],\n",
       " 'http://avecjadot.fr/lafrancevive/garantir-justice-fiscale-transparence-fin-de-levasion-harmoniser-fiscalite-europeenne/': ['Stopper l’évasion et construire l’harmonisation fiscale, garantir la transparence et imposer le reporting pays par pays pour lutter contre l’évasion fiscale, et que chaque entreprise paie des impôts là où elle gagne de l’argent.'],\n",
       " 'http://avecjadot.fr/lafrancevive/inscrire-usages-numerique-lensemble-parcours-scolaire-de-maternelle-superieur/': ['Inscrire les usages du numérique dans l’ensemble du parcours scolaire, de la maternelle aux études supérieures.'],\n",
       " 'http://avecjadot.fr/lafrancevive/interdiction-ventes-darmes-aux-pays-non-democratiques/': ['Interdire les ventes d’armes aux pays non démocratiques.'],\n",
       " 'http://avecjadot.fr/lafrancevive/interdire-lelevage-intensif-industriel-suivre-directives-de-commission-denquete-abattage/': ['Lutter contre la souffrance animale. → \\t Interdire l’élevage industriel de type « 1000 vaches ». → \\t Mettre en application les 65 préconisations avancées par le rapport de la commission d’enquête sur les conditions d’abattage.'],\n",
       " 'http://avecjadot.fr/lafrancevive/jeunes-adultes-autres-rsa-accessible-18-25-ans/': ['Les jeunes sont des adultes comme les autres. → \\t Rendre le RSA accessible pour les 18-25 ans.'],\n",
       " 'http://avecjadot.fr/lafrancevive/legalite-prime-lidentite-recepisse-lors-controles-facies-droit-de-vote-etrangers/': ['L’égalité doit primer sur l’identité, la citoyenneté sur la nationalité. → Mettre en place le récépissé pour éviter le contrôle au faciès. → Instaurer le droit de vote des étrangers aux élections locales.'],\n",
       " 'http://avecjadot.fr/lafrancevive/loi-cadre-violences-aux-femmes-integrant-revision-delai-de-prescription/': ['Adopter une loi cadre sur les violence faites aux femmes, intégrant notamment une révision du délai de prescription.'],\n",
       " 'http://avecjadot.fr/lafrancevive/lutte-contre-levasion-fiscale-plus-de-pouvoir-a-societe-civile-penaliser-paradis-fiscaux/': ['Renforcer la lutte contre l’évasion fiscale. → Renforcer le droit de la société civile de saisir le parquet national financier pour les cas d’évasions fiscales. → Agir pour le contrôle de la taille des banques et pour la pénalisation les paradis fiscaux.'],\n",
       " 'http://avecjadot.fr/lafrancevive/lutter-contre-precarite-encadrement-loyers-garantie-universelle-loyers/': ['Lutter contre la précarité et favoriser l’autonomie. → \\t Généraliser l’encadrement des loyers dans les zones tendues. → \\t Instaurer la garantie universelle des loyers.'],\n",
       " 'http://avecjadot.fr/lafrancevive/lutter-contre-souffrance-travail-cotisations-retraite-compte-penibilite-etc/': ['Lutter contre la souffrance au travail. → \\t Moduler les cotisations accidents du travail et maladies professionnelles avec l’adoption d’un plan pour le bien-être au travail dans les entreprises. → \\t Égalité de chacun devant la retraite : renforcer le compte pénibilité et le porter jusqu’à 7 ans. → \\t Reconnaître le burn-out comme maladie professionnelle. → \\t Généraliser le droit automatique à la déconnexion.'],\n",
       " 'http://avecjadot.fr/lafrancevive/mettre-veritablement-oeuvre-taxe-transactions-financieres/': ['Mettre véritablement en œuvre la Taxe sur les Transactions Financières.'],\n",
       " 'http://avecjadot.fr/lafrancevive/ministere-garantir-transversalite-de-mutation-digitale-neutralite-reseaux/': ['Créer un ministère de la Transformation numérique dépendant du Premier ministre pour impulser et garantir la transversalité de la mutation à conduire, de l’école à l’entreprise, de la culture aux services publics ; garantir la neutralité des réseaux.'],\n",
       " 'http://avecjadot.fr/lafrancevive/nommer-vice-premier-ministre-developpement-durable-prise-compte-de-lecologie/': ['Nommer un vice-Premier ministre au Développement durable pour garantir la prise en compte transversale des enjeux écologiques.'],\n",
       " 'http://avecjadot.fr/lafrancevive/nouvelle-politique-commerciale-de-lue-primaute-droits-humains-sociaux-environnementaux/': ['Refonder la politique commerciale de l’Union pour faire de l’Europe un vecteur de régulation publique de la mondialisation. → Primauté des droits humains, sociaux et de l’environnement sur les droits du commerce et des investisseurs.'],\n",
       " 'http://avecjadot.fr/lafrancevive/offrir-moyens-supplementaires-lutter-contre-decrochage-lechec-scolaire/': ['Lutter contre le décrochage et l’échec scolaire. → \\t Offrir des moyens supplémentaires, comme le travail en plus petit effectif, aux élèves qui en ont le plus besoin pour leur réussite.'],\n",
       " 'http://avecjadot.fr/lafrancevive/orienter-lepargne-vers-capital-risque-entreprises-de-transition-ecologique-numerique/': ['Orienter l’épargne vers le capital-risque des entreprises innovantes, ancrées dans la transition écologique et numérique.'],\n",
       " 'http://avecjadot.fr/lafrancevive/perenniser-protection-intermittents-creer-fonds-artistes-plasticiens/': ['Pérenniser le système de protection des intermittents, et créer un fonds de protection pour les artistes plasticiens.'],\n",
       " 'http://avecjadot.fr/lafrancevive/politiques-culturelles-locales-incubateurs-lieux-dedies-dispositifs-de-cooperation-etc/': ['Soutenir les politiques locales facilitant l’expression des énergies créatives dans les territoires : incubateurs culturels, lieux tiers dédiés aux expérimentations artistiques et aux rencontres non marchandes avec les publics, dispositifs de mutualisation et de coopération en faveur des nouveaux projets et artistes, etc.'],\n",
       " 'http://avecjadot.fr/lafrancevive/preserver-sante-luttant-contre-pollutions-diesel-perturbateurs-endocriniens-etc/': ['Préserver notre santé en luttant contre les pollutions. → \\t Interdire le glyphosate et les perturbateurs endocriniens. → \\t Sortir du diesel. → \\t Contrôler strictement l’homologation des nanotechnologies.'],\n",
       " 'http://avecjadot.fr/lafrancevive/protection-sociale-assuree-acces-a-retraite-chomage-a-formation/': ['Garantir à tou-te-s une protection sociale équivalente : l’accès à la retraite, au chômage, à la formation et d’une manière générale à la protection sociale des travailleurs indépendants et des auto-entrepreneurs sera assuré.'],\n",
       " 'http://avecjadot.fr/lafrancevive/proteger-biodiversite-zero-pesticide-2030-augmentation-de-surface-cultivee-bio-etc/': ['Protéger notre biodiversité. → \\t Vers une France zéro pesticide en 2030, avec 50% de réduction des pesticides sur le quinquennat. → \\t Multiplier par 4 la surface cultivée en bio en 5 ans pour la porter à 20% de la surface agricole utile. → \\t Lutter contre l’artificialisation des sols : espaces naturels et agricoles, et espaces péri-urbains. → \\t Renforcer les mesures de protection de la biodiversité là où elle est particulièrement riche et menacée, notamment dans les territoires ultra-marins et les océans.'],\n",
       " 'http://avecjadot.fr/lafrancevive/reconnaitre-toutes-familles-ouvrir-pma-a-toutes-femmes/': ['Reconnaître toutes les familles. → \\t Ouvrir la PMA à toutes les femmes.'],\n",
       " 'http://avecjadot.fr/lafrancevive/remplacement-obligatoire-enseignants-apres-3-jours-dabsence/': ['Remplacer obligatoirement les enseignants après 3 jours d’absence.'],\n",
       " 'http://avecjadot.fr/lafrancevive/rendre-publique-liste-entreprises-ne-respectant-legalite-salariale-femmes-hommes/': ['Faire de l’égalité Femmes-Hommes un impératif. → \\t Rendre publique la liste des entreprises ne respectant pas l’égalité salariale.'],\n",
       " 'http://avecjadot.fr/lafrancevive/renforce-la-lutter-contre-discriminations-liees-a-l-identite-de-genre/': ['Renforcer la lutte contre les discriminations liées à l’identité de genre et à l’orientation sexuelle. → Renforcer la sensibilisation contre l’homophobie, la lesbophobie, la biphobie et la transphobie. → Former et informer les personnels de la fonction publique à l’accueil des personnes LGBT. → Permettre le changement d’état civil libre, gratuit, déclaratif et basé sur l’autodétermination pour les personnes trans.'],\n",
       " 'http://avecjadot.fr/lafrancevive/renforcement-droit-de-mourir-dignite-a-choisir-fin-de-vie/': ['Renforcer le droit de mourir dans la dignité et à choisir sa fin de vie.'],\n",
       " 'http://avecjadot.fr/lafrancevive/renforcer-services-publics-adapter-aux-nouveaux-besoins-notamment-de-nos-aine-e-s/': ['Renforcer les services publics et les adapter aux nouveaux besoins, notamment ceux de nos aîné-es de plus en plus nombreux.'],\n",
       " 'http://avecjadot.fr/lafrancevive/renoncer-a-force-de-dissuasion-nucleaire-faire-sanctuaire-europeen-denuclearise/': ['Remplacer la stratégie de dissuasion nucléaire par un sanctuaire européen « dénucléarisé », et oeuvrer à une diplomatie active en faveur du désarmement nucléaire. → De manière à créer cette dynamique, renoncer de manière unilatérale aux composantes aériennes de la force de dissuasion nucléaire. → Affecter l’économie ainsi réalisée à la remise à niveau des moyens des forces conventionnelles.'],\n",
       " 'http://avecjadot.fr/lafrancevive/renouveler-democratie-400-deputes-elus-a-proportionnelle-votations-assemblees-citoyennes/': ['Sortir de la monarchie républicaine. → Une Assemblée de 400 députés, à l’image des Français, élue à la proportionnelle, avec 20% de jeunes de moins de 30 ans. → Développer des votations citoyennes sur des sujets du quotidien, les conférences de consensus et les assemblées citoyennes tirées au sort.'],\n",
       " 'http://avecjadot.fr/lafrancevive/renovation-thermique-de-750-000-logements-an-donnant-priorite-aux-menages-precaires/': ['Lutter contre le gaspillage et éradiquer les passoires énergétiques. → \\xa0\\xa0 \\xa0 Aller vers 750 000 logements par an rénovés d’ici la fin du quinquennat, en donnant la priorité aux ménages victimes de précarité énergétique.'],\n",
       " 'http://avecjadot.fr/lafrancevive/revaloriser-smic-a-1800-euros-bruts-mandature/': ['Revaloriser le SMIC à 1800 euros bruts dans la mandature.'],\n",
       " 'http://avecjadot.fr/lafrancevive/revoir-a-hausse-nos-objectifs-matiere-denergies-renouvelables-de-gaz-a-effet-de-serre/': ['Les objectifs en matière d’énergies renouvelables seront respectés pour 2020 (23% du mix énergétique) et rehaussés à 40% pour 2030. Le cadre administratif et législatif sera simplifié et stabilisé. Les objectifs de réduction des gaz à effet de serre seront portés à 30% pour 2020 et au moins 50% pour 2030 par rapport à 1990 afin de mettre en œuvre l’Accord de Paris sur le climat.'],\n",
       " 'http://avecjadot.fr/lafrancevive/sanctionner-commerce-pays-ne-respectant-liberte-syndicale-lenvironnement/': ['Interdire en 5 ans sur le marché européen les produits issus de pays ne respectant pas la liberté syndicale et taxer ceux provenant de pays s’exonérant de la lutte contre le dérèglement climatique.'],\n",
       " 'http://avecjadot.fr/lafrancevive/sante-priorite-nationale-favoriser-prevention-lutter-contre-deserts-medicaux-2/': ['Faire de la santé une priorité nationale. → \\t Réorienter notre système de santé vers la prévention et la proximité, lutter en amont contre les maladies chroniques, réaffirmer la primauté de la sécurité sociale vis-à-vis des complémentaires. → \\t En finir avec les déserts médicaux, en soutenant l’installation des médecins dans des maisons de santé adossées à des unités de base des premiers soins. → \\t Renforcer le service public de la psychiatrie.'],\n",
       " 'http://avecjadot.fr/lafrancevive/se-reapproprier-energie-projet-denergie-renouvelable-quartier-commune-rurale-2/': ['Favoriser l’appropriation citoyenne locale de la transition énergétique. → \\xa0\\xa0 \\xa0 1 projet de production d’énergies renouvelables par quartier ou commune rurale. → \\xa0\\xa0 \\xa0 Les projets de propriété collective seront accompagnés par des opérateurs coopératifs certifiés et rémunérés par l’État qui garantira les emprunts. → \\xa0\\xa0 \\xa0 25% des parts sociales des projets d’énergies renouvelables devront être proposées aux citoyens locaux.'],\n",
       " 'http://avecjadot.fr/lafrancevive/securiser-populations-renforcant-justice-legalisant-cannabis-creant-fbi-europeen/': ['Assurer notre sécurité. → Développer une police de proximité pour assurer une présence physique partout, au contact des citoyennes et citoyens. → Renforcer les moyens de la justice afin de lui permettre d’assurer plus rapidement la justice du quotidien : un cas est jugé en 19 jours au Danemark, contre 304 jours en France. → Créer un parquet et un FBI européens afin de lutter de manière plus efficace contre le terrorisme. → Légaliser le cannabis –monopole d’état pour lutter contre le trafic et faciliter une politique de santé.'],\n",
       " 'http://avecjadot.fr/lafrancevive/simplifier-plafonner-credit-impot-recherche-privilegier-transition-energetique/': ['Favoriser la Recherche & Développement. → Mieux cibler les soutiens à l’innovation en simplifiant et plafonnant le crédit impôt recherche. → Privilégier les innovations qui participent à la transition énergétique'],\n",
       " 'http://avecjadot.fr/lafrancevive/small-business-act-50-marches-publics-pme-start-ups-emploient-localement/': ['Lancer un Small Business Act. → Réserver 50% des marchés publics aux PME/PMI et aux start-ups qui emploient localement.'],\n",
       " 'http://avecjadot.fr/lafrancevive/sortir-progressivement-nucleaire-dici-2035-arretant-premiers-reacteurs-2017/': ['Adopter une loi de sortie progressive et définitive du nucléaire d’ici 2035, arrêter les premiers réacteurs dès 2017.'],\n",
       " 'http://avecjadot.fr/lafrancevive/stopper-negociations-accords-de-libre-echange-dont-tafta-ratification-ceta/': ['Stopper les négociations des accords de libre-échange, dont le TAFTA, et la ratification du CETA.'],\n",
       " 'http://avecjadot.fr/lafrancevive/suppression-de-publicite-a-destination-de-jeunesse-programmes-jeunesse/': ['Lutter contre la publicité à destination des jeunes. → \\t Interdire la publicité télévisée destinée aux enfants et supprimer les publicités sur tous les supports lors des programmes jeunesse'],\n",
       " 'http://avecjadot.fr/lafrancevive/suppression-droit-de-veto-aux-nations-unies-siege-unique-lunion-europeenne/': ['Réformer le Conseil de sécurité des Nations unies. → Supprimer le droit de veto. → Faire du siège de la France le siège unique de l’Union européenne.'],\n",
       " 'http://avecjadot.fr/lafrancevive/valoriser-peche-artisanale-francaise-label-renforcer-lutte-contre-peche-illegale/': ['Créer un label valorisant la pêche artisanale française pour les consommateurs, renforcer la lutte contre la pêche illégale, en particulier dans les zones ultra-marines.']}"
      ]
     },
     "execution_count": 354,
     "metadata": {},
     "output_type": "execute_result"
    }
   ],
   "source": [
    "props_sources"
   ]
  },
  {
   "cell_type": "code",
   "execution_count": 355,
   "metadata": {
    "collapsed": false,
    "deletable": true,
    "editable": true
   },
   "outputs": [],
   "source": [
    "df = make_df_from_props_sources(props_sources)"
   ]
  },
  {
   "cell_type": "code",
   "execution_count": 356,
   "metadata": {
    "collapsed": false,
    "deletable": true,
    "editable": true
   },
   "outputs": [
    {
     "data": {
      "text/html": [
       "<div>\n",
       "<table border=\"1\" class=\"dataframe\">\n",
       "  <thead>\n",
       "    <tr style=\"text-align: right;\">\n",
       "      <th></th>\n",
       "      <th>proposition</th>\n",
       "      <th>source</th>\n",
       "    </tr>\n",
       "  </thead>\n",
       "  <tbody>\n",
       "    <tr>\n",
       "      <th>0</th>\n",
       "      <td>Modifier la Constitution pour que dans l’artic...</td>\n",
       "      <td>http://avecjadot.fr/lafrancevive/constitutionn...</td>\n",
       "    </tr>\n",
       "    <tr>\n",
       "      <th>1</th>\n",
       "      <td>Faire de la santé une priorité nationale. → \\t...</td>\n",
       "      <td>http://avecjadot.fr/lafrancevive/sante-priorit...</td>\n",
       "    </tr>\n",
       "    <tr>\n",
       "      <th>2</th>\n",
       "      <td>Lutter contre la souffrance animale. → \\t Inte...</td>\n",
       "      <td>http://avecjadot.fr/lafrancevive/interdire-lel...</td>\n",
       "    </tr>\n",
       "    <tr>\n",
       "      <th>3</th>\n",
       "      <td>Renforcer la lutte contre les discriminations ...</td>\n",
       "      <td>http://avecjadot.fr/lafrancevive/renforce-la-l...</td>\n",
       "    </tr>\n",
       "    <tr>\n",
       "      <th>4</th>\n",
       "      <td>Favoriser la Recherche &amp; Développement. → Mieu...</td>\n",
       "      <td>http://avecjadot.fr/lafrancevive/simplifier-pl...</td>\n",
       "    </tr>\n",
       "  </tbody>\n",
       "</table>\n",
       "</div>"
      ],
      "text/plain": [
       "                                         proposition  \\\n",
       "0  Modifier la Constitution pour que dans l’artic...   \n",
       "1  Faire de la santé une priorité nationale. → \\t...   \n",
       "2  Lutter contre la souffrance animale. → \\t Inte...   \n",
       "3  Renforcer la lutte contre les discriminations ...   \n",
       "4  Favoriser la Recherche & Développement. → Mieu...   \n",
       "\n",
       "                                              source  \n",
       "0  http://avecjadot.fr/lafrancevive/constitutionn...  \n",
       "1  http://avecjadot.fr/lafrancevive/sante-priorit...  \n",
       "2  http://avecjadot.fr/lafrancevive/interdire-lel...  \n",
       "3  http://avecjadot.fr/lafrancevive/renforce-la-l...  \n",
       "4  http://avecjadot.fr/lafrancevive/simplifier-pl...  "
      ]
     },
     "execution_count": 356,
     "metadata": {},
     "output_type": "execute_result"
    }
   ],
   "source": [
    "df.head()"
   ]
  },
  {
   "cell_type": "code",
   "execution_count": 357,
   "metadata": {
    "collapsed": true,
    "deletable": true,
    "editable": true
   },
   "outputs": [],
   "source": [
    "df.to_csv('../projets/yannick_jadot.csv', index=False)"
   ]
  },
  {
   "cell_type": "markdown",
   "metadata": {
    "collapsed": true,
    "deletable": true,
    "editable": true
   },
   "source": [
    "# Nicolas Dupont-Aignan "
   ]
  },
  {
   "cell_type": "code",
   "execution_count": 26,
   "metadata": {
    "collapsed": true
   },
   "outputs": [],
   "source": [
    "r = requests.get('http://www.nda-2017.fr/themes.html')\n",
    "soup = BeautifulSoup(r.text, 'html.parser')"
   ]
  },
  {
   "cell_type": "code",
   "execution_count": 27,
   "metadata": {
    "collapsed": false
   },
   "outputs": [
    {
     "data": {
      "text/plain": [
       "29"
      ]
     },
     "execution_count": 27,
     "metadata": {},
     "output_type": "execute_result"
    }
   ],
   "source": [
    "len(soup.find_all('div', class_='theme'))"
   ]
  },
  {
   "cell_type": "code",
   "execution_count": 28,
   "metadata": {
    "collapsed": true
   },
   "outputs": [],
   "source": [
    "links = ['http://www.nda-2017.fr' + tag.find('a').attrs['href'] for tag in soup.find_all('div', class_='theme')]"
   ]
  },
  {
   "cell_type": "code",
   "execution_count": 29,
   "metadata": {
    "collapsed": false
   },
   "outputs": [],
   "source": [
    "link = links[0]"
   ]
  },
  {
   "cell_type": "code",
   "execution_count": 30,
   "metadata": {
    "collapsed": false
   },
   "outputs": [],
   "source": [
    "r = requests.get(link)"
   ]
  },
  {
   "cell_type": "code",
   "execution_count": 31,
   "metadata": {
    "collapsed": true
   },
   "outputs": [],
   "source": [
    "soup = BeautifulSoup(r.text, 'html.parser')"
   ]
  },
  {
   "cell_type": "code",
   "execution_count": 32,
   "metadata": {
    "collapsed": false
   },
   "outputs": [],
   "source": [
    "tags = soup.find_all('div', class_='proposition')"
   ]
  },
  {
   "cell_type": "code",
   "execution_count": 33,
   "metadata": {
    "collapsed": false
   },
   "outputs": [
    {
     "data": {
      "text/plain": [
       "17"
      ]
     },
     "execution_count": 33,
     "metadata": {},
     "output_type": "execute_result"
    }
   ],
   "source": [
    "len(tags)"
   ]
  },
  {
   "cell_type": "code",
   "execution_count": 34,
   "metadata": {
    "collapsed": false
   },
   "outputs": [
    {
     "data": {
      "text/plain": [
       "'Exiger pour tout candidat à un mandat électif un casier judiciaire vierge.'"
      ]
     },
     "execution_count": 34,
     "metadata": {},
     "output_type": "execute_result"
    }
   ],
   "source": [
    "tags[0].find('a').text.strip()"
   ]
  },
  {
   "cell_type": "code",
   "execution_count": 35,
   "metadata": {
    "collapsed": false
   },
   "outputs": [
    {
     "data": {
      "text/plain": [
       "'#proposition32'"
      ]
     },
     "execution_count": 35,
     "metadata": {},
     "output_type": "execute_result"
    }
   ],
   "source": [
    "tags[0].find('a').attrs['href']"
   ]
  },
  {
   "cell_type": "code",
   "execution_count": 36,
   "metadata": {
    "collapsed": true
   },
   "outputs": [],
   "source": [
    "def extract_data(link):\n",
    "    r = requests.get(link)\n",
    "    soup = BeautifulSoup(r.text, 'html.parser')\n",
    "    tags = soup.find_all('div', class_='proposition')\n",
    "    return [tag.find('a').text.strip() for tag in tags]"
   ]
  },
  {
   "cell_type": "code",
   "execution_count": 37,
   "metadata": {
    "collapsed": false
   },
   "outputs": [],
   "source": [
    "all_props = [extract_data(link) for link in links]"
   ]
  },
  {
   "cell_type": "code",
   "execution_count": 43,
   "metadata": {
    "collapsed": false
   },
   "outputs": [
    {
     "data": {
      "text/plain": [
       "29"
      ]
     },
     "execution_count": 43,
     "metadata": {},
     "output_type": "execute_result"
    }
   ],
   "source": [
    "len(all_props)"
   ]
  },
  {
   "cell_type": "code",
   "execution_count": 47,
   "metadata": {
    "collapsed": true
   },
   "outputs": [],
   "source": [
    "props_sources = {}\n",
    "for url, props in zip(links, all_props):\n",
    "    props_sources[url] = props"
   ]
  },
  {
   "cell_type": "code",
   "execution_count": 48,
   "metadata": {
    "collapsed": false
   },
   "outputs": [],
   "source": [
    "df = make_df_from_props_sources(props_sources)"
   ]
  },
  {
   "cell_type": "code",
   "execution_count": 49,
   "metadata": {
    "collapsed": false
   },
   "outputs": [
    {
     "data": {
      "text/html": [
       "<div>\n",
       "<table border=\"1\" class=\"dataframe\">\n",
       "  <thead>\n",
       "    <tr style=\"text-align: right;\">\n",
       "      <th></th>\n",
       "      <th>proposition</th>\n",
       "      <th>source</th>\n",
       "    </tr>\n",
       "  </thead>\n",
       "  <tbody>\n",
       "    <tr>\n",
       "      <th>0</th>\n",
       "      <td>Cibler et simplifier les 20 milliards d’euros ...</td>\n",
       "      <td>http://www.nda-2017.fr/theme/economie-travail</td>\n",
       "    </tr>\n",
       "    <tr>\n",
       "      <th>1</th>\n",
       "      <td>Exonérer de charges pendant 5 ans le recruteme...</td>\n",
       "      <td>http://www.nda-2017.fr/theme/economie-travail</td>\n",
       "    </tr>\n",
       "    <tr>\n",
       "      <th>2</th>\n",
       "      <td>Relancer la « Participation gaullienne » des s...</td>\n",
       "      <td>http://www.nda-2017.fr/theme/economie-travail</td>\n",
       "    </tr>\n",
       "    <tr>\n",
       "      <th>3</th>\n",
       "      <td>Parvenir à l’égalité Femmes/Hommes au travail ...</td>\n",
       "      <td>http://www.nda-2017.fr/theme/economie-travail</td>\n",
       "    </tr>\n",
       "    <tr>\n",
       "      <th>4</th>\n",
       "      <td>Abroger la directive dite « travailleurs détac...</td>\n",
       "      <td>http://www.nda-2017.fr/theme/economie-travail</td>\n",
       "    </tr>\n",
       "    <tr>\n",
       "      <th>5</th>\n",
       "      <td>Adopter un « BUY French ACT » à la manière des...</td>\n",
       "      <td>http://www.nda-2017.fr/theme/economie-travail</td>\n",
       "    </tr>\n",
       "    <tr>\n",
       "      <th>6</th>\n",
       "      <td>Garantir des débouchés plus nombreux aux PME f...</td>\n",
       "      <td>http://www.nda-2017.fr/theme/economie-travail</td>\n",
       "    </tr>\n",
       "    <tr>\n",
       "      <th>7</th>\n",
       "      <td>Baisser de moitié le taux de l’Impôt sur les S...</td>\n",
       "      <td>http://www.nda-2017.fr/theme/economie-travail</td>\n",
       "    </tr>\n",
       "    <tr>\n",
       "      <th>8</th>\n",
       "      <td>Mettre en place un étiquetage obligatoire sur ...</td>\n",
       "      <td>http://www.nda-2017.fr/theme/economie-travail</td>\n",
       "    </tr>\n",
       "    <tr>\n",
       "      <th>9</th>\n",
       "      <td>Accorder aux produits 100% fabriqués en France...</td>\n",
       "      <td>http://www.nda-2017.fr/theme/economie-travail</td>\n",
       "    </tr>\n",
       "    <tr>\n",
       "      <th>10</th>\n",
       "      <td>Créer un fonds d’investissement et de relocali...</td>\n",
       "      <td>http://www.nda-2017.fr/theme/economie-travail</td>\n",
       "    </tr>\n",
       "    <tr>\n",
       "      <th>11</th>\n",
       "      <td>Taxer les importations ne respectant pas certa...</td>\n",
       "      <td>http://www.nda-2017.fr/theme/economie-travail</td>\n",
       "    </tr>\n",
       "    <tr>\n",
       "      <th>12</th>\n",
       "      <td>Protéger les entreprises en matière de proprié...</td>\n",
       "      <td>http://www.nda-2017.fr/theme/economie-travail</td>\n",
       "    </tr>\n",
       "    <tr>\n",
       "      <th>13</th>\n",
       "      <td>Permettre à nos entreprises de se défendre con...</td>\n",
       "      <td>http://www.nda-2017.fr/theme/economie-travail</td>\n",
       "    </tr>\n",
       "    <tr>\n",
       "      <th>14</th>\n",
       "      <td>Orienter l’épargne des Français, une des premi...</td>\n",
       "      <td>http://www.nda-2017.fr/theme/economie-travail</td>\n",
       "    </tr>\n",
       "    <tr>\n",
       "      <th>15</th>\n",
       "      <td>Etablir un système d’actions préférentielles p...</td>\n",
       "      <td>http://www.nda-2017.fr/theme/economie-travail</td>\n",
       "    </tr>\n",
       "    <tr>\n",
       "      <th>16</th>\n",
       "      <td>Mettre en place une véritable intelligence éco...</td>\n",
       "      <td>http://www.nda-2017.fr/theme/economie-travail</td>\n",
       "    </tr>\n",
       "    <tr>\n",
       "      <th>17</th>\n",
       "      <td>Renforcer les soutiens bancaires pour les entr...</td>\n",
       "      <td>http://www.nda-2017.fr/theme/economie-travail</td>\n",
       "    </tr>\n",
       "    <tr>\n",
       "      <th>18</th>\n",
       "      <td>Nommer un dirigeant de PME au poste de ministr...</td>\n",
       "      <td>http://www.nda-2017.fr/theme/economie-travail</td>\n",
       "    </tr>\n",
       "    <tr>\n",
       "      <th>19</th>\n",
       "      <td>0 taxe et 0 norme supplémentaire pour les TPE/...</td>\n",
       "      <td>http://www.nda-2017.fr/theme/economie-travail</td>\n",
       "    </tr>\n",
       "    <tr>\n",
       "      <th>20</th>\n",
       "      <td>Relever les seuils sociaux de 50% pour nos ent...</td>\n",
       "      <td>http://www.nda-2017.fr/theme/economie-travail</td>\n",
       "    </tr>\n",
       "    <tr>\n",
       "      <th>21</th>\n",
       "      <td>Permettre aux contribuables de déduire sans li...</td>\n",
       "      <td>http://www.nda-2017.fr/theme/economie-travail</td>\n",
       "    </tr>\n",
       "    <tr>\n",
       "      <th>22</th>\n",
       "      <td>Mettre en place, au niveau des Chambres de Com...</td>\n",
       "      <td>http://www.nda-2017.fr/theme/economie-travail</td>\n",
       "    </tr>\n",
       "    <tr>\n",
       "      <th>23</th>\n",
       "      <td>Supprimer le RSI et créer un système de Sécuri...</td>\n",
       "      <td>http://www.nda-2017.fr/theme/economie-travail</td>\n",
       "    </tr>\n",
       "    <tr>\n",
       "      <th>24</th>\n",
       "      <td>Faciliter les relations entre TPE/PME et banqu...</td>\n",
       "      <td>http://www.nda-2017.fr/theme/economie-travail</td>\n",
       "    </tr>\n",
       "    <tr>\n",
       "      <th>25</th>\n",
       "      <td>Réviser la loi du 4 août 2008 : abaisser de 10...</td>\n",
       "      <td>http://www.nda-2017.fr/theme/economie-travail</td>\n",
       "    </tr>\n",
       "    <tr>\n",
       "      <th>26</th>\n",
       "      <td>Augmenter les salaires nets de 10% en diminuan...</td>\n",
       "      <td>http://www.nda-2017.fr/theme/economie-travail</td>\n",
       "    </tr>\n",
       "    <tr>\n",
       "      <th>27</th>\n",
       "      <td>Payer les salaires tous les 15 jours afin de r...</td>\n",
       "      <td>http://www.nda-2017.fr/theme/economie-travail</td>\n",
       "    </tr>\n",
       "    <tr>\n",
       "      <th>28</th>\n",
       "      <td>Rétablir le dispositif d’exonération des heure...</td>\n",
       "      <td>http://www.nda-2017.fr/theme/economie-travail</td>\n",
       "    </tr>\n",
       "    <tr>\n",
       "      <th>29</th>\n",
       "      <td>Mettre en œuvre le travail universel pour donn...</td>\n",
       "      <td>http://www.nda-2017.fr/theme/economie-travail</td>\n",
       "    </tr>\n",
       "    <tr>\n",
       "      <th>...</th>\n",
       "      <td>...</td>\n",
       "      <td>...</td>\n",
       "    </tr>\n",
       "    <tr>\n",
       "      <th>733</th>\n",
       "      <td>Réformer la structure et le contenu de la form...</td>\n",
       "      <td>http://www.nda-2017.fr/theme/instruction-publique</td>\n",
       "    </tr>\n",
       "    <tr>\n",
       "      <th>734</th>\n",
       "      <td>Revaloriser la part des contenus disciplinaire...</td>\n",
       "      <td>http://www.nda-2017.fr/theme/instruction-publique</td>\n",
       "    </tr>\n",
       "    <tr>\n",
       "      <th>735</th>\n",
       "      <td>Ouvrir des postes supplémentaires au concours ...</td>\n",
       "      <td>http://www.nda-2017.fr/theme/instruction-publique</td>\n",
       "    </tr>\n",
       "    <tr>\n",
       "      <th>736</th>\n",
       "      <td>Remplacer le pédagogisme en cours dans les ESP...</td>\n",
       "      <td>http://www.nda-2017.fr/theme/instruction-publique</td>\n",
       "    </tr>\n",
       "    <tr>\n",
       "      <th>737</th>\n",
       "      <td>Instaurer un compagnonnage entre tuteur et sta...</td>\n",
       "      <td>http://www.nda-2017.fr/theme/instruction-publique</td>\n",
       "    </tr>\n",
       "    <tr>\n",
       "      <th>738</th>\n",
       "      <td>Obliger les inspecteurs à assurer eux-mêmes de...</td>\n",
       "      <td>http://www.nda-2017.fr/theme/instruction-publique</td>\n",
       "    </tr>\n",
       "    <tr>\n",
       "      <th>739</th>\n",
       "      <td>Revaloriser le traitement des enseignants pour...</td>\n",
       "      <td>http://www.nda-2017.fr/theme/instruction-publique</td>\n",
       "    </tr>\n",
       "    <tr>\n",
       "      <th>740</th>\n",
       "      <td>Maintenir les trois modes d’avancement (« anci...</td>\n",
       "      <td>http://www.nda-2017.fr/theme/instruction-publique</td>\n",
       "    </tr>\n",
       "    <tr>\n",
       "      <th>741</th>\n",
       "      <td>Mettre en place des programmes de reconversion...</td>\n",
       "      <td>http://www.nda-2017.fr/theme/instruction-publique</td>\n",
       "    </tr>\n",
       "    <tr>\n",
       "      <th>742</th>\n",
       "      <td>Déterminer un agenda et un plan d’action concr...</td>\n",
       "      <td>http://www.nda-2017.fr/theme/handicap</td>\n",
       "    </tr>\n",
       "    <tr>\n",
       "      <th>743</th>\n",
       "      <td>Rendre accessible (par des financements) l’amé...</td>\n",
       "      <td>http://www.nda-2017.fr/theme/handicap</td>\n",
       "    </tr>\n",
       "    <tr>\n",
       "      <th>744</th>\n",
       "      <td>Innover en développant des accessoires facilit...</td>\n",
       "      <td>http://www.nda-2017.fr/theme/handicap</td>\n",
       "    </tr>\n",
       "    <tr>\n",
       "      <th>745</th>\n",
       "      <td>Revoir le dispositif d’insertion à l’école des...</td>\n",
       "      <td>http://www.nda-2017.fr/theme/handicap</td>\n",
       "    </tr>\n",
       "    <tr>\n",
       "      <th>746</th>\n",
       "      <td>Augmenter le nombre d’IME (Institut Médico-Édu...</td>\n",
       "      <td>http://www.nda-2017.fr/theme/handicap</td>\n",
       "    </tr>\n",
       "    <tr>\n",
       "      <th>747</th>\n",
       "      <td>Simplifier les démarches et les dossiers. Les ...</td>\n",
       "      <td>http://www.nda-2017.fr/theme/handicap</td>\n",
       "    </tr>\n",
       "    <tr>\n",
       "      <th>748</th>\n",
       "      <td>Augmenter le nombre de contrôles inopinés par ...</td>\n",
       "      <td>http://www.nda-2017.fr/theme/handicap</td>\n",
       "    </tr>\n",
       "    <tr>\n",
       "      <th>749</th>\n",
       "      <td>Mettre en place un système de contrôle renforc...</td>\n",
       "      <td>http://www.nda-2017.fr/theme/handicap</td>\n",
       "    </tr>\n",
       "    <tr>\n",
       "      <th>750</th>\n",
       "      <td>Mettre en place un suivi régulier (au moins un...</td>\n",
       "      <td>http://www.nda-2017.fr/theme/handicap</td>\n",
       "    </tr>\n",
       "    <tr>\n",
       "      <th>751</th>\n",
       "      <td>Assurer une meilleure prise en compte des situ...</td>\n",
       "      <td>http://www.nda-2017.fr/theme/handicap</td>\n",
       "    </tr>\n",
       "    <tr>\n",
       "      <th>752</th>\n",
       "      <td>Faciliter la réinsertion en mettant en place d...</td>\n",
       "      <td>http://www.nda-2017.fr/theme/handicap</td>\n",
       "    </tr>\n",
       "    <tr>\n",
       "      <th>753</th>\n",
       "      <td>Favoriser les aménagements de véhicules et le ...</td>\n",
       "      <td>http://www.nda-2017.fr/theme/handicap</td>\n",
       "    </tr>\n",
       "    <tr>\n",
       "      <th>754</th>\n",
       "      <td>Revaloriser l’AAH de 200 € pour atteindre 1 00...</td>\n",
       "      <td>http://www.nda-2017.fr/theme/handicap</td>\n",
       "    </tr>\n",
       "    <tr>\n",
       "      <th>755</th>\n",
       "      <td>Accorder une part fiscale complète aux famille...</td>\n",
       "      <td>http://www.nda-2017.fr/theme/handicap</td>\n",
       "    </tr>\n",
       "    <tr>\n",
       "      <th>756</th>\n",
       "      <td>Faire bénéficier aux personne en situation de ...</td>\n",
       "      <td>http://www.nda-2017.fr/theme/handicap</td>\n",
       "    </tr>\n",
       "    <tr>\n",
       "      <th>757</th>\n",
       "      <td>Faire en sorte que l’autisme permette d’ouvrir...</td>\n",
       "      <td>http://www.nda-2017.fr/theme/handicap</td>\n",
       "    </tr>\n",
       "    <tr>\n",
       "      <th>758</th>\n",
       "      <td>Déployer une politique de soutien aux aidants ...</td>\n",
       "      <td>http://www.nda-2017.fr/theme/handicap</td>\n",
       "    </tr>\n",
       "    <tr>\n",
       "      <th>759</th>\n",
       "      <td>Mieux prendre en compte la santé et le bien-êt...</td>\n",
       "      <td>http://www.nda-2017.fr/theme/handicap</td>\n",
       "    </tr>\n",
       "    <tr>\n",
       "      <th>760</th>\n",
       "      <td>Renforcer les effectifs, notamment le nombre d...</td>\n",
       "      <td>http://www.nda-2017.fr/theme/handicap</td>\n",
       "    </tr>\n",
       "    <tr>\n",
       "      <th>761</th>\n",
       "      <td>Exiger une meilleure coordination entre les Ca...</td>\n",
       "      <td>http://www.nda-2017.fr/theme/handicap</td>\n",
       "    </tr>\n",
       "    <tr>\n",
       "      <th>762</th>\n",
       "      <td>Simplifier les démarches et des dossiers de de...</td>\n",
       "      <td>http://www.nda-2017.fr/theme/handicap</td>\n",
       "    </tr>\n",
       "  </tbody>\n",
       "</table>\n",
       "<p>763 rows × 2 columns</p>\n",
       "</div>"
      ],
      "text/plain": [
       "                                           proposition  \\\n",
       "0    Cibler et simplifier les 20 milliards d’euros ...   \n",
       "1    Exonérer de charges pendant 5 ans le recruteme...   \n",
       "2    Relancer la « Participation gaullienne » des s...   \n",
       "3    Parvenir à l’égalité Femmes/Hommes au travail ...   \n",
       "4    Abroger la directive dite « travailleurs détac...   \n",
       "5    Adopter un « BUY French ACT » à la manière des...   \n",
       "6    Garantir des débouchés plus nombreux aux PME f...   \n",
       "7    Baisser de moitié le taux de l’Impôt sur les S...   \n",
       "8    Mettre en place un étiquetage obligatoire sur ...   \n",
       "9    Accorder aux produits 100% fabriqués en France...   \n",
       "10   Créer un fonds d’investissement et de relocali...   \n",
       "11   Taxer les importations ne respectant pas certa...   \n",
       "12   Protéger les entreprises en matière de proprié...   \n",
       "13   Permettre à nos entreprises de se défendre con...   \n",
       "14   Orienter l’épargne des Français, une des premi...   \n",
       "15   Etablir un système d’actions préférentielles p...   \n",
       "16   Mettre en place une véritable intelligence éco...   \n",
       "17   Renforcer les soutiens bancaires pour les entr...   \n",
       "18   Nommer un dirigeant de PME au poste de ministr...   \n",
       "19   0 taxe et 0 norme supplémentaire pour les TPE/...   \n",
       "20   Relever les seuils sociaux de 50% pour nos ent...   \n",
       "21   Permettre aux contribuables de déduire sans li...   \n",
       "22   Mettre en place, au niveau des Chambres de Com...   \n",
       "23   Supprimer le RSI et créer un système de Sécuri...   \n",
       "24   Faciliter les relations entre TPE/PME et banqu...   \n",
       "25   Réviser la loi du 4 août 2008 : abaisser de 10...   \n",
       "26   Augmenter les salaires nets de 10% en diminuan...   \n",
       "27   Payer les salaires tous les 15 jours afin de r...   \n",
       "28   Rétablir le dispositif d’exonération des heure...   \n",
       "29   Mettre en œuvre le travail universel pour donn...   \n",
       "..                                                 ...   \n",
       "733  Réformer la structure et le contenu de la form...   \n",
       "734  Revaloriser la part des contenus disciplinaire...   \n",
       "735  Ouvrir des postes supplémentaires au concours ...   \n",
       "736  Remplacer le pédagogisme en cours dans les ESP...   \n",
       "737  Instaurer un compagnonnage entre tuteur et sta...   \n",
       "738  Obliger les inspecteurs à assurer eux-mêmes de...   \n",
       "739  Revaloriser le traitement des enseignants pour...   \n",
       "740  Maintenir les trois modes d’avancement (« anci...   \n",
       "741  Mettre en place des programmes de reconversion...   \n",
       "742  Déterminer un agenda et un plan d’action concr...   \n",
       "743  Rendre accessible (par des financements) l’amé...   \n",
       "744  Innover en développant des accessoires facilit...   \n",
       "745  Revoir le dispositif d’insertion à l’école des...   \n",
       "746  Augmenter le nombre d’IME (Institut Médico-Édu...   \n",
       "747  Simplifier les démarches et les dossiers. Les ...   \n",
       "748  Augmenter le nombre de contrôles inopinés par ...   \n",
       "749  Mettre en place un système de contrôle renforc...   \n",
       "750  Mettre en place un suivi régulier (au moins un...   \n",
       "751  Assurer une meilleure prise en compte des situ...   \n",
       "752  Faciliter la réinsertion en mettant en place d...   \n",
       "753  Favoriser les aménagements de véhicules et le ...   \n",
       "754  Revaloriser l’AAH de 200 € pour atteindre 1 00...   \n",
       "755  Accorder une part fiscale complète aux famille...   \n",
       "756  Faire bénéficier aux personne en situation de ...   \n",
       "757  Faire en sorte que l’autisme permette d’ouvrir...   \n",
       "758  Déployer une politique de soutien aux aidants ...   \n",
       "759  Mieux prendre en compte la santé et le bien-êt...   \n",
       "760  Renforcer les effectifs, notamment le nombre d...   \n",
       "761  Exiger une meilleure coordination entre les Ca...   \n",
       "762  Simplifier les démarches et des dossiers de de...   \n",
       "\n",
       "                                                source  \n",
       "0        http://www.nda-2017.fr/theme/economie-travail  \n",
       "1        http://www.nda-2017.fr/theme/economie-travail  \n",
       "2        http://www.nda-2017.fr/theme/economie-travail  \n",
       "3        http://www.nda-2017.fr/theme/economie-travail  \n",
       "4        http://www.nda-2017.fr/theme/economie-travail  \n",
       "5        http://www.nda-2017.fr/theme/economie-travail  \n",
       "6        http://www.nda-2017.fr/theme/economie-travail  \n",
       "7        http://www.nda-2017.fr/theme/economie-travail  \n",
       "8        http://www.nda-2017.fr/theme/economie-travail  \n",
       "9        http://www.nda-2017.fr/theme/economie-travail  \n",
       "10       http://www.nda-2017.fr/theme/economie-travail  \n",
       "11       http://www.nda-2017.fr/theme/economie-travail  \n",
       "12       http://www.nda-2017.fr/theme/economie-travail  \n",
       "13       http://www.nda-2017.fr/theme/economie-travail  \n",
       "14       http://www.nda-2017.fr/theme/economie-travail  \n",
       "15       http://www.nda-2017.fr/theme/economie-travail  \n",
       "16       http://www.nda-2017.fr/theme/economie-travail  \n",
       "17       http://www.nda-2017.fr/theme/economie-travail  \n",
       "18       http://www.nda-2017.fr/theme/economie-travail  \n",
       "19       http://www.nda-2017.fr/theme/economie-travail  \n",
       "20       http://www.nda-2017.fr/theme/economie-travail  \n",
       "21       http://www.nda-2017.fr/theme/economie-travail  \n",
       "22       http://www.nda-2017.fr/theme/economie-travail  \n",
       "23       http://www.nda-2017.fr/theme/economie-travail  \n",
       "24       http://www.nda-2017.fr/theme/economie-travail  \n",
       "25       http://www.nda-2017.fr/theme/economie-travail  \n",
       "26       http://www.nda-2017.fr/theme/economie-travail  \n",
       "27       http://www.nda-2017.fr/theme/economie-travail  \n",
       "28       http://www.nda-2017.fr/theme/economie-travail  \n",
       "29       http://www.nda-2017.fr/theme/economie-travail  \n",
       "..                                                 ...  \n",
       "733  http://www.nda-2017.fr/theme/instruction-publique  \n",
       "734  http://www.nda-2017.fr/theme/instruction-publique  \n",
       "735  http://www.nda-2017.fr/theme/instruction-publique  \n",
       "736  http://www.nda-2017.fr/theme/instruction-publique  \n",
       "737  http://www.nda-2017.fr/theme/instruction-publique  \n",
       "738  http://www.nda-2017.fr/theme/instruction-publique  \n",
       "739  http://www.nda-2017.fr/theme/instruction-publique  \n",
       "740  http://www.nda-2017.fr/theme/instruction-publique  \n",
       "741  http://www.nda-2017.fr/theme/instruction-publique  \n",
       "742              http://www.nda-2017.fr/theme/handicap  \n",
       "743              http://www.nda-2017.fr/theme/handicap  \n",
       "744              http://www.nda-2017.fr/theme/handicap  \n",
       "745              http://www.nda-2017.fr/theme/handicap  \n",
       "746              http://www.nda-2017.fr/theme/handicap  \n",
       "747              http://www.nda-2017.fr/theme/handicap  \n",
       "748              http://www.nda-2017.fr/theme/handicap  \n",
       "749              http://www.nda-2017.fr/theme/handicap  \n",
       "750              http://www.nda-2017.fr/theme/handicap  \n",
       "751              http://www.nda-2017.fr/theme/handicap  \n",
       "752              http://www.nda-2017.fr/theme/handicap  \n",
       "753              http://www.nda-2017.fr/theme/handicap  \n",
       "754              http://www.nda-2017.fr/theme/handicap  \n",
       "755              http://www.nda-2017.fr/theme/handicap  \n",
       "756              http://www.nda-2017.fr/theme/handicap  \n",
       "757              http://www.nda-2017.fr/theme/handicap  \n",
       "758              http://www.nda-2017.fr/theme/handicap  \n",
       "759              http://www.nda-2017.fr/theme/handicap  \n",
       "760              http://www.nda-2017.fr/theme/handicap  \n",
       "761              http://www.nda-2017.fr/theme/handicap  \n",
       "762              http://www.nda-2017.fr/theme/handicap  \n",
       "\n",
       "[763 rows x 2 columns]"
      ]
     },
     "execution_count": 49,
     "metadata": {},
     "output_type": "execute_result"
    }
   ],
   "source": [
    "df"
   ]
  },
  {
   "cell_type": "code",
   "execution_count": 50,
   "metadata": {
    "collapsed": true
   },
   "outputs": [],
   "source": [
    "df.to_csv('../projets/nicolas_dupont-aignan.csv', index=False)"
   ]
  },
  {
   "cell_type": "markdown",
   "metadata": {},
   "source": [
    "# Nathalie Arthaud "
   ]
  },
  {
   "cell_type": "markdown",
   "metadata": {},
   "source": [
    "http://www.nathalie-arthaud.info/"
   ]
  },
  {
   "cell_type": "markdown",
   "metadata": {},
   "source": [
    "# François Asselineau "
   ]
  },
  {
   "cell_type": "markdown",
   "metadata": {},
   "source": [
    "https://www.upr.fr/programme-elections-presidentielles-france"
   ]
  }
 ],
 "metadata": {
  "kernelspec": {
   "display_name": "Python 3",
   "language": "python",
   "name": "python3"
  },
  "language_info": {
   "codemirror_mode": {
    "name": "ipython",
    "version": 3
   },
   "file_extension": ".py",
   "mimetype": "text/x-python",
   "name": "python",
   "nbconvert_exporter": "python",
   "pygments_lexer": "ipython3",
   "version": "3.5.2"
  }
 },
 "nbformat": 4,
 "nbformat_minor": 2
}
